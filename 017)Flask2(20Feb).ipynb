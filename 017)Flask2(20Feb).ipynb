{
 "cells": [
  {
   "cell_type": "markdown",
   "id": "3d3ba7e4-d7df-4632-b3dd-feeaaf9f2408",
   "metadata": {},
   "source": [
    "# Flask-2"
   ]
  },
  {
   "cell_type": "markdown",
   "id": "87f38120-a0b0-4788-a026-c6efa1d6bb1e",
   "metadata": {
    "tags": []
   },
   "source": [
    "#### Q1. Explain GET and POST methods."
   ]
  },
  {
   "cell_type": "markdown",
   "id": "4b13c5a2-480a-4565-81d3-b74b16f0c42f",
   "metadata": {},
   "source": [
    "GET and POST are two of the HTTP methods used to send and receive data between a client (usually a web browser) and a web server.\n",
    "- **GET**: \n",
    "  - Used to request data from a specified resource.\n",
    "  - Parameters and data are appended to the URL as query parameters.\n",
    "  - Requests are typically visible in the browser's address bar.\n",
    "  - Generally used for safe and idempotent operations (operations that can be repeated without changing the result).\n",
    "  - It is not suitable for sending large amounts of data.\n",
    "- **POST**:\n",
    "  - Used to submit data to be processed to a specified resource.\n",
    "  - Parameters and data are included in the request body.\n",
    "  - Requests are not visible in the browser's address bar.\n",
    "  - Suitable for sending sensitive or large amounts of data.\n",
    "  - Operations may not be idempotent (i.e., they can change the result with repeated requests)."
   ]
  },
  {
   "cell_type": "markdown",
   "id": "b6f881d2-32be-4649-ac03-693e84661d1b",
   "metadata": {},
   "source": [
    "#### Q2. Why is request used in Flask?"
   ]
  },
  {
   "cell_type": "markdown",
   "id": "4e0072bb-0f5d-4f95-ad90-77953a650d8d",
   "metadata": {},
   "source": [
    "In Flask, the `request` object is used to access data submitted to the server in an HTTP request. It provides access to various parts of the request, including form data, query parameters, headers, and more. Developers use the `request` object to retrieve and process data sent by clients, making it an essential tool for handling user input and interactions in Flask applications."
   ]
  },
  {
   "cell_type": "markdown",
   "id": "2c7fcc8c-6876-4d5c-8878-d864e8db815a",
   "metadata": {},
   "source": [
    "#### Q3. Why is redirect() used in Flask?"
   ]
  },
  {
   "cell_type": "markdown",
   "id": "2cebbd33-b254-4854-ba6f-a9f8bad71ca0",
   "metadata": {},
   "source": [
    "The `redirect()` function in Flask is used to redirect the client's web browser to a different URL. It is commonly used in web applications to send users to another page or route after a specific action or event. For example, after submitting a form, you might want to redirect the user to a \"Thank You\" page or a different part of your application. `redirect()` makes it easy to perform these redirections in Flask."
   ]
  },
  {
   "cell_type": "markdown",
   "id": "9ab35193-b6ac-4e99-8d21-d399c3321a3d",
   "metadata": {},
   "source": [
    "#### Q4. What are templates in Flask? Why is the render_template() function used?"
   ]
  },
  {
   "cell_type": "markdown",
   "id": "6f79b0fc-8a2d-4b9c-a556-bd6914e0a5db",
   "metadata": {},
   "source": [
    "In Flask, templates are used to separate the HTML code from the Python code in your application. Templates allow you to create dynamic web pages by inserting data into HTML placeholders. The `render_template()` function in Flask is used to render HTML templates and pass data to them.\n",
    "\n",
    "Benefits of using templates in Flask:\n",
    "- Maintainability: Separating code and presentation makes it easier to manage and update the UI.\n",
    "- Reusability: You can reuse templates across different routes and views.\n",
    "- Dynamic Content: Templates allow you to inject dynamic data into HTML pages."
   ]
  },
  {
   "cell_type": "markdown",
   "id": "08e4e544-d007-4812-968e-8265fa1dd2b4",
   "metadata": {},
   "source": [
    "#### Q5. Create a simple API. Use Postman to test it. Attach the screenshot of the output in the Jupyter Notebook."
   ]
  },
  {
   "cell_type": "code",
   "execution_count": 1,
   "id": "eed6da55-bbbd-4ae7-9995-9f32b60cb727",
   "metadata": {
    "tags": []
   },
   "outputs": [
    {
     "name": "stdout",
     "output_type": "stream",
     "text": [
      " * Serving Flask app '__main__'\n",
      " * Debug mode: off\n"
     ]
    },
    {
     "name": "stderr",
     "output_type": "stream",
     "text": [
      "WARNING: This is a development server. Do not use it in a production deployment. Use a production WSGI server instead.\n",
      " * Running on http://127.0.0.1:5000\n",
      "Press CTRL+C to quit\n",
      "127.0.0.1 - - [13/Sep/2023 11:00:42] \"GET / HTTP/1.1\" 404 -\n"
     ]
    }
   ],
   "source": [
    "from flask import Flask, jsonify\n",
    "\n",
    "app = Flask(__name__)\n",
    "\n",
    "@app.route('/api/hello', methods=['GET'])\n",
    "def hello():\n",
    "    data = {'message': 'Hello, world!'}\n",
    "    return jsonify(data)\n",
    "\n",
    "if __name__ == '__main__':\n",
    "    app.run()"
   ]
  }
 ],
 "metadata": {
  "kernelspec": {
   "display_name": "Python 3 (ipykernel)",
   "language": "python",
   "name": "python3"
  },
  "language_info": {
   "codemirror_mode": {
    "name": "ipython",
    "version": 3
   },
   "file_extension": ".py",
   "mimetype": "text/x-python",
   "name": "python",
   "nbconvert_exporter": "python",
   "pygments_lexer": "ipython3",
   "version": "3.10.9"
  }
 },
 "nbformat": 4,
 "nbformat_minor": 5
}
