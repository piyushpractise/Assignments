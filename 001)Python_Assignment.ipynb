{
 "cells": [
  {
   "cell_type": "markdown",
   "id": "fae99c65-c5ce-467d-883f-1c4367de4d2d",
   "metadata": {},
   "source": [
    "# Python Assignment Questions (2Feb)"
   ]
  },
  {
   "cell_type": "markdown",
   "id": "77d7103c-c7fe-455b-8d3f-99da914284e9",
   "metadata": {},
   "source": [
    "### Q1. Explain with an example each when to use a for loop and a while loop."
   ]
  },
  {
   "cell_type": "markdown",
   "id": "6aff0d03-1b17-4c94-85e3-5b3079b631ab",
   "metadata": {},
   "source": [
    "##### FOR Loop:\n",
    "    A FOR loop is used when we want to iterate over a sequence (like a list, tuple, string, etc.) for a specific number of times. It's typically used when we know beforehand how many iterations are needed.\n",
    "\n",
    "    Example:\n",
    "    Let's say if we want to print the elements of a list using a FOR loop:\n",
    "        numbers = [1, 2, 3, 4, 5]\n",
    "        for num in numbers:\n",
    "            print(num)\n",
    "\n",
    "    In above example, the loop iterates over each element in the numbers list and prints it. We are using a FOR loop because you know the number of elements in the list.\n",
    "\n",
    "##### WHILE Loop:\n",
    "    A WHILE loop is used when we want to repeatedly execute a block of code as long as a certain condition is true. It's often used when we don't know how many iterations will be needed in advance.\n",
    "\n",
    "    Example:\n",
    "    Suppose if we want to find the factorial of a number using a WHILE loop:\n",
    "        number = 5\n",
    "        factorial = 1\n",
    "        counter = 1\n",
    "        while counter <= number:\n",
    "            factorial *= counter\n",
    "            counter += 1\n",
    "        print(f\"The factorial of {number} is {factorial}\")\n",
    "\n",
    "    In above example, the loop calculates the factorial of a number using a while loop. The loop continues to multiply the factorial by counter and increments counter until counter becomes greater than number."
   ]
  },
  {
   "cell_type": "markdown",
   "id": "14370103-f578-4671-a724-8ba2c3ca8614",
   "metadata": {},
   "source": [
    "### Q2. Write a python program to print the sum and product of the first 10 natural numbers using for and while loop."
   ]
  },
  {
   "cell_type": "code",
   "execution_count": 60,
   "id": "0ed4bd18-a480-4127-9737-10cad622e3a7",
   "metadata": {
    "tags": []
   },
   "outputs": [
    {
     "name": "stdout",
     "output_type": "stream",
     "text": [
      "Using FOR loop the sum and product of first 10 natural numbers are: 55 & 3628800\n"
     ]
    }
   ],
   "source": [
    "# Program using FOR loop\n",
    "f_sum=0\n",
    "f_prod=1\n",
    "f_n=10\n",
    "for i in range(1,f_n+1):\n",
    "    f_sum=f_sum+i\n",
    "    f_prod=f_prod*i\n",
    "print(\"Using FOR loop the sum and product of first 10 natural numbers are:\",f_sum,\"&\",f_prod)"
   ]
  },
  {
   "cell_type": "code",
   "execution_count": 61,
   "id": "4f1c0193-be9f-4c1b-8a2f-49073e104c6d",
   "metadata": {
    "tags": []
   },
   "outputs": [
    {
     "name": "stdout",
     "output_type": "stream",
     "text": [
      "Using FOR loop the sum and product of first 10 natural numbers are: 55 & 3628800\n"
     ]
    }
   ],
   "source": [
    "# Program using WHILE Loop\n",
    "w_n=10\n",
    "w_sum=0\n",
    "w_prod=1\n",
    "i=1\n",
    "while i < w_n+1:\n",
    "    w_sum+=i\n",
    "    w_prod*=i\n",
    "    i=i+1\n",
    "print(\"Using FOR loop the sum and product of first 10 natural numbers are:\",w_sum,\"&\",w_prod)"
   ]
  },
  {
   "cell_type": "markdown",
   "id": "505dea0c-0f6a-475e-9f43-b9ba8eeb0a71",
   "metadata": {},
   "source": [
    "### Q3. Create a python program to compute the electricity bill for a household.The per-unit charges in rupees are as follows:\n",
    "##### For the first 100 units, the user will be charged Rs. 4.5 per unit, for the next 100 units, the user will be charged Rs. 6 per unit, and for the next 100 units, the user will be charged Rs. 10 per unit, After 300 units and above the user will be charged Rs. 20 per unit.You are required to take the units of electricity consumed in a month from the user as input.\n",
    "Your program must pass this test case :\n",
    "When the unit of electricity consumed by the user in a month is 310, the total electricity bill should be 2250."
   ]
  },
  {
   "cell_type": "code",
   "execution_count": 64,
   "id": "974b69da-204e-4cf8-8fe6-3a1138ff9b42",
   "metadata": {
    "tags": []
   },
   "outputs": [
    {
     "name": "stdin",
     "output_type": "stream",
     "text": [
      "Enter the units of Electricity consumed: 310\n"
     ]
    },
    {
     "name": "stdout",
     "output_type": "stream",
     "text": [
      "The Total Electricity Bill is Rs 2250.0\n"
     ]
    }
   ],
   "source": [
    "u = int(input(\"Enter the units of Electricity consumed:\"))\n",
    "iu = 0\n",
    "p1 = p2 = p3 = p4 = 0\n",
    "while iu < u + 1:\n",
    "    if iu < 101:\n",
    "        p1 = iu * 4.5\n",
    "    elif iu < 201:\n",
    "        p2 = (iu-100) * 6\n",
    "    elif iu < 301:\n",
    "        p3 = (iu-200) * 10\n",
    "    else:\n",
    "        p4 = (iu-300) * 20\n",
    "    iu += 1\n",
    "price = p1 + p2 + p3 + p4\n",
    "print(\"The Total Electricity Bill is Rs\", price)"
   ]
  },
  {
   "cell_type": "markdown",
   "id": "c65ca7b7-827a-4cab-b284-b95c4c55b348",
   "metadata": {},
   "source": [
    "### Q4. Create a list of numbers from 1 to 100. Use for loop and while loop to calculate the cube of each number and if the cube of that number is divisible by 4 or 5 then append that number in a list and print that list."
   ]
  },
  {
   "cell_type": "code",
   "execution_count": 65,
   "id": "05e4ed84-b7cf-4a45-b357-795c3d459496",
   "metadata": {
    "tags": []
   },
   "outputs": [
    {
     "name": "stdout",
     "output_type": "stream",
     "text": [
      "List of Numbers from 1 to 100 are: [1, 2, 3, 4, 5, 6, 7, 8, 9, 10, 11, 12, 13, 14, 15, 16, 17, 18, 19, 20, 21, 22, 23, 24, 25, 26, 27, 28, 29, 30, 31, 32, 33, 34, 35, 36, 37, 38, 39, 40, 41, 42, 43, 44, 45, 46, 47, 48, 49, 50, 51, 52, 53, 54, 55, 56, 57, 58, 59, 60, 61, 62, 63, 64, 65, 66, 67, 68, 69, 70, 71, 72, 73, 74, 75, 76, 77, 78, 79, 80, 81, 82, 83, 84, 85, 86, 87, 88, 89, 90, 91, 92, 93, 94, 95, 96, 97, 98, 99, 100]\n",
      "List of Cube of Numbers from 1 to 100 which is is divisible by 4 or 5 are: [2, 4, 5, 6, 8, 10, 12, 14, 15, 16, 18, 20, 22, 24, 25, 26, 28, 30, 32, 34, 35, 36, 38, 40, 42, 44, 45, 46, 48, 50, 52, 54, 55, 56, 58, 60, 62, 64, 65, 66, 68, 70, 72, 74, 75, 76, 78, 80, 82, 84, 85, 86, 88, 90, 92, 94, 95, 96, 98, 100]\n"
     ]
    }
   ],
   "source": [
    "# Using FOR Loop:\n",
    "list_1 = list(range(1, 101))\n",
    "list_2 = []\n",
    "for i in list_1:\n",
    "    cube = i*i*i\n",
    "    if cube%4==0 or cube%5==0:\n",
    "        list_2.append(i)\n",
    "print (\"List of Numbers from 1 to 100 are:\",list_1)\n",
    "print (\"List of Cube of Numbers from 1 to 100 which is is divisible by 4 or 5 are:\",list_2)"
   ]
  },
  {
   "cell_type": "code",
   "execution_count": 66,
   "id": "99eac9a7-e521-4b32-b50d-e55155d43157",
   "metadata": {
    "tags": []
   },
   "outputs": [
    {
     "name": "stdout",
     "output_type": "stream",
     "text": [
      "List of Numbers from 1 to 100 are: [1, 2, 3, 4, 5, 6, 7, 8, 9, 10, 11, 12, 13, 14, 15, 16, 17, 18, 19, 20, 21, 22, 23, 24, 25, 26, 27, 28, 29, 30, 31, 32, 33, 34, 35, 36, 37, 38, 39, 40, 41, 42, 43, 44, 45, 46, 47, 48, 49, 50, 51, 52, 53, 54, 55, 56, 57, 58, 59, 60, 61, 62, 63, 64, 65, 66, 67, 68, 69, 70, 71, 72, 73, 74, 75, 76, 77, 78, 79, 80, 81, 82, 83, 84, 85, 86, 87, 88, 89, 90, 91, 92, 93, 94, 95, 96, 97, 98, 99, 100]\n",
      "List of Cube of Numbers from 1 to 100 which is is divisible by 4 or 5 are: [2, 4, 5, 6, 8, 10, 12, 14, 15, 16, 18, 20, 22, 24, 25, 26, 28, 30, 32, 34, 35, 36, 38, 40, 42, 44, 45, 46, 48, 50, 52, 54, 55, 56, 58, 60, 62, 64, 65, 66, 68, 70, 72, 74, 75, 76, 78, 80, 82, 84, 85, 86, 88, 90, 92, 94, 95, 96, 98, 100]\n"
     ]
    }
   ],
   "source": [
    "# Using WHILE Loop:\n",
    "list_1 = list(range(1, 101))\n",
    "list_2 = []\n",
    "i=0\n",
    "while i < len(list_1):\n",
    "    cube = list_1[i]**3\n",
    "    if cube%4==0 or cube%5==0:\n",
    "        list_2.append(list_1[i])\n",
    "    i+=1\n",
    "print (\"List of Numbers from 1 to 100 are:\",list_1)\n",
    "print (\"List of Cube of Numbers from 1 to 100 which is is divisible by 4 or 5 are:\",list_2)"
   ]
  },
  {
   "cell_type": "markdown",
   "id": "f8cad497-885f-4d9d-84bc-82ce2d945730",
   "metadata": {},
   "source": [
    "### Q5. Write a program to filter count vowels in the below-given string.\n",
    "string = \"I want to become a data scientist\""
   ]
  },
  {
   "cell_type": "code",
   "execution_count": 67,
   "id": "9ad60257-6e71-4d36-ab3c-5ef37a9797fb",
   "metadata": {
    "tags": []
   },
   "outputs": [
    {
     "name": "stdin",
     "output_type": "stream",
     "text": [
      "Enter the string in which you want to count vowels: I want to become a data scientist\n"
     ]
    },
    {
     "name": "stdout",
     "output_type": "stream",
     "text": [
      "The number of vowels in the string are: 12\n"
     ]
    }
   ],
   "source": [
    "str1 = input(\"Enter the string in which you want to count vowels:\").lower()\n",
    "vowels = ['a','e','i','o','u']\n",
    "count = 0\n",
    "for i in (str1):\n",
    "    if i in vowels:\n",
    "        count += 1\n",
    "print(\"The number of vowels in the string are:\",count)"
   ]
  }
 ],
 "metadata": {
  "kernelspec": {
   "display_name": "Python 3 (ipykernel)",
   "language": "python",
   "name": "python3"
  },
  "language_info": {
   "codemirror_mode": {
    "name": "ipython",
    "version": 3
   },
   "file_extension": ".py",
   "mimetype": "text/x-python",
   "name": "python",
   "nbconvert_exporter": "python",
   "pygments_lexer": "ipython3",
   "version": "3.10.9"
  }
 },
 "nbformat": 4,
 "nbformat_minor": 5
}
