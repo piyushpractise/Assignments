{
 "cells": [
  {
   "cell_type": "markdown",
   "id": "eadb9672-0533-4fa7-96bc-d209f099f26f",
   "metadata": {},
   "source": [
    "# Statistics Advance-1"
   ]
  },
  {
   "cell_type": "markdown",
   "id": "cc2710e0-9047-4023-8d9f-b359ab9194d4",
   "metadata": {},
   "source": [
    "#### Q1. What is the Probability density function?"
   ]
  },
  {
   "cell_type": "markdown",
   "id": "cccd2331-aedf-4884-8a6b-827a7b273f71",
   "metadata": {},
   "source": [
    "The Probability Density Function (PDF) is a statistical function used to describe the likelihood of a continuous random variable taking on a specific value. For a continuous distribution, the PDF represents the relative likelihood of different outcomes in terms of their densities. It's often used in contexts such as the normal distribution, where there is a continuous range of possible values."
   ]
  },
  {
   "cell_type": "markdown",
   "id": "131e8445-af81-4df2-af2b-20faeb340500",
   "metadata": {},
   "source": [
    "#### Q2. What are the types of Probability distribution?"
   ]
  },
  {
   "cell_type": "markdown",
   "id": "c5671d5b-de3a-49e4-8e94-91975e1093a4",
   "metadata": {},
   "source": [
    "* Normal Distribution\n",
    "* Binomial Distribution\n",
    "* Poisson Distribution\n",
    "* Exponential Distribution\n",
    "* Uniform Distribution\n",
    "* Gamma Distribution\n",
    "* Chi-squared Distribution\n",
    "* Beta Distribution\n",
    "* Weibull Distribution\n",
    "* Log-Normal Distribution"
   ]
  },
  {
   "cell_type": "markdown",
   "id": "baa82f41-7e38-466e-a8ab-cce322143f82",
   "metadata": {},
   "source": [
    "#### Q3. Write a Python function to calculate the probability density function of a normal distribution with given mean and standard deviation at a given point."
   ]
  },
  {
   "cell_type": "code",
   "execution_count": 1,
   "id": "4d5135df-948c-4a5d-bd86-96be91dfca7e",
   "metadata": {},
   "outputs": [
    {
     "name": "stdout",
     "output_type": "stream",
     "text": [
      "0.12098536225957168\n"
     ]
    }
   ],
   "source": [
    "import scipy.stats as stats\n",
    "def normal_pdf(mean, std_dev, x):\n",
    "    return stats.norm.pdf(x, mean, std_dev)\n",
    "mean = 10\n",
    "std_dev = 2\n",
    "x = 8\n",
    "pdf_value = normal_pdf(mean, std_dev, x)\n",
    "print(pdf_value)"
   ]
  },
  {
   "cell_type": "markdown",
   "id": "ed69aa86-0997-40a8-b43a-aea1062aceee",
   "metadata": {},
   "source": [
    "#### Q4. What are the properties of Binomial distribution? Give two examples of events where binomial distribution can be applied."
   ]
  },
  {
   "cell_type": "markdown",
   "id": "9be6f684-aeb5-437b-a1c3-905c4ffdc5b1",
   "metadata": {},
   "source": [
    "Properties of the Binomial Distribution:\n",
    "* Consists of fixed number of trials.\n",
    "* Each trial has two outcomes: success or failure.\n",
    "* Probability of success remains constant across trials.\n",
    "* Trials are independent of each other.\n",
    "* Discrete distribution.\n",
    "\n",
    "Examples of Events:\n",
    "* Tossing a coin (heads or tails) a fixed number of times.\n",
    "* Testing a sample of products for defects (defective or non-defective) from a production line."
   ]
  },
  {
   "cell_type": "markdown",
   "id": "75d3c918-06db-44ee-a176-23f1788578f3",
   "metadata": {},
   "source": [
    "#### Q5. Generate a random sample of size 1000 from a binomial distribution with probability of success 0.4 and plot a histogram of the results using matplotlib."
   ]
  },
  {
   "cell_type": "code",
   "execution_count": 2,
   "id": "d614ccf7-e090-4416-b46b-bed0512e7f90",
   "metadata": {},
   "outputs": [
    {
     "data": {
      "image/png": "[encoded data removed]",
      "text/plain": [
       "<Figure size 640x480 with 1 Axes>"
      ]
     },
     "metadata": {},
     "output_type": "display_data"
    }
   ],
   "source": [
    "import numpy as np\n",
    "import matplotlib.pyplot as pt\n",
    "n = 1000  # Sample size\n",
    "p = 0.4   # Probability of success\n",
    "sample = np.random.binomial(n=1, p=p, size=n)\n",
    "pt.hist(sample, bins=2, density=True, alpha=0.6)\n",
    "pt.title(\"Binomial Distribution Histogram\")\n",
    "pt.xlabel(\"Success (1) / Failure (0)\")\n",
    "pt.ylabel(\"Probability Density\")\n",
    "pt.show()"
   ]
  },
  {
   "cell_type": "markdown",
   "id": "09a689e7-599e-4b3d-856f-7f88059f1203",
   "metadata": {},
   "source": [
    "#### Q6. Write a Python function to calculate the cumulative distribution function of a Poisson distribution with given mean at a given point."
   ]
  },
  {
   "cell_type": "code",
   "execution_count": 3,
   "id": "75680d6c-98e1-43a4-b432-2ef4bd44016f",
   "metadata": {},
   "outputs": [
    {
     "name": "stdout",
     "output_type": "stream",
     "text": [
      "0.2650259152973615\n"
     ]
    }
   ],
   "source": [
    "import scipy.stats as stats\n",
    "def poisson_cdf(mean, x):\n",
    "    return stats.poisson.cdf(x, mean)\n",
    "mean = 5\n",
    "x = 3\n",
    "cdf_value = poisson_cdf(mean, x)\n",
    "print(cdf_value)"
   ]
  },
  {
   "cell_type": "markdown",
   "id": "a29383cc-e70c-4db4-8426-df7b612e2cc2",
   "metadata": {},
   "source": [
    "#### Q7. How Binomial distribution different from Poisson distribution?"
   ]
  },
  {
   "cell_type": "markdown",
   "id": "27f3e6e0-274b-458a-84c7-d0ec85a61e76",
   "metadata": {},
   "source": [
    "Binomial distribution is used for discrete events with a fixed number of trials, where each trial can have only two outcomes (success or failure), and the probability of success remains constant. Poisson distribution, on the other hand, is used to model the number of events occurring in a fixed interval of time or space, typically for rare events, and it's characterized by its mean rate of occurrence."
   ]
  },
  {
   "cell_type": "markdown",
   "id": "2ba60108-48a8-4686-8199-15ec8435d77a",
   "metadata": {},
   "source": [
    "#### Q8. Generate a random sample of size 1000 from a Poisson distribution with mean 5 and calculate the sample mean and variance."
   ]
  },
  {
   "cell_type": "code",
   "execution_count": 4,
   "id": "317c522d-94a3-4571-a1e9-e35c05f07cf9",
   "metadata": {},
   "outputs": [
    {
     "name": "stdout",
     "output_type": "stream",
     "text": [
      "Sample Mean: 5.04\n",
      "Sample Variance: 4.570399999999999\n"
     ]
    }
   ],
   "source": [
    "import numpy as np\n",
    "mean = 5\n",
    "sample_size = 1000\n",
    "sample = np.random.poisson(mean, size=sample_size)\n",
    "sample_mean = np.mean(sample)\n",
    "sample_variance = np.var(sample)\n",
    "print(\"Sample Mean:\", sample_mean)\n",
    "print(\"Sample Variance:\", sample_variance)"
   ]
  },
  {
   "cell_type": "markdown",
   "id": "74e89e86-7e6a-4cf5-af8e-53a0ad19a6b0",
   "metadata": {},
   "source": [
    "#### Q9. How mean and variance are related in Binomial distribution and Poisson distribution?"
   ]
  },
  {
   "cell_type": "markdown",
   "id": "48b47252-0668-4d86-bccb-f76d93101ab3",
   "metadata": {},
   "source": [
    "* In a Binomial distribution, the mean (μ) is equal to n * p, where n is the number of trials and p is the probability of success. The variance (σ^2) is equal to n * p * (1 - p).\n",
    "* In a Poisson distribution, both the mean (μ) and the variance (σ^2) are equal and are both represented by the parameter λ (lambda), which is the average rate of event occurrence."
   ]
  },
  {
   "cell_type": "markdown",
   "id": "182b59db-9cdd-459f-8ad1-c3bde8cf59aa",
   "metadata": {},
   "source": [
    "#### Q10. In normal distribution with respect to mean position, where does the least frequent data appear?"
   ]
  },
  {
   "cell_type": "markdown",
   "id": "65ea7470-5f89-4e2d-a087-aa6931d94a10",
   "metadata": {},
   "source": [
    "In a normal distribution, the least frequent data appears in the tails of the distribution, which are the regions that are farthest from the mean. This is because the normal distribution is symmetric, and the probability density gradually decreases as we move away from the mean towards the tails."
   ]
  }
 ],
 "metadata": {
  "kernelspec": {
   "display_name": "Python 3 (ipykernel)",
   "language": "python",
   "name": "python3"
  },
  "language_info": {
   "codemirror_mode": {
    "name": "ipython",
    "version": 3
   },
   "file_extension": ".py",
   "mimetype": "text/x-python",
   "name": "python",
   "nbconvert_exporter": "python",
   "pygments_lexer": "ipython3",
   "version": "3.10.9"
  }
 },
 "nbformat": 4,
 "nbformat_minor": 5
}
