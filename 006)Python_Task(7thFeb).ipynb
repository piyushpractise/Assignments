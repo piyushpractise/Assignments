{
 "cells": [
  {
   "cell_type": "markdown",
   "id": "a05b0c34-d6e8-4a31-a2eb-e8857250f8db",
   "metadata": {},
   "source": [
    "# Assignments Task"
   ]
  },
  {
   "cell_type": "markdown",
   "id": "657f13fa-ecbe-48ad-bc3b-4bf5e4afccfb",
   "metadata": {
    "tags": []
   },
   "source": [
    "##### Q1. You are writing code for a company. The requirement of the company is that you create a python function that will check whether the password entered by the user is correct or not. The function should take the password as input and return the string “Valid Password” if the entered password follows the below-given password guidelines else it should return “Invalid Password”.\n",
    "###### Note: \n",
    "    1. The Password should contain at least two uppercase letters and at least two lowercase letters.\n",
    "    2. The Password should contain at least a number and three special characters.\n",
    "    3. The length of the password should be 10 characters long."
   ]
  },
  {
   "cell_type": "code",
   "execution_count": 2,
   "id": "37daaf63-48dd-497b-abae-a2f747c10313",
   "metadata": {},
   "outputs": [
    {
     "name": "stdin",
     "output_type": "stream",
     "text": [
      "Enter Password \"Abc@12\"\n"
     ]
    },
    {
     "name": "stdout",
     "output_type": "stream",
     "text": [
      "Invalid Password\n"
     ]
    },
    {
     "name": "stdin",
     "output_type": "stream",
     "text": [
      "Please Enter Valid Password \"aBc@123456\"\n"
     ]
    },
    {
     "name": "stdout",
     "output_type": "stream",
     "text": [
      "Invalid Password\n"
     ]
    },
    {
     "name": "stdin",
     "output_type": "stream",
     "text": [
      "Please Enter Valid Password \"Abc@1234567\"\n"
     ]
    },
    {
     "name": "stdout",
     "output_type": "stream",
     "text": [
      "Invalid Password\n"
     ]
    },
    {
     "name": "stdin",
     "output_type": "stream",
     "text": [
      "Please Enter Valid Password AB@#$cde12345\n"
     ]
    },
    {
     "name": "stdout",
     "output_type": "stream",
     "text": [
      "Congrats, It is a Valid Password\n"
     ]
    }
   ],
   "source": [
    "pw = input(\"Enter Password\")\n",
    "def to_check(p):\n",
    "    if len(p) < 11:\n",
    "        return False\n",
    "    lc=0\n",
    "    uc=0\n",
    "    dc=0\n",
    "    sp=0\n",
    "    n=0\n",
    "    sp_ch = \"!@#$%^&*\"\n",
    "    for i in p:\n",
    "        if i.islower():\n",
    "            lc+=1\n",
    "        elif i.isupper():\n",
    "            uc+=1\n",
    "        elif i.isdigit():\n",
    "            dc+=1\n",
    "        elif i in sp_ch:\n",
    "            sp+=1\n",
    "    if lc >= 2 and uc >= 2 and dc >= 1 and sp >= 3:\n",
    "        return True\n",
    "    else:\n",
    "        return False\n",
    "while to_check(pw) == False:\n",
    "    print(\"Invalid Password\")\n",
    "    pw = input(\"Please Enter Valid Password\")\n",
    "else:\n",
    "    print(\"Congrats, It is a Valid Password\")"
   ]
  },
  {
   "cell_type": "markdown",
   "id": "e4850717-4178-497b-9252-5c70781b7a3b",
   "metadata": {},
   "source": [
    "##### Q2. Solve the below-given questions using at least one of the following:\n",
    "Lambda function or Filter function or Map function or List Comprehension\n",
    "\n",
    "    1. Check if the string starts with a particular letter\n",
    "    2. Check if the string is numeric\n",
    "    3. Sort a list of tuples having fruit names and their quantity. [(\"mango\",99),(\"orange\",80), (\"grapes\", 1000)]\n",
    "    4. Find the squares of numbers from 1 to 10\n",
    "    5. Find the cube root of numbers from 1 to 10\n",
    "    6. Check if a given number is even\n",
    "    7. Filter odd numbers from the given list. [1,2,3,4,5,6,7,8,9,10]\n",
    "    8. Sort a list of integers into positive and negative integers lists. [1,2,3,4,5,6,-1,-2,-3,-4,-5,0]"
   ]
  },
  {
   "cell_type": "code",
   "execution_count": 3,
   "id": "6ee584e0-28d1-4714-bfe0-ffddb1b3632e",
   "metadata": {
    "tags": []
   },
   "outputs": [
    {
     "name": "stdout",
     "output_type": "stream",
     "text": [
      "['apple']\n"
     ]
    }
   ],
   "source": [
    "# Check if the string starts with a particular letter:\n",
    "x = [\"apple\", \"banana\", \"cherry\", \"date\"]\n",
    "l = \"a\"\n",
    "result = list(filter(lambda i: i.startswith(l), x))\n",
    "print(result)"
   ]
  },
  {
   "cell_type": "code",
   "execution_count": 4,
   "id": "d25d95d3-73f3-4b99-aa21-536a29d1355b",
   "metadata": {
    "tags": []
   },
   "outputs": [
    {
     "name": "stdout",
     "output_type": "stream",
     "text": [
      "['123']\n"
     ]
    }
   ],
   "source": [
    "# Check if the string is numeric:\n",
    "s = [\"apple\", \"123\", \"cherry\", \"45.67\"]\n",
    "result = list(filter(lambda x: x.isnumeric(), s))\n",
    "print(result)"
   ]
  },
  {
   "cell_type": "code",
   "execution_count": 5,
   "id": "54781885-7662-4936-a80d-66afe969892d",
   "metadata": {
    "tags": []
   },
   "outputs": [
    {
     "name": "stdout",
     "output_type": "stream",
     "text": [
      "[('orange', 80), ('mango', 99), ('grapes', 1000)]\n"
     ]
    }
   ],
   "source": [
    "# Sort a list of tuples having fruit names and their quantity:\n",
    "f = [(\"mango\", 99), (\"orange\", 80), (\"grapes\", 1000)]\n",
    "sf = sorted(f, key=lambda x: x[1])\n",
    "print(sf)"
   ]
  },
  {
   "cell_type": "code",
   "execution_count": 6,
   "id": "c65de6b1-a41c-4b6c-be75-57332e2eb18d",
   "metadata": {},
   "outputs": [
    {
     "name": "stdout",
     "output_type": "stream",
     "text": [
      "[1, 4, 9, 16, 25, 36, 49, 64, 81, 100]\n"
     ]
    }
   ],
   "source": [
    "# Find the squares of numbers from 1 to 10:\n",
    "n = list(range(1, 11))\n",
    "sq = list(map(lambda x: x**2, n))\n",
    "print(sq)"
   ]
  },
  {
   "cell_type": "code",
   "execution_count": 7,
   "id": "039b5963-6ba9-4e8b-a630-50748de8de7b",
   "metadata": {
    "tags": []
   },
   "outputs": [
    {
     "name": "stdout",
     "output_type": "stream",
     "text": [
      "[1.0, 1.2599210498948732, 1.4422495703074083, 1.5874010519681994, 1.7099759466766968, 1.8171205928321397, 1.912931182772389, 2.0, 2.080083823051904, 2.154434690031884]\n"
     ]
    }
   ],
   "source": [
    "# Find the cube root of numbers from 1 to 10:\n",
    "import math\n",
    "n = list(range(1, 11))\n",
    "cr = list(map(lambda x: math.pow(x, 1/3), n))\n",
    "print(cr)"
   ]
  },
  {
   "cell_type": "code",
   "execution_count": 8,
   "id": "0c386692-b24f-46da-aa8d-3a43c9235cf9",
   "metadata": {
    "tags": []
   },
   "outputs": [
    {
     "name": "stdout",
     "output_type": "stream",
     "text": [
      "[True, False, True, False, True]\n"
     ]
    }
   ],
   "source": [
    "# Check if a given number is even:\n",
    "n = [2, 5, 10, 15, 20]\n",
    "even = list(map(lambda x: x % 2 == 0, n))\n",
    "print(even)"
   ]
  },
  {
   "cell_type": "code",
   "execution_count": 9,
   "id": "46a3430d-6da7-45e4-9b1b-842666db0cb9",
   "metadata": {
    "tags": []
   },
   "outputs": [
    {
     "name": "stdout",
     "output_type": "stream",
     "text": [
      "[1, 3, 5, 7, 9]\n"
     ]
    }
   ],
   "source": [
    "# Filter odd numbers from the given list:\n",
    "n = [1, 2, 3, 4, 5, 6, 7, 8, 9, 10]\n",
    "odd = list(filter(lambda x: x % 2 != 0, n))\n",
    "print(odd)"
   ]
  },
  {
   "cell_type": "code",
   "execution_count": 10,
   "id": "2784bd48-6b7f-4de8-85b2-5d7d66ef2dfc",
   "metadata": {
    "tags": []
   },
   "outputs": [
    {
     "name": "stdout",
     "output_type": "stream",
     "text": [
      "Positive: [1, 2, 3, 4, 5, 6]\n",
      "Negative: [-1, -2, -3, -4, -5]\n"
     ]
    }
   ],
   "source": [
    "# Sort a list of integers into positive and negative integers lists:\n",
    "n = [1, 2, 3, 4, 5, 6, -1, -2, -3, -4, -5, 0]\n",
    "pn = list(filter(lambda x: x > 0, n))\n",
    "nn = list(filter(lambda x: x < 0, n))\n",
    "print(\"Positive:\", pn)\n",
    "print(\"Negative:\", nn)"
   ]
  }
 ],
 "metadata": {
  "kernelspec": {
   "display_name": "Python 3 (ipykernel)",
   "language": "python",
   "name": "python3"
  },
  "language_info": {
   "codemirror_mode": {
    "name": "ipython",
    "version": 3
   },
   "file_extension": ".py",
   "mimetype": "text/x-python",
   "name": "python",
   "nbconvert_exporter": "python",
   "pygments_lexer": "ipython3",
   "version": "3.10.9"
  }
 },
 "nbformat": 4,
 "nbformat_minor": 5
}
