{
 "cells": [
  {
   "cell_type": "markdown",
   "id": "2ac827c9-4b23-4e90-a007-fb9adfee0b49",
   "metadata": {},
   "source": [
    "# Multithreading"
   ]
  },
  {
   "cell_type": "markdown",
   "id": "afa026ba-d90c-422e-ad77-c012486c31bb",
   "metadata": {},
   "source": [
    "##### Q1. What is multithreading in python? Why is it used? Name the module used to handle threads in python"
   ]
  },
  {
   "cell_type": "markdown",
   "id": "c9274849-b120-4da4-bf86-242aa0644223",
   "metadata": {},
   "source": [
    "It refers to the concurrent execution of multiple threads within a single process. A thread is a lightweight unit of execution that can run concurrently with other threads, allowing multiple tasks to be performed concurrently. Each thread shares the same memory space as other threads within the same process, making it possible to run multiple tasks concurrently while utilizing the available resources efficiently.\n",
    "\n",
    "Purpose and Benefits of Multithreading:\n",
    "1. Multithreading is used to improve the responsiveness and efficiency of programs, particularly when dealing with tasks that involve I/O operations, such as reading/writing files, network communication, or user input/output. By utilizing multithreading, a program can perform multiple tasks concurrently without blocking the execution of other tasks, thus enhancing the overall performance and responsiveness of the application.\n",
    "2. Multithreading is beneficial in scenarios where tasks can be performed independently and can run simultaneously, taking advantage of multicore processors or multithreading-capable CPUs. It can help reduce the overall execution time and improve the user experience by avoiding delays caused by waiting for I/O operations to complete.\n",
    "\n",
    "Module for Handling Threads in Python:\n",
    "1. The threading module in Python is used to handle threads. It provides a higher-level interface for creating and managing threads compared to the lower-level _thread module.\n",
    "2. The threading module allows you to create and manage multiple threads, synchronize thread execution, and handle thread communication and coordination."
   ]
  },
  {
   "cell_type": "markdown",
   "id": "87ec2310-5564-4ee5-ae30-6e21ef835df1",
   "metadata": {},
   "source": [
    "##### Q2. Why threading module used? Write the use of the following functions: \n",
    "1. activeCount()\n",
    "2. currentThread()\n",
    "3. enumerate()"
   ]
  },
  {
   "cell_type": "markdown",
   "id": "d2816a82-79fc-44da-aa52-1533d1062bee",
   "metadata": {},
   "source": [
    "The threading module is used to work with threads, allowing concurrent execution and better utilization of system resources. It provides various functions to manage and control threads.\n",
    "1. activeCount():\n",
    "    This function returns the number of Thread objects currently alive.\n",
    "    It is useful to keep track of how many threads are currently running.\n",
    "2. currentThread():\n",
    "    This function returns the current Thread object, corresponding to the caller's thread of control.\n",
    "    It is useful for identifying the currently executing thread.\n",
    "3. enumerate():\n",
    "    This function returns a list of all Thread objects currently alive.\n",
    "    It is useful to iterate and work with all active threads."
   ]
  },
  {
   "cell_type": "markdown",
   "id": "afed7242-33c4-4a7f-a478-52554cd74ef9",
   "metadata": {},
   "source": [
    "##### Q3. Explain the following functions:\n",
    "1. run()\n",
    "2. start()\n",
    "3. join()\n",
    "4. isAlive()"
   ]
  },
  {
   "cell_type": "markdown",
   "id": "c12f6348-b2b0-4c48-98c4-fe37507285d6",
   "metadata": {},
   "source": [
    "1. run():\n",
    "    1. The run() method is the entry point for thread activity.\n",
    "    2. When a thread is started, its run() method is called.\n",
    "    3. You can subclass the threading.Thread class and override the run() method with the code that you want to run in the thread.\n",
    "2. start():\n",
    "    1. The start() method starts the thread by invoking its run() method.\n",
    "    2. This function is used to begin the execution of a thread.\n",
    "3. join():\n",
    "    1. The join() method waits for the thread to complete its execution.\n",
    "    2. It blocks the calling thread until the thread whose join() method is called finishes its execution.\n",
    "4. isAlive():\n",
    "    1. The isAlive() method checks if the thread is alive.\n",
    "    2. It returns True if the thread is currently active (running or sleeping), and False otherwise."
   ]
  },
  {
   "cell_type": "markdown",
   "id": "578a2a85-ff56-4b12-8129-bf83ed1152bb",
   "metadata": {},
   "source": [
    "##### Q4. rite a python program to create two threads. Thread one must print the list of squares and thread two must print the list of cubes"
   ]
  },
  {
   "cell_type": "code",
   "execution_count": 1,
   "id": "4fad16dd-f1f2-425f-b0a2-4772b425ec86",
   "metadata": {},
   "outputs": [
    {
     "name": "stdout",
     "output_type": "stream",
     "text": [
      "Square of 1: 1\n",
      "Square of 2: 4\n",
      "Square of 3: 9\n",
      "Square of 4: 16\n",
      "Square of 5: 25\n",
      "Cube of 1: 1\n",
      "Cube of 2: 8\n",
      "Cube of 3: 27\n",
      "Cube of 4: 64\n",
      "Cube of 5: 125\n",
      "END\n"
     ]
    }
   ],
   "source": [
    "import threading\n",
    "def sq(n):\n",
    "    for i in n:\n",
    "        print(f\"Square of {i}: {i**2}\")\n",
    "\n",
    "def cube(n):\n",
    "    for i in n:\n",
    "        print(f\"Cube of {i}: {i**3}\")\n",
    "n = [1, 2, 3, 4, 5]\n",
    "t1 = threading.Thread(target=sq, args=(n,))\n",
    "t2 = threading.Thread(target=cube, args=(n,))\n",
    "t1.start()\n",
    "t2.start()\n",
    "t1.join()\n",
    "t2.join()\n",
    "print(\"END\")"
   ]
  },
  {
   "cell_type": "markdown",
   "id": "310d9130-b25f-4a2e-9f15-20c8111db43c",
   "metadata": {},
   "source": [
    "##### Q5. State advantages and disadvantages of multithreading"
   ]
  },
  {
   "cell_type": "markdown",
   "id": "327691f1-7c92-4320-b818-d424364ae293",
   "metadata": {},
   "source": [
    "Advantages of Multithreading:\n",
    "1. Concurrency: Multithreading allows multiple tasks to be executed concurrently, making better use of available resources and improving overall system performance.\n",
    "2. Responsiveness: Multithreading can enhance the responsiveness of applications, especially user interfaces, by allowing tasks such as user input processing to run in the background without blocking the main thread.\n",
    "3. Resource Sharing: Threads within the same process can share resources such as memory space, file handles, and data structures, reducing resource wastage.\n",
    "4. Efficiency: Threads are lightweight compared to processes, so creating and managing threads is generally more efficient than creating and managing processes.\n",
    "5. Parallelism: On multi-core or multi-processor systems, multithreading can take advantage of parallelism, leading to faster execution of tasks that can be divided into smaller units.\n",
    "\n",
    "Disadvantages of Multithreading:\n",
    "1. Complexity: Writing and debugging multithreaded code can be complex due to issues such as synchronization, deadlocks, and race conditions.\n",
    "2. Resource Contention: Threads competing for shared resources can lead to contention and performance degradation if not managed properly.\n",
    "3. Synchronization Overhead: Synchronization mechanisms, such as locks, semaphores, and monitors, introduce overhead and can potentially lead to bottlenecks.\n",
    "4. Deadlocks and Race Conditions: Improper synchronization can result in deadlocks and race conditions, which can be difficult to identify and resolve.\n",
    "5. Debugging: Debugging multithreaded applications can be challenging, as issues might not manifest consistently and can be difficult to reproduce."
   ]
  },
  {
   "cell_type": "markdown",
   "id": "b7b238c9-b4a3-4c96-82d7-db88f3c7b989",
   "metadata": {},
   "source": [
    "##### Q6. Explain deadlocks and race conditions."
   ]
  },
  {
   "cell_type": "markdown",
   "id": "17d5f052-95ac-4adf-85ee-e014a21cf5de",
   "metadata": {},
   "source": [
    "Deadlocks:- A deadlock occurs when two or more threads are blocked indefinitely, each waiting for a resource that the other holds. Deadlocks can lead to a situation where the threads are unable to proceed, resulting in a system halt.\n",
    "\n",
    "Race Conditions:- A race condition occurs when the behavior of a program depends on the relative timing of events, such as the order of thread execution. Race conditions can lead to unpredictable and unintended outcomes."
   ]
  }
 ],
 "metadata": {
  "kernelspec": {
   "display_name": "Python 3 (ipykernel)",
   "language": "python",
   "name": "python3"
  },
  "language_info": {
   "codemirror_mode": {
    "name": "ipython",
    "version": 3
   },
   "file_extension": ".py",
   "mimetype": "text/x-python",
   "name": "python",
   "nbconvert_exporter": "python",
   "pygments_lexer": "ipython3",
   "version": "3.10.9"
  }
 },
 "nbformat": 4,
 "nbformat_minor": 5
}
