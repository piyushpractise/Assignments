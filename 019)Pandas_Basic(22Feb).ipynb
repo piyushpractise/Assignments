{
 "cells": [
  {
   "cell_type": "markdown",
   "id": "51dbf664-c59b-4344-83e8-cc0a9f04a473",
   "metadata": {},
   "source": [
    "# Pandas Basic"
   ]
  },
  {
   "cell_type": "markdown",
   "id": "996e8a27-a2d1-43d1-b88a-482fd3e6e4dd",
   "metadata": {},
   "source": [
    "##### Q1. Create a Pandas Series that contains the following data: 4, 8, 15, 16, 23, and 42. Then, print the series."
   ]
  },
  {
   "cell_type": "code",
   "execution_count": 1,
   "id": "c7f4e0a8-665c-42a9-b71c-3613fbe91afb",
   "metadata": {
    "tags": []
   },
   "outputs": [
    {
     "name": "stdout",
     "output_type": "stream",
     "text": [
      "0     4\n",
      "1     8\n",
      "2    15\n",
      "3    16\n",
      "4    23\n",
      "5    42\n",
      "dtype: int64\n"
     ]
    }
   ],
   "source": [
    "import pandas as pd\n",
    "data = [4,8,15,16,23,42]\n",
    "s = pd.Series(data)\n",
    "print(s)"
   ]
  },
  {
   "cell_type": "markdown",
   "id": "8c5fe715-05d2-446d-988f-f653375bd2ce",
   "metadata": {},
   "source": [
    "##### Q2. Create a variable of list type containing 10 elements in it, and apply pandas.Series function on the variable print it."
   ]
  },
  {
   "cell_type": "code",
   "execution_count": 2,
   "id": "4a6b32b8-233d-4206-ad6a-233f097dc77e",
   "metadata": {},
   "outputs": [
    {
     "name": "stdout",
     "output_type": "stream",
     "text": [
      "0     10\n",
      "1     20\n",
      "2     30\n",
      "3     40\n",
      "4     50\n",
      "5     60\n",
      "6     70\n",
      "7     80\n",
      "8     90\n",
      "9    100\n",
      "dtype: int64\n"
     ]
    }
   ],
   "source": [
    "import pandas as pd\n",
    "my_list = [10, 20, 30, 40, 50, 60, 70, 80, 90, 100]\n",
    "my_series = pd.Series(my_list)\n",
    "print(my_series)"
   ]
  },
  {
   "cell_type": "markdown",
   "id": "262286b7-3eec-492e-a16a-8d89e98a5eb5",
   "metadata": {},
   "source": [
    "##### Q3. Create a Pandas DataFrame that contains the following data:\n",
    "Then, print the DataFrame."
   ]
  },
  {
   "cell_type": "code",
   "execution_count": 3,
   "id": "b63f8725-0bf6-4bae-a499-e0c61a7ae408",
   "metadata": {
    "tags": []
   },
   "outputs": [
    {
     "data": {
      "text/html": [
       "<div>\n",
       "<style scoped>\n",
       "    .dataframe tbody tr th:only-of-type {\n",
       "        vertical-align: middle;\n",
       "    }\n",
       "\n",
       "    .dataframe tbody tr th {\n",
       "        vertical-align: top;\n",
       "    }\n",
       "\n",
       "    .dataframe thead th {\n",
       "        text-align: right;\n",
       "    }\n",
       "</style>\n",
       "<table border=\"1\" class=\"dataframe\">\n",
       "  <thead>\n",
       "    <tr style=\"text-align: right;\">\n",
       "      <th></th>\n",
       "      <th>Name</th>\n",
       "      <th>Age</th>\n",
       "      <th>Gender</th>\n",
       "    </tr>\n",
       "  </thead>\n",
       "  <tbody>\n",
       "    <tr>\n",
       "      <th>0</th>\n",
       "      <td>Alice</td>\n",
       "      <td>25</td>\n",
       "      <td>Female</td>\n",
       "    </tr>\n",
       "    <tr>\n",
       "      <th>1</th>\n",
       "      <td>Bob</td>\n",
       "      <td>30</td>\n",
       "      <td>Male</td>\n",
       "    </tr>\n",
       "    <tr>\n",
       "      <th>2</th>\n",
       "      <td>Claire</td>\n",
       "      <td>27</td>\n",
       "      <td>Female</td>\n",
       "    </tr>\n",
       "  </tbody>\n",
       "</table>\n",
       "</div>"
      ],
      "text/plain": [
       "     Name Age  Gender\n",
       "0   Alice  25  Female\n",
       "1     Bob  30    Male\n",
       "2  Claire  27  Female"
      ]
     },
     "execution_count": 3,
     "metadata": {},
     "output_type": "execute_result"
    }
   ],
   "source": [
    "import pandas as pd\n",
    "t = {'Name' :['Alice', 'Bob', 'Claire'], 'Age':['25','30','27'], 'Gender':['Female', 'Male', 'Female']}\n",
    "df = pd.DataFrame(t)\n",
    "df.head()"
   ]
  },
  {
   "cell_type": "markdown",
   "id": "9cf89af2-c468-4549-979c-9e70126f7491",
   "metadata": {},
   "source": [
    "##### Q4. What is ‘DataFrame’ in pandas and how is it different from pandas.series? Explain with an example."
   ]
  },
  {
   "cell_type": "markdown",
   "id": "637776c5-1349-4f6b-97b6-e6205abee1ec",
   "metadata": {},
   "source": [
    "A DataFrame in Pandas is a two-dimensional labeled data structure with columns that can hold data of various types, similar to a table in a relational database or a spreadsheet. It is one of the core data structures in Pandas and is particularly useful for analyzing and manipulating tabular data.\n",
    "\n",
    "A Pandas Series, on the other hand, is a one-dimensional labeled array that can hold data of any type. It can be thought of as a single column of a DataFrame."
   ]
  },
  {
   "cell_type": "code",
   "execution_count": 4,
   "id": "19a50841-ff3d-4421-bbe9-7a8fa8ff6df5",
   "metadata": {
    "tags": []
   },
   "outputs": [
    {
     "name": "stdout",
     "output_type": "stream",
     "text": [
      "DataFrame:      Name Age  Gender\n",
      "0   Alice  25  Female\n",
      "1     Bob  30    Male\n",
      "2  Claire  27  Female\n",
      "\n",
      "Series:\n",
      "0    25\n",
      "1    30\n",
      "2    27\n",
      "Name: Age, dtype: int64\n"
     ]
    }
   ],
   "source": [
    "import pandas as pd\n",
    "# DataFrame\n",
    "t = {'Name' :['Alice', 'Bob', 'Claire'], 'Age':['25','30','27'], 'Gender':['Female', 'Male', 'Female']}\n",
    "df = pd.DataFrame(t)\n",
    "print(\"DataFrame:\",df)\n",
    "# Pandas Series\n",
    "ages = pd.Series([25, 30, 27], name='Age')\n",
    "print(\"\\nSeries:\")\n",
    "print(ages)"
   ]
  },
  {
   "cell_type": "markdown",
   "id": "838e3c7a-e4dc-42d9-9e6b-f8c38e727d82",
   "metadata": {},
   "source": [
    "##### Q5. What are some common functions you can use to manipulate data in a Pandas DataFrame? Can you give an example of when you might use one of these functions?"
   ]
  },
  {
   "cell_type": "markdown",
   "id": "0c82f4fd-13f6-45cc-9180-c3003c574bf0",
   "metadata": {},
   "source": [
    "Some common functions for data manipulation in a Pandas DataFrame include:\n",
    "* head(): Returns the first n rows of the DataFrame.\n",
    "* tail(): Returns the last n rows of the DataFrame.\n",
    "* info(): Provides information about the DataFrame, including data types and non-null counts.\n",
    "* describe(): Generates summary statistics of numeric columns.\n",
    "* groupby(): Groups the DataFrame by one or more columns and allows aggregation operations."
   ]
  },
  {
   "cell_type": "code",
   "execution_count": 5,
   "id": "24ae46de-6f15-4aa3-bcb7-3e5f28feda3a",
   "metadata": {},
   "outputs": [
    {
     "name": "stdout",
     "output_type": "stream",
     "text": [
      "         Name Age  Gender\n",
      "count       3   3       3\n",
      "unique      3   3       2\n",
      "top     Alice  25  Female\n",
      "freq        1   1       2\n",
      "Gender\n",
      "Female    1263.5\n",
      "Male        30.0\n",
      "Name: Age, dtype: float64\n"
     ]
    }
   ],
   "source": [
    "import pandas as pd\n",
    "# Creating a DataFrame\n",
    "t = {'Name' :['Alice', 'Bob', 'Claire'], 'Age':['25','30','27'], 'Gender':['Female', 'Male', 'Female']}\n",
    "df = pd.DataFrame(t)\n",
    "# Using describe() to get summary statistics\n",
    "print(df.describe())\n",
    "# Using groupby() and mean() to get average age by gender\n",
    "avg_age_by_gender = df.groupby('Gender')['Age'].mean()\n",
    "print(avg_age_by_gender)"
   ]
  },
  {
   "cell_type": "markdown",
   "id": "6426797e-99bb-408b-8d19-0eedacd7cbba",
   "metadata": {},
   "source": [
    "##### Q6. Which of the following is mutable in nature Series, DataFrame, Panel?"
   ]
  },
  {
   "cell_type": "markdown",
   "id": "d8fe3ad4-2c0b-4bc7-9c4b-ed2820e103ba",
   "metadata": {},
   "source": [
    "In Pandas, both Series and DataFrame are mutable in nature. This means that we can modify their values, add or remove rows and columns, and perform various data manipulation operations.\n",
    "\n",
    "However, please note that the Pandas Panel, which was a three-dimensional data structure in earlier versions of Pandas, has been deprecated and removed in recent versions. Multi-dimensional data is now typically handled using MultiIndex DataFrames or other structures."
   ]
  },
  {
   "cell_type": "markdown",
   "id": "42ea40d7-c764-4b09-9455-4cb9cb7e51e5",
   "metadata": {},
   "source": [
    "##### Q7. Create a DataFrame using multiple Series. Explain with an example."
   ]
  },
  {
   "cell_type": "code",
   "execution_count": 6,
   "id": "7ce7876f-ada2-4606-acc8-8cabc77ea783",
   "metadata": {
    "tags": []
   },
   "outputs": [
    {
     "name": "stdout",
     "output_type": "stream",
     "text": [
      "     Name  Age  Gender\n",
      "0   Alice   25  Female\n",
      "1     Bob   30    Male\n",
      "2  Claire   27  Female\n"
     ]
    }
   ],
   "source": [
    "import pandas as pd\n",
    "n = pd.Series(['Alice', 'Bob', 'Claire'])\n",
    "a = pd.Series([25, 30, 27])\n",
    "g = pd.Series(['Female', 'Male', 'Female'])\n",
    "df = pd.DataFrame({'Name': n,'Age': a,'Gender': g})\n",
    "print(df)"
   ]
  }
 ],
 "metadata": {
  "kernelspec": {
   "display_name": "Python 3 (ipykernel)",
   "language": "python",
   "name": "python3"
  },
  "language_info": {
   "codemirror_mode": {
    "name": "ipython",
    "version": 3
   },
   "file_extension": ".py",
   "mimetype": "text/x-python",
   "name": "python",
   "nbconvert_exporter": "python",
   "pygments_lexer": "ipython3",
   "version": "3.10.9"
  }
 },
 "nbformat": 4,
 "nbformat_minor": 5
}
