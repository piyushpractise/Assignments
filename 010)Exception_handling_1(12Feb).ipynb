{
 "cells": [
  {
   "cell_type": "markdown",
   "id": "88c4cc90-db3e-4b9d-985d-aa4ea9b1fe2b",
   "metadata": {},
   "source": [
    "# Exception handling-1"
   ]
  },
  {
   "cell_type": "markdown",
   "id": "6a1cb645-4266-415c-bd2d-57ff595e0714",
   "metadata": {},
   "source": [
    "##### Q1. What is an Exception in Python? Write the difference between Exceptions and Syntax errors."
   ]
  },
  {
   "cell_type": "markdown",
   "id": "cf0e35ef-6acc-4e10-bf46-40fc16d4237a",
   "metadata": {},
   "source": [
    "When an exception occurs, the program halts its normal execution and jumps to a special code block called an exception handler, which can handle the exceptional situation and provide appropriate actions or messages. They are used to handle errors, unexpected situations, or exceptional conditions that may arise during program execution. They allow developers to write code that gracefully handles errors and prevents the program from crashing.\n",
    "###### Exceptions:\n",
    "Exceptions occur during runtime when a specific error condition is encountered.\n",
    "They are more specific and can be caught and handled using try-except blocks.\n",
    "Examples of exceptions include ZeroDivisionError, FileNotFoundError, IndexError, etc.\n",
    "Exceptions do not prevent the program from running; they provide a mechanism for handling errors.\n",
    "###### Syntax Errors:\n",
    "Syntax errors occur during the parsing of code, before the program is executed.\n",
    "They are typically caused by typos, incorrect indentation, or invalid syntax in the code.\n",
    "Syntax errors prevent the program from running altogether, as they violate the language's rules and cannot be interpreted by the Python interpreter."
   ]
  },
  {
   "cell_type": "markdown",
   "id": "ddd8aacb-2ea6-4ace-938b-c3cf3ac96605",
   "metadata": {},
   "source": [
    "##### Q2. What happens when an exception is not handled? Explain with an example."
   ]
  },
  {
   "cell_type": "markdown",
   "id": "2eb9ea41-4f43-4363-9ffd-b5a850e8837c",
   "metadata": {},
   "source": [
    "When an exception is not handled, it propagates up the call stack until it reaches the top level of the program (such as the main function), and if it is still not handled, the program will terminate abruptly, and an error message indicating the unhandled exception will be displayed."
   ]
  },
  {
   "cell_type": "code",
   "execution_count": 1,
   "id": "775f5504-b8de-4777-9df6-08d9023479cd",
   "metadata": {
    "tags": []
   },
   "outputs": [
    {
     "ename": "ZeroDivisionError",
     "evalue": "division by zero",
     "output_type": "error",
     "traceback": [
      "\u001b[1;31m---------------------------------------------------------------------------\u001b[0m",
      "\u001b[1;31mZeroDivisionError\u001b[0m                         Traceback (most recent call last)",
      "Cell \u001b[1;32mIn[1], line 4\u001b[0m\n\u001b[0;32m      2\u001b[0m     \u001b[38;5;28;01mreturn\u001b[39;00m a \u001b[38;5;241m/\u001b[39m b\n\u001b[0;32m      3\u001b[0m \u001b[38;5;28;01mtry\u001b[39;00m:\n\u001b[1;32m----> 4\u001b[0m     result \u001b[38;5;241m=\u001b[39m \u001b[43mdivide\u001b[49m\u001b[43m(\u001b[49m\u001b[38;5;241;43m5\u001b[39;49m\u001b[43m,\u001b[49m\u001b[43m \u001b[49m\u001b[38;5;241;43m0\u001b[39;49m\u001b[43m)\u001b[49m  \u001b[38;5;66;03m# This will raise a ZeroDivisionError\u001b[39;00m\n\u001b[0;32m      5\u001b[0m     \u001b[38;5;28mprint\u001b[39m(\u001b[38;5;124m\"\u001b[39m\u001b[38;5;124mResult:\u001b[39m\u001b[38;5;124m\"\u001b[39m, result)\n\u001b[0;32m      6\u001b[0m \u001b[38;5;28;01mexcept\u001b[39;00m \u001b[38;5;167;01mValueError\u001b[39;00m \u001b[38;5;28;01mas\u001b[39;00m ve:\n",
      "Cell \u001b[1;32mIn[1], line 2\u001b[0m, in \u001b[0;36mdivide\u001b[1;34m(a, b)\u001b[0m\n\u001b[0;32m      1\u001b[0m \u001b[38;5;28;01mdef\u001b[39;00m \u001b[38;5;21mdivide\u001b[39m(a, b):\n\u001b[1;32m----> 2\u001b[0m     \u001b[38;5;28;01mreturn\u001b[39;00m \u001b[43ma\u001b[49m\u001b[43m \u001b[49m\u001b[38;5;241;43m/\u001b[39;49m\u001b[43m \u001b[49m\u001b[43mb\u001b[49m\n",
      "\u001b[1;31mZeroDivisionError\u001b[0m: division by zero"
     ]
    }
   ],
   "source": [
    "def divide(a, b):\n",
    "    return a / b\n",
    "try:\n",
    "    result = divide(5, 0)  # This will raise a ZeroDivisionError\n",
    "    print(\"Result:\", result)\n",
    "except ValueError as ve:\n",
    "    print(\"ValueError:\", ve)"
   ]
  },
  {
   "cell_type": "markdown",
   "id": "a2e47c9a-771c-4064-bd61-8ad0524f6573",
   "metadata": {},
   "source": [
    "##### Q3. Which Python statements are used to catch and handle exceptions? Explain with an example."
   ]
  },
  {
   "cell_type": "markdown",
   "id": "8482d974-8247-4e50-a701-04c70f484cce",
   "metadata": {},
   "source": [
    "    try: The try statement is used to enclose a block of code that might raise an exception. It allows you to handle exceptions gracefully by providing a fallback or alternative action when an exception occurs.\n",
    "\n",
    "    except: The except statement is used to catch and handle specific exceptions that are raised within the try block. It allows you to define how to handle different types of exceptions."
   ]
  },
  {
   "cell_type": "code",
   "execution_count": 2,
   "id": "2c284788-a906-4002-87a0-0476ce1f068d",
   "metadata": {
    "tags": []
   },
   "outputs": [
    {
     "name": "stdin",
     "output_type": "stream",
     "text": [
      "Enter a number:  287\n",
      "Enter another number:  6\n"
     ]
    },
    {
     "name": "stdout",
     "output_type": "stream",
     "text": [
      "Result: 47.833333333333336\n"
     ]
    }
   ],
   "source": [
    "def divide(a, b):\n",
    "    if b == 0:\n",
    "        raise ValueError(\"Cannot divide by zero\")\n",
    "    return a / b\n",
    "try:\n",
    "    num1 = int(input(\"Enter a number: \"))\n",
    "    num2 = int(input(\"Enter another number: \"))\n",
    "    result = divide(num1, num2)\n",
    "    print(\"Result:\", result)\n",
    "except ValueError as ve:\n",
    "    print(\"ValueError:\", ve)\n",
    "except ZeroDivisionError as zde:\n",
    "    print(\"ZeroDivisionError:\", zde)\n",
    "except Exception as e:\n",
    "    print(\"An unexpected error occurred:\", e)"
   ]
  },
  {
   "cell_type": "markdown",
   "id": "c47c3235-3a6c-4ace-a514-0582ab411d39",
   "metadata": {},
   "source": [
    "##### Q4. Explain with an example: \n",
    "    try and else\n",
    "    finally\n",
    "    raise"
   ]
  },
  {
   "cell_type": "markdown",
   "id": "e173aaca-bf49-475b-afad-ee312599b90b",
   "metadata": {},
   "source": [
    "###### try and else:\n",
    "The try block is used to enclose a section of code that might raise an exception. If an exception occurs within the try block, it can be caught and handled in the corresponding except block. The else block is executed if no exception occurs in the try block."
   ]
  },
  {
   "cell_type": "code",
   "execution_count": 3,
   "id": "74d3ea99-1d3f-482e-9e0e-224779ec0769",
   "metadata": {},
   "outputs": [
    {
     "name": "stdin",
     "output_type": "stream",
     "text": [
      "Enter a number:  4\n"
     ]
    },
    {
     "name": "stdout",
     "output_type": "stream",
     "text": [
      "You entered: 4\n"
     ]
    }
   ],
   "source": [
    "try:\n",
    "    num = int(input(\"Enter a number: \"))\n",
    "except ValueError:\n",
    "    print(\"Invalid input. Please enter a valid number.\")\n",
    "else:\n",
    "    print(\"You entered:\", num)"
   ]
  },
  {
   "cell_type": "markdown",
   "id": "32f02c5d-2034-45ed-8edb-aaf71f3585d4",
   "metadata": {},
   "source": [
    "###### finally:\n",
    "The finally block is used to define a section of code that will be executed regardless of whether an exception is raised or not. It is typically used to perform cleanup operations like closing files or releasing resources."
   ]
  },
  {
   "cell_type": "code",
   "execution_count": 4,
   "id": "2e7aa564-88d0-455e-8010-42560281082f",
   "metadata": {},
   "outputs": [
    {
     "name": "stdout",
     "output_type": "stream",
     "text": [
      "File content: Hello, this is line 1.\n",
      "This is line 2 of the example file.\n",
      "The last line, line 3.\n"
     ]
    }
   ],
   "source": [
    "try:\n",
    "    file = open(\"example.txt\", \"r\")\n",
    "    content = file.read()\n",
    "except FileNotFoundError:\n",
    "    print(\"File not found.\")\n",
    "else:\n",
    "    print(\"File content:\", content)\n",
    "finally:\n",
    "    file.close()"
   ]
  },
  {
   "cell_type": "markdown",
   "id": "72d44928-72a5-4461-963b-058221ca033c",
   "metadata": {},
   "source": [
    "###### raise:\n",
    "The raise statement is used to explicitly raise an exception. You can use it to trigger specific exceptions based on certain conditions in your code."
   ]
  },
  {
   "cell_type": "code",
   "execution_count": 5,
   "id": "4c20d4fe-0670-48e7-bdc4-796ec50a4f28",
   "metadata": {},
   "outputs": [
    {
     "name": "stdin",
     "output_type": "stream",
     "text": [
      "Enter your age:  4\n"
     ]
    },
    {
     "name": "stdout",
     "output_type": "stream",
     "text": [
      "Error: You must be at least 18 years old.\n"
     ]
    }
   ],
   "source": [
    "def check_age(age):\n",
    "    if age < 0:\n",
    "        raise ValueError(\"Age cannot be negative.\")\n",
    "    elif age < 18:\n",
    "        raise ValueError(\"You must be at least 18 years old.\")\n",
    "    else:\n",
    "        print(\"Welcome!\")\n",
    "\n",
    "try:\n",
    "    user_age = int(input(\"Enter your age: \"))\n",
    "    check_age(user_age)\n",
    "except ValueError as e:\n",
    "    print(\"Error:\", e)"
   ]
  },
  {
   "cell_type": "markdown",
   "id": "2452b240-c827-4684-a9da-50296a194152",
   "metadata": {},
   "source": [
    "##### Q5. What are Custom Exceptions in Python? Why do we need Custom Exceptions? Explain with an example."
   ]
  },
  {
   "cell_type": "markdown",
   "id": "bf533dc2-a9c2-4eee-b4bd-37a9bdbf1086",
   "metadata": {},
   "source": [
    "Custom exceptions, also known as user-defined exceptions, allow you to create your own specific exceptions in Python. These exceptions are derived from the built-in Exception class or its subclasses, providing you with the ability to handle specific error scenarios in your code.\n",
    "\n",
    "We need custom exceptions to make our code more organized, maintainable, and user-friendly. By defining custom exceptions, you can encapsulate error conditions and provide meaningful error messages to users, making it easier to diagnose and fix problems."
   ]
  },
  {
   "cell_type": "code",
   "execution_count": 6,
   "id": "6f78a2d2-1af2-41c2-9386-15295bfe02e4",
   "metadata": {
    "tags": []
   },
   "outputs": [
    {
     "name": "stdout",
     "output_type": "stream",
     "text": [
      "Insufficient funds: Balance = 500, Amount = 700\n"
     ]
    }
   ],
   "source": [
    "class InsufficientFundsError(Exception):\n",
    "    \"\"\"Custom exception raised for insufficient funds.\"\"\"\n",
    "    def __init__(self, balance, amount):\n",
    "        self.balance = balance\n",
    "        self.amount = amount\n",
    "        self.message = f\"Insufficient funds: Balance = {balance}, Amount = {amount}\"\n",
    "\n",
    "def withdraw(balance, amount):\n",
    "    if amount > balance:\n",
    "        raise InsufficientFundsError(balance, amount)\n",
    "    return balance - amount\n",
    "\n",
    "account_balance = 500\n",
    "withdrawal_amount = 700\n",
    "try:\n",
    "    new_balance = withdraw(account_balance, withdrawal_amount)\n",
    "    print(\"Withdrawal successful. New balance:\", new_balance)\n",
    "except InsufficientFundsError as e:\n",
    "    print(e.message)"
   ]
  },
  {
   "cell_type": "markdown",
   "id": "2001e58f-6e26-4f18-b2d1-0ef710e8c2b1",
   "metadata": {},
   "source": [
    "##### Q6. Create a custom exception class. Use this class to handle an exception."
   ]
  },
  {
   "cell_type": "code",
   "execution_count": 7,
   "id": "b1eb2682-fa02-4bee-9cc9-bed33b4fb690",
   "metadata": {
    "tags": []
   },
   "outputs": [
    {
     "name": "stdout",
     "output_type": "stream",
     "text": [
      "Error: Division by zero is not allowed.\n"
     ]
    }
   ],
   "source": [
    "class MyCustomException(Exception):\n",
    "    \"\"\"Custom exception class.\"\"\"\n",
    "    def __init__(self, message):\n",
    "        self.message = message\n",
    "\n",
    "def divide(a, b):\n",
    "    if b == 0:\n",
    "        raise MyCustomException(\"Division by zero is not allowed.\")\n",
    "    return a / b\n",
    "\n",
    "def main():\n",
    "    try:\n",
    "        result = divide(10, 0)\n",
    "        print(\"Result:\", result)\n",
    "    except MyCustomException as e:\n",
    "        print(\"Error:\", e.message)\n",
    "\n",
    "if __name__ == \"__main__\":\n",
    "    main()"
   ]
  }
 ],
 "metadata": {
  "kernelspec": {
   "display_name": "Python 3 (ipykernel)",
   "language": "python",
   "name": "python3"
  },
  "language_info": {
   "codemirror_mode": {
    "name": "ipython",
    "version": 3
   },
   "file_extension": ".py",
   "mimetype": "text/x-python",
   "name": "python",
   "nbconvert_exporter": "python",
   "pygments_lexer": "ipython3",
   "version": "3.10.9"
  }
 },
 "nbformat": 4,
 "nbformat_minor": 5
}
