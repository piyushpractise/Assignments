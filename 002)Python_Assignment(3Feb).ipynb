{
 "cells": [
  {
   "cell_type": "markdown",
   "id": "91cc4d84-750e-4d4b-9b4f-7446c4f73f42",
   "metadata": {},
   "source": [
    "# Assignment Questions"
   ]
  },
  {
   "cell_type": "markdown",
   "id": "1b806fac-6c1b-4e87-86a0-7428a16d619d",
   "metadata": {},
   "source": [
    "### Q1. Which keyword is used to create a function? Create a function to return a list of odd numbers in the range of 1 to 25."
   ]
  },
  {
   "cell_type": "markdown",
   "id": "a60e6565-d9ad-4ea2-acfa-aed2e7439db1",
   "metadata": {
    "tags": []
   },
   "source": [
    "The keyword used to create a function in Python is def."
   ]
  },
  {
   "cell_type": "code",
   "execution_count": 1,
   "id": "1317fa38-6b6c-4586-b087-8ebb71faf98e",
   "metadata": {
    "tags": []
   },
   "outputs": [
    {
     "name": "stdout",
     "output_type": "stream",
     "text": [
      "[1, 3, 5, 7, 9, 11, 13, 15, 17, 19, 21, 23, 25]\n"
     ]
    }
   ],
   "source": [
    "# Here is the function that returns a list of odd numbers in the range of 1 to 25:\n",
    "def get_odd_numbers():\n",
    "    odd_numbers = []\n",
    "    for num in range(1, 26):\n",
    "        if num % 2 != 0:\n",
    "            odd_numbers.append(num)\n",
    "    return odd_numbers\n",
    "odd_nums = get_odd_numbers()\n",
    "print(odd_nums)"
   ]
  },
  {
   "cell_type": "markdown",
   "id": "47ef13ce-82ae-42fd-8962-25a2b270b564",
   "metadata": {},
   "source": [
    "### Q2. Why *args and **kwargs is used in some functions? Create a function each for *args and **kwargs to demonstrate their use."
   ]
  },
  {
   "cell_type": "markdown",
   "id": "abdf617c-52fc-4ba2-8e47-700fbba34992",
   "metadata": {},
   "source": [
    "##### 1. *args:\n",
    "    The *args syntax allows a function to accept a variable number of positional arguments. It collects these arguments into a tuple inside the function."
   ]
  },
  {
   "cell_type": "code",
   "execution_count": 2,
   "id": "458fb6d9-5743-4ff3-b2fe-5df394f189a9",
   "metadata": {
    "tags": []
   },
   "outputs": [
    {
     "name": "stdout",
     "output_type": "stream",
     "text": [
      "15\n"
     ]
    }
   ],
   "source": [
    "# Example of a function using *args:\n",
    "def sum_numbers(*args):\n",
    "    total = 0\n",
    "    for num in args:\n",
    "        total += num\n",
    "    return total\n",
    "result = sum_numbers(1, 2, 3, 4, 5)\n",
    "print(result)"
   ]
  },
  {
   "cell_type": "markdown",
   "id": "b861a3ff-a899-4311-af0b-f00ecf755f51",
   "metadata": {},
   "source": [
    "##### 2. **kwargs:\n",
    "    The **kwargs syntax allows a function to accept a variable number of keyword arguments. It collects these arguments into a dictionary inside the function, where keys are the argument names and values are the corresponding argument values."
   ]
  },
  {
   "cell_type": "code",
   "execution_count": 3,
   "id": "d31e725f-f55a-4729-9c73-8245d431b43f",
   "metadata": {
    "tags": []
   },
   "outputs": [
    {
     "name": "stdout",
     "output_type": "stream",
     "text": [
      "name: John\n",
      "age: 30\n",
      "city: New York\n"
     ]
    }
   ],
   "source": [
    "# Example of a function using **kwargs:\n",
    "def print_info(**kwargs):\n",
    "    for key, value in kwargs.items():\n",
    "        print(f\"{key}: {value}\")\n",
    "print_info(name=\"John\", age=30, city=\"New York\")"
   ]
  },
  {
   "cell_type": "markdown",
   "id": "e7a108b4-7147-4dd4-af0c-04fff6c9da8a",
   "metadata": {},
   "source": [
    "### Q3. What is an iterator in python? Name the method used to initialise the iterator object and the method used for iteration. Use these methods to print the first five elements of the given list [2, 4, 6, 8, 10, 12, 14,16, 18, 20]."
   ]
  },
  {
   "cell_type": "markdown",
   "id": "cf0db866-63fc-4e28-a85a-b60291df07d7",
   "metadata": {},
   "source": [
    "In Python, An Iterator is an object that implements the methods __iter__() and __next__() and represents a stream of data. It also allow us to traverse through elements of a container (like a list) one by one, providing a convenient way to access and process each element.\n",
    "\n",
    "    __iter__(): This method is use to initializes the iterator object and returns itself.\n",
    "    __next__(): This method is used to retrieve the next value from the iterator. If there are no more items to be returned, it raises the StopIteration exception."
   ]
  },
  {
   "cell_type": "code",
   "execution_count": 4,
   "id": "8ee60cc4-dffa-4ffb-ad90-6558edaa4468",
   "metadata": {
    "tags": []
   },
   "outputs": [
    {
     "name": "stdout",
     "output_type": "stream",
     "text": [
      "2\n",
      "4\n",
      "6\n",
      "8\n",
      "10\n"
     ]
    }
   ],
   "source": [
    "# Example where we can use iterators to print the first five elements of the given list:\n",
    "my_list = [2, 4, 6, 8, 10, 12, 14, 16, 18, 20]\n",
    "my_iterator = iter(my_list)\n",
    "for _ in range(5):\n",
    "    element = next(my_iterator)\n",
    "    print(element)"
   ]
  },
  {
   "cell_type": "markdown",
   "id": "e4e3d99f-5d55-4866-bc51-dcd5f0401cd9",
   "metadata": {},
   "source": [
    "### Q4. What is a generator function in python? Why yield keyword is used? Give an example of a generator function."
   ]
  },
  {
   "cell_type": "markdown",
   "id": "1134def4-fa6f-4cb6-a5d7-7884a7671294",
   "metadata": {},
   "source": [
    "A generator function in Python is a special type of function that generates a sequence of values l one at a time, on-demand, as you iterate over it. Unlike regular functions that execute and return a value, generator functions use the yield keyword to pause their execution and yield a value to the caller. This allows us to efficiently work with large sequences of data without loading them all into memory at once.\n",
    "\n",
    "The yield keyword is used within a generator function to specify values that will be produced when the generator is iterated over. When the generator is invoked, it doesn't execute immediately. Instead, it returns a generator object. As the generator is iterated over, the function execution is temporarily paused at each yield statement, and the specified value is emitted. The function's state is retained between these pauses, enabling it to resume its execution from where it was last paused."
   ]
  },
  {
   "cell_type": "code",
   "execution_count": 5,
   "id": "4dea3e32-2525-41f7-96a7-54f777dbd6dc",
   "metadata": {
    "tags": []
   },
   "outputs": [
    {
     "name": "stdout",
     "output_type": "stream",
     "text": [
      "0\n",
      "2\n",
      "4\n",
      "6\n",
      "8\n"
     ]
    }
   ],
   "source": [
    "# Here's an example of a generator function that generates a sequence of even numbers:\n",
    "def even_numbers(n):\n",
    "    i = 0\n",
    "    while i < n:\n",
    "        yield 2 * i\n",
    "        i += 1\n",
    "even_gen = even_numbers(5)\n",
    "for num in even_gen:\n",
    "    print(num)"
   ]
  },
  {
   "cell_type": "markdown",
   "id": "b001b12a-047a-4a98-acf2-e87def4c18b4",
   "metadata": {},
   "source": [
    "### Q5. Create a generator function for prime numbers less than 1000. Use the next() method to print the first 20 prime numbers."
   ]
  },
  {
   "cell_type": "code",
   "execution_count": 6,
   "id": "b13dc785-de9f-435c-9bf0-5b39d2d6115b",
   "metadata": {
    "tags": []
   },
   "outputs": [
    {
     "name": "stdout",
     "output_type": "stream",
     "text": [
      "2\n",
      "3\n",
      "5\n",
      "7\n",
      "11\n",
      "13\n",
      "17\n",
      "19\n",
      "23\n",
      "29\n",
      "31\n",
      "37\n",
      "41\n",
      "43\n",
      "47\n",
      "53\n",
      "59\n",
      "61\n",
      "67\n",
      "71\n"
     ]
    }
   ],
   "source": [
    "def is_prime(n):\n",
    "    if n <= 1:\n",
    "        return False\n",
    "    if n <= 3:\n",
    "        return True\n",
    "    if n % 2 == 0 or n % 3 == 0:\n",
    "        return False\n",
    "    i = 5\n",
    "    while i * i <= n:\n",
    "        if n % i == 0 or n % (i + 2) == 0:\n",
    "            return False\n",
    "        i += 6\n",
    "    return True\n",
    "def generator(l):\n",
    "    n = 2\n",
    "    while n < l:\n",
    "        if is_prime(n):\n",
    "            yield n\n",
    "        n += 1\n",
    "primes = generator(1000)\n",
    "for _ in range(20):\n",
    "    prime = next(primes)\n",
    "    print(prime)"
   ]
  },
  {
   "cell_type": "markdown",
   "id": "e09ae54b-0052-475d-9a43-a8e0842d799a",
   "metadata": {},
   "source": [
    "### Q6. Write a python program to print the first 10 Fibonacci numbers using a while loop."
   ]
  },
  {
   "cell_type": "code",
   "execution_count": 7,
   "id": "2f54a321-5378-4f08-a0cd-0b1720ec246d",
   "metadata": {
    "tags": []
   },
   "outputs": [
    {
     "name": "stdout",
     "output_type": "stream",
     "text": [
      "[0, 1, 1, 2, 3, 5, 8, 13, 21, 34, 55]\n"
     ]
    }
   ],
   "source": [
    "fn = []\n",
    "n= 0\n",
    "for i in range(0,11):\n",
    "    fn.append(n)\n",
    "    if i==0:\n",
    "        n+=1\n",
    "    else:\n",
    "        n =fn[i] +fn[i-1]\n",
    "print(fn)"
   ]
  },
  {
   "cell_type": "markdown",
   "id": "b491bd45-67ef-4b57-9b37-34dc092d1bfc",
   "metadata": {},
   "source": [
    "### Q7. Write a List Comprehension to iterate through the given string: ‘pwskills’.\n",
    "Expected output: ['p', 'w', 's', 'k', 'i', 'l', 'l', 's']"
   ]
  },
  {
   "cell_type": "code",
   "execution_count": 8,
   "id": "d7a1f845-6922-4693-b49f-3dad6ea39dbf",
   "metadata": {
    "tags": []
   },
   "outputs": [
    {
     "name": "stdin",
     "output_type": "stream",
     "text": [
      "Enter the desired string: pwskills\n"
     ]
    },
    {
     "name": "stdout",
     "output_type": "stream",
     "text": [
      "['p', 'w', 's', 'k', 'i', 'l', 'l', 's']\n"
     ]
    }
   ],
   "source": [
    "str1 = input(\"Enter the desired string:\")\n",
    "result = [i for i in str1]\n",
    "print(result)"
   ]
  },
  {
   "cell_type": "markdown",
   "id": "96648117-02a9-44d6-845a-e0e0caf1f21d",
   "metadata": {},
   "source": [
    "### Q8. Write a python program to check whether a given number is Palindrome or not using a while loop."
   ]
  },
  {
   "cell_type": "code",
   "execution_count": 9,
   "id": "04743b0f-fdb7-45af-a457-edbe4fc64193",
   "metadata": {
    "tags": []
   },
   "outputs": [
    {
     "name": "stdin",
     "output_type": "stream",
     "text": [
      "Enter the desired string: 101ghfdhg101\n"
     ]
    },
    {
     "name": "stdout",
     "output_type": "stream",
     "text": [
      "It is a Not Palindrome\n"
     ]
    }
   ],
   "source": [
    "str1 = input(\"Enter the desired string:\").lower()\n",
    "def check_palindrome(str1):\n",
    "    for i in range(len(str1)//2):\n",
    "        if str1[i] != str1[-(i+1)]:\n",
    "            return False\n",
    "    return True\n",
    "if check_palindrome(str1):\n",
    "    print(\"It is a Palindrome\")\n",
    "else:\n",
    "    print(\"It is a Not Palindrome\")"
   ]
  },
  {
   "cell_type": "markdown",
   "id": "4853d108-9ef9-4253-b0d1-a469708e8fde",
   "metadata": {},
   "source": [
    "### Q9. Write a code to print odd numbers from 1 to 100 using list comprehension.\n",
    "Note: Use a list comprehension to create a list from 1 to 100 and use another List comprehension to filter out odd numbers."
   ]
  },
  {
   "cell_type": "code",
   "execution_count": 10,
   "id": "21467fe9-ea05-4cb4-9ca3-c2b4fcb6cbeb",
   "metadata": {
    "tags": []
   },
   "outputs": [
    {
     "name": "stdout",
     "output_type": "stream",
     "text": [
      "Odd Numbers list [1, 3, 5, 7, 9, 11, 13, 15, 17, 19, 21, 23, 25, 27, 29, 31, 33, 35, 37, 39, 41, 43, 45, 47, 49, 51, 53, 55, 57, 59, 61, 63, 65, 67, 69, 71, 73, 75, 77, 79, 81, 83, 85, 87, 89, 91, 93, 95, 97, 99]\n"
     ]
    }
   ],
   "source": [
    "odd = [n for n in range(1, 101, 2)]\n",
    "print(\"Odd Numbers list\",odd)"
   ]
  }
 ],
 "metadata": {
  "kernelspec": {
   "display_name": "Python 3 (ipykernel)",
   "language": "python",
   "name": "python3"
  },
  "language_info": {
   "codemirror_mode": {
    "name": "ipython",
    "version": 3
   },
   "file_extension": ".py",
   "mimetype": "text/x-python",
   "name": "python",
   "nbconvert_exporter": "python",
   "pygments_lexer": "ipython3",
   "version": "3.10.9"
  }
 },
 "nbformat": 4,
 "nbformat_minor": 5
}
