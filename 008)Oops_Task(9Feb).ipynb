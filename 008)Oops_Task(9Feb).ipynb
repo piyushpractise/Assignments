{
 "cells": [
  {
   "cell_type": "markdown",
   "id": "4b8a4b70-4ceb-477d-a41b-8ce0fa9956fd",
   "metadata": {},
   "source": [
    "# OOPs Task"
   ]
  },
  {
   "cell_type": "markdown",
   "id": "c61d0ee5-0a06-4e3a-9b53-f848a4318bc1",
   "metadata": {},
   "source": [
    "##### Q1, Create a vehicle class with an init method having instance variables as name_of_vehicle, max_speed and average_of_vehicle."
   ]
  },
  {
   "cell_type": "code",
   "execution_count": 1,
   "id": "40387b31-6692-4214-a080-750137e4537c",
   "metadata": {
    "tags": []
   },
   "outputs": [
    {
     "name": "stdout",
     "output_type": "stream",
     "text": [
      "Car\n",
      "180\n"
     ]
    }
   ],
   "source": [
    "class Vehicle:\n",
    "    def __init__(self, name_of_vehicle, max_speed, average_of_vehicle):\n",
    "        self.name_of_vehicle = name_of_vehicle\n",
    "        self.max_speed = max_speed\n",
    "        self.average_of_vehicle = average_of_vehicle\n",
    "\n",
    "car = Vehicle(\"Car\", 200, 30)\n",
    "motorcycle = Vehicle(\"Motorcycle\", 180, 40)\n",
    "print(car.name_of_vehicle)\n",
    "print(motorcycle.max_speed)"
   ]
  },
  {
   "cell_type": "markdown",
   "id": "89999d8d-81f3-487c-81ce-44a6b9f5c50e",
   "metadata": {},
   "source": [
    "##### Q2. Create a child class car from the vehicle class created in Que 1, which will inherit the vehicle class. Create a method named seating_capacity which takes capacity as an argument and returns the name of the vehicle and its seating capacity."
   ]
  },
  {
   "cell_type": "code",
   "execution_count": 2,
   "id": "6207d089-0ea1-4ad1-a779-138c76c427bf",
   "metadata": {
    "tags": []
   },
   "outputs": [
    {
     "name": "stdout",
     "output_type": "stream",
     "text": [
      "Sedan has a seating capacity of 5 people.\n"
     ]
    }
   ],
   "source": [
    "class Car(Vehicle):\n",
    "    def __init__(self, name_of_vehicle, max_speed, average_of_vehicle):\n",
    "        super().__init__(name_of_vehicle, max_speed, average_of_vehicle)\n",
    "    def seating_capacity(self, capacity):\n",
    "        return f\"{self.name_of_vehicle} has a seating capacity of {capacity} people.\"\n",
    "\n",
    "car = Car(\"Sedan\", 180, 25)\n",
    "print(car.seating_capacity(5))"
   ]
  },
  {
   "cell_type": "markdown",
   "id": "826cdaac-b936-46cd-a2a0-26df0b39c8d4",
   "metadata": {},
   "source": [
    "##### Q3. What is multiple inheritance? Write a python code to demonstrate multiple inheritance."
   ]
  },
  {
   "cell_type": "markdown",
   "id": "f4bcfe4c-f1a6-40f7-bd80-9df4f337abd3",
   "metadata": {},
   "source": [
    "Multiple inheritance is a feature in object-oriented programming where a class can inherit attributes and methods from more than one parent class. It allows a subclass to inherit from multiple superclasses, which can lead to the inheritance hierarchy forming a diamond shape."
   ]
  },
  {
   "cell_type": "code",
   "execution_count": 3,
   "id": "5d464aaf-903f-462f-b7d7-3afca6662a4a",
   "metadata": {
    "tags": []
   },
   "outputs": [
    {
     "name": "stdout",
     "output_type": "stream",
     "text": [
      "Method from Parent1\n",
      "Method from Parent2\n",
      "Method from Child\n"
     ]
    }
   ],
   "source": [
    "# Example\n",
    "class Parent1:\n",
    "    def method1(self):\n",
    "        print(\"Method from Parent1\")\n",
    "\n",
    "class Parent2:\n",
    "    def method2(self):\n",
    "        print(\"Method from Parent2\")\n",
    "\n",
    "class Child(Parent1, Parent2): # Child class inheriting from both Parent1 and Parent2\n",
    "    def method3(self):\n",
    "        print(\"Method from Child\")\n",
    "\n",
    "child = Child()\n",
    "child.method1()\n",
    "child.method2()\n",
    "child.method3()"
   ]
  },
  {
   "cell_type": "markdown",
   "id": "96fbdc31-a404-4a40-8e73-fef4f3986a11",
   "metadata": {},
   "source": [
    "##### Q4. What are getter and setter in python? Create a class and create a getter and a setter method in this class."
   ]
  },
  {
   "cell_type": "markdown",
   "id": "c1e5a4e2-f2e4-4f72-8c0b-978f914f0993",
   "metadata": {},
   "source": [
    "In Python, getters and setters are methods used to access and modify the private attributes (variables) of a class. They provide controlled access to the attributes and allow us to implement encapsulation. Getters are used to retrieve the value of an attribute, while setters are used to set or modify the value of an attribute."
   ]
  },
  {
   "cell_type": "code",
   "execution_count": 4,
   "id": "28a9b475-6ca0-4a5b-9f84-8bd5d2e58e1b",
   "metadata": {
    "tags": []
   },
   "outputs": [
    {
     "name": "stdout",
     "output_type": "stream",
     "text": [
      "Name: Alice\n",
      "Age: 20\n",
      "Updated Name: Bob\n",
      "Updated Age: 22\n"
     ]
    }
   ],
   "source": [
    "class Student:\n",
    "    def __init__(self, name, age):\n",
    "        self.__name = name\n",
    "        self.__age = age\n",
    "\n",
    "    def get_name(self): # Getter method for name\n",
    "        return self.__name\n",
    "\n",
    "    def set_name(self, name): # Setter method for name\n",
    "        self.__name = name\n",
    "\n",
    "    def get_age(self): # Getter method for age\n",
    "        return self.__age\n",
    "\n",
    "    def set_age(self, age): # Setter method for age\n",
    "        if age >= 0:\n",
    "            self.__age = age\n",
    "        else:\n",
    "            print(\"Invalid age\")\n",
    "\n",
    "student = Student(\"Alice\", 20)\n",
    "\n",
    "print(\"Name:\", student.get_name()) # Using the getter methods\n",
    "print(\"Age:\", student.get_age()) # Using the getter methods\n",
    "\n",
    "student.set_name(\"Bob\") # Using the setter methods\n",
    "student.set_age(22) # Using the setter methods\n",
    "\n",
    "print(\"Updated Name:\", student.get_name())\n",
    "print(\"Updated Age:\", student.get_age())"
   ]
  },
  {
   "cell_type": "markdown",
   "id": "dbb94a8e-df47-4613-a66b-905c0fa0a85e",
   "metadata": {},
   "source": [
    "##### Q5.What is method overriding in python? Write a python code to demonstrate method overriding."
   ]
  },
  {
   "cell_type": "markdown",
   "id": "9ea965e3-a56f-4fa1-9868-46fa9f1d53dc",
   "metadata": {},
   "source": [
    "Method overriding refers to the ability of a subclass to provide a specific implementation for a method that is already defined in its superclass. When a subclass overrides a method of its superclass, the subclass's version of the method is executed instead of the superclass's version."
   ]
  },
  {
   "cell_type": "code",
   "execution_count": 5,
   "id": "e42af40e-7100-4fdd-bb8d-a3174ac59910",
   "metadata": {
    "tags": []
   },
   "outputs": [
    {
     "name": "stdout",
     "output_type": "stream",
     "text": [
      "Dog barks\n",
      "Cat meows\n"
     ]
    }
   ],
   "source": [
    "class Animal:\n",
    "    def speak(self):\n",
    "        print(\"Animal speaks\")\n",
    "\n",
    "class Dog(Animal):\n",
    "    def speak(self):\n",
    "        print(\"Dog barks\")\n",
    "\n",
    "class Cat(Animal):\n",
    "    def speak(self):\n",
    "        print(\"Cat meows\")\n",
    "\n",
    "dog = Dog()\n",
    "cat = Cat()\n",
    "dog.speak()\n",
    "cat.speak()"
   ]
  }
 ],
 "metadata": {
  "kernelspec": {
   "display_name": "Python 3 (ipykernel)",
   "language": "python",
   "name": "python3"
  },
  "language_info": {
   "codemirror_mode": {
    "name": "ipython",
    "version": 3
   },
   "file_extension": ".py",
   "mimetype": "text/x-python",
   "name": "python",
   "nbconvert_exporter": "python",
   "pygments_lexer": "ipython3",
   "version": "3.10.9"
  }
 },
 "nbformat": 4,
 "nbformat_minor": 5
}
