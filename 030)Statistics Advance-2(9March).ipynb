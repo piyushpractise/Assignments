{
 "cells": [
  {
   "cell_type": "markdown",
   "id": "265de02e-80d4-46a2-b4ca-635f179902c5",
   "metadata": {
    "tags": []
   },
   "source": [
    "# Statistics Advance-2"
   ]
  },
  {
   "cell_type": "markdown",
   "id": "b01ebca3-135b-46dd-ad6c-2147d7a309e8",
   "metadata": {},
   "source": [
    "#### Q1: What are the Probability Mass Function (PMF) and Probability Density Function (PDF)? Explain with an example."
   ]
  },
  {
   "cell_type": "markdown",
   "id": "43502194-d7fa-47be-8690-7d1110c768c1",
   "metadata": {},
   "source": [
    "* PMF (Probability Mass Function): It's used for discrete random variables and gives the probability of each possible outcome. For example, when rolling a fair six-sided die, the PMF would assign a probability of 1/6 to each face (1, 2, 3, 4, 5, 6).\n",
    "* PDF (Probability Density Function): It's used for continuous random variables and represents the probability density at each point. For instance, the PDF of a normal distribution gives the relative likelihood of different values. However, the probability at a specific point is not directly calculated; rather, it's the area under the curve within a certain interval that indicates probability."
   ]
  },
  {
   "cell_type": "markdown",
   "id": "db70ffe9-f12f-4f47-b076-ffc8a1fa09b8",
   "metadata": {},
   "source": [
    "#### Q2: What is Cumulative Density Function (CDF)? Explain with an example. Why CDF is used?"
   ]
  },
  {
   "cell_type": "markdown",
   "id": "25b64812-2f4f-469b-a033-f5de332e1192",
   "metadata": {},
   "source": [
    "The Cumulative Density Function (CDF) gives the cumulative probability of a random variable taking a value less than or equal to a given value. It's used to determine probabilities over a range of values. For example, in a normal distribution, the CDF at a specific value gives us the probability of getting a value less than or equal to that value."
   ]
  },
  {
   "cell_type": "markdown",
   "id": "cecce5f2-1bf5-4fbb-8283-6b7af233640d",
   "metadata": {},
   "source": [
    "#### Q3: What are some examples of situations where the normal distribution might be used as a model? Explain how the parameters of the normal distribution relate to the shape of the distribution."
   ]
  },
  {
   "cell_type": "markdown",
   "id": "571feeb2-b5fb-4b75-8e31-b6b8b33a4b88",
   "metadata": {},
   "source": [
    "* Examples: Heights of people, errors in measurements, exam scores.\n",
    "* Parameters: Mean (μ) determines the center, while the standard deviation (σ) affects the spread. Smaller σ leads to a narrower, taller curve; larger σ leads to a wider, shorter curve."
   ]
  },
  {
   "cell_type": "markdown",
   "id": "cb216de7-4141-4cac-a1df-d8bde8774a42",
   "metadata": {},
   "source": [
    "#### Q4: Explain the importance of Normal Distribution. Give a few real-life examples of Normal Distribution."
   ]
  },
  {
   "cell_type": "markdown",
   "id": "a15d1a2e-de0d-4c7a-869e-45d51c269608",
   "metadata": {},
   "source": [
    "The normal distribution is crucial in statistics and probability theory due to the Central Limit Theorem. It often emerges naturally in real-world situations where multiple small, independent influences add up. Examples include IQ scores, body measurements, exam scores."
   ]
  },
  {
   "cell_type": "markdown",
   "id": "3b382d74-680e-40d8-85c7-8fb75cc30428",
   "metadata": {},
   "source": [
    "#### Q5: What is Bernaulli Distribution? Give an Example. What is the difference between Bernoulli Distribution and Binomial Distribution?"
   ]
  },
  {
   "cell_type": "markdown",
   "id": "96c31b7c-1e56-4f44-918a-127c1c6da18c",
   "metadata": {},
   "source": [
    "* Bernoulli Distribution: It's used for a single binary outcome (e.g., success or failure). Example: Flipping a coin (heads or tails).\n",
    "* Difference: Bernoulli is for a single trial, while Binomial is for a fixed number of independent trials with the same probability of success."
   ]
  },
  {
   "cell_type": "markdown",
   "id": "92ca9927-37cf-48d9-8a37-b370c1b80720",
   "metadata": {},
   "source": [
    "#### Q6. Consider a dataset with a mean of 50 and a standard deviation of 10. If we assume that the dataset is normally distributed, what is the probability that a randomly selected observation will be greater than 60? Use the appropriate formula and show your calculations."
   ]
  },
  {
   "cell_type": "markdown",
   "id": "d608932e-2beb-484f-a9e2-d3debb817057",
   "metadata": {},
   "source": [
    "* Formula: Z = (X - μ) / σ\n",
    "* Z = (60 - 50) / 10 = 1\n",
    "* Look up the z-score probability table or use a calculator. For Z = 1, P(Z > 1) ≈ 0.1587."
   ]
  },
  {
   "cell_type": "markdown",
   "id": "05511dae-49a3-4067-a61b-93e4169efc4a",
   "metadata": {},
   "source": [
    "#### Q7: Explain uniform Distribution with an example."
   ]
  },
  {
   "cell_type": "markdown",
   "id": "06473c91-4c0c-47d9-b70e-28f4d6e61ebd",
   "metadata": {},
   "source": [
    "Uniform Distribution has constant probability over a range. Rolling a fair six-sided die is an example. Each face has an equal probability of 1/6."
   ]
  },
  {
   "cell_type": "markdown",
   "id": "4adaf455-6ffb-4e74-a072-d90665647c07",
   "metadata": {},
   "source": [
    "#### Q8: What is the z score? State the importance of the z score."
   ]
  },
  {
   "cell_type": "markdown",
   "id": "c779cb76-d32e-40f6-aa08-57e7601528a4",
   "metadata": {},
   "source": [
    "The z-score measures how many standard deviations a data point is away from the mean. It's important for standardizing data and comparing different datasets with different units."
   ]
  },
  {
   "cell_type": "markdown",
   "id": "32be2d54-40ad-4524-a1c8-9004822bc219",
   "metadata": {},
   "source": [
    "#### Q9: What is Central Limit Theorem? State the significance of the Central Limit Theorem."
   ]
  },
  {
   "cell_type": "markdown",
   "id": "2295110b-38ae-4abc-baac-cac7fc998b8f",
   "metadata": {},
   "source": [
    "The Central Limit Theorem states that the distribution of the sample means approaches a normal distribution as the sample size increases, regardless of the original distribution. This is crucial for making inferences about a population using sample data."
   ]
  },
  {
   "cell_type": "markdown",
   "id": "8a4356d4-42b0-407a-8a9f-e1da360e349f",
   "metadata": {},
   "source": [
    "#### Q10: State the assumptions of the Central Limit Theorem."
   ]
  },
  {
   "cell_type": "markdown",
   "id": "173ef91d-8aa7-42b3-98b8-cf8953f1b95b",
   "metadata": {},
   "source": [
    "The Central Limit Theorem assumes:\n",
    "1. Random sampling.\n",
    "2. Independence of samples.\n",
    "3. Sample size is sufficiently large (typically n ≥ 30)."
   ]
  }
 ],
 "metadata": {
  "kernelspec": {
   "display_name": "Python 3 (ipykernel)",
   "language": "python",
   "name": "python3"
  },
  "language_info": {
   "codemirror_mode": {
    "name": "ipython",
    "version": 3
   },
   "file_extension": ".py",
   "mimetype": "text/x-python",
   "name": "python",
   "nbconvert_exporter": "python",
   "pygments_lexer": "ipython3",
   "version": "3.10.9"
  }
 },
 "nbformat": 4,
 "nbformat_minor": 5
}
