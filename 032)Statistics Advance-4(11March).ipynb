{
 "cells": [
  {
   "cell_type": "markdown",
   "id": "e9c285ed-574b-4a22-ab0f-db8eb251c376",
   "metadata": {},
   "source": [
    "# Statistics Advance-4"
   ]
  },
  {
   "cell_type": "markdown",
   "id": "e4d446a9-5c4d-4150-98db-93bd9147c5a9",
   "metadata": {},
   "source": [
    "#### Q1: What is the difference between a t-test and a z-test? Provide an example scenario where you would use each type of test."
   ]
  },
  {
   "cell_type": "markdown",
   "id": "0fb5eb4a-9ee7-4550-b8e4-26e1b6e90e73",
   "metadata": {},
   "source": [
    "* A t-test is used when the population standard deviation is unknown, and a z-test is used when the population standard deviation is known or the sample size is large.\n",
    "* Example scenario for t-test: Testing if the mean score of a sample of students is significantly different from a known population mean.\n",
    "* Example scenario for z-test: Testing if the mean height of a sample of adults is significantly different from a known population mean height."
   ]
  },
  {
   "cell_type": "markdown",
   "id": "48096fdc-f4e3-4bdb-af65-dd06cd80bddf",
   "metadata": {},
   "source": [
    "#### Q2: Differentiate between one-tailed and two-tailed tests."
   ]
  },
  {
   "cell_type": "markdown",
   "id": "0903866e-1f17-490d-aac0-ea9aabf82179",
   "metadata": {},
   "source": [
    "* One-tailed tests are used when the alternative hypothesis specifies a direction for the effect (e.g., greater than or less than).\n",
    "* Two-tailed tests are used when the alternative hypothesis does not specify a direction, but we are interested in whether the effect is significantly different from the null hypothesis in any direction."
   ]
  },
  {
   "cell_type": "markdown",
   "id": "8c8ec3a9-11c7-48df-bf66-333026f1509f",
   "metadata": {},
   "source": [
    "#### Q3: Explain the concept of Type 1 and Type 2 errors in hypothesis testing. Provide an example scenario for each type of error."
   ]
  },
  {
   "cell_type": "markdown",
   "id": "02e39ea6-24d3-4d7e-8251-db254a53cd3a",
   "metadata": {},
   "source": [
    "* Type 1 error (False Positive): Rejecting a true null hypothesis. Example: Convicting an innocent person.\n",
    "* Type 2 error (False Negative): Failing to reject a false null hypothesis. Example: Not diagnosing a disease when the person actually has it."
   ]
  },
  {
   "cell_type": "markdown",
   "id": "e177ccc3-4d2e-4f9b-98ee-2ddd4f8f09df",
   "metadata": {},
   "source": [
    "#### Q4: Explain Bayes's theorem with an example."
   ]
  },
  {
   "cell_type": "markdown",
   "id": "c9814952-a374-4ff4-8ebf-fc28980134d3",
   "metadata": {},
   "source": [
    "* Bayes's theorem calculates the probability of an event happening based on prior knowledge of the conditions that might be related to the event.\n",
    "* Example: Given a diagnostic test for a disease with known sensitivity and specificity, Bayes's theorem can be used to calculate the probability of having the disease given a positive test result."
   ]
  },
  {
   "cell_type": "markdown",
   "id": "3d34052f-08b6-4894-a641-b7fad818729f",
   "metadata": {},
   "source": [
    "#### Q5: What is a confidence interval? How to calculate the confidence interval, explain with an example."
   ]
  },
  {
   "cell_type": "markdown",
   "id": "d6489895-5599-4454-8379-36f29814e05f",
   "metadata": {},
   "source": [
    "* A confidence interval is a range of values that is likely to contain the true population parameter, with a specified level of confidence.\n",
    "* Calculation: Confidence interval = Sample mean ± Margin of error\n",
    "* Example: A 95% confidence interval for a sample mean of 50 with a standard deviation of 5 is 50 ± (1.96 * 5 / √sample size), which might be [48.04, 51.96]."
   ]
  },
  {
   "cell_type": "markdown",
   "id": "f54cb5d0-8c47-4a30-8f89-ac29bdd051d6",
   "metadata": {},
   "source": [
    "#### Q6. Use Bayes' Theorem to calculate the probability of an event occurring given prior knowledge of the event's probability and new evidence. Provide a sample problem and solution. "
   ]
  },
  {
   "cell_type": "markdown",
   "id": "8690ef28-e0a9-4128-aced-2f2c25f26813",
   "metadata": {},
   "source": [
    "* Problem: Given that 10% of emails are spam, and a spam filter correctly identifies spam 95% of the time, what's the probability that an email flagged as spam is actually spam?\n",
    "* Solution: P(Spam|Flagged) = (P(Flagged|Spam) * P(Spam)) / P(Flagged) = (0.95 * 0.1) / (P(Flagged|Spam) * P(Spam) + P(Flagged|Not Spam) * P(Not Spam))"
   ]
  },
  {
   "cell_type": "markdown",
   "id": "a59368f2-5a8e-4b61-8444-140c75f5f2ee",
   "metadata": {},
   "source": [
    "#### Q7. Calculate the 95% confidence interval for a sample of data with a mean of 50 and a standard deviation of 5. Interpret the results."
   ]
  },
  {
   "cell_type": "markdown",
   "id": "3ecbf0fe-2550-4026-8cae-93d7fb7a0e1e",
   "metadata": {},
   "source": [
    "* Calculation: Confidence interval = 50 ± (1.96 * 5 / √sample size)\n",
    "* Result: The population mean is estimated to be between approximately 47.04 and 52.96 with 95% confidence."
   ]
  },
  {
   "cell_type": "markdown",
   "id": "27ea8bdd-33af-4752-b751-2bffd403b059",
   "metadata": {},
   "source": [
    "#### Q8. What is the margin of error in a confidence interval? How does sample size affect the margin of error Provide an example of a scenario where a larger sample size would result in a smaller margin of error."
   ]
  },
  {
   "cell_type": "markdown",
   "id": "0f988a0f-6f55-4e15-8098-3a84cb7985fb",
   "metadata": {},
   "source": [
    "* The margin of error is the maximum amount the sample estimate might be off from the true population parameter.\n",
    "* Larger sample size leads to a smaller margin of error; as sample size increases, the estimate becomes more accurate.\n",
    "* Example: Estimating a population proportion, a larger sample size would lead to a smaller margin of error, indicating more confidence in the estimate."
   ]
  },
  {
   "cell_type": "markdown",
   "id": "ec5fe84d-ba1d-46ef-b586-3e4b177f7298",
   "metadata": {},
   "source": [
    "#### Q9. Calculate the z-score for a data point with a value of 75, a population mean of 70, and a population standard deviation of 5. Interpret the results."
   ]
  },
  {
   "cell_type": "markdown",
   "id": "89ca7136-428d-4308-a272-baf284d7a641",
   "metadata": {},
   "source": [
    "* Z-score = (data point - population mean) / population standard deviation\n",
    "* Z-score = (75 - 70) / 5 = 1\n",
    "* The data point is 1 standard deviation above the population mean."
   ]
  },
  {
   "cell_type": "markdown",
   "id": "d9255205-4dcd-44c4-93aa-d046988a35b8",
   "metadata": {},
   "source": [
    "#### Q10. In a study of the effectiveness of a new weight loss drug, a sample of 50 participants lost an average of 6 pounds with a standard deviation of 2.5 pounds. Conduct a hypothesis test to determine if the drug is significantly effective at a 95% confidence level using a t-test."
   ]
  },
  {
   "cell_type": "markdown",
   "id": "dcc5a9fb-e750-4b0d-becd-c5c23a80d7c2",
   "metadata": {},
   "source": [
    "* Null Hypothesis (H0): The drug is not significantly effective (μ = 0).\n",
    "* Alternative Hypothesis (Ha): The drug is significantly effective (μ ≠ 0).\n",
    "* Calculate t-statistic: t = (sample mean - hypothesized mean) / (sample standard deviation / √sample size)\n",
    "* Degrees of Freedom: df = sample size - 1 = 49\n",
    "* Compare t-statistic with critical value from t-distribution for 95% confidence level.\n",
    "* If t-statistic is outside the critical value range, reject the null hypothesis."
   ]
  },
  {
   "cell_type": "markdown",
   "id": "1265363b-a44a-4a6f-ae9a-e846407e9743",
   "metadata": {},
   "source": [
    "#### Q11. In a survey of 500 people, 65% reported being satisfied with their current job. Calculate the 95% confidence interval for the true proportion of people who are satisfied with their job."
   ]
  },
  {
   "cell_type": "markdown",
   "id": "fe805eb7-0b5f-487a-8d86-6a4f7506b945",
   "metadata": {},
   "source": [
    "* Calculation: Confidence interval = Sample proportion ± Margin of error\n",
    "* Margin of error = 1.96 * √(p * (1 - p) / sample size)\n",
    "* Result: The true proportion of people satisfied with their job is estimated to be between approximately 61.2% and * 68.8% with 95% confidence."
   ]
  },
  {
   "cell_type": "markdown",
   "id": "4dc9ab18-35eb-4cb8-9530-98953b6ba81e",
   "metadata": {},
   "source": [
    "#### Q12. A researcher is testing the effectiveness of two different teaching methods on student performance. Sample A has a mean score of 85 with a standard deviation of 6, while sample B has a mean score of 82 with a standard deviation of 5. Conduct a hypothesis test to determine if the two teaching methods have a significant difference in student performance using a t-test with a significance level of 0.01."
   ]
  },
  {
   "cell_type": "markdown",
   "id": "59bd43f5-66f7-4292-8d2a-31f05368e51b",
   "metadata": {},
   "source": [
    "* Null Hypothesis (H0): The teaching methods do not have a significant difference (μA - μB = 0).\n",
    "* Alternative Hypothesis (Ha): The teaching methods have a significant difference (μA - μB ≠ 0).\n",
    "* Calculate pooled standard deviation: s_pooled = √((sA^2 * (nA - 1) + sB^2 * (nB - 1)) / (nA + nB - 2))\n",
    "* Calculate t-statistic: t = (sample mean difference - hypothesized mean difference) / (s_pooled * √(1/nA + 1/nB))\n",
    "* Degrees of Freedom: df = nA + nB - 2\n",
    "* Compare t-statistic with critical value from t-distribution for 0.01 significance level.\n",
    "* If t-statistic is outside the critical value range, reject the null hypothesis."
   ]
  },
  {
   "cell_type": "markdown",
   "id": "a7a95e50-7f79-4850-a202-43df13fee8e1",
   "metadata": {},
   "source": [
    "#### Q13. A population has a mean of 60 and a standard deviation of 8. A sample of 50 observations has a mean of 65. Calculate the 90% confidence interval for the true population mean."
   ]
  },
  {
   "cell_type": "markdown",
   "id": "6c1312e2-6181-4d1e-a71d-f21b1b321a41",
   "metadata": {},
   "source": [
    "* Calculation: Confidence interval = Sample mean ± (z * (population standard deviation / √sample size))\n",
    "* z for 90% confidence = 1.645 (from standard normal distribution)\n",
    "* Result: The true population mean is estimated to be between approximately 63.47 and 66.53 with 90% confidence."
   ]
  },
  {
   "cell_type": "markdown",
   "id": "057e207a-3309-4ef9-b7da-95dbc89902ad",
   "metadata": {},
   "source": [
    "#### Q14. In a study of the effects of caffeine on reaction time, a sample of 30 participants had an average reaction time of 0.25 seconds with a standard deviation of 0.05 seconds. Conduct a hypothesis test to determine if the caffeine has a significant effect on reaction time at a 90% confidence level using a t-test."
   ]
  },
  {
   "cell_type": "markdown",
   "id": "fe691489-a179-41d5-b130-821615adfd7b",
   "metadata": {},
   "source": [
    "* Null Hypothesis (H0): Caffeine has no significant effect on reaction time (μ = 0).\n",
    "* Alternative Hypothesis (Ha): Caffeine has a significant effect on reaction time (μ ≠ 0).\n",
    "* Calculate t-statistic: t = (sample mean - hypothesized mean) / (sample standard deviation / √sample size)\n",
    "* Degrees of Freedom: df = sample size - 1 = 29\n",
    "* Compare t-statistic with critical value from t-distribution for 90% confidence level.\n",
    "* If t-statistic is outside the critical value range, reject the null hypothesis."
   ]
  }
 ],
 "metadata": {
  "kernelspec": {
   "display_name": "Python 3 (ipykernel)",
   "language": "python",
   "name": "python3"
  },
  "language_info": {
   "codemirror_mode": {
    "name": "ipython",
    "version": 3
   },
   "file_extension": ".py",
   "mimetype": "text/x-python",
   "name": "python",
   "nbconvert_exporter": "python",
   "pygments_lexer": "ipython3",
   "version": "3.10.9"
  }
 },
 "nbformat": 4,
 "nbformat_minor": 5
}
