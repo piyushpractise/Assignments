{
 "cells": [
  {
   "cell_type": "markdown",
   "id": "75c06758-b32a-4f6c-a21f-b531898e4b89",
   "metadata": {},
   "source": [
    "# Feature Engineering-6"
   ]
  },
  {
   "cell_type": "markdown",
   "id": "413040d3-0961-43b8-b502-0e2063903861",
   "metadata": {},
   "source": [
    "#### Q1. Pearson correlation coefficient is a measure of the linear relationship between two variables. Suppose you have collected data on the amount of time students spend studying for an exam and their final exam scores. Calculate the Pearson correlation coefficient between these two variables and interpret the result."
   ]
  },
  {
   "cell_type": "code",
   "execution_count": 1,
   "id": "dc773dd6-d384-4d4e-baed-a06d71309ba3",
   "metadata": {
    "tags": []
   },
   "outputs": [
    {
     "name": "stdout",
     "output_type": "stream",
     "text": [
      "Pearson Correlation Coefficient: 0.86\n",
      "Interpretation: There is a Positive Correlation between study time and exam scores.\n"
     ]
    }
   ],
   "source": [
    "# Example\n",
    "import numpy as ny\n",
    "from scipy.stats import pearsonr as p\n",
    "study_time = ny.array([10, 8, 6, 9, 7, 5, 4, 7, 9, 8])\n",
    "exam_scores = ny.array([85, 78, 60, 90, 75, 70, 65, 80, 88, 82])\n",
    "pcorr, _ = p(study_time,exam_scores)\n",
    "if pcorr > 0:\n",
    "    result = \"Positive Correlation\"\n",
    "elif pcorr < 0:\n",
    "    result = \"Negative Correlation\"\n",
    "else:\n",
    "    result = \"No Correlation\"\n",
    "print(f\"Pearson Correlation Coefficient: {pcorr:.2f}\")\n",
    "print(f\"Interpretation: There is a {result} between study time and exam scores.\")"
   ]
  },
  {
   "cell_type": "markdown",
   "id": "bfa450ff-7d68-4509-ae94-0032307bb5f8",
   "metadata": {},
   "source": [
    "#### Q2. Spearman's rank correlation is a measure of the monotonic relationship between two variables. Suppose you have collected data on the amount of sleep individuals get each night and their overall job satisfaction level on a scale of 1 to 10. Calculate the Spearman's rank correlation between these two variables and interpret the result."
   ]
  },
  {
   "cell_type": "code",
   "execution_count": 2,
   "id": "a68e2111-6f0f-40af-baee-53b1cfa28298",
   "metadata": {
    "tags": []
   },
   "outputs": [
    {
     "name": "stdout",
     "output_type": "stream",
     "text": [
      "Spearman's Rank Correlation Coefficient: 0.89\n",
      "Interpretation: There is a Positive Correlation between sleep hours and job satisfaction\n"
     ]
    }
   ],
   "source": [
    "import numpy as ny\n",
    "from scipy.stats import spearmanr as s\n",
    "sleep_hours = ny.array([7, 6, 8, 5, 6, 7, 8, 6, 5, 7])\n",
    "job_satisfaction = ny.array([8, 7, 9, 6, 7, 6, 5, 7, 6, 8])\n",
    "scorr, _ = s(study_time,exam_scores)\n",
    "if scorr > 0:\n",
    "    result = \"Positive Correlation\"\n",
    "elif scorr < 0:\n",
    "    result = \"Negative Correlation\"\n",
    "else:\n",
    "    result = \"No Correlation\"\n",
    "print(f\"Spearman's Rank Correlation Coefficient: {scorr:.2f}\")\n",
    "print(f\"Interpretation: There is a {result} between sleep hours and job satisfaction\")"
   ]
  },
  {
   "cell_type": "markdown",
   "id": "4a09fa8a-c5d6-4802-8d89-7553b4ba4bbf",
   "metadata": {},
   "source": [
    "#### Q3. Suppose you are conducting a study to examine the relationship between the number of hours of exercise per week and body mass index (BMI) in a sample of adults. You collected data on both variables for 50 participants. Calculate the Pearson correlation coefficient and the Spearman's rank correlation between these two variables and compare the results."
   ]
  },
  {
   "cell_type": "code",
   "execution_count": 3,
   "id": "fb6111b5-7caf-4e00-8f81-31a929951e61",
   "metadata": {
    "tags": []
   },
   "outputs": [
    {
     "name": "stdout",
     "output_type": "stream",
     "text": [
      "Pearson Correlation Coefficient: -0.52\n",
      "Spearman's Rank Correlation Coefficient: -0.51\n",
      "Interpretation: Pearson correlation has a Stronger Linear Relation compared to Spearman's rank correlation.\n"
     ]
    }
   ],
   "source": [
    "import numpy as ny\n",
    "from scipy.stats import pearsonr, spearmanr\n",
    "ex_hrs = ny.array([3, 5, 2, 4, 6, 1, 7, 2, 3, 4, 6, 5, 2, 4, 5, 3, 6, 1, 4, 2,\n",
    "                           5, 3, 2, 6, 4, 3, 7, 1, 2, 4, 5, 6, 3, 2, 4, 5, 1, 6, 2, 3,\n",
    "                           4, 5, 2, 3, 6, 1, 4, 7, 5, 2])  \n",
    "bmi = ny.array([23, 25, 30, 28, 22, 26, 21, 29, 24, 27, 20, 25, 31, 28, 26, 29, 23,\n",
    "                30, 27, 29, 25, 28, 30, 22, 26, 29, 21, 31, 28, 26, 25, 23, 30, 29,\n",
    "                28, 24, 27, 30, 25, 29, 26, 23, 22, 30, 27, 28, 25, 29, 26, 21])\n",
    "pcorr, _ = pearsonr(ex_hrs,bmi)\n",
    "scorr, _ = spearmanr(ex_hrs,bmi)\n",
    "if abs(pcorr) > abs(scorr):\n",
    "    result = \"Stronger Linear Relation\"\n",
    "elif abs(pcorr) < abs(scorr):\n",
    "    result = \"Stronger Monotonic Relation\"\n",
    "else:\n",
    "    result = \"Similar Relationship\"\n",
    "print(f\"Pearson Correlation Coefficient: {pcorr:.2f}\")\n",
    "print(f\"Spearman's Rank Correlation Coefficient: {scorr:.2f}\")\n",
    "print(f\"Interpretation: Pearson correlation has a {result} compared to Spearman's rank correlation.\")"
   ]
  },
  {
   "cell_type": "markdown",
   "id": "f2dbeae2-0a84-464e-ae5b-8c4e43367d60",
   "metadata": {},
   "source": [
    "#### Q4. A researcher is interested in examining the relationship between the number of hours individuals spend watching television per day and their level of physical activity. The researcher collected data on both variables from a sample of 50 participants. Calculate the Pearson correlation coefficient between these two variables."
   ]
  },
  {
   "cell_type": "code",
   "execution_count": 4,
   "id": "b13d497b-dfc9-4754-b15e-a697f03a280a",
   "metadata": {
    "tags": []
   },
   "outputs": [
    {
     "name": "stdout",
     "output_type": "stream",
     "text": [
      "Pearson Correlation: -0.22\n"
     ]
    }
   ],
   "source": [
    "import numpy as ny\n",
    "from scipy.stats import pearsonr as p\n",
    "tv_hrs = ny.array([2, 3, 4, 2, 5, 1, 3, 2, 4, 3, 1, 4, 6, 2, 3, 5, 4, 1, 3, 2,\n",
    "                     5, 2, 4, 3, 1, 2, 5, 3, 4, 2, 1, 5, 3, 2, 4, 6, 2, 1, 3, 5,\n",
    "                     4, 2, 3, 1, 4, 5, 2, 3, 1, 6])\n",
    "pa = ny.array([3, 4, 2, 5, 1, 3, 2, 4, 3, 1, 4, 2, 5, 3, 4, 2, 1,\n",
    "                             5, 3, 4, 2, 1, 3, 2, 4, 6, 3, 2, 4, 5, 1, 3, 2, 4,\n",
    "                             3, 1, 5, 4, 2, 3, 1, 6, 4, 2, 3, 5, 1, 4, 2, 3])\n",
    "pcorr, _ = p(tv_hrs, pa)\n",
    "print(f\"Pearson Correlation: {pcorr:.2f}\")"
   ]
  },
  {
   "cell_type": "markdown",
   "id": "c5ef3998-9468-46f0-82b7-35f27897c89f",
   "metadata": {},
   "source": [
    "#### Q5. A survey was conducted to examine the relationship between age and preference for a particular brand of soft drink. The survey results are shown below:\n",
    "Age(Years)----Soft drink Preference\n",
    "\n",
    "* 25 ---- Coke\n",
    "* 42 ---- Pepsi\n",
    "* 37 ---- Mountain dew\n",
    "* 19 ---- Coke\n",
    "* 31 ---- Pepsi\n",
    "* 28 ---- Coke"
   ]
  },
  {
   "cell_type": "code",
   "execution_count": 5,
   "id": "ec9314ba-9616-4b13-a349-42b1f8b3166a",
   "metadata": {
    "tags": []
   },
   "outputs": [
    {
     "name": "stdout",
     "output_type": "stream",
     "text": [
      "Spearman's Rank Correlation Coefficient: 0.83\n",
      "P-value (Spearman): 0.04\n",
      "Pearson Correlation Coefficient: 0.77\n",
      "P-value (Pearson): 0.07\n"
     ]
    }
   ],
   "source": [
    "import pandas as pd\n",
    "from sklearn.preprocessing import LabelEncoder\n",
    "from scipy.stats import spearmanr, pearsonr\n",
    "df = pd.DataFrame({'Age': [25, 42, 37, 19, 31, 28],\n",
    "    'Soft Drink Preference': ['Coke', 'Pepsi', 'Mountain Dew', 'Coke', 'Pepsi', 'Coke']})\n",
    "le = LabelEncoder()\n",
    "df['Soft_Drink_Preference_Encoded'] = le.fit_transform(df['Soft Drink Preference'])\n",
    "df.head()\n",
    "pcorr, p_pval = pearsonr(df['Age'],df['Soft_Drink_Preference_Encoded'])\n",
    "scorr, s_pval = spearmanr(df['Age'],df['Soft_Drink_Preference_Encoded'])\n",
    "print(f\"Spearman's Rank Correlation Coefficient: {scorr:.2f}\")\n",
    "print(f\"P-value (Spearman): {s_pval:.2f}\")\n",
    "print(f\"Pearson Correlation Coefficient: {pcorr:.2f}\")\n",
    "print(f\"P-value (Pearson): {p_pval:.2f}\")"
   ]
  },
  {
   "cell_type": "markdown",
   "id": "078cb6b6-abe9-4ad9-956a-07754523a243",
   "metadata": {},
   "source": [
    "#### Q6. A company is interested in examining the relationship between the number of sales calls made per day and the number of sales made per week. The company collected data on both variables from a sample of 30 sales representatives. Calculate the Pearson correlation coefficient between these two variables."
   ]
  },
  {
   "cell_type": "code",
   "execution_count": 6,
   "id": "35af3990-c7a7-4224-9efc-65306c4d2c8a",
   "metadata": {
    "tags": []
   },
   "outputs": [
    {
     "name": "stdout",
     "output_type": "stream",
     "text": [
      "Pearson Correlation: 0.77\n"
     ]
    }
   ],
   "source": [
    "import numpy as ny\n",
    "from scipy.stats import pearsonr as p\n",
    "sd = ny.array([10, 8, 12, 9, 11, 7, 10, 9, 11, 8, 10, 12, 8, 9, 7, 11, 10, 9, 12, 8,\n",
    "                                11, 7, 10, 9, 12, 8, 9, 7, 11, 10]) \n",
    "sw = ny.array([70, 52, 82, 68, 75, 45, 68, 72, 78, 55, 68, 80, 50, 62, 45, 74, 68, 60,\n",
    "                           85, 48, 73, 44, 70, 60, 88, 50, 58, 42, 70, 64]) \n",
    "p_corr, _ = p(sd, sw)\n",
    "print(f\"Pearson Correlation: {pcorr:.2f}\")"
   ]
  }
 ],
 "metadata": {
  "kernelspec": {
   "display_name": "Python 3 (ipykernel)",
   "language": "python",
   "name": "python3"
  },
  "language_info": {
   "codemirror_mode": {
    "name": "ipython",
    "version": 3
   },
   "file_extension": ".py",
   "mimetype": "text/x-python",
   "name": "python",
   "nbconvert_exporter": "python",
   "pygments_lexer": "ipython3",
   "version": "3.10.9"
  }
 },
 "nbformat": 4,
 "nbformat_minor": 5
}
