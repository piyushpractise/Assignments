{
 "cells": [
  {
   "cell_type": "markdown",
   "id": "0c1d265d-e0a0-4ae8-a1ba-c1f027df7e34",
   "metadata": {},
   "source": [
    "# Statistics Basic-2"
   ]
  },
  {
   "cell_type": "markdown",
   "id": "5b0ff5eb-38c8-4d94-ac44-d1837204322d",
   "metadata": {},
   "source": [
    "#### Q1. What are the three measures of central tendency?"
   ]
  },
  {
   "cell_type": "markdown",
   "id": "2c919faa-458c-4235-9992-babf8edae823",
   "metadata": {},
   "source": [
    "The three measures of central tendency are:\n",
    "* Mean\n",
    "* Median\n",
    "* Mode"
   ]
  },
  {
   "cell_type": "markdown",
   "id": "94968100-e33f-4f1e-870f-d1bb7c0508b2",
   "metadata": {},
   "source": [
    "#### Q2. What is the difference between the mean, median, and mode? How are they used to measure the central tendency of a dataset?"
   ]
  },
  {
   "cell_type": "markdown",
   "id": "af0e9669-e446-44cf-8717-c16d61745c3c",
   "metadata": {},
   "source": [
    "* Mean: The mean is the average of all values in a dataset. It's calculated by summing up all values and dividing by the total number of values. It's sensitive to outliers.\n",
    "* Median: The median is the middle value in an ordered dataset. If there's an even number of values, it's the average of the two middle values. It's less affected by outliers.\n",
    "* Mode: The mode is the value that appears most frequently in a dataset. There can be no mode, one mode, or multiple modes. It's used for categorical and discrete data.\n",
    "\n",
    "These measures provide insight into the central or typical value of a dataset."
   ]
  },
  {
   "cell_type": "markdown",
   "id": "f43fe3a0-7c5e-4953-80e3-a7c617d93ef8",
   "metadata": {},
   "source": [
    "#### Q3. Measure the three measures of central tendency for the given height data:\n",
    "[178,177,176,177,178.2,178,175,179,180,175,178.9,176.2,177,172.5,178,176.5]"
   ]
  },
  {
   "cell_type": "markdown",
   "id": "772499c7-12c3-420c-81a2-9222045ee8b1",
   "metadata": {},
   "source": [
    "* Mean: 177.73125\n",
    "* Median: 177.5\n",
    "* Mode: 177 (appears most frequently)"
   ]
  },
  {
   "cell_type": "markdown",
   "id": "de8cee65-5aac-4d2b-9c99-650967270d98",
   "metadata": {},
   "source": [
    "#### Q4. Find the standard deviation for the given data:\n",
    "[178,177,176,177,178.2,178,175,179,180,175,178.9,176.2,177,172.5,178,176.5]"
   ]
  },
  {
   "cell_type": "markdown",
   "id": "135c361f-6db5-4ed1-a698-72b3da99108a",
   "metadata": {},
   "source": [
    "* Standard Deviation: Approximately 1.7197"
   ]
  },
  {
   "cell_type": "markdown",
   "id": "5efca958-5d8b-4c93-b4fe-a847ddbe3b41",
   "metadata": {},
   "source": [
    "#### Q5. How are measures of dispersion such as range, variance, and standard deviation used to describe the spread of a dataset? Provide an example."
   ]
  },
  {
   "cell_type": "markdown",
   "id": "e66af2c0-ddeb-4e96-864a-9f2d735fac75",
   "metadata": {},
   "source": [
    "* Range: The difference between the maximum and minimum values.\n",
    "* Variance: The average squared difference from the mean.\n",
    "* Standard Deviation: The square root of the variance.\n",
    "\n",
    "For example, if we have two datasets of exam scores, one with a small standard deviation (values close to the mean) and another with a larger standard deviation (values more spread out), the first dataset has less variation and the second has more variation."
   ]
  },
  {
   "cell_type": "markdown",
   "id": "1a3437c4-63d0-4249-8438-463e3cd8a7d1",
   "metadata": {},
   "source": [
    "#### Q6. What is a Venn diagram?"
   ]
  },
  {
   "cell_type": "markdown",
   "id": "318b02e4-8378-4775-8ae1-a677a76b29a7",
   "metadata": {},
   "source": [
    "A Venn diagram is a visual representation of the relationships between different sets. It uses overlapping circles to show the common elements between sets and the elements unique to each set."
   ]
  },
  {
   "cell_type": "markdown",
   "id": "50d24b7a-cdc4-4f81-a2a5-6723e3f22d16",
   "metadata": {},
   "source": [
    "#### Q7. For the two given sets A = (2,3,4,5,6,7) & B = (0,2,6,8,10). Find:\n",
    "1. A ∩ B\n",
    "2. A ⋃ B"
   ]
  },
  {
   "cell_type": "markdown",
   "id": "54915215-33a8-469f-bbd7-13744bbfcaef",
   "metadata": {},
   "source": [
    "1. A ∩ B (intersection) = {2, 6}\n",
    "2. A ∪ B (union) = {0, 2, 3, 4, 5, 6, 7, 8, 10}"
   ]
  },
  {
   "cell_type": "markdown",
   "id": "c2262f20-229e-46cf-979e-afd330c954e1",
   "metadata": {},
   "source": [
    "#### Q8. What do you understand about skewness in data?"
   ]
  },
  {
   "cell_type": "markdown",
   "id": "b4252ac6-23e7-410f-ae36-369807f04701",
   "metadata": {},
   "source": [
    "Skewness in data refers to the asymmetry of the data distribution. If the distribution is skewed, it means that the data is not evenly distributed around the mean. Skewness can be left-skewed (negatively skewed), where the tail extends more to the left, or right-skewed (positively skewed), where the tail extends more to the right."
   ]
  },
  {
   "cell_type": "markdown",
   "id": "240f973c-c88c-4eff-9e2d-2ff68d461eb8",
   "metadata": {},
   "source": [
    "#### Q9. If a data is right skewed then what will be the position of median with respect to mean?"
   ]
  },
  {
   "cell_type": "markdown",
   "id": "8ad829f0-5168-462a-bea8-78e99c3ae75a",
   "metadata": {},
   "source": [
    "In a right-skewed distribution, the tail extends more to the right, indicating the presence of outliers or larger values on the right side. In this case, the median will typically be smaller than the mean, because the larger values in the tail pull the mean to the right."
   ]
  },
  {
   "cell_type": "markdown",
   "id": "6a15e1bd-a5fa-4836-bc85-22f81695a056",
   "metadata": {},
   "source": [
    "#### Q10. Explain the difference between covariance and correlation. How are these measures used in statistical analysis?"
   ]
  },
  {
   "cell_type": "markdown",
   "id": "31b0050d-d6bb-4d6a-8ef2-8dbf12aee214",
   "metadata": {},
   "source": [
    "* Covariance: Covariance measures the degree to which two variables change together. Positive covariance indicates that the variables tend to increase together, while negative covariance indicates that one variable tends to decrease as the other increases.\n",
    "* Correlation: Correlation is a standardized measure of the strength and direction of the linear relationship between two variables. It ranges from -1 (perfect negative correlation) to 1 (perfect positive correlation), with 0 indicating no linear correlation.\n",
    "\n",
    "Both covariance and correlation help to understand the relationship between variables in statistical analysis."
   ]
  },
  {
   "cell_type": "markdown",
   "id": "0c28e9ff-b527-4789-b642-6375dfd89764",
   "metadata": {},
   "source": [
    "#### Q11. What is the formula for calculating the sample mean? Provide an example calculation for a dataset."
   ]
  },
  {
   "cell_type": "markdown",
   "id": "b73c69c5-7e96-446d-a5c3-289cb04b71a7",
   "metadata": {},
   "source": [
    "The formula for calculating the sample mean (x̄) is: \n",
    "* Sum of all values / Number of values.\n",
    "* Example: Calculate the mean of the dataset [12, 15, 18, 21, 24]\n",
    "* Mean = (12 + 15 + 18 + 21 + 24) / 5 = 18"
   ]
  },
  {
   "cell_type": "markdown",
   "id": "5d2c07d9-2d2d-4368-b153-c44aff89d1fb",
   "metadata": {},
   "source": [
    "#### Q12. For a normal distribution data what is the relationship between its measure of central tendency?"
   ]
  },
  {
   "cell_type": "markdown",
   "id": "be52f999-3cfa-4453-b19f-0a82119c9668",
   "metadata": {},
   "source": [
    "In a normal distribution, the mean, median, and mode are all equal and located at the center of the distribution. This creates a symmetrical bell-shaped curve."
   ]
  },
  {
   "cell_type": "markdown",
   "id": "5ca2f55e-4850-4293-8800-0a87d2b571db",
   "metadata": {},
   "source": [
    "#### Q13. How is covariance different from correlation?"
   ]
  },
  {
   "cell_type": "markdown",
   "id": "e9951339-d94f-4915-836d-36553bfe28d5",
   "metadata": {},
   "source": [
    "Covariance measures the extent to which two variables change together, without a standardized scale. Correlation, on the other hand, is a standardized measure that not only measures the direction and strength of the relationship but also scales it between -1 and 1, making it easier to interpret."
   ]
  },
  {
   "cell_type": "markdown",
   "id": "882c4828-aa32-401f-9881-a773d26ff4a1",
   "metadata": {},
   "source": [
    "#### Q14. How do outliers affect measures of central tendency and dispersion? Provide an example."
   ]
  },
  {
   "cell_type": "markdown",
   "id": "3af231d9-6ecf-4a73-8b5e-6fd01b8fc99b",
   "metadata": {},
   "source": [
    "Outliers, being extreme values, can significantly affect measures of central tendency like the mean. They can pull the mean away from the bulk of the data. However, the median is less affected by outliers since it's resistant to extreme values.\n",
    "\n",
    "For dispersion measures, outliers can substantially increase the range and standard deviation, as these measures consider the distances from the mean. Variance and standard deviation calculations involve squared differences, which can be significantly affected by outliers.\n",
    "\n",
    "For example, if we have a dataset of salaries with one extremely high outlier, it can greatly inflate the mean salary while having less impact on the median. Similarly, it can increase the range and standard deviation, showing a higher spread in the data than it would without the outlier."
   ]
  }
 ],
 "metadata": {
  "kernelspec": {
   "display_name": "Python 3 (ipykernel)",
   "language": "python",
   "name": "python3"
  },
  "language_info": {
   "codemirror_mode": {
    "name": "ipython",
    "version": 3
   },
   "file_extension": ".py",
   "mimetype": "text/x-python",
   "name": "python",
   "nbconvert_exporter": "python",
   "pygments_lexer": "ipython3",
   "version": "3.10.9"
  }
 },
 "nbformat": 4,
 "nbformat_minor": 5
}
