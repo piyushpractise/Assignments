{
 "cells": [
  {
   "cell_type": "markdown",
   "id": "d62fb99f-e7f7-4199-8b38-1704531f1035",
   "metadata": {},
   "source": [
    "# MySql"
   ]
  },
  {
   "cell_type": "markdown",
   "id": "ddac5a2c-c5c0-4099-9bde-8759fe4fdb7b",
   "metadata": {},
   "source": [
    "##### Q1. What is a database? Differentiate between SQL and NoSQL databases."
   ]
  },
  {
   "cell_type": "markdown",
   "id": "c92e7638-d62e-49f2-8d10-5b7e480092ef",
   "metadata": {},
   "source": [
    "A database is a structured collection of data that is organized and stored for efficient retrieval, manipulation, and management. It serves as a central repository for various types of data, allowing users and applications to store, retrieve, and interact with information.\n",
    "1. SQL (Structured Query Language) Databases:\n",
    "    * Relational databases that use structured data with predefined schemas.\n",
    "    * Data is organized into tables with rows and columns.\n",
    "    * Ensures data integrity through constraints and relationships.\n",
    "    * Examples: MySQL, PostgreSQL, SQLite, Oracle.\n",
    "2. NoSQL (Not Only SQL) Databases:\n",
    "    * Non-relational databases that handle unstructured or semi-structured data.\n",
    "    * Data is stored in flexible formats like documents, key-value pairs, graphs, or wide-column stores.\n",
    "    * Scales horizontally and can handle large amounts of data.\n",
    "    * Examples: MongoDB, Cassandra, Redis, Couchbase."
   ]
  },
  {
   "cell_type": "markdown",
   "id": "3febf757-69bf-4c4c-b4ba-11bdca44ed56",
   "metadata": {},
   "source": [
    "##### Q2. What is DDL? Explain why CREATE, DROP, ALTER, and TRUNCATE are used with an example."
   ]
  },
  {
   "cell_type": "markdown",
   "id": "3b773f12-7d23-46f7-b215-5f4c447ecf9d",
   "metadata": {},
   "source": [
    "DDL (Data Definition Language) is a subset of SQL used to manage the structure of a database.\n",
    "* CREATE: Used to create new database objects such as tables, views, or indexes. Example: CREATE TABLE Students (id INT, name VARCHAR(50));\n",
    "* DROP: Used to delete existing database objects. Example: DROP TABLE Students;\n",
    "* ALTER: Used to modify the structure of an existing database object. Example: ALTER TABLE Students ADD COLUMN age INT;\n",
    "* TRUNCATE: Used to delete all rows from a table, but the table structure remains intact. Example: TRUNCATE TABLE Students;"
   ]
  },
  {
   "cell_type": "markdown",
   "id": "99a70356-dca6-491f-a32d-f6692c3e2c94",
   "metadata": {},
   "source": [
    "##### Q3. What is DML? Explain INSERT, UPDATE, and DELETE with an example."
   ]
  },
  {
   "cell_type": "markdown",
   "id": "c6c19845-2bc0-4e3b-9ed0-c5ce652e429f",
   "metadata": {},
   "source": [
    "DML (Data Manipulation Language) is used to manipulate the data within a database.\n",
    "* INSERT: Used to insert new records into a table. Example: INSERT INTO Students (id, name, age) VALUES (1, 'John', 25);\n",
    "* UPDATE: Used to modify existing records in a table. Example: UPDATE Students SET age = 26 WHERE id = 1;\n",
    "* DELETE: Used to remove records from a table. Example: DELETE FROM Students WHERE age > 30;"
   ]
  },
  {
   "cell_type": "markdown",
   "id": "4dbf34eb-4532-4c3b-a42a-d42aed5d49e7",
   "metadata": {},
   "source": [
    "##### Q4. What is DQL? Explain SELECT with an example."
   ]
  },
  {
   "cell_type": "markdown",
   "id": "d3e5127c-3c22-40e6-912c-e79e7f494fae",
   "metadata": {},
   "source": [
    "DQL (Data Query Language) is used to retrieve data from a database.\n",
    "* SELECT: Used to retrieve data from one or more tables based on specified conditions. Example: SELECT name, age FROM Students WHERE age > 20;"
   ]
  },
  {
   "cell_type": "markdown",
   "id": "1eb8a258-7aaf-451c-9dda-5f22b4a4ee54",
   "metadata": {},
   "source": [
    "##### Q5. Explain Primary Key and Foreign Key."
   ]
  },
  {
   "cell_type": "markdown",
   "id": "482946ef-ae17-4819-94b9-ef7d13a63ca5",
   "metadata": {},
   "source": [
    "1. Primary Key: A primary key is a unique identifier for each record in a table. It ensures data integrity and enforces uniqueness.\n",
    "2. Foreign Key: A foreign key is a field that establishes a link between two tables. It refers to the primary key of another table, creating a relationship between them."
   ]
  },
  {
   "cell_type": "markdown",
   "id": "83c2aab9-aae0-4f3b-8cea-9ad5f7bcfce9",
   "metadata": {},
   "source": [
    "##### Q6. Write a python code to connect MySQL to python. Explain the cursor() and execute() method."
   ]
  },
  {
   "cell_type": "code",
   "execution_count": 1,
   "id": "f567f4c4-280a-433c-bd0c-2d6a11a678d6",
   "metadata": {
    "tags": []
   },
   "outputs": [
    {
     "name": "stdout",
     "output_type": "stream",
     "text": [
      "Error is due to know sql is there to connect to\n"
     ]
    },
    {
     "ename": "ModuleNotFoundError",
     "evalue": "No module named 'mysql'",
     "output_type": "error",
     "traceback": [
      "\u001b[1;31m---------------------------------------------------------------------------\u001b[0m",
      "\u001b[1;31mModuleNotFoundError\u001b[0m                       Traceback (most recent call last)",
      "Cell \u001b[1;32mIn[1], line 2\u001b[0m\n\u001b[0;32m      1\u001b[0m \u001b[38;5;28mprint\u001b[39m (\u001b[38;5;124m\"\u001b[39m\u001b[38;5;124mError is due to know sql is there to connect to\u001b[39m\u001b[38;5;124m\"\u001b[39m)\n\u001b[1;32m----> 2\u001b[0m \u001b[38;5;28;01mimport\u001b[39;00m \u001b[38;5;21;01mmysql\u001b[39;00m\u001b[38;5;21;01m.\u001b[39;00m\u001b[38;5;21;01mconnector\u001b[39;00m\n\u001b[0;32m      3\u001b[0m \u001b[38;5;66;03m# Connection to MySQL server\u001b[39;00m\n\u001b[0;32m      4\u001b[0m connection \u001b[38;5;241m=\u001b[39m mysql\u001b[38;5;241m.\u001b[39mconnector\u001b[38;5;241m.\u001b[39mconnect(host\u001b[38;5;241m=\u001b[39m\u001b[38;5;124m\"\u001b[39m\u001b[38;5;124mlocalhost\u001b[39m\u001b[38;5;124m\"\u001b[39m, user\u001b[38;5;241m=\u001b[39m\u001b[38;5;124m\"\u001b[39m\u001b[38;5;124musername\u001b[39m\u001b[38;5;124m\"\u001b[39m, password\u001b[38;5;241m=\u001b[39m\u001b[38;5;124m\"\u001b[39m\u001b[38;5;124mpassword\u001b[39m\u001b[38;5;124m\"\u001b[39m, database\u001b[38;5;241m=\u001b[39m\u001b[38;5;124m\"\u001b[39m\u001b[38;5;124mmydatabase\u001b[39m\u001b[38;5;124m\"\u001b[39m)\n",
      "\u001b[1;31mModuleNotFoundError\u001b[0m: No module named 'mysql'"
     ]
    }
   ],
   "source": [
    "print (\"Error is due to know sql is there to connect to\")\n",
    "import mysql.connector\n",
    "# Connection to MySQL server\n",
    "connection = mysql.connector.connect(host=\"localhost\", user=\"username\", password=\"password\", database=\"mydatabase\")\n",
    "# Cursor object to interact with the database\n",
    "cursor = connection.cursor()\n",
    "# Execute SQL queries\n",
    "cursor.execute(\"SELECT * FROM Students;\")\n",
    "result = cursor.fetchall()\n",
    "for row in result:\n",
    "    print(row)\n",
    "# Close the cursor and connection\n",
    "cursor.close()\n",
    "connection.close()"
   ]
  },
  {
   "cell_type": "markdown",
   "id": "4f9d428c-5173-4af2-9818-9f450590fea7",
   "metadata": {},
   "source": [
    "* cursor(): Creates a cursor object that allows executing SQL queries and fetching results.\n",
    "* execute(query): Executes the SQL query passed as an argument."
   ]
  },
  {
   "cell_type": "markdown",
   "id": "342e5a54-ddbc-4fc1-a9ce-5a39c1db22eb",
   "metadata": {},
   "source": [
    "##### Q7. Give the order of execution of SQL clauses in an SQL query."
   ]
  },
  {
   "cell_type": "markdown",
   "id": "030104be-5687-4af3-8404-a4f1aa56cec8",
   "metadata": {},
   "source": [
    "The order of execution of SQL clauses in an SQL query is as follows:\n",
    "1. SELECT\n",
    "2. FROM\n",
    "3. JOIN\n",
    "4. WHERE\n",
    "5. GROUP BY\n",
    "6. HAVING\n",
    "7. ORDER BY\n",
    "8. LIMIT"
   ]
  }
 ],
 "metadata": {
  "kernelspec": {
   "display_name": "Python 3 (ipykernel)",
   "language": "python",
   "name": "python3"
  },
  "language_info": {
   "codemirror_mode": {
    "name": "ipython",
    "version": 3
   },
   "file_extension": ".py",
   "mimetype": "text/x-python",
   "name": "python",
   "nbconvert_exporter": "python",
   "pygments_lexer": "ipython3",
   "version": "3.10.9"
  }
 },
 "nbformat": 4,
 "nbformat_minor": 5
}
