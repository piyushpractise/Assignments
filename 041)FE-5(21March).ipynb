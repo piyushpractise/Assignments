{
 "cells": [
  {
   "cell_type": "markdown",
   "id": "646dcb21-2439-4b96-98cd-2e56b91a84b9",
   "metadata": {},
   "source": [
    "# Feature Engineering-5"
   ]
  },
  {
   "cell_type": "code",
   "execution_count": null,
   "id": "c7b51b45-8f72-4b7a-bea8-20390fe6c8f3",
   "metadata": {},
   "outputs": [],
   "source": [
    "#### Q1. What is the difference between Ordinal Encoding and Label Encoding? Provide an example of when you might choose one over the other."
   ]
  },
  {
   "cell_type": "markdown",
   "id": "8c65c40c-8123-4c55-9561-c1c3cd4539dc",
   "metadata": {},
   "source": [
    "* Ordinal Encoding: Ordinal encoding is used for categorical variables that have an inherent order or rank. It assigns a unique numerical value to each category based on its rank. For example, if we have a variable \"Education Level\" with categories \"High School,\" \"Bachelor's,\" \"Master's,\" and \"PhD,\" we can assign values 1, 2, 3, and 4 to represent their order.\n",
    "* Label Encoding: Label encoding is used for nominal categorical variables where there is no inherent order. It assigns a unique numerical value to each category without considering their rank. For example, if we have a variable \"Color\" with categories \"red,\" \"green,\" and \"blue,\" we can assign values 0, 1, and 2.\n",
    "\n",
    "Example: Suppose we have a dataset of clothing sizes: \"Small,\" \"Medium,\" and \"Large.\" Since the sizes have a clear order, we would use ordinal encoding (1, 2, and 3) to represent their rank."
   ]
  },
  {
   "cell_type": "code",
   "execution_count": 1,
   "id": "488fb3e8-574f-411e-8033-841df1a68b26",
   "metadata": {
    "tags": []
   },
   "outputs": [
    {
     "name": "stdout",
     "output_type": "stream",
     "text": [
      "Ordinal Encoded Data: [[1.]\n",
      " [0.]\n",
      " [2.]]\n",
      "Label Encoded Data: [2 1 0]\n"
     ]
    }
   ],
   "source": [
    "from sklearn.preprocessing import OrdinalEncoder, LabelEncoder\n",
    "# Ordinal Encoding\n",
    "oe = OrdinalEncoder(categories=[['Small', 'Medium', 'Large']])\n",
    "ordinal_data = oe.fit_transform([['Medium'], ['Small'], ['Large']])\n",
    "print(\"Ordinal Encoded Data:\", ordinal_data)\n",
    "# Label Encoding\n",
    "le = LabelEncoder()\n",
    "label_data = le.fit_transform(['red', 'green', 'blue'])\n",
    "print(\"Label Encoded Data:\", label_data)"
   ]
  },
  {
   "cell_type": "markdown",
   "id": "28d2f112-b5f0-4d1f-ba8f-5c3dd5c99c5a",
   "metadata": {},
   "source": [
    "#### Q2. Explain how Target Guided Ordinal Encoding works and provide an example of when you might use it in a machine learning project."
   ]
  },
  {
   "cell_type": "markdown",
   "id": "cca95e24-a84f-4858-a196-2e14f1e8d1dc",
   "metadata": {},
   "source": [
    "Target Guided Ordinal Encoding is a technique where the categories of a nominal variable are encoded based on the mean of the target variable for each category. This can be useful when there is a clear relationship between the category and the target variable's behavior. For instance, if we're working on a credit risk prediction project, we might encode credit scores into ordinal values based on their default rate.\n",
    "\n",
    "Example: In a marketing campaign dataset, we could use target guided ordinal encoding to encode customer segments based on their response rate to previous campaigns. Segments with higher response rates might receive higher encoded values."
   ]
  },
  {
   "cell_type": "code",
   "execution_count": 2,
   "id": "24f57895-3c55-4637-99fe-baa312816e34",
   "metadata": {
    "tags": []
   },
   "outputs": [
    {
     "name": "stdout",
     "output_type": "stream",
     "text": [
      "  Segment  Response_Rate  Encoded_Segment\n",
      "0    High            0.7                2\n",
      "1  Medium            0.3                1\n",
      "2     Low            0.2                0\n",
      "3    High            0.6                2\n",
      "4     Low            0.1                0\n"
     ]
    }
   ],
   "source": [
    "import pandas as pd\n",
    "df = pd.DataFrame({'Segment': ['High', 'Medium', 'Low', 'High', 'Low'],'Response_Rate': [0.7, 0.3, 0.2, 0.6, 0.1]})\n",
    "# Calculate mean response rate for each segment\n",
    "mean_response = df.groupby('Segment')['Response_Rate'].mean().sort_values()\n",
    "# Create mapping based on mean response rate\n",
    "mapping = {segment: i for i, segment in enumerate(mean_response.index)}\n",
    "# Apply mapping to the original data\n",
    "df['Encoded_Segment'] = df['Segment'].map(mapping)\n",
    "print(df)"
   ]
  },
  {
   "cell_type": "markdown",
   "id": "3fa64b3d-de31-48e7-a81c-f9819bc71df7",
   "metadata": {},
   "source": [
    "#### Q3. Define covariance and explain why it is important in statistical analysis. How is covariance calculated?"
   ]
  },
  {
   "cell_type": "markdown",
   "id": "0aeaeb85-4575-495a-87bc-5f8bca4d7021",
   "metadata": {},
   "source": [
    "Covariance is a statistical measure that indicates the extent to which two variables change together. It describes the relationship between two variables and whether they move in the same direction (positive covariance) or in opposite directions (negative covariance).\n",
    "\n",
    "Covariance measures the degree of association between variables but doesn't provide information about the strength of the relationship.\n",
    "\n",
    "* Calculation: The covariance between two variables X and Y is calculated as follows:\n",
    "* cov(X,Y)={∑(Xi-X^)(Yi-Y^)}/n-1"
   ]
  },
  {
   "cell_type": "code",
   "execution_count": 3,
   "id": "c5a8d935-357d-4204-b7ba-4ae83c3be7b1",
   "metadata": {
    "tags": []
   },
   "outputs": [
    {
     "name": "stdout",
     "output_type": "stream",
     "text": [
      "Covariance: 2.5\n"
     ]
    }
   ],
   "source": [
    "import numpy as ny\n",
    "x = ny.array([1, 2, 3, 4, 5])\n",
    "y = ny.array([2, 3, 4, 5, 6])\n",
    "cov = ny.cov(x, y)[0, 1]\n",
    "print(\"Covariance:\", cov)"
   ]
  },
  {
   "cell_type": "markdown",
   "id": "409b2522-23c5-44d5-b0a0-f57e49e3287d",
   "metadata": {},
   "source": [
    "#### Q4. For a dataset with the following categorical variables: Color (red, green, blue), Size (small, medium, large), and Material (wood, metal, plastic), perform label encoding using Python's scikit-learn library. Show your code and explain the output."
   ]
  },
  {
   "cell_type": "code",
   "execution_count": 4,
   "id": "fa48f573-1fbd-411b-b14b-3392f71b99bb",
   "metadata": {
    "tags": []
   },
   "outputs": [
    {
     "name": "stdout",
     "output_type": "stream",
     "text": [
      "   Color  Size  Material\n",
      "0      2     2         2\n",
      "1      1     1         0\n",
      "2      0     0         1\n",
      "3      2     2         0\n",
      "4      0     1         2\n"
     ]
    }
   ],
   "source": [
    "from sklearn.preprocessing import LabelEncoder\n",
    "df = pd.DataFrame({\n",
    "    'Color': ['red', 'green', 'blue', 'red', 'blue'],\n",
    "    'Size': ['small', 'medium', 'large', 'small', 'medium'],\n",
    "    'Material': ['wood', 'metal', 'plastic', 'metal', 'wood']\n",
    "})\n",
    "le = LabelEncoder()\n",
    "for c in df.columns:\n",
    "    df[c] = le.fit_transform(df[c])\n",
    "print(df)"
   ]
  },
  {
   "cell_type": "markdown",
   "id": "f517afa0-f8e7-40ab-a5c2-1f23d413ea97",
   "metadata": {},
   "source": [
    "#### Q5. Calculate the covariance matrix for the following variables in a dataset: Age, Income, and Education level. Interpret the results."
   ]
  },
  {
   "cell_type": "code",
   "execution_count": 5,
   "id": "a3ee1a4a-c2e0-466c-97fb-e87bace8ab80",
   "metadata": {
    "tags": []
   },
   "outputs": [
    {
     "name": "stdout",
     "output_type": "stream",
     "text": [
      "Covariance Matrix:\n",
      " [[3.53e+01 7.15e+04 5.45e+00]\n",
      " [7.15e+04 1.45e+08 1.10e+04]\n",
      " [5.45e+00 1.10e+04 1.30e+00]]\n"
     ]
    }
   ],
   "source": [
    "import numpy as ny\n",
    "age = [25, 30, 40, 28, 35]\n",
    "income = [50000, 60000, 80000, 55000, 70000]\n",
    "education_level = [1, 2, 3, 2, 4]  # Assuming encoded values (1: HS, 2: Bachelor's, ...)\n",
    "data = ny.array([age, income, education_level])\n",
    "cov_matrix = ny.cov(data)\n",
    "print(\"Covariance Matrix:\\n\",cov_matrix)"
   ]
  },
  {
   "cell_type": "markdown",
   "id": "1c639f1e-3a52-42fc-a81f-2f1a5e28dc18",
   "metadata": {},
   "source": [
    "#### Q6. You are working on a machine learning project with a dataset containing several categorical variables, including \"Gender\" (Male/Female), \"Education Level\" (High School/Bachelor's/Master's/PhD), and \"Employment Status\" (Unemployed/Part-Time/Full-Time). Which encoding method would you use for each variable, and why?"
   ]
  },
  {
   "cell_type": "markdown",
   "id": "018b6ea7-12b7-401d-9380-99b041bce2b6",
   "metadata": {},
   "source": [
    "Encoding Categorical Variables:\n",
    "* \"Gender\" (Male/Female): Use label encoding (0 for Male, 1 for Female) since it's a nominal variable.\n",
    "* \"Education Level\" (HS/Bachelor's/Master's/PhD): Use ordinal encoding based on the education level's inherent order.\n",
    "* \"Employment Status\" (Unemployed/Part-Time/Full-Time): Use label encoding (0, 1, 2) since there's no clear order."
   ]
  },
  {
   "cell_type": "code",
   "execution_count": 6,
   "id": "547a4abd-b64c-4ec0-87d3-94e52515fa1a",
   "metadata": {
    "tags": []
   },
   "outputs": [
    {
     "name": "stderr",
     "output_type": "stream",
     "text": [
      "C:\\Users\\SALESKEN\\AppData\\Local\\Programs\\Python\\Python310\\lib\\site-packages\\sklearn\\preprocessing\\_label.py:116: DataConversionWarning: A column-vector y was passed when a 1d array was expected. Please change the shape of y to (n_samples, ), for example using ravel().\n",
      "  y = column_or_1d(y, warn=True)\n"
     ]
    },
    {
     "data": {
      "text/html": [
       "<div>\n",
       "<style scoped>\n",
       "    .dataframe tbody tr th:only-of-type {\n",
       "        vertical-align: middle;\n",
       "    }\n",
       "\n",
       "    .dataframe tbody tr th {\n",
       "        vertical-align: top;\n",
       "    }\n",
       "\n",
       "    .dataframe thead th {\n",
       "        text-align: right;\n",
       "    }\n",
       "</style>\n",
       "<table border=\"1\" class=\"dataframe\">\n",
       "  <thead>\n",
       "    <tr style=\"text-align: right;\">\n",
       "      <th></th>\n",
       "      <th>Gender</th>\n",
       "      <th>Education_Level</th>\n",
       "      <th>Employment_Status</th>\n",
       "      <th>Gender_Encoded</th>\n",
       "      <th>Employment_Status_Encoded</th>\n",
       "      <th>Education_Level_Encoded</th>\n",
       "    </tr>\n",
       "  </thead>\n",
       "  <tbody>\n",
       "    <tr>\n",
       "      <th>0</th>\n",
       "      <td>Male</td>\n",
       "      <td>Bachelors</td>\n",
       "      <td>Unemployed</td>\n",
       "      <td>1</td>\n",
       "      <td>2</td>\n",
       "      <td>1.0</td>\n",
       "    </tr>\n",
       "    <tr>\n",
       "      <th>1</th>\n",
       "      <td>Female</td>\n",
       "      <td>Masters</td>\n",
       "      <td>Full-Time</td>\n",
       "      <td>0</td>\n",
       "      <td>0</td>\n",
       "      <td>2.0</td>\n",
       "    </tr>\n",
       "    <tr>\n",
       "      <th>2</th>\n",
       "      <td>Male</td>\n",
       "      <td>PhD</td>\n",
       "      <td>Part-Time</td>\n",
       "      <td>1</td>\n",
       "      <td>1</td>\n",
       "      <td>3.0</td>\n",
       "    </tr>\n",
       "    <tr>\n",
       "      <th>3</th>\n",
       "      <td>Female</td>\n",
       "      <td>High School</td>\n",
       "      <td>Full-Time</td>\n",
       "      <td>0</td>\n",
       "      <td>0</td>\n",
       "      <td>0.0</td>\n",
       "    </tr>\n",
       "  </tbody>\n",
       "</table>\n",
       "</div>"
      ],
      "text/plain": [
       "   Gender Education_Level Employment_Status  Gender_Encoded  \\\n",
       "0    Male       Bachelors        Unemployed               1   \n",
       "1  Female         Masters         Full-Time               0   \n",
       "2    Male             PhD         Part-Time               1   \n",
       "3  Female     High School         Full-Time               0   \n",
       "\n",
       "   Employment_Status_Encoded  Education_Level_Encoded  \n",
       "0                          2                      1.0  \n",
       "1                          0                      2.0  \n",
       "2                          1                      3.0  \n",
       "3                          0                      0.0  "
      ]
     },
     "execution_count": 6,
     "metadata": {},
     "output_type": "execute_result"
    }
   ],
   "source": [
    "from sklearn.preprocessing import OrdinalEncoder, LabelEncoder\n",
    "df = pd.DataFrame({\n",
    "    'Gender': ['Male', 'Female', 'Male', 'Female'],\n",
    "    'Education_Level': ['Bachelors', 'Masters', 'PhD', 'High School'],\n",
    "    'Employment_Status': ['Unemployed', 'Full-Time', 'Part-Time', 'Full-Time']\n",
    "})\n",
    "# Label Encoding\n",
    "le = LabelEncoder()\n",
    "df['Gender_Encoded'] = le.fit_transform(df['Gender'])\n",
    "df['Employment_Status_Encoded'] = le.fit_transform(df[['Employment_Status']])\n",
    "# Ordinal Encoding\n",
    "el = ['High School', 'Bachelors', 'Masters', 'PhD']\n",
    "oe = OrdinalEncoder(categories=[el])\n",
    "df['Education_Level_Encoded'] = oe.fit_transform(df[['Education_Level']])\n",
    "df.head()"
   ]
  },
  {
   "cell_type": "markdown",
   "id": "7e7fabdf-a3c0-44a4-b1f8-6e2ace0c93e8",
   "metadata": {},
   "source": [
    "#### Q7. You are analyzing a dataset with two continuous variables, \"Temperature\" and \"Humidity\", and two categorical variables, \"Weather Condition\" (Sunny/Cloudy/Rainy) and \"Wind Direction\" (North/South/ East/West). Calculate the covariance between each pair of variables and interpret the results."
   ]
  },
  {
   "cell_type": "code",
   "execution_count": 7,
   "id": "9ab8e0da-2ba5-4905-9981-7bf3efcb85bc",
   "metadata": {
    "tags": []
   },
   "outputs": [
    {
     "name": "stdout",
     "output_type": "stream",
     "text": [
      "Covariance Matrix:\n",
      " [[ 3.730e+01 -3.180e+01  4.100e+00 -7.650e+01]\n",
      " [-3.180e+01  3.130e+01 -4.350e+00  2.115e+02]\n",
      " [ 4.100e+00 -4.350e+00  7.000e-01 -1.800e+01]\n",
      " [-7.650e+01  2.115e+02 -1.800e+01  1.377e+04]]\n"
     ]
    }
   ],
   "source": [
    "# Example\n",
    "import numpy as ny\n",
    "temp = ny.array([75, 80, 70, 85, 72])\n",
    "humidity = ny.array([60, 55, 65, 50, 58])\n",
    "weather_condition = ny.array([1, 2, 1, 3, 2])  # Assuming encoded values\n",
    "wind_direction = ny.array([0, 180, 270, 90, 0])  # Assuming encoded values\n",
    "data = ny.array([temp, humidity, weather_condition, wind_direction])\n",
    "# Calculate covariance matrix\n",
    "cov_matrix = ny.cov(data)\n",
    "print(\"Covariance Matrix:\\n\",cov_matrix)"
   ]
  }
 ],
 "metadata": {
  "kernelspec": {
   "display_name": "Python 3 (ipykernel)",
   "language": "python",
   "name": "python3"
  },
  "language_info": {
   "codemirror_mode": {
    "name": "ipython",
    "version": 3
   },
   "file_extension": ".py",
   "mimetype": "text/x-python",
   "name": "python",
   "nbconvert_exporter": "python",
   "pygments_lexer": "ipython3",
   "version": "3.10.9"
  }
 },
 "nbformat": 4,
 "nbformat_minor": 5
}
