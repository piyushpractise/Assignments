{
 "cells": [
  {
   "cell_type": "markdown",
   "id": "5f858ade-0fec-46e1-99c5-92a78d6b1257",
   "metadata": {},
   "source": [
    "# Introduction to Machine Learning-1"
   ]
  },
  {
   "cell_type": "markdown",
   "id": "4325abbc-a39d-41d6-809f-b767fb72c197",
   "metadata": {},
   "source": [
    "#### Q1 Explain thK following with an example:\n",
    "1. Artificial Intelligence (AI)\n",
    "2. Machine Learning (ML)\n",
    "3. Deep Learning (DL)"
   ]
  },
  {
   "cell_type": "markdown",
   "id": "4a856f69-b760-4c0e-959d-413b3bfdb30d",
   "metadata": {},
   "source": [
    "* Artificial Intelligence (AI): Artificial Intelligence refers to the simulation of human intelligence processes by machines, particularly computer systems. An example of AI is a self-driving car that can make decisions based on real-time data from sensors and cameras to navigate through traffic.\n",
    "* Machine Learning (ML): Machine Learning is a subset of AI that involves the use of algorithms and statistical models to enable systems to learn from data and improve their performance on a specific task over time. An example of ML is a spam email filter that learns to identify and filter out spam emails based on patterns in the data.\n",
    "* Deep Learning (DL): Deep Learning is a subfield of Machine Learning that focuses on neural networks with many layers, also known as deep neural networks. An example of DL is image recognition software that can identify objects in images with high accuracy, such as recognizing cats and dogs in photos."
   ]
  },
  {
   "cell_type": "markdown",
   "id": "0cedd721-ca30-41a9-957c-593f784febf9",
   "metadata": {},
   "source": [
    "#### Q2 What is supervised learning? List some examples of supervised learning."
   ]
  },
  {
   "cell_type": "markdown",
   "id": "144440ff-f1e9-48c0-9c09-3157f8450059",
   "metadata": {},
   "source": [
    "Supervised learning is a type of machine learning where the algorithm learns from labeled training data. In supervised learning, the model is trained on input-output pairs, and the goal is to learn a mapping function from inputs to outputs so that the model can make accurate predictions on new, unseen data. Examples of supervised learning include:\n",
    "* Classification: Predicting whether an email is spam or not.\n",
    "* Regression: Predicting the price of a house based on its features.\n",
    "* Object Detection: Identifying objects in images with bounding boxes."
   ]
  },
  {
   "cell_type": "markdown",
   "id": "086dacc1-a170-4150-abf2-9c95a9a81278",
   "metadata": {},
   "source": [
    "#### Q3 What is unsupervised learning? List some examples of unsupervised learning."
   ]
  },
  {
   "cell_type": "markdown",
   "id": "63219c72-8c53-4668-86b1-8e9f01e3b2cf",
   "metadata": {},
   "source": [
    "Unsupervised learning is a type of machine learning where the algorithm learns from unlabeled data. The goal of unsupervised learning is to find patterns, relationships, or structures in the data without explicit labels. Examples of unsupervised learning include:\n",
    "* Clustering: Grouping similar customers based on their purchasing behavior.\n",
    "* Dimensionality Reduction: Reducing the number of features while retaining important information.\n",
    "* Anomaly Detection: Identifying rare and unusual data points in a dataset."
   ]
  },
  {
   "cell_type": "markdown",
   "id": "9d37325d-6016-423f-9f4f-d10c38f7208c",
   "metadata": {},
   "source": [
    "#### Q4 What is the difference between AI, ML, DL, and DS?"
   ]
  },
  {
   "cell_type": "markdown",
   "id": "e05ce52a-d149-40c3-bf3a-3448dfc70137",
   "metadata": {},
   "source": [
    "* AI is the broader concept of simulating human intelligence in machines.\n",
    "* ML is a subset of AI that focuses on algorithms learning from data.\n",
    "* DL is a subset of ML that involves deep neural networks with many layers.\n",
    "* DS involves extracting insights from data, including statistical analysis and ML techniques."
   ]
  },
  {
   "cell_type": "markdown",
   "id": "26b782c5-d0c7-4dde-9975-75681e4aa557",
   "metadata": {},
   "source": [
    "#### Q5 What are the main differences between supervised, unsupervised, and semi-supervised learning?"
   ]
  },
  {
   "cell_type": "markdown",
   "id": "8b8fa096-4fa6-4621-9a79-eec9727b1133",
   "metadata": {},
   "source": [
    "* Supervised learning uses labeled data for training, aiming to predict outputs for new inputs.\n",
    "* Unsupervised learning uses unlabeled data to find patterns and structures in the data.\n",
    "* Semi-supervised learning uses a combination of labeled and unlabeled data for training."
   ]
  },
  {
   "cell_type": "markdown",
   "id": "4fbcd14f-97cb-4871-9dad-05c7ade1c2ce",
   "metadata": {},
   "source": [
    "#### Q6 What is train, test, and validation split? Explain the importance of each term."
   ]
  },
  {
   "cell_type": "markdown",
   "id": "ca90b701-6e71-4ef1-89d2-eaf8eafad13d",
   "metadata": {},
   "source": [
    "* Train Set: The training set is used to train the machine learning model. It contains input-output pairs used for learning.\n",
    "* Test Set: The test set is used to evaluate the model's performance on unseen data. It helps assess how well the model generalizes.\n",
    "* Validation Set: The validation set is used during training to tune hyperparameters and prevent overfitting."
   ]
  },
  {
   "cell_type": "markdown",
   "id": "1caa71b3-49e0-43f5-b079-6fbb00c00fe3",
   "metadata": {},
   "source": [
    "#### Q7 How can unsupervised learning be used in anomaly detection?"
   ]
  },
  {
   "cell_type": "markdown",
   "id": "ce21cc20-a31d-419f-acf5-0129464fdf07",
   "metadata": {},
   "source": [
    "Unsupervised learning techniques can be used for anomaly detection by learning the normal patterns from the data. Any data point that deviates significantly from these normal patterns is considered an anomaly."
   ]
  },
  {
   "cell_type": "markdown",
   "id": "fb2d4723-5ff9-4e5a-87de-1db6d919c86c",
   "metadata": {},
   "source": [
    "#### Q8 List down some commonly used supervised learning algorithms and unsupervised learning algorithms."
   ]
  },
  {
   "cell_type": "markdown",
   "id": "4e2d472b-3720-46b9-90f8-f15610934731",
   "metadata": {},
   "source": [
    "Commonly used supervised learning algorithms:\n",
    "* Linear Regression\n",
    "* Decision Trees\n",
    "* Random Forest\n",
    "* Support Vector Machines\n",
    "* Neural Networks\n",
    "\n",
    "Commonly used unsupervised learning algorithms:\n",
    "* K-Means Clustering\n",
    "* Hierarchical Clustering\n",
    "* Principal Component Analysis (PCA)\n",
    "* DBSCAN (Density-Based Spatial Clustering of Applications with Noise)\n",
    "* Gaussian Mixture Models (GMMs)"
   ]
  }
 ],
 "metadata": {
  "kernelspec": {
   "display_name": "Python 3 (ipykernel)",
   "language": "python",
   "name": "python3"
  },
  "language_info": {
   "codemirror_mode": {
    "name": "ipython",
    "version": 3
   },
   "file_extension": ".py",
   "mimetype": "text/x-python",
   "name": "python",
   "nbconvert_exporter": "python",
   "pygments_lexer": "ipython3",
   "version": "3.10.9"
  }
 },
 "nbformat": 4,
 "nbformat_minor": 5
}
