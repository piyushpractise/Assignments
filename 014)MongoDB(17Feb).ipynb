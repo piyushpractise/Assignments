{
 "cells": [
  {
   "cell_type": "markdown",
   "id": "d66d9d84-321b-4c82-951c-b2a886288362",
   "metadata": {},
   "source": [
    "# MongoDB"
   ]
  },
  {
   "cell_type": "markdown",
   "id": "0be178f4-e78a-451d-b327-104a307ef59a",
   "metadata": {},
   "source": [
    "##### Q1. What is MongoDB? Explain non-relational databases in short. In which scenarios it is preferred to use MongoDB over SQL databases?"
   ]
  },
  {
   "cell_type": "markdown",
   "id": "09546031-af96-4443-8811-de9cd9835af7",
   "metadata": {},
   "source": [
    "MongoDB is a popular NoSQL database management system that stores data in a flexible, JSON-like format known as BSON (Binary JSON). Non-relational databases, including MongoDB, are designed to handle unstructured or semi-structured data. They provide more flexibility and scalability compared to traditional SQL databases. Non-relational databases are suitable for scenarios where data structures might change frequently, large volumes of data need to be managed, and horizontal scaling is a priority.\n",
    "\n",
    "Preferred scenarios to use MongoDB over SQL databases:\n",
    "* Rapidly changing data structures\n",
    "* Need for flexible schema design\n",
    "* Handling large volumes of data and high traffic\n",
    "* Real-time analytics and reporting\n",
    "* Cloud-based or distributed architecture"
   ]
  },
  {
   "cell_type": "markdown",
   "id": "17e58f64-503c-4d2d-ba99-ccd49f2e0e5f",
   "metadata": {},
   "source": [
    "##### Q2. State and Explain the features of MongoDB."
   ]
  },
  {
   "cell_type": "markdown",
   "id": "439df4ac-f86e-41e9-9839-1e5dc1241df0",
   "metadata": {},
   "source": [
    "Features of MongoDB:\n",
    "* Schema-less: Data doesn't need a predefined structure, allowing for dynamic changes.\n",
    "* Document-Oriented: Data is stored in flexible documents (BSON format) within collections.\n",
    "* High Performance: Supports indexing, sharding, and in-memory storage for fast queries.\n",
    "* Horizontal Scalability: Distributed architecture allows easy scaling across multiple servers.\n",
    "* Rich Query Language: Supports powerful queries using the MongoDB Query Language (MQL).\n",
    "* Replication and Fault Tolerance: Supports replica sets for data redundancy and failover.\n",
    "* Aggregation Framework: Enables complex data transformations and analytics.\n",
    "* Geospatial Indexing: Allows efficient geospatial queries and calculations.\n",
    "* GridFS: For storing and retrieving large files like images or videos."
   ]
  },
  {
   "cell_type": "markdown",
   "id": "9b719cc3-d366-4a3f-902b-7d7e9ca9e868",
   "metadata": {},
   "source": [
    "##### Q3. Write a code to connect MongoDB to Python."
   ]
  },
  {
   "cell_type": "raw",
   "id": "9e92770c-3202-4a31-8ea0-ffd9853c8efa",
   "metadata": {},
   "source": [
    "from pymongo import MongoClient\n",
    "\n",
    "# Connect to MongoDB server\n",
    "client = MongoClient(\"mongodb://localhost:27017/\")\n",
    "\n",
    "# Create or access a database\n",
    "mydb = client[\"mydatabase\"]\n",
    "\n",
    "# Create or access a collection\n",
    "mycol = mydb[\"customers\"]"
   ]
  },
  {
   "cell_type": "markdown",
   "id": "637d3da2-5bd5-45f6-a545-2e1e5ebebcfb",
   "metadata": {},
   "source": [
    "##### Q4. Write a code to insert one record,and insert many records. Use the find() and find_one() methods to print the inserted record."
   ]
  },
  {
   "cell_type": "raw",
   "id": "b28e2352-7a2d-407a-a6ad-dd05a6095f15",
   "metadata": {},
   "source": [
    "# Insert one record\n",
    "mydict = { \"name\": \"John\", \"address\": \"Highway 37\" }\n",
    "x = mycol.insert_one(mydict)\n",
    "\n",
    "# Insert many records\n",
    "mylist = [\n",
    "    { \"name\": \"Jane\", \"address\": \"Mountain 21\" },\n",
    "    { \"name\": \"Doe\", \"address\": \"Valley 345\" }]\n",
    "x = mycol.insert_many(mylist)\n",
    "\n",
    "# Print inserted record using find_one()\n",
    "record = mycol.find_one()\n",
    "print(record)\n",
    "\n",
    "# Print all inserted records using find()\n",
    "for doc in mycol.find():\n",
    "    print(doc)"
   ]
  },
  {
   "cell_type": "markdown",
   "id": "205d0526-5066-4193-a2a0-40a3cd6d262b",
   "metadata": {},
   "source": [
    "##### Q5. Explain how you can use the find() method to query the MongoDB database. Write a simple code to demonstrate this."
   ]
  },
  {
   "cell_type": "raw",
   "id": "fb454cba-f369-4d88-a9d2-9d9c55134872",
   "metadata": {},
   "source": [
    "The find() method in MongoDB is used to query the database and retrieve documents from a collection based on specified criteria. It returns a cursor that you can iterate over to access the documents."
   ]
  },
  {
   "cell_type": "raw",
   "id": "dda90e03-cf70-43b0-ae5f-b7ebb44cef65",
   "metadata": {},
   "source": [
    "print(\"No file exit\")\n",
    "from pymongo import MongoClient\n",
    "\n",
    "# Connect to MongoDB server\n",
    "client = MongoClient(\"mongodb://localhost:27017/\")\n",
    "\n",
    "# Access a database and collection\n",
    "mydb = client[\"mydatabase\"]\n",
    "mycol = mydb[\"customers\"]\n",
    "\n",
    "# Query for documents\n",
    "query = { \"address\": \"Highway 37\" }\n",
    "results = mycol.find(query)\n",
    "\n",
    "# Print matched documents\n",
    "for doc in results:\n",
    "    print(doc)"
   ]
  },
  {
   "cell_type": "markdown",
   "id": "392ebb66-c69f-4eca-97b5-0b0e0d82543e",
   "metadata": {},
   "source": [
    "##### Q6. Explain the sort() method. Give an example to demonstrate sorting in MongoDB."
   ]
  },
  {
   "cell_type": "raw",
   "id": "51834957-6804-448c-9651-ff0f5f742dde",
   "metadata": {},
   "source": [
    "The sort() method in MongoDB is used to sort the documents in a collection based on specified criteria.\n",
    "Example:\n",
    "# Sort documents by name in ascending order\n",
    "sorted_docs = mycol.find().sort(\"name\")\n",
    "# Print sorted documents\n",
    "for doc in sorted_docs:\n",
    "    print(doc)"
   ]
  },
  {
   "cell_type": "markdown",
   "id": "f8ed4c59-afb0-45b9-9876-b4832d6b0d0b",
   "metadata": {},
   "source": [
    "##### Q7. Explain why delete_one(), delete_many(), and drop() is used."
   ]
  },
  {
   "cell_type": "markdown",
   "id": "878fabc8-5d4b-4e41-9168-7b7f07d0651d",
   "metadata": {},
   "source": [
    "* delete_one(filter): Deletes the first document that matches the filter.\n",
    "* delete_many(filter): Deletes all documents that match the filter.\n",
    "* drop(): Deletes the entire collection."
   ]
  }
 ],
 "metadata": {
  "kernelspec": {
   "display_name": "Python 3 (ipykernel)",
   "language": "python",
   "name": "python3"
  },
  "language_info": {
   "codemirror_mode": {
    "name": "ipython",
    "version": 3
   },
   "file_extension": ".py",
   "mimetype": "text/x-python",
   "name": "python",
   "nbconvert_exporter": "python",
   "pygments_lexer": "ipython3",
   "version": "3.10.9"
  }
 },
 "nbformat": 4,
 "nbformat_minor": 5
}
