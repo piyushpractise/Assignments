{
 "cells": [
  {
   "cell_type": "markdown",
   "id": "9f72049a-4b50-4773-82e4-48c37809e3a5",
   "metadata": {},
   "source": [
    "# Statistics Advance-5"
   ]
  },
  {
   "cell_type": "markdown",
   "id": "fd306826-07ba-4893-a12a-3a91ad8f053b",
   "metadata": {},
   "source": [
    "#### Q1. Calculate the 95% confidence interval for a sample of data with a mean of 50 and a standard deviation of 5 using Python. Interpret the results."
   ]
  },
  {
   "cell_type": "code",
   "execution_count": 1,
   "id": "92bc914d-220e-4736-906f-ebe9088b3648",
   "metadata": {},
   "outputs": [
    {
     "name": "stdout",
     "output_type": "stream",
     "text": [
      "95% Confidence Interval: (49.02001800772997, 50.97998199227003)\n",
      "INTERPRETAION :- We are 95% confident that the true population mean lies within the interval [lower bound, upper bound].\n"
     ]
    }
   ],
   "source": [
    "import scipy.stats as stats\n",
    "m = 50\n",
    "std_dev = 5\n",
    "cl = 0.95\n",
    "ss = 100  # Assuming a sample size of 100\n",
    "moe = stats.norm.ppf(1 - (1 - cl) / 2) * (std_dev / (ss ** 0.5))\n",
    "ci = (m - moe, m + moe)\n",
    "print(\"95% Confidence Interval:\", ci)\n",
    "print ('INTERPRETAION :- We are 95% confident that the true population mean lies within the interval [lower bound, upper bound].')"
   ]
  },
  {
   "cell_type": "markdown",
   "id": "908248f3-9b7b-44c9-88d3-266ff2330b4f",
   "metadata": {},
   "source": [
    "#### Q2. Conduct a chi-square goodness of fit test to determine if the distribution of colors of M&Ms in a bag matches the expected distribution of 20% blue, 20% orange, 20% green, 10% yellow, 10% red, and 20% brown. Use Python to perform the test with a significance level of 0.05."
   ]
  },
  {
   "cell_type": "code",
   "execution_count": 2,
   "id": "dde4764b-b9e4-4da3-8cd5-2d49426985a8",
   "metadata": {},
   "outputs": [
    {
     "name": "stdout",
     "output_type": "stream",
     "text": [
      "Chi-square statistic: 2.6923076923076925\n",
      "P-value: 0.7472946881209217\n",
      "Fail to reject the null hypothesis: The distributions are not significantly different.\n"
     ]
    }
   ],
   "source": [
    "import numpy as ny\n",
    "from scipy.stats import chisquare\n",
    "b = 10\n",
    "o = 15\n",
    "g = 12\n",
    "y = 8\n",
    "r = 9\n",
    "br = 11\n",
    "total_count = b + o + g + y + r + br\n",
    "of = ny.array([b, o, g, y, r, br])\n",
    "ef = ny.array([0.20, 0.20, 0.20, 0.10, 0.10, 0.20]) * total_count\n",
    "chi2_stat, p_value = chisquare(of, ef)\n",
    "print(\"Chi-square statistic:\", chi2_stat)\n",
    "print(\"P-value:\", p_value)\n",
    "if p_value < 0.05:\n",
    "    print(\"Reject the null hypothesis: The distributions are significantly different.\")\n",
    "else:\n",
    "    print(\"Fail to reject the null hypothesis: The distributions are not significantly different.\")"
   ]
  },
  {
   "cell_type": "markdown",
   "id": "1015f705-33f6-4e3b-8667-d13f1c87ac77",
   "metadata": {},
   "source": [
    "#### Q3. Use Python to calculate the chi-square statistic and p-value for a contingency table with the following data:\n",
    "            Group A Group B\n",
    "* Outcome_1 20    15\n",
    "* Outcome_2 10    25\n",
    "* Outcome_3 15    20\n",
    "\n",
    "Interpret the results of the test."
   ]
  },
  {
   "cell_type": "code",
   "execution_count": 3,
   "id": "f4feb0e8-a595-40cf-be87-e58666e7122a",
   "metadata": {},
   "outputs": [
    {
     "name": "stdout",
     "output_type": "stream",
     "text": [
      "Chi-square statistic: 5.833333333333334\n",
      "P-value: 0.05411376622282158\n",
      "Fail to reject the null hypothesis: There is no significant association between the variables.\n",
      "INTERPRETAION :- Since the p-value (0.054) is greater than the typical significance level of 0.05, we fail to reject the null hypothesis. This suggests that there is no significant evidence to suggest an association between the two groups (Group A and Group B) based on the provided data.\n"
     ]
    }
   ],
   "source": [
    "from scipy.stats import chi2_contingency\n",
    "import numpy as ny\n",
    "obs = ny.array([[20, 15], [10, 25], [15, 20]])\n",
    "chi2_stat, p_value, dof, exp = chi2_contingency(obs)\n",
    "print(\"Chi-square statistic:\", chi2_stat)\n",
    "print(\"P-value:\", p_value)\n",
    "if p_value < 0.05:\n",
    "    print(\"Reject the null hypothesis: There is a significant association between the variables.\")\n",
    "else:\n",
    "    print(\"Fail to reject the null hypothesis: There is no significant association between the variables.\")\n",
    "print ('INTERPRETAION :- Since the p-value (0.054) is greater than the typical significance level of 0.05, we fail to reject the null hypothesis. This suggests that there is no significant evidence to suggest an association between the two groups (Group A and Group B) based on the provided data.')"
   ]
  },
  {
   "cell_type": "markdown",
   "id": "5a925d8d-0558-49da-b58c-bc3c0067fd78",
   "metadata": {},
   "source": [
    "#### Q4. A study of the prevalence of smoking in a population of 500 individuals found that 60 individuals smoked. Use Python to calculate the 95% confidence interval for the true proportion of individuals in the population who smoke."
   ]
  },
  {
   "cell_type": "code",
   "execution_count": 4,
   "id": "55fc0543-6d54-4492-8f3c-67c884f39726",
   "metadata": {},
   "outputs": [
    {
     "name": "stdout",
     "output_type": "stream",
     "text": [
      "95% Confidence Interval: (0.09151638887130707, 0.1484836111286929)\n"
     ]
    }
   ],
   "source": [
    "from statsmodels.stats.proportion import proportion_confint\n",
    "ss = 500\n",
    "s= 60\n",
    "cl = 0.95\n",
    "ci = proportion_confint(s, ss, alpha=1-cl)\n",
    "print(\"95% Confidence Interval:\", ci)"
   ]
  },
  {
   "cell_type": "markdown",
   "id": "47ba762a-d27c-4728-ad87-a6a60c954807",
   "metadata": {},
   "source": [
    "#### Q5. Calculate the 90% confidence interval for a sample of data with a mean of 75 and a standard deviation of 12 using Python. Interpret the results."
   ]
  },
  {
   "cell_type": "code",
   "execution_count": 5,
   "id": "0dea0226-8fa2-4fab-9bc3-193f9e974a6a",
   "metadata": {},
   "outputs": [
    {
     "name": "stdout",
     "output_type": "stream",
     "text": [
      "90% Confidence Interval: (73.02617564765823, 76.97382435234177)\n"
     ]
    }
   ],
   "source": [
    "m = 75\n",
    "std_dev = 12\n",
    "ss = 100\n",
    "cl = 0.90\n",
    "moe = stats.norm.ppf(1 - (1 - cl) / 2) * (std_dev / (ss ** 0.5))\n",
    "ci = (m - moe, m + moe)\n",
    "print(\"90% Confidence Interval:\", ci)"
   ]
  },
  {
   "cell_type": "markdown",
   "id": "8e262cc1-8abe-42e2-90ae-6c8d10c88a92",
   "metadata": {},
   "source": [
    "#### Q6. Use Python to plot the chi-square distribution with 10 degrees of freedom. Label the axes and shade the area corresponding to a chi-square statistic of 15."
   ]
  },
  {
   "cell_type": "code",
   "execution_count": 6,
   "id": "a10ee8db-53d8-49f3-a722-9d936b4eca0d",
   "metadata": {},
   "outputs": [
    {
     "data": {
      "image/png": "[encoded data removed]",
      "text/plain": [
       "<Figure size 640x480 with 1 Axes>"
      ]
     },
     "metadata": {},
     "output_type": "display_data"
    }
   ],
   "source": [
    "import matplotlib.pyplot as pt\n",
    "import numpy as ny\n",
    "dof = 10\n",
    "x = ny.linspace(0, 30, 500)\n",
    "y = stats.chi2.pdf(x, df=dof)\n",
    "pt.plot(x, y)\n",
    "pt.fill_between(x, y, where=(x >= 15), color='grey', alpha=0.5)\n",
    "pt.xlabel('Chi-square statistic')\n",
    "pt.ylabel('Probability Density')\n",
    "pt.title('Chi-square Distribution with 10 Degrees of Freedom')\n",
    "pt.show()"
   ]
  },
  {
   "cell_type": "markdown",
   "id": "688f25cf-0f08-4aae-8021-189d4b9fd9b4",
   "metadata": {},
   "source": [
    "#### Q7. A random sample of 1000 people was asked if they preferred Coke or Pepsi. Of the sample, 520 preferred Coke. Calculate a 99% confidence interval for the true proportion of people in the population who prefer Coke."
   ]
  },
  {
   "cell_type": "code",
   "execution_count": 7,
   "id": "839eac2b-ec7d-4d69-b433-1f5eda601268",
   "metadata": {},
   "outputs": [
    {
     "name": "stdout",
     "output_type": "stream",
     "text": [
      "99% Confidence Interval: (0.4793051576779699, 0.5606948423220302)\n"
     ]
    }
   ],
   "source": [
    "from statsmodels.stats.proportion import proportion_confint\n",
    "ss = 1000\n",
    "c = 520\n",
    "cl = 0.99\n",
    "ci = proportion_confint(c, ss, alpha=1-cl)\n",
    "print(\"99% Confidence Interval:\", ci)"
   ]
  },
  {
   "cell_type": "markdown",
   "id": "422ba01c-fd1d-4433-8ac5-6ecc88da6b4f",
   "metadata": {},
   "source": [
    "#### Q8. A researcher hypothesizes that a coin is biased towards tails. They flip the coin 100 times and observe 45 tails. Conduct a chi-square goodness of fit test to determine if the observed frequencies match the expected frequencies of a fair coin. Use a significance level of 0.05."
   ]
  },
  {
   "cell_type": "code",
   "execution_count": 8,
   "id": "a0b25a1a-9382-418c-8fb0-4bdbc12e3661",
   "metadata": {},
   "outputs": [
    {
     "name": "stdout",
     "output_type": "stream",
     "text": [
      "Chi-square statistic: 1.0\n",
      "P-value: 0.31731050786291115\n",
      "Fail to reject the null hypothesis: The observed frequencies are not significantly different from expected frequencies.\n"
     ]
    }
   ],
   "source": [
    "from scipy.stats import chisquare\n",
    "import numpy as ny\n",
    "obs = ny.array([45, 55])\n",
    "exp = ny.array([50, 50])\n",
    "chi2_stat, p_value = chisquare(obs, exp)\n",
    "print(\"Chi-square statistic:\", chi2_stat)\n",
    "print(\"P-value:\", p_value)\n",
    "if p_value < 0.05:\n",
    "    print(\"Reject the null hypothesis: The observed frequencies are significantly different from expected frequencies.\")\n",
    "else:\n",
    "    print(\"Fail to reject the null hypothesis: The observed frequencies are not significantly different from expected frequencies.\")"
   ]
  },
  {
   "cell_type": "markdown",
   "id": "27bf05ed-81ed-4c6d-8c8a-6da34c3fb5b5",
   "metadata": {},
   "source": [
    "#### Q9. A study was conducted to determine if there is an association between smoking status (smoker or non-smoker) and lung cancer diagnosis (yes or no). The results are shown in the contingency table below. Conduct a chi-square test for independence to determine if there is a significant association between smoking status and lung cancer diagnosis.\n",
    "        Lung Cancer:Yes Lung Cancer:No\n",
    "* Smoker 60 140\n",
    "* Non-smoker 30 170\n",
    "\n",
    "Use a significance level of 0.05."
   ]
  },
  {
   "cell_type": "code",
   "execution_count": 9,
   "id": "52ee34bd-495f-4364-9ae9-084afb0be0bc",
   "metadata": {},
   "outputs": [
    {
     "name": "stdout",
     "output_type": "stream",
     "text": [
      "Chi-square statistic: 12.057347670250895\n",
      "P-value: 0.0005158863863703744\n",
      "Reject the null hypothesis: There is a significant association between smoking status and lung cancer diagnosis.\n"
     ]
    }
   ],
   "source": [
    "from scipy.stats import chi2_contingency\n",
    "import numpy as ny\n",
    "obs = ny.array([[60, 140], [30, 170]])\n",
    "chi2_stat, p_value, dof, exp = chi2_contingency(obs)\n",
    "print(\"Chi-square statistic:\", chi2_stat)\n",
    "print(\"P-value:\", p_value)\n",
    "if p_value < 0.05:\n",
    "    print(\"Reject the null hypothesis: There is a significant association between smoking status and lung cancer diagnosis.\")\n",
    "else:\n",
    "    print(\"Fail to reject the null hypothesis: There is no significant association between smoking status and lung cancer diagnosis.\")"
   ]
  },
  {
   "cell_type": "markdown",
   "id": "66fbfff2-be8f-4d1c-ae3d-d87693df0aee",
   "metadata": {},
   "source": [
    "#### Q10. A study was conducted to determine if the proportion of people who prefer milk chocolate, dark chocolate, or white chocolate is different in the U.S. versus the U.K. A random sample of 500 people from the U.S. and a random sample of 500 people from the U.K. were surveyed. The results are shown in the contingency table below. Conduct a chi-square test for independence to determine if there is a significant association between chocolate preference and country of origin.\n",
    "    MilkChocolate DarkChocolate WhiteChocolate\n",
    "* U.S. (n=500) 200 150 150\n",
    "* U.K. (n=500) 225 175 100\n",
    "\n",
    "Use a significance level of 0.01."
   ]
  },
  {
   "cell_type": "code",
   "execution_count": 10,
   "id": "39dd12e7-ddc3-4980-a97a-771c3443d6cb",
   "metadata": {},
   "outputs": [
    {
     "name": "stdout",
     "output_type": "stream",
     "text": [
      "Chi-square statistic: 13.393665158371041\n",
      "P-value: 0.0012348168997745915\n",
      "Reject the null hypothesis: There is a significant association between chocolate preference and country of origin.\n"
     ]
    }
   ],
   "source": [
    "from scipy.stats import chi2_contingency\n",
    "import numpy as ny\n",
    "obs = ny.array([[200, 150, 150], [225, 175, 100]])\n",
    "chi2_stat, p_value, dof, exp = chi2_contingency(obs)\n",
    "print(\"Chi-square statistic:\", chi2_stat)\n",
    "print(\"P-value:\", p_value)\n",
    "if p_value < 0.01:\n",
    "    print(\"Reject the null hypothesis: There is a significant association between chocolate preference and country of origin.\")\n",
    "else:\n",
    "    print(\"Fail to reject the null hypothesis: There is no significant association between chocolate preference and country of origin.\")"
   ]
  },
  {
   "cell_type": "markdown",
   "id": "6acb3669-78b5-4f79-8c45-339457c09ba9",
   "metadata": {},
   "source": [
    "#### Q11. A random sample of 30 people was selected from a population with an unknown mean and standard deviation. The sample mean was found to be 72 and the sample standard deviation was found to be 10. Conduct a hypothesis test to determine if the population mean is significantly different from 70. Use a significance level of 0.05."
   ]
  },
  {
   "cell_type": "code",
   "execution_count": 11,
   "id": "f6f6d72c-f599-4a64-8fbe-47e6735c1580",
   "metadata": {
    "tags": []
   },
   "outputs": [
    {
     "name": "stdout",
     "output_type": "stream",
     "text": [
      "t-statistic: 1.0954451150103321\n",
      "P-value: 0.2823362372860698\n",
      "Fail to reject the null hypothesis: There is no significant difference from 70.\n"
     ]
    }
   ],
   "source": [
    "from scipy import stats\n",
    "sm = 72\n",
    "ssd = 10\n",
    "ss = 30\n",
    "pm = 70\n",
    "sl = 0.05\n",
    "t_stat = (sm - pm) / (ssd / (ss ** 0.5))\n",
    "p_value = 2 * (1 - stats.t.cdf(abs(t_stat), df=ss - 1))\n",
    "print(\"t-statistic:\", t_stat)\n",
    "print(\"P-value:\", p_value)\n",
    "if p_value < sl:\n",
    "    print(\"Reject the null hypothesis: The population mean is significantly different from 70.\")\n",
    "else:\n",
    "    print(\"Fail to reject the null hypothesis: There is no significant difference from 70.\")"
   ]
  }
 ],
 "metadata": {
  "kernelspec": {
   "display_name": "Python 3 (ipykernel)",
   "language": "python",
   "name": "python3"
  },
  "language_info": {
   "codemirror_mode": {
    "name": "ipython",
    "version": 3
   },
   "file_extension": ".py",
   "mimetype": "text/x-python",
   "name": "python",
   "nbconvert_exporter": "python",
   "pygments_lexer": "ipython3",
   "version": "3.10.9"
  }
 },
 "nbformat": 4,
 "nbformat_minor": 5
}
