{
 "cells": [
  {
   "cell_type": "markdown",
   "id": "d7676bb5-783a-4df5-95fb-bfa3491252ec",
   "metadata": {},
   "source": [
    "# Statistics Advance-6"
   ]
  },
  {
   "cell_type": "markdown",
   "id": "ac433c8d-5d40-4495-8e2e-a528ce1be53c",
   "metadata": {},
   "source": [
    "#### Q1. Explain the assumptions required to use ANOVA and provide examples of violations that could impact the validity of the results."
   ]
  },
  {
   "cell_type": "markdown",
   "id": "a055e28b-2ed0-4fa7-9938-3dfb1ee1f158",
   "metadata": {},
   "source": [
    "Assumptions of ANOVA:\n",
    "* Independence: Observations are independent of each other.\n",
    "* Normality: The residuals (errors) are normally distributed.\n",
    "* Homogeneity of Variance: The variances of the residuals are equal across groups.\n",
    "* Homogeneity of Regression: For factorial ANOVA, the regression coefficients are the same for each group.\n",
    "\n",
    "Examples of violations and their impact:\n",
    "* Independence Violation: If observations are not independent, the assumption of separate groups breaks down, and the validity of F-tests can be compromised.\n",
    "* Normality Violation: If the residuals are not normally distributed, the p-values and confidence intervals may not be accurate.\n",
    "* Homogeneity of Variance Violation: Unequal variances across groups can lead to inflated type I error rates and reduced power.\n",
    "* Homogeneity of Regression Violation: This assumption is specific to factorial ANOVA, and violations can lead to incorrect inferences about main effects and interactions."
   ]
  },
  {
   "cell_type": "markdown",
   "id": "2d3e12aa-81d2-4a58-a13f-011d25bd82a5",
   "metadata": {},
   "source": [
    "#### Q2. What are the three types of ANOVA, and in what situations would each be used?"
   ]
  },
  {
   "cell_type": "markdown",
   "id": "86706f8e-3562-4b6a-8618-c195438d5690",
   "metadata": {},
   "source": [
    "Three types of ANOVA:\n",
    "1. One-Way ANOVA: Used when comparing means across multiple independent groups.\n",
    "2. Two-Way ANOVA: Used when comparing means across multiple groups with two independent categorical variables (factors).\n",
    "3. Repeated Measures ANOVA: Used when comparing means across multiple related groups, such as repeated measurements on the same subjects."
   ]
  },
  {
   "cell_type": "markdown",
   "id": "987a0c63-c2fa-4507-b3fb-a6aa75fb2b76",
   "metadata": {},
   "source": [
    "#### Q3. What is the partitioning of variance in ANOVA, and why is it important to understand this concept?"
   ]
  },
  {
   "cell_type": "markdown",
   "id": "e09b6b22-bdfc-410d-9003-fea68880b762",
   "metadata": {},
   "source": [
    "The partitioning of variance in ANOVA refers to the division of the total variance in the data into different components that can be attributed to specific sources of variation. This includes the explained variance (variation between groups) and the unexplained variance (variation within groups). Understanding this concept is important because it allows us to quantify how much of the total variability in the data is explained by the factors being studied."
   ]
  },
  {
   "cell_type": "markdown",
   "id": "be555662-660c-460c-9081-0421f4dcf1f0",
   "metadata": {},
   "source": [
    "#### Q4. How would you calculate the total sum of squares (SST), explained sum of squares (SSE), and residual sum of squares (SSR) in a one-way ANOVA using Python?"
   ]
  },
  {
   "cell_type": "code",
   "execution_count": 1,
   "id": "4a6ecffc-646c-46c5-a950-85f738441979",
   "metadata": {},
   "outputs": [
    {
     "name": "stdout",
     "output_type": "stream",
     "text": [
      "Total Sum of Squares (SST): 392.40000000000003\n",
      "Sum of Squares for Error (SSE): 56.0\n",
      "Sum of Squares for Regression (SSR): 336.40000000000003\n"
     ]
    }
   ],
   "source": [
    "import numpy as ny\n",
    "import scipy.stats as stats\n",
    "# Example data for two groups\n",
    "g1 = ny.array([25, 30, 28, 24, 26])\n",
    "g2 = ny.array([40, 35, 38, 42, 36])\n",
    "data = [g1, g2]  # List of data arrays for each group\n",
    "tm = ny.mean(ny.concatenate(data))\n",
    "SST = ny.sum((ny.concatenate(data) - tm)**2)\n",
    "SSE = sum([ny.sum((group - ny.mean(group))**2) for group in data])\n",
    "SSR = SST - SSE\n",
    "print(\"Total Sum of Squares (SST):\", SST)\n",
    "print(\"Sum of Squares for Error (SSE):\", SSE)\n",
    "print(\"Sum of Squares for Regression (SSR):\", SSR)"
   ]
  },
  {
   "cell_type": "markdown",
   "id": "2bb1c08a-5920-4177-98d8-61e3c6de7838",
   "metadata": {},
   "source": [
    "#### Q5. In a two-way ANOVA, how would you calculate the main effects and interaction effects using Python?"
   ]
  },
  {
   "cell_type": "markdown",
   "id": "f148fdec-6d54-4aa3-992b-743399e04c65",
   "metadata": {},
   "source": [
    "We would typically perform a two-way ANOVA using a statistical package like SciPy or statsmodels. The main effects are the effects of individual factors on the response variable, and the interaction effect is the combined effect of two or more factors that is not additive. Python code for two-way ANOVA would involve using $scipy.stats.f_oneway$ or $statsmodels$ functions and interpreting the results."
   ]
  },
  {
   "cell_type": "markdown",
   "id": "01f705ea-34a1-4e03-91f8-1beec4a9e657",
   "metadata": {},
   "source": [
    "#### Q6. Suppose you conducted a one-way ANOVA and obtained an F-statistic of 5.23 and a p-value of 0.02. What can you conclude about the differences between the groups, and how would you interpret these results?"
   ]
  },
  {
   "cell_type": "markdown",
   "id": "170bd8fe-4bb2-453f-b6cf-23141982cedf",
   "metadata": {},
   "source": [
    "The obtained F-statistic of 5.23 suggests that there are significant differences between the group means. The p-value of 0.02 is less than the typical significance level of 0.05, indicating that we would reject the null hypothesis (that all group means are equal). Therefore, we can conclude that there are significant differences in at least one pair of groups."
   ]
  },
  {
   "cell_type": "markdown",
   "id": "2a92cfe1-b71d-454c-80e6-a15088baaac2",
   "metadata": {},
   "source": [
    "#### Q7. In a repeated measures ANOVA, how would you handle missing data, and what are the potential consequences of using different methods to handle missing data?"
   ]
  },
  {
   "cell_type": "markdown",
   "id": "0fa030b3-06cc-4cbd-9d3d-9f56d09ad309",
   "metadata": {},
   "source": [
    "Handling missing data in repeated measures ANOVA involves careful consideration. We could exclude cases with missing data, impute missing values, or use methods like mixed-effects models. Different methods can lead to biased estimates, reduced power, or incorrect significance results. The choice should be based on the nature of missing data and the assumptions of the analysis."
   ]
  },
  {
   "cell_type": "markdown",
   "id": "bb64e741-8629-415f-b80d-e34565ec9f44",
   "metadata": {},
   "source": [
    "#### Q8. What are some common post-hoc tests used after ANOVA, and when would you use each one? Provide an example of a situation where a post-hoc test might be necessary."
   ]
  },
  {
   "cell_type": "markdown",
   "id": "69688e54-8c86-4293-8088-d5b9d3e3731d",
   "metadata": {},
   "source": [
    "Common post-hoc tests include Tukey's HSD, Bonferroni, and Scheffe's method. These tests are used when we reject the null hypothesis in ANOVA to determine which specific groups differ significantly. For example, if a one-way ANOVA shows a significant difference in mean scores among three treatment groups, a post-hoc test can identify which pairs of groups have different means."
   ]
  },
  {
   "cell_type": "markdown",
   "id": "df35a6ee-45e0-4ecc-b563-60ee35076b25",
   "metadata": {},
   "source": [
    "#### Q9. A researcher wants to compare the mean weight loss of three diets: A, B, and C. They collect data from 50 participants who were randomly assigned to one of the diets. Conduct a one-way ANOVA using Python to determine if there are any significant differences between the mean weight loss of the three diets. Report the F-statistic and p-value, and interpret the results."
   ]
  },
  {
   "cell_type": "code",
   "execution_count": 2,
   "id": "3054cd82-0f46-424e-88ff-26e3015c9726",
   "metadata": {},
   "outputs": [
    {
     "name": "stdout",
     "output_type": "stream",
     "text": [
      "F-statistic: 17.81818181818181\n",
      "P-value: 0.0002555382200150048\n",
      "Reject the null hypothesis: There are significant differences between the mean weight loss of the three diets.\n"
     ]
    }
   ],
   "source": [
    "from scipy.stats import f_oneway\n",
    "import numpy as np\n",
    "# Example weight loss data for three diet groups\n",
    "wlA = np.array([2, 3, 4, 2, 3])\n",
    "wlB = np.array([1, 2, 1, 1, 3])\n",
    "wlC = np.array([4, 5, 6, 4, 5])\n",
    "F_stat, p_value = f_oneway(wlA, wlB, wlC)\n",
    "print(\"F-statistic:\", F_stat)\n",
    "print(\"P-value:\", p_value)\n",
    "if p_value < 0.05:\n",
    "    print(\"Reject the null hypothesis: There are significant differences between the mean weight loss of the three diets.\")\n",
    "else:\n",
    "    print(\"Fail to reject the null hypothesis: There are no significant differences between the mean weight loss of the three diets.\")"
   ]
  },
  {
   "cell_type": "markdown",
   "id": "236f7be9-12e6-4726-aad6-849b5ee65312",
   "metadata": {},
   "source": [
    "#### Q10. A company wants to know if there are any significant differences in the average time it takes to complete a task using three different software programs: Program A, Program B, and Program C. They randomly assign 30 employees to one of the programs and record the time it takes each employee to complete the task. Conduct a two-way ANOVA using Python to determine if there are any main effects or interaction effects between the software programs and employee experience level (novice vs.experienced). Report the F-statistics and p-values, and interpret the results."
   ]
  },
  {
   "cell_type": "code",
   "execution_count": 3,
   "id": "5c105f13-6011-4c75-9c46-5bf2b8b96e11",
   "metadata": {},
   "outputs": [
    {
     "name": "stdout",
     "output_type": "stream",
     "text": [
      "                            df  sum_sq  mean_sq         F    PR(>F)\n",
      "C(software)                2.0   108.9    54.45  4.109434  0.107166\n",
      "C(experience)              1.0     4.9     4.90  0.369811  0.575945\n",
      "C(software):C(experience)  2.0     8.1     4.05  0.305660  0.752436\n",
      "Residual                   4.0    53.0    13.25       NaN       NaN\n"
     ]
    }
   ],
   "source": [
    "import pandas as pd\n",
    "from statsmodels.formula.api import ols\n",
    "from statsmodels.stats.anova import anova_lm\n",
    "# Create a DataFrame with 'time', 'software', and 'experience' columns\n",
    "data = pd.DataFrame({\n",
    "    'time': [10, 15, 12, 8, 13, 18, 20, 16, 17, 22],\n",
    "    'software': ['A', 'A', 'A', 'A', 'B', 'B', 'B', 'B', 'C', 'C'],\n",
    "    'experience': ['novice', 'experienced', 'novice', 'experienced', 'novice', 'experienced', 'novice', 'experienced', 'novice', 'experienced']\n",
    "})\n",
    "data['software'] = data['software'].astype('category')\n",
    "data['experience'] = data['experience'].astype('category')\n",
    "# Specify the formula for the model\n",
    "formula = 'time ~ C(software) * C(experience)'\n",
    "# Fit the model and perform ANOVA\n",
    "model = ols(formula, data=data).fit()\n",
    "anova_results = anova_lm(model)\n",
    "print(anova_results)"
   ]
  },
  {
   "cell_type": "markdown",
   "id": "794df09c-c515-4629-95f9-5cd2d79628ec",
   "metadata": {},
   "source": [
    "#### Q11. An educational researcher is interested in whether a new teaching method improves student test scores. They randomly assign 100 students to either the control group (traditional teaching method) or the experimental group (new teaching method) and administer a test at the end of the semester. Conduct a two-sample t-test using Python to determine if there are any significant differences in test scores between the two groups. If the results are significant, follow up with a post-hoc test to determine which group(s) differ significantly from each other."
   ]
  },
  {
   "cell_type": "code",
   "execution_count": 4,
   "id": "cd2df600-15a9-4bf5-ab8d-dbf2cb5b9b07",
   "metadata": {},
   "outputs": [
    {
     "name": "stdout",
     "output_type": "stream",
     "text": [
      "t-statistic: -4.324614442506509\n",
      "P-value: 0.0025302781637910293\n",
      "Reject the null hypothesis: There is a significant difference in test scores between the control and experimental groups.\n"
     ]
    }
   ],
   "source": [
    "from scipy.stats import ttest_ind\n",
    "cgs = [10, 15, 12, 8, 13]  # Example scores for the control group\n",
    "egs = [18, 20, 16, 17, 22]  # Example scores for the experimental group\n",
    "t_statistic, p_value = ttest_ind(cgs, egs)\n",
    "print(\"t-statistic:\", t_statistic)\n",
    "print(\"P-value:\", p_value)\n",
    "if p_value < 0.05:\n",
    "    print(\"Reject the null hypothesis: There is a significant difference in test scores between the control and experimental groups.\")\n",
    "else:\n",
    "    print(\"Fail to reject the null hypothesis: There is no significant difference in test scores between the control and experimental groups.\")"
   ]
  },
  {
   "cell_type": "markdown",
   "id": "3845a104-2f9f-4489-9b3e-e4266aceae3f",
   "metadata": {},
   "source": [
    "#### Q12. A researcher wants to know if there are any significant differences in the average daily sales of three retail stores: Store A, Store B, and Store C. They randomly select 30 days and record the sales for each store on those days. Conduct a repeated measures ANOVA using Python to determine if there are any significant differences in sales between the three stores. If the results are significant, follow up with a post-hoc test to determine which store(s) differ significantly from each other."
   ]
  },
  {
   "cell_type": "code",
   "execution_count": 5,
   "id": "ffa8558f-7afe-4d33-b5d4-bf52a5698291",
   "metadata": {
    "tags": []
   },
   "outputs": [
    {
     "name": "stdout",
     "output_type": "stream",
     "text": [
      "F-statistic: 1.4941267387944361\n",
      "P-value: 0.2881573469718555\n",
      "Fail to reject the null hypothesis: There are no significant differences between the mean sales of the stores.\n"
     ]
    }
   ],
   "source": [
    "import pandas as pd\n",
    "from scipy.stats import f_oneway\n",
    "# Create a DataFrame with sales and store columns\n",
    "data = pd.DataFrame({\n",
    "    'sales': [120, 130, 125, 110, 135, 128, 122, 130, 124, 118],\n",
    "    'store': ['A', 'A', 'A', 'A', 'B', 'B', 'B', 'B', 'C', 'C']\n",
    "})\n",
    "data['store'] = data['store'].astype('category')\n",
    "# Perform one-way ANOVA\n",
    "sg = [group['sales'] for name, group in data.groupby('store')]\n",
    "F_stat, p_value = f_oneway(*sg)\n",
    "print(\"F-statistic:\", F_stat)\n",
    "print(\"P-value:\", p_value)\n",
    "if p_value < 0.05:\n",
    "    print(\"Reject the null hypothesis: There are significant differences between the mean sales of the stores.\")\n",
    "else:\n",
    "    print(\"Fail to reject the null hypothesis: There are no significant differences between the mean sales of the stores.\")"
   ]
  }
 ],
 "metadata": {
  "kernelspec": {
   "display_name": "Python 3 (ipykernel)",
   "language": "python",
   "name": "python3"
  },
  "language_info": {
   "codemirror_mode": {
    "name": "ipython",
    "version": 3
   },
   "file_extension": ".py",
   "mimetype": "text/x-python",
   "name": "python",
   "nbconvert_exporter": "python",
   "pygments_lexer": "ipython3",
   "version": "3.10.9"
  }
 },
 "nbformat": 4,
 "nbformat_minor": 5
}
