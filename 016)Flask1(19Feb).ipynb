{
 "cells": [
  {
   "cell_type": "markdown",
   "id": "b5b270a4-33eb-4284-bf87-f7ea4d081c39",
   "metadata": {},
   "source": [
    "# Flask-1"
   ]
  },
  {
   "cell_type": "markdown",
   "id": "16db104e-c524-45ac-8c11-2b84f8f9a3c1",
   "metadata": {},
   "source": [
    "#### Q1. What is Flask Framework? What are the advantages of Flask Framework?"
   ]
  },
  {
   "cell_type": "markdown",
   "id": "d6405a28-0b44-4746-a9b5-27cadb38d8ec",
   "metadata": {},
   "source": [
    "Flask is a micro web framework for Python. It is designed to be lightweight and easy to use, making it a popular choice for building web applications, particularly small to medium-sized ones. Flask provides the tools and libraries needed to create web applications but leaves many decisions up to the developer, allowing for flexibility and customization.\n",
    "\n",
    "Advantages of Flask Framework:\n",
    "1. Simplicity: Flask follows the \"micro\" philosophy, which means it provides the basic tools and features needed for web development without unnecessary complexity. Developers have the freedom to choose and integrate components as needed.\n",
    "2. Lightweight: Flask has a small codebase and minimal dependencies, making it fast to set up and efficient in terms of resource usage.\n",
    "3. Extensible: Flask allows developers to add extensions and libraries to enhance functionality, such as database integration, authentication, and more.\n",
    "4. Flexibility: Flask doesn't impose strict project structures or design patterns, giving developers the freedom to organize their projects as they see fit.\n",
    "5. Jinja2 Templating: Flask integrates with the Jinja2 template engine, which simplifies the creation of HTML templates for rendering dynamic content.\n",
    "6. RESTful Support: Flask is well-suited for building RESTful APIs, making it a popular choice for backend development.\n",
    "7. Active Community: Flask has a vibrant and active community of developers, which means you can find a wealth of resources, tutorials, and extensions to help with your projects."
   ]
  },
  {
   "cell_type": "markdown",
   "id": "c496668a-066a-4d0f-b422-ca86b6705cd1",
   "metadata": {},
   "source": [
    "#### Q2. Create a simple Flask application to display ‘Hello World!!’. Attach the screenshot of the output in Jupyter Notebook."
   ]
  },
  {
   "cell_type": "code",
   "execution_count": 1,
   "id": "c99a529e-7127-415f-84fa-098311badbaf",
   "metadata": {
    "tags": []
   },
   "outputs": [
    {
     "name": "stdout",
     "output_type": "stream",
     "text": [
      " * Serving Flask app '__main__'\n",
      " * Debug mode: off\n"
     ]
    },
    {
     "name": "stderr",
     "output_type": "stream",
     "text": [
      "WARNING: This is a development server. Do not use it in a production deployment. Use a production WSGI server instead.\n",
      " * Running on http://127.0.0.1:5000\n",
      "Press CTRL+C to quit\n"
     ]
    }
   ],
   "source": [
    "from flask import Flask\n",
    "\n",
    "app = Flask(__name__)\n",
    "\n",
    "@app.route('/')\n",
    "def hello_world():\n",
    "    return 'Hello World!!'\n",
    "\n",
    "if __name__ == '__main__':\n",
    "    app.run()"
   ]
  },
  {
   "cell_type": "code",
   "execution_count": 2,
   "id": "64432e39-74a2-4281-a1da-0b4bad55d9f0",
   "metadata": {
    "tags": []
   },
   "outputs": [
    {
     "data": {
      "text/html": [
       "<img src=\"Screenshot (4).png\" width=\"1200\" height=\"300\"/>"
      ],
      "text/plain": [
       "<IPython.core.display.Image object>"
      ]
     },
     "execution_count": 2,
     "metadata": {},
     "output_type": "execute_result"
    }
   ],
   "source": [
    "# import image module\n",
    "from IPython.display import Image\n",
    "  \n",
    "# get the image\n",
    "Image(url=\"Screenshot (4).png\", width=1200, height=300)"
   ]
  },
  {
   "cell_type": "markdown",
   "id": "63abd391-6d1d-49c6-a84b-540026b73287",
   "metadata": {},
   "source": [
    "#### Q3. What is App routing in Flask? Why do we use app routes?"
   ]
  },
  {
   "cell_type": "markdown",
   "id": "397ee91a-aeb0-40be-8d8e-d0659e30916e",
   "metadata": {},
   "source": [
    "App routing in Flask refers to the process of mapping URL paths to specific functions or views in your web application. It allows you to define what should happen when a user visits a particular URL. App routes are defined using decorators like **@app.route('/some_path')** before a Python function.\n",
    "\n",
    "We use app routes in Flask to:\n",
    "\n",
    "Define the URL structure of our web application.\n",
    "Map specific URLs to functions that handle requests.\n",
    "Create different views or pages in our web application.\n",
    "Implement RESTful routing for building APIs."
   ]
  },
  {
   "cell_type": "markdown",
   "id": "61b78974-4b49-49d3-afad-69ecd74a09b5",
   "metadata": {},
   "source": [
    "#### Q4. Create a “/welcome” route to display the welcome message “Welcome to ABC Corporation” and a “/” route to show the following details:\n",
    "* Company Name: ABC Corporation\n",
    "* Location: India\n",
    "* Contact Detail: 999-999-9999\n",
    "\n",
    "Attach the screenshot of the output in Jupyter Notebook."
   ]
  },
  {
   "cell_type": "code",
   "execution_count": 3,
   "id": "b096085c-149d-4a38-b89e-336c557d3730",
   "metadata": {
    "tags": []
   },
   "outputs": [
    {
     "name": "stdout",
     "output_type": "stream",
     "text": [
      " * Serving Flask app '__main__'\n",
      " * Debug mode: off\n"
     ]
    },
    {
     "name": "stderr",
     "output_type": "stream",
     "text": [
      "WARNING: This is a development server. Do not use it in a production deployment. Use a production WSGI server instead.\n",
      " * Running on http://127.0.0.1:5000\n",
      "Press CTRL+C to quit\n"
     ]
    }
   ],
   "source": [
    "from flask import Flask\n",
    "\n",
    "app = Flask(__name__)\n",
    "\n",
    "@app.route('/welcome')\n",
    "def welcome_message():\n",
    "    return 'Welcome to ABC Corporation'\n",
    "\n",
    "@app.route('/')\n",
    "def company_details():\n",
    "    return '''\n",
    "    Company Name: ABC Corporation\n",
    "    Location: India\n",
    "    Contact Detail: 999-999-9999\n",
    "    '''\n",
    "\n",
    "if __name__ == '__main__':\n",
    "    app.run()"
   ]
  },
  {
   "cell_type": "code",
   "execution_count": 4,
   "id": "c5ffea39-588b-402c-bc0d-3a47c7017fab",
   "metadata": {
    "tags": []
   },
   "outputs": [
    {
     "data": {
      "text/html": [
       "<img src=\"Screenshot (5).png\" width=\"1200\" height=\"300\"/>"
      ],
      "text/plain": [
       "<IPython.core.display.Image object>"
      ]
     },
     "execution_count": 4,
     "metadata": {},
     "output_type": "execute_result"
    }
   ],
   "source": [
    "# import image module\n",
    "from IPython.display import Image\n",
    "  \n",
    "# get the image\n",
    "Image(url=\"Screenshot (5).png\", width=1200, height=300)"
   ]
  },
  {
   "cell_type": "markdown",
   "id": "47e09c01-82f3-47db-8b9a-8ab2b60c54d4",
   "metadata": {},
   "source": [
    "#### Q5. What function is used in Flask for URL Building? Write a Python code to demonstrate the working of the url_for() function."
   ]
  },
  {
   "cell_type": "code",
   "execution_count": 5,
   "id": "222d7b49-e344-4d43-ab5a-d95ee580204e",
   "metadata": {
    "tags": []
   },
   "outputs": [
    {
     "name": "stdout",
     "output_type": "stream",
     "text": [
      "/\n",
      "/about\n",
      "/contact\n"
     ]
    }
   ],
   "source": [
    "from flask import Flask, url_for\n",
    "\n",
    "app = Flask(__name__)\n",
    "\n",
    "@app.route('/')\n",
    "def home():\n",
    "    return 'Home Page'\n",
    "\n",
    "@app.route('/about')\n",
    "def about():\n",
    "    return 'About Page'\n",
    "\n",
    "@app.route('/contact')\n",
    "def contact():\n",
    "    return 'Contact Page'\n",
    "\n",
    "if __name__ == '__main__':\n",
    "    with app.test_request_context():\n",
    "        print(url_for('home'))\n",
    "        print(url_for('about'))\n",
    "        print(url_for('contact'))"
   ]
  }
 ],
 "metadata": {
  "kernelspec": {
   "display_name": "Python 3 (ipykernel)",
   "language": "python",
   "name": "python3"
  },
  "language_info": {
   "codemirror_mode": {
    "name": "ipython",
    "version": 3
   },
   "file_extension": ".py",
   "mimetype": "text/x-python",
   "name": "python",
   "nbconvert_exporter": "python",
   "pygments_lexer": "ipython3",
   "version": "3.10.9"
  }
 },
 "nbformat": 4,
 "nbformat_minor": 5
}
