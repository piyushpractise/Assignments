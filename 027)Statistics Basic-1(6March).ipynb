{
 "cells": [
  {
   "cell_type": "markdown",
   "id": "01317602-9ad6-42eb-8460-c3fff39f7c8e",
   "metadata": {},
   "source": [
    "# Statistics Basic-1"
   ]
  },
  {
   "cell_type": "markdown",
   "id": "fb9104b8-2fa6-4528-b285-e96320b7ce5b",
   "metadata": {},
   "source": [
    "#### Q1. What is Statistics?"
   ]
  },
  {
   "cell_type": "markdown",
   "id": "a5fa1475-712c-468b-a2ed-8fa560c6c33a",
   "metadata": {},
   "source": [
    "Statistics is a branch of mathematics that involves the collection, analysis, interpretation, presentation, and organization of data. It's used to understand and make decisions about various phenomena by summarizing and drawing conclusions from data."
   ]
  },
  {
   "cell_type": "markdown",
   "id": "5e281416-20c1-4a61-b37e-0a11a7171e29",
   "metadata": {},
   "source": [
    "#### Q2. Define the different types of statistics and give an example of when each type might be used."
   ]
  },
  {
   "cell_type": "markdown",
   "id": "2948a621-3a24-4891-a753-9bcbfc3a8524",
   "metadata": {},
   "source": [
    "There are two main types of statistics:\n",
    "* Descriptive Statistics: Descriptive statistics involve methods of organizing, summarizing, and presenting data in a meaningful way. These statistics help to describe the main features of a dataset. Example: Calculating the mean, median, and standard deviation of test scores in a class.\n",
    "* Inferential Statistics: Inferential statistics involve making predictions or inferences about a larger population based on a sample of data. It involves using probability theory to draw conclusions. Example: Conducting a survey of a sample population to make predictions about the preferences of the entire population."
   ]
  },
  {
   "cell_type": "markdown",
   "id": "a1e49236-9fe2-4df3-9aa0-486feca6040f",
   "metadata": {},
   "source": [
    "#### Q3. What are the different types of data and how do they differ from each other? Provide an example of each type of data."
   ]
  },
  {
   "cell_type": "markdown",
   "id": "99a1da33-0bb6-4825-9972-f9da0f392fab",
   "metadata": {},
   "source": [
    "There are four main types of data:\n",
    "* Nominal Data: This type of data consists of categories with no inherent order. It's used for labeling variables. Example: Colors (red, blue, green).\n",
    "* Ordinal Data: Ordinal data has categories with a specific order or ranking, but the differences between categories are not necessarily uniform. Example: Educational levels (elementary, high school, college).\n",
    "* Interval Data: Interval data has ordered categories where the difference between values is meaningful and consistent, but there is no true zero point. Example: Temperature measured in Celsius or Fahrenheit.\n",
    "* Ratio Data: Ratio data is similar to interval data but has a true zero point, which allows for meaningful ratios between values. Example: Height, weight, income."
   ]
  },
  {
   "cell_type": "markdown",
   "id": "6cf20d56-280f-4553-a900-7ce769d810cb",
   "metadata": {},
   "source": [
    "#### Q4. Categorise the following datasets with respect to quantitative and qualitative data types:\n",
    "1. Grading in exam: A+, A, B+, B, C+, C, D, E\n",
    "2. Colour of mangoes: yellow, green, orange, red\n",
    "3. Height data of a class: [178.9, 179, 179.5, 176, 177.2, 178.3, 175.8,...]\n",
    "4. Number of mangoes exported by a farm: [500, 600, 478, 672, ...]"
   ]
  },
  {
   "cell_type": "markdown",
   "id": "c09a87ae-c8b8-4c77-ba34-7a9eacfa95fd",
   "metadata": {},
   "source": [
    "1. Grading in exam:- Data Type: Qualitative (Ordinal)\n",
    "2. Colour of mangoes:- Data Type: Qualitative (Nominal)\n",
    "3. Height data of a class:- Data Type: Quantitative (Continuous)\n",
    "4. Number of mangoes exported by a farm:- Data Type: Quantitative (Discrete)"
   ]
  },
  {
   "cell_type": "markdown",
   "id": "b865dc05-0d1f-4399-a510-294246963e4f",
   "metadata": {},
   "source": [
    "#### Q5. Explain the concept of levels of measurement and give an example of a variable for each level."
   ]
  },
  {
   "cell_type": "markdown",
   "id": "82e21d13-dc37-43cb-ae1c-81d6b30fa7b5",
   "metadata": {},
   "source": [
    "Levels of measurement refer to the hierarchy of data types, ranging from nominal (lowest level) to ratio (highest level). Each level implies a certain set of mathematical operations that can be performed on the data.\n",
    "* Nominal: Gender (Male, Female)\n",
    "* Ordinal: Education Levels (High School, Bachelor's, Master's)\n",
    "* Interval: Temperature in Celsius\n",
    "* Ratio: Height in centimeters"
   ]
  },
  {
   "cell_type": "markdown",
   "id": "c5eb7b8f-e4a6-4eb3-8ed5-00861213584b",
   "metadata": {},
   "source": [
    "#### Q6. Why is it important to understand the level of measurement when analyzing data? Provide an example to illustrate your answer."
   ]
  },
  {
   "cell_type": "markdown",
   "id": "f1391f54-7e9d-4520-ba00-b7b1c89d197c",
   "metadata": {},
   "source": [
    "Understanding the level of measurement is crucial because it determines the appropriate statistical analyses that can be applied to the data. For instance, we can't calculate a meaningful average for nominal data, but we can for ratio data. Treating data at a higher level of measurement as if it were at a lower level can lead to incorrect conclusions. For example, calculating the average of nominal data like eye colors doesn't make sense, as there's no meaningful arithmetic interpretation of color categories."
   ]
  },
  {
   "cell_type": "markdown",
   "id": "a9d83eb6-4890-4d42-8a6a-ed64c36b42d7",
   "metadata": {},
   "source": [
    "#### Q7. How nominal data type is different from ordinal data type."
   ]
  },
  {
   "cell_type": "markdown",
   "id": "84aa88c2-cc48-4764-a287-5306ecea8cf1",
   "metadata": {},
   "source": [
    "Nominal data consists of categories with no inherent order or ranking, while ordinal data has categories with a specific order or ranking. In nominal data, the categories are mutually exclusive labels, while in ordinal data, the categories have a clear sequence, but the differences between categories might not be uniform or meaningful."
   ]
  },
  {
   "cell_type": "markdown",
   "id": "c355933b-ccc8-43ee-8e58-f9a048f6d526",
   "metadata": {},
   "source": [
    "#### Q8. Which type of plot can be used to display data in terms of range?"
   ]
  },
  {
   "cell_type": "markdown",
   "id": "9cc6acac-6003-484b-a8b0-6f0244e37518",
   "metadata": {},
   "source": [
    "A box plot (also known as a box-and-whisker plot) is commonly used to display data in terms of range. It shows the minimum, first quartile, median, third quartile, and maximum values of a dataset, allowing us to quickly understand the spread and distribution of the data."
   ]
  },
  {
   "cell_type": "markdown",
   "id": "215ee1d2-b001-412b-9787-b4eb5f484de5",
   "metadata": {},
   "source": [
    "#### Q9. Describe the difference between descriptive and inferential statistics. Give an example of each type of statistics and explain how they are used."
   ]
  },
  {
   "cell_type": "markdown",
   "id": "1b5c7420-ee60-4dc6-9080-9cb02c9d7f02",
   "metadata": {},
   "source": [
    "Descriptive Statistics: These are used to summarize and describe the main features of a dataset. Examples include measures of central tendency (mean, median, mode) and measures of variability (range, standard deviation). These statistics provide insights into the characteristics of the data.\n",
    "\n",
    "Inferential Statistics: These are used to make predictions or inferences about a population based on a sample of data. For example, hypothesis testing and confidence intervals fall under inferential statistics. They allow us to draw conclusions about a larger group using a smaller representative sample."
   ]
  },
  {
   "cell_type": "markdown",
   "id": "4aec1643-87b5-4dba-b9b0-a73597cc5f6b",
   "metadata": {},
   "source": [
    "#### Q10. What are some common measures of central tendency and variability used in statistics? Explain how each measure can be used to describe a dataset."
   ]
  },
  {
   "cell_type": "markdown",
   "id": "e10af889-05e6-4b15-a467-9d94eea10eef",
   "metadata": {},
   "source": [
    "Measures of Central Tendency:\n",
    "* Mean: The average value of a dataset. It provides an overall sense of the \"typical\" value.\n",
    "* Median: The middle value when the data is arranged in ascending or descending order. It's less affected by outliers than the mean.\n",
    "* Mode: The most frequent value in a dataset. It helps identify the most common value.\n",
    "\n",
    "Measures of Variability:\n",
    "* Range: The difference between the maximum and minimum values. It gives a rough idea of how spread out the data is.\n",
    "* Variance: A measure of the average squared difference between each data point and the mean. It quantifies the overall variability of the dataset.\n",
    "* Standard Deviation: The square root of the variance. It indicates the average deviation of data points from the mean. A higher standard deviation indicates more spread in the data."
   ]
  }
 ],
 "metadata": {
  "kernelspec": {
   "display_name": "Python 3 (ipykernel)",
   "language": "python",
   "name": "python3"
  },
  "language_info": {
   "codemirror_mode": {
    "name": "ipython",
    "version": 3
   },
   "file_extension": ".py",
   "mimetype": "text/x-python",
   "name": "python",
   "nbconvert_exporter": "python",
   "pygments_lexer": "ipython3",
   "version": "3.10.9"
  }
 },
 "nbformat": 4,
 "nbformat_minor": 5
}
