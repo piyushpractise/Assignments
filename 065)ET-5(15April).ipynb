{
 "cells": [
  {
   "cell_type": "markdown",
   "id": "04e11ef8-318e-432c-be8b-08c19d57245d",
   "metadata": {
    "tags": []
   },
   "source": [
    "# Ensemble Techniques And Its Types-5"
   ]
  },
  {
   "cell_type": "markdown",
   "id": "d894b32e-f1c9-4f57-9b4f-1e72c72a7a30",
   "metadata": {},
   "source": [
    "#### Q1. You are working on a machine learning project where you have a dataset containing numerical and categorical features. You have identified that some of the features are highly correlated and there are missing values in some of the columns. You want to build a pipeline that automates the feature engineering process and handles the missing values.\n",
    "* Design a pipeline that includes the following steps:\n",
    "    * Use an automated feature selection method to identify the important features in the dataset.\n",
    "    * Create a numerical pipeline that includes the following steps:\n",
    "        * Impute the missing values in the numerical columns using the mean of the column values.\n",
    "        * Scale the numerical columns using standardization.\n",
    "    * Create a categorical pipeline that includes the following steps:\n",
    "        * Impute the missing values in the categorical columns using the most frequent value of the column.\n",
    "        * One-hot encode the categorical columns.\n",
    "    * Combine the numerical and categorical pipelines using a ColumnTransformer.\n",
    "    * Use a Random Forest Classifier to build the final model.\n",
    "    * Evaluate the accuracy of the model on the test dataset.\n",
    "* **Note** *Your solution should include code snippets for each step of the pipeline, and a brief explanation of each step. You should also provide an interpretation of the results and suggest possible improvements for the pipeline.*"
   ]
  },
  {
   "cell_type": "code",
   "execution_count": 1,
   "id": "bfe9240a-9583-42e6-b4de-eef992325a36",
   "metadata": {
    "tags": []
   },
   "outputs": [],
   "source": [
    "import pandas as pd\n",
    "from sklearn.model_selection import train_test_split\n",
    "from sklearn.feature_selection import SelectFromModel\n",
    "from sklearn.ensemble import RandomForestClassifier\n",
    "from sklearn.pipeline import Pipeline\n",
    "from sklearn.impute import SimpleImputer\n",
    "from sklearn.preprocessing import StandardScaler, LabelEncoder, OneHotEncoder, MinMaxScaler\n",
    "from sklearn.compose import ColumnTransformer\n",
    "from sklearn.metrics import accuracy_score"
   ]
  },
  {
   "cell_type": "code",
   "execution_count": 2,
   "id": "ecef7c24-19ac-4108-aa88-2588f02caabe",
   "metadata": {
    "tags": []
   },
   "outputs": [
    {
     "data": {
      "text/html": [
       "<div>\n",
       "<style scoped>\n",
       "    .dataframe tbody tr th:only-of-type {\n",
       "        vertical-align: middle;\n",
       "    }\n",
       "\n",
       "    .dataframe tbody tr th {\n",
       "        vertical-align: top;\n",
       "    }\n",
       "\n",
       "    .dataframe thead th {\n",
       "        text-align: right;\n",
       "    }\n",
       "</style>\n",
       "<table border=\"1\" class=\"dataframe\">\n",
       "  <thead>\n",
       "    <tr style=\"text-align: right;\">\n",
       "      <th></th>\n",
       "      <th>Survived</th>\n",
       "      <th>Pclass</th>\n",
       "      <th>Name</th>\n",
       "      <th>Sex</th>\n",
       "      <th>Age</th>\n",
       "      <th>Siblings/Spouses Aboard</th>\n",
       "      <th>Parents/Children Aboard</th>\n",
       "      <th>Fare</th>\n",
       "    </tr>\n",
       "  </thead>\n",
       "  <tbody>\n",
       "    <tr>\n",
       "      <th>0</th>\n",
       "      <td>0</td>\n",
       "      <td>3</td>\n",
       "      <td>Mr. Owen Harris Braund</td>\n",
       "      <td>male</td>\n",
       "      <td>22.0</td>\n",
       "      <td>1</td>\n",
       "      <td>0</td>\n",
       "      <td>7.2500</td>\n",
       "    </tr>\n",
       "    <tr>\n",
       "      <th>1</th>\n",
       "      <td>1</td>\n",
       "      <td>1</td>\n",
       "      <td>Mrs. John Bradley (Florence Briggs Thayer) Cum...</td>\n",
       "      <td>female</td>\n",
       "      <td>38.0</td>\n",
       "      <td>1</td>\n",
       "      <td>0</td>\n",
       "      <td>71.2833</td>\n",
       "    </tr>\n",
       "    <tr>\n",
       "      <th>2</th>\n",
       "      <td>1</td>\n",
       "      <td>3</td>\n",
       "      <td>Miss. Laina Heikkinen</td>\n",
       "      <td>female</td>\n",
       "      <td>26.0</td>\n",
       "      <td>0</td>\n",
       "      <td>0</td>\n",
       "      <td>7.9250</td>\n",
       "    </tr>\n",
       "    <tr>\n",
       "      <th>3</th>\n",
       "      <td>1</td>\n",
       "      <td>1</td>\n",
       "      <td>Mrs. Jacques Heath (Lily May Peel) Futrelle</td>\n",
       "      <td>female</td>\n",
       "      <td>35.0</td>\n",
       "      <td>1</td>\n",
       "      <td>0</td>\n",
       "      <td>53.1000</td>\n",
       "    </tr>\n",
       "    <tr>\n",
       "      <th>4</th>\n",
       "      <td>0</td>\n",
       "      <td>3</td>\n",
       "      <td>Mr. William Henry Allen</td>\n",
       "      <td>male</td>\n",
       "      <td>35.0</td>\n",
       "      <td>0</td>\n",
       "      <td>0</td>\n",
       "      <td>8.0500</td>\n",
       "    </tr>\n",
       "  </tbody>\n",
       "</table>\n",
       "</div>"
      ],
      "text/plain": [
       "   Survived  Pclass                                               Name  \\\n",
       "0         0       3                             Mr. Owen Harris Braund   \n",
       "1         1       1  Mrs. John Bradley (Florence Briggs Thayer) Cum...   \n",
       "2         1       3                              Miss. Laina Heikkinen   \n",
       "3         1       1        Mrs. Jacques Heath (Lily May Peel) Futrelle   \n",
       "4         0       3                            Mr. William Henry Allen   \n",
       "\n",
       "      Sex   Age  Siblings/Spouses Aboard  Parents/Children Aboard     Fare  \n",
       "0    male  22.0                        1                        0   7.2500  \n",
       "1  female  38.0                        1                        0  71.2833  \n",
       "2  female  26.0                        0                        0   7.9250  \n",
       "3  female  35.0                        1                        0  53.1000  \n",
       "4    male  35.0                        0                        0   8.0500  "
      ]
     },
     "execution_count": 2,
     "metadata": {},
     "output_type": "execute_result"
    }
   ],
   "source": [
    "# Loading Titanic Dataset\n",
    "url = 'https://web.stanford.edu/class/archive/cs/cs109/cs109.1166/stuff/titanic.csv'\n",
    "ds = pd.read_csv(url)\n",
    "ds.head()"
   ]
  },
  {
   "cell_type": "code",
   "execution_count": 3,
   "id": "79ea9d92-b694-4597-8d3c-13a70a1139d2",
   "metadata": {
    "tags": []
   },
   "outputs": [
    {
     "name": "stdout",
     "output_type": "stream",
     "text": [
      "Survived                   0\n",
      "Pclass                     0\n",
      "Name                       0\n",
      "Sex                        0\n",
      "Age                        0\n",
      "Siblings/Spouses Aboard    0\n",
      "Parents/Children Aboard    0\n",
      "Fare                       0\n",
      "dtype: int64\n",
      "<class 'pandas.core.frame.DataFrame'>\n",
      "RangeIndex: 887 entries, 0 to 886\n",
      "Data columns (total 8 columns):\n",
      " #   Column                   Non-Null Count  Dtype  \n",
      "---  ------                   --------------  -----  \n",
      " 0   Survived                 887 non-null    int64  \n",
      " 1   Pclass                   887 non-null    int64  \n",
      " 2   Name                     887 non-null    object \n",
      " 3   Sex                      887 non-null    object \n",
      " 4   Age                      887 non-null    float64\n",
      " 5   Siblings/Spouses Aboard  887 non-null    int64  \n",
      " 6   Parents/Children Aboard  887 non-null    int64  \n",
      " 7   Fare                     887 non-null    float64\n",
      "dtypes: float64(2), int64(4), object(2)\n",
      "memory usage: 55.6+ KB\n"
     ]
    }
   ],
   "source": [
    "# Checking various variables\n",
    "print(ds.isnull().sum())\n",
    "ds.info()"
   ]
  },
  {
   "cell_type": "code",
   "execution_count": 4,
   "id": "2ec4b0b1-2bbe-4aa1-be87-d396ab6872ba",
   "metadata": {},
   "outputs": [
    {
     "name": "stdout",
     "output_type": "stream",
     "text": [
      "Accuracy: 0.7658\n"
     ]
    }
   ],
   "source": [
    "# Prepartion Data for model\n",
    "x = ds.drop(columns=['Survived','Name'])\n",
    "y = ds['Survived']\n",
    "x_train, x_test, y_train, y_test = train_test_split(x,y,test_size=0.25, random_state=47, stratify = y)\n",
    "\n",
    "# Defining numerical and categorical columns\n",
    "num_col = x.select_dtypes(include=['number']).columns.tolist()\n",
    "cat_col = x.select_dtypes(exclude=['number']).columns.tolist()\n",
    "\n",
    "# Feature Selection\n",
    "fs = SelectFromModel(RandomForestClassifier(n_estimators = 100, random_state= 42))\n",
    "\n",
    "# Numerical & Categorical Pipline\n",
    "num=Pipeline(steps=[('imputer',SimpleImputer(strategy=\"mean\")),('scaler',StandardScaler())])\n",
    "cat=Pipeline(steps=[('imputer',SimpleImputer(strategy=\"most_frequent\")),('onehot',OneHotEncoder())])\n",
    "\n",
    "# Creating the ColumnTransformer without fitting it\n",
    "com = ColumnTransformer(transformers=[('num', num, num_col), ('cat', cat, cat_col)])\n",
    "\n",
    "# Creating the Pipeline\n",
    "pl = Pipeline(steps=[(\"Feature_selector\", fs), \n",
    "                     (\"classifier\", RandomForestClassifier(n_estimators=100, random_state=42))])\n",
    "\n",
    "# Fit the preprocessing steps on the training data\n",
    "X_train = com.fit_transform(x_train)\n",
    "X_test = com.transform(x_test)\n",
    "\n",
    "# Fitting and Evaluation\n",
    "pl.fit(X_train,y_train)\n",
    "y_pred = pl.predict(X_test)\n",
    "acc = accuracy_score(y_test,y_pred)\n",
    "print(f\"Accuracy: {acc:.4f}\")"
   ]
  },
  {
   "cell_type": "markdown",
   "id": "bcfa93cb-be05-460a-a539-f09ab3f9b9c4",
   "metadata": {},
   "source": [
    "#### Q2. Build a pipeline that includes a Random Forest Classifier and a Logistic Regression Classifier, and then use a Voting Classifier to combine their predictions. Train the pipeline on the iris dataset and evaluate its accuracy."
   ]
  },
  {
   "cell_type": "code",
   "execution_count": 5,
   "id": "3fa4e457-6226-4b17-8cfc-de974906a23c",
   "metadata": {
    "tags": []
   },
   "outputs": [
    {
     "name": "stdout",
     "output_type": "stream",
     "text": [
      "Accuracy:0.9130\n"
     ]
    },
    {
     "name": "stderr",
     "output_type": "stream",
     "text": [
      "C:\\Users\\SALESKEN\\AppData\\Local\\Programs\\Python\\Python310\\lib\\site-packages\\sklearn\\linear_model\\_logistic.py:460: ConvergenceWarning: lbfgs failed to converge (status=1):\n",
      "STOP: TOTAL NO. of ITERATIONS REACHED LIMIT.\n",
      "\n",
      "Increase the number of iterations (max_iter) or scale the data as shown in:\n",
      "    https://scikit-learn.org/stable/modules/preprocessing.html\n",
      "Please also refer to the documentation for alternative solver options:\n",
      "    https://scikit-learn.org/stable/modules/linear_model.html#logistic-regression\n",
      "  n_iter_i = _check_optimize_result(\n"
     ]
    }
   ],
   "source": [
    "from sklearn.datasets import load_iris\n",
    "from sklearn.model_selection import train_test_split\n",
    "from sklearn.linear_model import LogisticRegression\n",
    "from sklearn.ensemble import RandomForestClassifier, VotingClassifier\n",
    "\n",
    "# Loading Dataset & Spliting dataset into train test\n",
    "ds = load_iris()\n",
    "x = ds.data\n",
    "y = ds.target\n",
    "x_train, x_test, y_train, y_test = train_test_split(x,y, test_size=0.15, random_state=17)\n",
    "\n",
    "# Creating models\n",
    "lr=LogisticRegression(random_state=92)\n",
    "rf=RandomForestClassifier(n_estimators=100, random_state=62)\n",
    "com = VotingClassifier(estimators=[('rf', rf),('lr',lr)], voting='hard')\n",
    "\n",
    "# Fitting and Evaluating the model\n",
    "com.fit(x_train,y_train)\n",
    "y_pred = com.predict(x_test)\n",
    "acc = accuracy_score(y_test,y_pred)\n",
    "print(f\"Accuracy:{acc:.4f}\")"
   ]
  }
 ],
 "metadata": {
  "kernelspec": {
   "display_name": "Python 3 (ipykernel)",
   "language": "python",
   "name": "python3"
  },
  "language_info": {
   "codemirror_mode": {
    "name": "ipython",
    "version": 3
   },
   "file_extension": ".py",
   "mimetype": "text/x-python",
   "name": "python",
   "nbconvert_exporter": "python",
   "pygments_lexer": "ipython3",
   "version": "3.10.9"
  }
 },
 "nbformat": 4,
 "nbformat_minor": 5
}
