{
 "cells": [
  {
   "cell_type": "markdown",
   "id": "d0e87d7d-62b5-44d2-9d6c-f58441bc3402",
   "metadata": {},
   "source": [
    "# Decision Tree-1"
   ]
  },
  {
   "cell_type": "markdown",
   "id": "1b9fa50b-0586-4250-b371-8da90788d78d",
   "metadata": {},
   "source": [
    "#### Q1. Describe the decision tree classifier algorithm and how it works to make predictions."
   ]
  },
  {
   "cell_type": "markdown",
   "id": "1af267eb-3850-4be0-a111-4613b0215363",
   "metadata": {},
   "source": [
    "A decision tree classifier is a popular machine learning algorithm for both classification and regression tasks. It works by recursively splitting the dataset into subsets based on the values of input features, creating a tree-like structure of decisions. At each node, the algorithm selects the feature that best splits the data based on some criterion, often using measures like Gini impurity or entropy. This process continues until a stopping condition is met, such as a maximum depth or a minimum number of samples per leaf. To make predictions, new data traverses the tree from the root to a leaf node, and the class associated with that leaf is the predicted class."
   ]
  },
  {
   "cell_type": "markdown",
   "id": "f8e76c93-6fd0-43db-8944-e4ffc4a84200",
   "metadata": {},
   "source": [
    "#### Q2. Provide a step-by-step explanation of the mathematical intuition behind decision tree classification."
   ]
  },
  {
   "cell_type": "markdown",
   "id": "3ceae1b7-1d51-414d-b6dc-f54983fc9cfc",
   "metadata": {},
   "source": [
    "* **Entropy or Gini Impurity:** These measures quantify the impurity or disorder of a dataset. The goal is to minimize impurity during the tree-building process.\n",
    "* **Information Gain (IG):** IG measures the reduction in impurity achieved by splitting data using a particular feature. Higher IG suggests a better split."
   ]
  },
  {
   "cell_type": "markdown",
   "id": "316d75f0-4229-4e7d-b743-19f839905374",
   "metadata": {},
   "source": [
    "#### Q3. Explain how a decision tree classifier can be used to solve a binary classification problem."
   ]
  },
  {
   "cell_type": "markdown",
   "id": "8819c39d-c6a0-4373-a486-11d4167f27e4",
   "metadata": {},
   "source": [
    "Suppose we're classifying whether an email is spam (1) or not (0) based on two features: word count and sender domain. The decision tree algorithm selects the feature and threshold that best splits the dataset. For example, it might find that emails with word count > 100 are likely spam. Then, it continues creating more splits until it reaches a stopping criterion."
   ]
  },
  {
   "cell_type": "markdown",
   "id": "459e9d06-c8c5-478e-9fc9-720cbc7ca5c3",
   "metadata": {},
   "source": [
    "#### Q4. Discuss the geometric intuition behind decision tree classification and how it can be used to make predictions."
   ]
  },
  {
   "cell_type": "markdown",
   "id": "3a25c661-3a54-4421-8ad6-9732fb324ced",
   "metadata": {},
   "source": [
    "Decision trees divide feature space into regions separated by decision boundaries aligned with feature axes. Each leaf node represents a class label. A decision tree can be visualized as a collection of rectangular regions, each assigned a class label. To make a prediction for a new data point, we determine which region it falls into based on its features."
   ]
  },
  {
   "cell_type": "markdown",
   "id": "137d0db2-3348-4987-bc66-75c183d41719",
   "metadata": {},
   "source": [
    "#### Q5. Define the confusion matrix and describe how it can be used to evaluate the performance of a classification model."
   ]
  },
  {
   "cell_type": "markdown",
   "id": "4890d897-afe5-4ec3-8177-4f984b487c02",
   "metadata": {},
   "source": [
    "A confusion matrix is a table that summarizes the performance of a classification model. It shows the counts of true positives, true negatives, false positives, and false negatives. These counts help calculate various metrics for evaluating model performance."
   ]
  },
  {
   "cell_type": "markdown",
   "id": "dfd9e903-81ac-4b37-adcc-6952861473c3",
   "metadata": {},
   "source": [
    "#### Q6. Provide an example of a confusion matrix and explain how precision, recall, and F1 score can be calculated from it."
   ]
  },
  {
   "cell_type": "markdown",
   "id": "297349bf-c95c-44aa-b134-fde535db02a6",
   "metadata": {},
   "source": [
    "Consider a binary classification problem:\n",
    "* True Positive (TP): Predicted positive and actually positive.\n",
    "* False Positive (FP): Predicted positive but actually negative.\n",
    "* True Negative (TN): Predicted negative and actually negative.\n",
    "* False Negative (FN): Predicted negative but actually positive.\n",
    "* **Precision** = TP / (TP + FP)\n",
    "* **Recall** = TP / (TP + FN)\n",
    "* **F1 Score** = 2 * (Precision * Recall) / (Precision + Recall)"
   ]
  },
  {
   "cell_type": "markdown",
   "id": "4d34e937-764f-48ea-bee5-4b9229da7a24",
   "metadata": {},
   "source": [
    "#### Q7. Discuss the importance of choosing an appropriate evaluation metric for a classification problem and explain how this can be done."
   ]
  },
  {
   "cell_type": "markdown",
   "id": "ec7eeecb-22db-455d-a2c9-964b110836d9",
   "metadata": {},
   "source": [
    "The choice depends on the problem's goals and the consequences of different types of errors. Precision is important when false positives are costly, like in medical diagnoses. Recall matters when missing positive cases is problematic, like in identifying fraud."
   ]
  },
  {
   "cell_type": "markdown",
   "id": "e913fd0f-63fc-4419-8d65-12e84dc0c000",
   "metadata": {},
   "source": [
    "#### Q8. Provide an example of a classification problem where precision is the most important metric, and explain why."
   ]
  },
  {
   "cell_type": "markdown",
   "id": "9bce5738-c00a-4d05-9fdf-2c121a845400",
   "metadata": {},
   "source": [
    "Consider cancer diagnosis. False positives (healthy predicted as cancerous) can lead to unnecessary treatments, so high precision is crucial to avoid false alarms."
   ]
  },
  {
   "cell_type": "markdown",
   "id": "da43d119-9901-4122-b49e-b0a74526048e",
   "metadata": {},
   "source": [
    "#### Q9. Provide an example of a classification problem where recall is the most important metric, and explain why."
   ]
  },
  {
   "cell_type": "markdown",
   "id": "4a08ff11-d09f-404e-91b8-b28f82eb55a1",
   "metadata": {},
   "source": [
    "In airport security, identifying all potential threats is paramount. Missing a true threat (false negative) can have severe consequences, so high recall is prioritized even if it leads to more false alarms."
   ]
  }
 ],
 "metadata": {
  "kernelspec": {
   "display_name": "Python 3 (ipykernel)",
   "language": "python",
   "name": "python3"
  },
  "language_info": {
   "codemirror_mode": {
    "name": "ipython",
    "version": 3
   },
   "file_extension": ".py",
   "mimetype": "text/x-python",
   "name": "python",
   "nbconvert_exporter": "python",
   "pygments_lexer": "ipython3",
   "version": "3.10.9"
  }
 },
 "nbformat": 4,
 "nbformat_minor": 5
}
