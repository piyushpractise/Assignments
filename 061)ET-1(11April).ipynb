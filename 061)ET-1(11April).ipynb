{
 "cells": [
  {
   "cell_type": "markdown",
   "id": "55f46609-94e9-4c27-9e9b-330d54385baf",
   "metadata": {},
   "source": [
    "# Ensemble Techniques And Its Types-1"
   ]
  },
  {
   "cell_type": "markdown",
   "id": "682ddbe8-d7c8-49cf-97d1-4fbc6cda81fd",
   "metadata": {},
   "source": [
    "#### Q1. What is an ensemble technique in machine learning?"
   ]
  },
  {
   "cell_type": "markdown",
   "id": "3124787c-e0ae-430d-b53e-7d2099b3368b",
   "metadata": {},
   "source": [
    "Ensemble techniques in machine learning involve combining predictions from multiple individual models to create a stronger, more robust model. These techniques leverage the wisdom of the crowd to improve predictive accuracy, generalization, and robustness."
   ]
  },
  {
   "cell_type": "markdown",
   "id": "98c2326e-ab79-46d7-b28e-3c93ffb09e1c",
   "metadata": {},
   "source": [
    "#### Q2. Why are ensemble techniques used in machine learning?"
   ]
  },
  {
   "cell_type": "markdown",
   "id": "62cd3460-b2f3-4e4a-9b22-70a02a0d72fe",
   "metadata": {},
   "source": [
    "Ensemble techniques are used in machine learning for several reasons:\n",
    "* They can improve model performance by reducing bias and variance.\n",
    "* They enhance generalization and reduce overfitting.\n",
    "* They handle complex relationships in data by combining multiple perspectives.\n",
    "* They are effective in capturing different patterns in the data.\n",
    "* They provide more robust predictions by reducing the impact of individual model errors."
   ]
  },
  {
   "cell_type": "markdown",
   "id": "8b08c2be-320b-470a-8e70-5c4a814bf193",
   "metadata": {},
   "source": [
    "#### Q3. What is bagging?"
   ]
  },
  {
   "cell_type": "markdown",
   "id": "d619622f-02bb-41e7-a2bd-50461e70dc95",
   "metadata": {},
   "source": [
    "Bagging (Bootstrap Aggregating) is an ensemble technique that involves creating multiple subsets of the training data through bootstrapping (random sampling with replacement) and training a separate model on each subset. The final prediction is typically an average or majority vote of the predictions made by individual models."
   ]
  },
  {
   "cell_type": "markdown",
   "id": "fbab911c-d127-45ef-a681-039ec6dd0d55",
   "metadata": {},
   "source": [
    "#### Q4. What is boosting?"
   ]
  },
  {
   "cell_type": "markdown",
   "id": "b5668cda-e639-493b-a3a3-cf7447e4ea11",
   "metadata": {},
   "source": [
    "Boosting is an ensemble technique that combines multiple weak learners (usually simple models) to create a strong learner. It assigns higher weight to instances that are misclassified by the previous models, allowing subsequent models to focus on the difficult examples. Boosting iteratively improves model performance by giving more emphasis to challenging instances."
   ]
  },
  {
   "cell_type": "markdown",
   "id": "a4dbf666-9483-437e-805b-431fd4cdc815",
   "metadata": {},
   "source": [
    "#### Q5. What are the benefits of using ensemble techniques?"
   ]
  },
  {
   "cell_type": "markdown",
   "id": "6a9299ba-286e-4aca-8f23-f1043ae7ba5a",
   "metadata": {},
   "source": [
    "The benefits of using ensemble techniques include:\n",
    "* Improved predictive accuracy and generalization.\n",
    "* Better handling of complex data patterns.\n",
    "* Enhanced model robustness.\n",
    "* Reduced overfitting.\n",
    "* Improved model stability.\n",
    "* Increased resistance to noisy data."
   ]
  },
  {
   "cell_type": "markdown",
   "id": "9baab5e3-f8b2-4ba8-b232-10507378eb78",
   "metadata": {},
   "source": [
    "#### Q6. Are ensemble techniques always better than individual models?"
   ]
  },
  {
   "cell_type": "markdown",
   "id": "8f8d2611-5b52-495d-8e65-2a423525b15f",
   "metadata": {},
   "source": [
    "While ensemble techniques often outperform individual models, they are not always guaranteed to do so. The effectiveness of an ensemble depends on various factors, including the quality of base models, diversity among the models, and the nature of the data. In some cases, well-tuned individual models may perform comparably or even better than ensembles."
   ]
  },
  {
   "cell_type": "markdown",
   "id": "2f39782d-939b-4388-a20a-f6597ec062ad",
   "metadata": {},
   "source": [
    "#### Q7. How is the confidence interval calculated using bootstrap?"
   ]
  },
  {
   "cell_type": "markdown",
   "id": "808170e6-54e0-463e-ad69-a8e3bf89416b",
   "metadata": {},
   "source": [
    "To calculate a confidence interval using bootstrap, we perform the following steps:\n",
    "1. Sample the data with replacement (bootstrapping) to create multiple resampled datasets.\n",
    "2. Compute the statistic (e.g., mean) of interest for each resampled dataset.\n",
    "3. Calculate the lower and upper percentiles (e.g., 2.5th and 97.5th percentiles for a 95% confidence interval) of the distribution of the statistic.\n",
    "4. The confidence interval is defined by these lower and upper percentiles."
   ]
  },
  {
   "cell_type": "markdown",
   "id": "25d45e8f-4f0c-4aa3-84e5-da0024e44469",
   "metadata": {},
   "source": [
    "#### Q8. How does bootstrap work and What are the steps involved in bootstrap?"
   ]
  },
  {
   "cell_type": "markdown",
   "id": "86493ead-a4b7-4e11-81e8-424e92c57a0b",
   "metadata": {},
   "source": [
    "Bootstrap is a resampling technique used for estimating the sampling distribution of a statistic. The steps involved in bootstrap are as follows:\n",
    "1. Randomly select (with replacement) a sample of the same size as the original dataset from the dataset. This creates a resampled dataset.\n",
    "2. Calculate the statistic of interest (e.g., mean, variance) for the resampled dataset.\n",
    "3. Repeat steps 1 and 2 a large number of times (typically thousands of iterations) to create a distribution of the statistic.\n",
    "4. Use the distribution to estimate properties of the population, such as confidence intervals or standard errors."
   ]
  },
  {
   "cell_type": "markdown",
   "id": "47a665e5-5936-448f-9447-d29266220a3c",
   "metadata": {},
   "source": [
    "#### Q9. A researcher wants to estimate the mean height of a population of trees. They measure the height of a sample of 50 trees and obtain a mean height of 15 meters and a standard deviation of 2 meters. Use bootstrap to estimate the 95% confidence interval for the population mean height."
   ]
  },
  {
   "cell_type": "code",
   "execution_count": 1,
   "id": "1fe1085a-dfe2-408c-bf8d-4dec8a6f16bb",
   "metadata": {},
   "outputs": [
    {
     "name": "stdout",
     "output_type": "stream",
     "text": [
      "95% Confidence Interval for Mean Height: [15. 15.]\n"
     ]
    }
   ],
   "source": [
    "import numpy as ny\n",
    "sample_heights = ny.array([15] * 50)                                            # Sample data (heights of 50 trees)\n",
    "i = 10000                                                                          # Number of bootstrap iterations\n",
    "bs_means = ny.zeros(i)                                        # Initialize an array to store bootstrap sample means\n",
    "for i in range(i):                                               # Perform bootstrap resampling and calculate means\n",
    "                      # Generate a bootstrap sample by randomly selecting with replacement from the original sample\n",
    "    bs_sample = ny.random.choice(sample_heights, size=len(sample_heights), replace=True)\n",
    "    bs_mean = ny.mean(bs_sample)                                      # Calculate the mean for the bootstrap sample\n",
    "    bs_means[i] = bs_mean                                                         # Store the bootstrap sample mean\n",
    "confidence_interval = ny.percentile(bs_means, [2.5, 97.5])           # Calculate the 95% confidence interval\n",
    "print(f\"95% Confidence Interval for Mean Height: {confidence_interval}\")            # Print the confidence interval"
   ]
  }
 ],
 "metadata": {
  "kernelspec": {
   "display_name": "Python 3 (ipykernel)",
   "language": "python",
   "name": "python3"
  },
  "language_info": {
   "codemirror_mode": {
    "name": "ipython",
    "version": 3
   },
   "file_extension": ".py",
   "mimetype": "text/x-python",
   "name": "python",
   "nbconvert_exporter": "python",
   "pygments_lexer": "ipython3",
   "version": "3.10.9"
  }
 },
 "nbformat": 4,
 "nbformat_minor": 5
}
