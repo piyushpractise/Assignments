{
 "cells": [
  {
   "cell_type": "markdown",
   "id": "c3aaa7db-ad42-486c-b5ec-ae9e9f7bf149",
   "metadata": {},
   "source": [
    "# Activation Function"
   ]
  },
  {
   "cell_type": "markdown",
   "id": "0d05eeaf-e787-423f-a15a-92381ca6c2d8",
   "metadata": {},
   "source": [
    "#### Q1. What is an activation function in the context of artificial neural networks?"
   ]
  },
  {
   "cell_type": "markdown",
   "id": "1a4b1250-951b-49e3-93bb-733879e11d88",
   "metadata": {},
   "source": [
    "An activation function in the context of artificial neural networks is a mathematical function that determines the output of a neuron or node based on its input. It introduces non-linearity to the network, allowing it to learn complex patterns and relationships in data."
   ]
  },
  {
   "cell_type": "markdown",
   "id": "1134af6b-4c66-44e2-98ed-43c838fc5efd",
   "metadata": {},
   "source": [
    "#### Q2. What are some common types of activation functions used in neural networks?"
   ]
  },
  {
   "cell_type": "markdown",
   "id": "bc351b01-6ca3-4a3d-9c7e-25ea356e1292",
   "metadata": {},
   "source": [
    "Some common types of activation functions used in neural networks include:\n",
    "* Sigmoid: S-shaped curve, output range between 0 and 1.\n",
    "* Rectified Linear Unit (ReLU): Outputs the input for positive values, zero for negative values.\n",
    "* Leaky ReLU: Similar to ReLU, but allows a small gradient for negative inputs.\n",
    "* Hyperbolic Tangent (tanh): S-shaped curve, output range between -1 and 1.\n",
    "* Softmax: Used in the output layer for multi-class classification, converts scores into probability distribution."
   ]
  },
  {
   "cell_type": "markdown",
   "id": "49cf9d07-3484-4d31-9a85-3805a9088866",
   "metadata": {},
   "source": [
    "#### Q3. How do activation functions affect the training process and performance of a neural network?"
   ]
  },
  {
   "cell_type": "markdown",
   "id": "72142d0a-436f-440d-abc3-3ed90b79c69d",
   "metadata": {},
   "source": [
    "Activation functions affect the training process and performance of a neural network in several ways:\n",
    "* Non-linearity: They introduce non-linearity, allowing the network to approximate complex functions.\n",
    "* Gradient flow: They influence how gradients flow during backpropagation, affecting weight updates.\n",
    "* Vanishing and exploding gradients: Poorly chosen functions can lead to gradient issues during training.\n",
    "* Activation range: The range of outputs can impact the convergence and stability of training."
   ]
  },
  {
   "cell_type": "markdown",
   "id": "140b56c4-20c4-49f3-81ca-d4217fd87a03",
   "metadata": {},
   "source": [
    "#### Q4. How does the sigmoid activation function work? What are its advantages and disadvantages?"
   ]
  },
  {
   "cell_type": "markdown",
   "id": "faddb69d-95e7-4b42-9213-55f8ea02a7a8",
   "metadata": {},
   "source": [
    "The sigmoid activation function is an S-shaped curve that works by squashing input values to the range between 0 and 1. Its formula is f(x) = 1 / (1 + e^(-x)). Advantages include its smooth gradient, which aids in training, and that it outputs values in a probability-like range. Disadvantages include vanishing gradients for extreme inputs and it's not zero-centered."
   ]
  },
  {
   "cell_type": "markdown",
   "id": "53f4ed8e-b235-4f65-a292-0dc23cd7f979",
   "metadata": {},
   "source": [
    "#### Q5. What is the rectified linear unit (ReLU) activation function? How does it differ from the sigmoid function?"
   ]
  },
  {
   "cell_type": "markdown",
   "id": "ec89ba51-550f-4786-b84a-f0a9e29afc97",
   "metadata": {},
   "source": [
    "The rectified linear unit (ReLU) activation function is defined as f(x) = max(0, x), meaning it outputs the input if it's positive and zero otherwise. It differs from the sigmoid function by being a piecewise linear function and not suffering from vanishing gradients for positive inputs."
   ]
  },
  {
   "cell_type": "markdown",
   "id": "a4d0e3aa-aa79-47a0-9e07-07d3a6b1d575",
   "metadata": {},
   "source": [
    "#### Q6. What are the benefits of using the ReLU activation function over the sigmoid function?"
   ]
  },
  {
   "cell_type": "markdown",
   "id": "daa918aa-761e-4e8b-b0a5-6c1cdcfbfe04",
   "metadata": {},
   "source": [
    "Benefits of using the ReLU activation function over sigmoid include:\n",
    "* Mitigation of vanishing gradients for positive inputs.\n",
    "* Simplicity and faster convergence.\n",
    "* Computational efficiency due to the absence of exponentials."
   ]
  },
  {
   "cell_type": "markdown",
   "id": "b89a68a0-9787-4435-8648-47731fc7836e",
   "metadata": {},
   "source": [
    "#### Q7. Explain the concept of \"leaky ReLU\" and how it addresses the vanishing gradient problem."
   ]
  },
  {
   "cell_type": "markdown",
   "id": "d5fc4b51-b6e0-4567-9db9-f2d574226a50",
   "metadata": {},
   "source": [
    "The \"leaky ReLU\" is a variant of the ReLU activation function that allows a small, non-zero gradient for negative inputs. It addresses the vanishing gradient problem associated with regular ReLU, as it ensures that the gradient is not zero for all negative inputs. This helps with the training of deep neural networks."
   ]
  },
  {
   "cell_type": "markdown",
   "id": "22357778-3d8f-4e67-9b44-67256509b0aa",
   "metadata": {},
   "source": [
    "#### Q8. What is the purpose of the softmax activation function? When is it commonly used?"
   ]
  },
  {
   "cell_type": "markdown",
   "id": "80d510a9-4322-4709-aec4-318ebc52d83c",
   "metadata": {},
   "source": [
    "The softmax activation function is used in the output layer of a neural network for multi-class classification tasks. It converts a vector of raw scores (logits) into a probability distribution, where each output represents the probability of the corresponding class. It ensures that the sum of the probabilities is equal to 1, making it suitable for classification problems where an input belongs to one of multiple classes."
   ]
  },
  {
   "cell_type": "markdown",
   "id": "39a8b0c5-74bc-41db-ab6b-9b812ce2d18c",
   "metadata": {},
   "source": [
    "#### Q9. What is the hyperbolic tangent (tanh) activation function? How does it compare to the sigmoid function?"
   ]
  },
  {
   "cell_type": "markdown",
   "id": "b30650a6-08cb-47be-bcb6-3fae8f46ca09",
   "metadata": {},
   "source": [
    "The hyperbolic tangent (tanh) activation function is similar to the sigmoid function but outputs values in the range between -1 and 1. Compared to sigmoid, tanh is zero-centered, meaning its average output is closer to zero. It can be advantageous when working with data that has negative values or when aiming for stronger gradients during training. However, it still suffers from the vanishing gradient problem for extreme inputs."
   ]
  }
 ],
 "metadata": {
  "kernelspec": {
   "display_name": "Python 3 (ipykernel)",
   "language": "python",
   "name": "python3"
  },
  "language_info": {
   "codemirror_mode": {
    "name": "ipython",
    "version": 3
   },
   "file_extension": ".py",
   "mimetype": "text/x-python",
   "name": "python",
   "nbconvert_exporter": "python",
   "pygments_lexer": "ipython3",
   "version": "3.10.9"
  }
 },
 "nbformat": 4,
 "nbformat_minor": 5
}
