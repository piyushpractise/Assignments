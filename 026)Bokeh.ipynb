{
 "cells": [
  {
   "cell_type": "markdown",
   "id": "a4ba8038-5b23-43a4-a4de-a7af045000da",
   "metadata": {},
   "source": [
    "# Bokeh"
   ]
  },
  {
   "cell_type": "markdown",
   "id": "24f969ce-e1f5-49fb-85c4-4b22ba21c284",
   "metadata": {},
   "source": [
    "#### Q1. How can you create a Bokeh plot using Python code?"
   ]
  },
  {
   "cell_type": "markdown",
   "id": "51499f63-df56-4a3d-9d96-dffc0f1693f5",
   "metadata": {},
   "source": [
    "We can create a Bokeh plot using the Bokeh library in Python by following these general steps:\n",
    "1. Import the necessary modules from the Bokeh library.\n",
    "2. Prepare your data.\n",
    "3. Create a figure using the figure function.\n",
    "4. Add glyphs (visual markers) to the figure using methods like circle, line, etc.\n",
    "5. Customize the plot by adding labels, axes, titles, and more.\n",
    "6. Show or save the plot."
   ]
  },
  {
   "cell_type": "code",
   "execution_count": 1,
   "id": "a7628181-2572-415d-b5b3-d08737e50afd",
   "metadata": {},
   "outputs": [],
   "source": [
    "# Example\n",
    "from bokeh.plotting import figure, show\n",
    "x = [1, 2, 3, 4, 5]\n",
    "y = [6, 7, 2, 4, 8]\n",
    "p = figure(title=\"Simple Bokeh Plot\")\n",
    "p.line(x, y, line_width=2)\n",
    "show(p)"
   ]
  },
  {
   "cell_type": "markdown",
   "id": "da9a0d83-e3f8-4d9a-b213-2b296038416c",
   "metadata": {},
   "source": [
    "#### Q2. What are glyphs in Bokeh, and how can you add them to a Bokeh plot? Explain with an example."
   ]
  },
  {
   "cell_type": "markdown",
   "id": "d39a363c-746f-439e-82ac-2a6e510e9ec9",
   "metadata": {},
   "source": [
    "Glyphs are visual markers that represent your data on the plot. You can add them using methods like circle, line, square, etc. Glyphs can be customized with various attributes like color, size, and more."
   ]
  },
  {
   "cell_type": "code",
   "execution_count": 2,
   "id": "4c0a3f28-fe46-4e1e-b421-2f2a2c7f59e9",
   "metadata": {},
   "outputs": [],
   "source": [
    "# Example\n",
    "from bokeh.plotting import figure, show\n",
    "x = [1, 2, 3, 4, 5]\n",
    "y = [6, 7, 2, 4, 8]\n",
    "p = figure(title=\"Bokeh Plot with Glyphs\")\n",
    "p.circle(x, y, size=10, color=\"navy\", alpha=0.5)\n",
    "show(p)"
   ]
  },
  {
   "cell_type": "markdown",
   "id": "076d7718-b14c-4380-b699-f65cf7f10a8c",
   "metadata": {},
   "source": [
    "#### Q3. How can you customize the appearance of a Bokeh plot, including the axes, title, and legend?"
   ]
  },
  {
   "cell_type": "markdown",
   "id": "8ab10f49-2492-4b52-99a6-3f3196b3234a",
   "metadata": {},
   "source": [
    "You can customize the appearance of a Bokeh plot using various methods and attributes. For example, you can use title, xaxis, yaxis, legend, and other methods to set labels, titles, axis labels, legends, and more."
   ]
  },
  {
   "cell_type": "code",
   "execution_count": 3,
   "id": "e9bd5759-f881-4bff-a819-e22997e4bb8a",
   "metadata": {
    "tags": []
   },
   "outputs": [],
   "source": [
    "# Example\n",
    "from bokeh.plotting import figure, show\n",
    "x = [1, 2, 3, 4, 5]\n",
    "y = [6, 7, 2, 4, 8]\n",
    "p = figure(title=\"Customized Bokeh Plot\", x_axis_label=\"X-axis\", y_axis_label=\"Y-axis\")\n",
    "p.circle(x, y, size=10, color=\"navy\", alpha=0.5)\n",
    "show(p)"
   ]
  },
  {
   "cell_type": "markdown",
   "id": "ef91545b-cd1e-412e-815f-786cebbd1475",
   "metadata": {},
   "source": [
    "#### Q4. What is a Bokeh server, and how can you use it to create interactive plots that can be updated in real time?"
   ]
  },
  {
   "cell_type": "markdown",
   "id": "ce3a5936-7e0b-48e9-838e-78c39f38e6a6",
   "metadata": {},
   "source": [
    "The Bokeh server allows you to create interactive plots that can be updated in real-time. With the Bokeh server, you can build more complex apps that respond to user input and dynamically update plots without needing to re-run your Python code."
   ]
  },
  {
   "cell_type": "markdown",
   "id": "05927d4c-71ea-49d3-83e4-c24293273176",
   "metadata": {},
   "source": [
    "#### Q5. How can you embed a Bokeh plot into a web page or dashboard using Flask or Django?"
   ]
  },
  {
   "cell_type": "markdown",
   "id": "ca520eb3-7662-4726-af86-80348af019c0",
   "metadata": {},
   "source": [
    "Embedding Bokeh Plots: You can embed Bokeh plots into web pages or dashboards using frameworks like Flask or Django. You need to use the components function to generate the JavaScript and HTML code needed to render the Bokeh plot on a web page. Then, you can include this generated code in your template HTML."
   ]
  },
  {
   "cell_type": "code",
   "execution_count": null,
   "id": "8d365a3e-28e3-40b4-ae5b-e4dcf0b34700",
   "metadata": {
    "tags": []
   },
   "outputs": [],
   "source": [
    "# Example\n",
    "from flask import Flask, render_template\n",
    "from bokeh.plotting import figure\n",
    "from bokeh.embed import components\n",
    "\n",
    "app = Flask(__name__)\n",
    "\n",
    "@app.route('/')\n",
    "def index():\n",
    "    # Create a figure and add glyphs\n",
    "    p = figure()\n",
    "    p.circle([1, 2, 3], [4, 5, 6])\n",
    "    \n",
    "    # Generate JavaScript and HTML components\n",
    "    script, div = components(p)\n",
    "    \n",
    "    # Render the template with the plot components\n",
    "    return render_template('index.html', script=script, div=div)\n",
    "\n",
    "if __name__ == '__main__':\n",
    "    app.run()"
   ]
  }
 ],
 "metadata": {
  "kernelspec": {
   "display_name": "Python 3 (ipykernel)",
   "language": "python",
   "name": "python3"
  },
  "language_info": {
   "codemirror_mode": {
    "name": "ipython",
    "version": 3
   },
   "file_extension": ".py",
   "mimetype": "text/x-python",
   "name": "python",
   "nbconvert_exporter": "python",
   "pygments_lexer": "ipython3",
   "version": "3.10.9"
  }
 },
 "nbformat": 4,
 "nbformat_minor": 5
}
