{
 "cells": [
  {
   "cell_type": "markdown",
   "id": "4b15a1e1-dc1c-49c4-9690-a6583f638521",
   "metadata": {},
   "source": [
    "# Statistics Advance-7"
   ]
  },
  {
   "cell_type": "markdown",
   "id": "3faf201d-70f3-47b3-8bc3-91f92571151d",
   "metadata": {
    "tags": []
   },
   "source": [
    "#### Q1. Write a Python function that takes in two arrays of data and calculates the F-value for a variance ratio test. The function should return the F-value and the corresponding p-value for the test."
   ]
  },
  {
   "cell_type": "code",
   "execution_count": 1,
   "id": "ee561b7b-aaa6-4458-b03a-002938fbc293",
   "metadata": {},
   "outputs": [
    {
     "name": "stdout",
     "output_type": "stream",
     "text": [
      "F-value: 1.0775862068965518\n",
      "p-value: 0.47200472140745475\n"
     ]
    }
   ],
   "source": [
    "import scipy.stats as stats\n",
    "import numpy as ny\n",
    "def variance_ratio_test(data1, data2):\n",
    "    F_stat = ny.var(data1) / ny.var(data2)\n",
    "    df1 = len(data1) - 1\n",
    "    df2 = len(data2) - 1\n",
    "    p_value = 1 - stats.f.cdf(F_stat, df1, df2)\n",
    "    return F_stat, p_value\n",
    "# Example usage\n",
    "d1 = [10, 15, 20, 25, 30]\n",
    "d2 = [12, 18, 22, 26, 32]\n",
    "F_value, p_value = variance_ratio_test(d1, d2)\n",
    "print(\"F-value:\", F_value)\n",
    "print(\"p-value:\", p_value)"
   ]
  },
  {
   "cell_type": "markdown",
   "id": "20486ead-8700-49b9-9971-0bfa76b9fca3",
   "metadata": {},
   "source": [
    "#### Q2. Given a significance level of 0.05 and the degrees of freedom for the numerator and denominator of an F-distribution, write a Python function that returns the critical F-value for a two-tailed test."
   ]
  },
  {
   "cell_type": "code",
   "execution_count": 2,
   "id": "4c23705b-a32d-479f-85c9-741858d8f8a4",
   "metadata": {},
   "outputs": [
    {
     "name": "stdout",
     "output_type": "stream",
     "text": [
      "Critical F-value: 4.46834157822528\n"
     ]
    }
   ],
   "source": [
    "import scipy.stats as stats\n",
    "def critical_f_value(alpha, df1, df2):\n",
    "    critical_value = stats.f.ppf(1 - alpha / 2, df1, df2)\n",
    "    return critical_value\n",
    "# Example usage\n",
    "alpha = 0.05\n",
    "df1 = 4\n",
    "df2 = 10\n",
    "critical_value = critical_f_value(alpha, df1, df2)\n",
    "print(\"Critical F-value:\", critical_value)"
   ]
  },
  {
   "cell_type": "markdown",
   "id": "a4901b25-0410-4a9c-96fd-e360f4e7599a",
   "metadata": {},
   "source": [
    "#### Q3. Write a Python program that generates random samples from two normal distributions with known variances and uses an F-test to determine if the variances are equal. The program should output the F-value, degrees of freedom, and p-value for the test."
   ]
  },
  {
   "cell_type": "code",
   "execution_count": 3,
   "id": "66276a98-0277-426b-a188-a4ddd09da44c",
   "metadata": {},
   "outputs": [
    {
     "name": "stdout",
     "output_type": "stream",
     "text": [
      "F-value: 0.22768811250542262\n",
      "Degrees of freedom: 19 19\n",
      "p-value: 0.16668083965668468\n"
     ]
    }
   ],
   "source": [
    "import scipy.stats as stats\n",
    "import numpy as ny\n",
    "def equal_variance_test(data1, data2):\n",
    "    F_statistic = ny.var(data1) / ny.var(data2)\n",
    "    dof1 = len(data1) - 1\n",
    "    dof2 = len(data2) - 1\n",
    "    p_value = 2 * min(stats.f.cdf(F_statistic, df1, df2), 1 - stats.f.cdf(F_statistic, df1, df2))\n",
    "    return F_statistic, dof1, dof2, p_value\n",
    "# Example usage\n",
    "ny.random.seed(0)\n",
    "d1 = ny.random.normal(0, 10, 20)\n",
    "d2 = ny.random.normal(0, 15, 20)\n",
    "F_value, dof1, dof2, p_value = equal_variance_test(d1, d2)\n",
    "print(\"F-value:\", F_value)\n",
    "print(\"Degrees of freedom:\", dof1, dof2)\n",
    "print(\"p-value:\", p_value)"
   ]
  },
  {
   "cell_type": "markdown",
   "id": "895fbf6b-0696-49c3-a002-ff72e403acae",
   "metadata": {},
   "source": [
    "#### Q4.The variances of two populations are known to be 10 and 15. A sample of 12 observations is taken from each population. Conduct an F-test at the 5% significance level to determine if the variances are significantly different."
   ]
  },
  {
   "cell_type": "code",
   "execution_count": 4,
   "id": "e2a9bd31-44d3-445a-81d3-53222116ef04",
   "metadata": {},
   "outputs": [
    {
     "name": "stdout",
     "output_type": "stream",
     "text": [
      "F-value: 0.6666666666666666\n",
      "Critical F-value: 3.473699051085809\n",
      "p-value: 0.5123897987357999\n",
      "Fail to reject the null hypothesis: Variances are not significantly different.\n"
     ]
    }
   ],
   "source": [
    "import scipy.stats as stats\n",
    "pv1 = 10 # Since we know the population variance so it is equal to sample variance\n",
    "pv2 = 15 # Since we know the population variance so it is equal to sample variance\n",
    "ss = 12\n",
    "alpha = 0.05\n",
    "dof1 = ss - 1\n",
    "dof2 = ss - 1\n",
    "F_stat = pv1 / pv2\n",
    "critical_value = stats.f.ppf(1 - alpha / 2, dof1, dof2)\n",
    "p_value = 2 * min(stats.f.cdf(F_stat, dof1, dof2), 1 - stats.f.cdf(F_stat, dof1, dof2))\n",
    "print(\"F-value:\", F_stat)\n",
    "print(\"Critical F-value:\", critical_value)\n",
    "print(\"p-value:\", p_value)\n",
    "\n",
    "if F_stat > critical_value:\n",
    "    print(\"Reject the null hypothesis: Variances are significantly different.\")\n",
    "else:\n",
    "    print(\"Fail to reject the null hypothesis: Variances are not significantly different.\")"
   ]
  },
  {
   "cell_type": "markdown",
   "id": "1ee0c256-4d44-456b-918e-86ef6f99b9e1",
   "metadata": {},
   "source": [
    "#### Q5. A manufacturer claims that the variance of the diameter of a certain product is 0.005. A sample of 25 products is taken, and the sample variance is found to be 0.006. Conduct an F-test at the 1% significance level to determine if the claim is justified."
   ]
  },
  {
   "cell_type": "code",
   "execution_count": 5,
   "id": "89e843ff-5c33-4df0-8def-9afd5191bc1e",
   "metadata": {},
   "outputs": [
    {
     "name": "stdout",
     "output_type": "stream",
     "text": [
      "F-value: 1.2\n",
      "Critical F-value: 2.966741631292762\n",
      "p-value: 0.6587309365634488\n",
      "Fail to reject the null hypothesis: Claim is justified.\n"
     ]
    }
   ],
   "source": [
    "import scipy.stats as stats\n",
    "cv = 0.005\n",
    "sv = 0.006\n",
    "ss = 25\n",
    "alpha = 0.01\n",
    "dof1 = ss - 1\n",
    "dof2 = ss - 1\n",
    "F_stat = sv / cv\n",
    "critical_value = stats.f.ppf(1 - alpha / 2, dof1, dof2)\n",
    "p_value = 2 * min(stats.f.cdf(F_stat, dof1, dof2), 1 - stats.f.cdf(F_stat, dof1, dof2))\n",
    "print(\"F-value:\", F_stat)\n",
    "print(\"Critical F-value:\", critical_value)\n",
    "print(\"p-value:\", p_value)\n",
    "if F_stat > critical_value:\n",
    "    print(\"Reject the null hypothesis: Claim is not justified.\")\n",
    "else:\n",
    "    print(\"Fail to reject the null hypothesis: Claim is justified.\")"
   ]
  },
  {
   "cell_type": "markdown",
   "id": "28219ee6-0058-4b24-8039-1012290c196b",
   "metadata": {},
   "source": [
    "#### Q6. Write a Python function that takes in the degrees of freedom for the numerator and denominator of an F-distribution and calculates the mean and variance of the distribution. The function should return the mean and variance as a tuple."
   ]
  },
  {
   "cell_type": "code",
   "execution_count": 6,
   "id": "35f4a634-03ca-4767-a96e-3a2df1bec4a1",
   "metadata": {},
   "outputs": [
    {
     "name": "stdout",
     "output_type": "stream",
     "text": [
      "Mean: 1.25\n",
      "Variance: 1.3541666666666667\n"
     ]
    }
   ],
   "source": [
    "def f_distribution_properties(dof1, dof2):\n",
    "    m = dof2 / (dof2 - 2)\n",
    "    v = (2 * dof2 ** 2 * (dof1 + dof2 - 2)) / (dof1 * (dof2 - 2) ** 2 * (dof2 - 4))\n",
    "    return m, v\n",
    "# Example usage\n",
    "ndof = 5\n",
    "ddof = 10\n",
    "m, v = f_distribution_properties(ndof, ddof)\n",
    "print(\"Mean:\", m)\n",
    "print(\"Variance:\", v)"
   ]
  },
  {
   "cell_type": "markdown",
   "id": "6c6fc251-2acf-4ab4-898f-3ed66be76124",
   "metadata": {},
   "source": [
    "#### Q7. A random sample of 10 measurements is taken from a normal population with unknown variance. The sample variance is found to be 25. Another random sample of 15 measurements is taken from another normal population with unknown variance, and the sample variance is found to be 20. Conduct an F-test at the 10% significance level to determine if the variances are significantly different."
   ]
  },
  {
   "cell_type": "code",
   "execution_count": 7,
   "id": "b419ed9a-8159-4760-8ccb-de48a558eb18",
   "metadata": {},
   "outputs": [
    {
     "name": "stdout",
     "output_type": "stream",
     "text": [
      "F-value: 1.25\n",
      "Critical F-value: 2.6457907352338195\n",
      "p-value: 0.6832194382585952\n",
      "Fail to reject the null hypothesis: Variances are not significantly different.\n"
     ]
    }
   ],
   "source": [
    "import scipy.stats as stats\n",
    "sv1 = 25\n",
    "sv2 = 20\n",
    "ss1 = 10\n",
    "ss2 = 15\n",
    "alpha = 0.10\n",
    "dof1 = ss1 - 1\n",
    "dof2 = ss2 - 1\n",
    "F_stat = sv1 / sv2\n",
    "critical_value = stats.f.ppf(1 - alpha / 2, dof1, dof2)\n",
    "p_value = 2 * min(stats.f.cdf(F_stat, dof1, dof2), 1 - stats.f.cdf(F_stat, dof1, dof2))\n",
    "print(\"F-value:\", F_stat)\n",
    "print(\"Critical F-value:\", critical_value)\n",
    "print(\"p-value:\", p_value)\n",
    "if F_stat > critical_value:\n",
    "    print(\"Reject the null hypothesis: Variances are significantly different.\")\n",
    "else:\n",
    "    print(\"Fail to reject the null hypothesis: Variances are not significantly different.\")"
   ]
  },
  {
   "cell_type": "markdown",
   "id": "aa579d02-e69e-490e-9827-e80ffa5642d2",
   "metadata": {},
   "source": [
    "#### Q8. The following data represent the waiting times in minutes at two different restaurants on a Saturday night: Restaurant A: 24, 25, 28, 23, 22, 20, 27; Restaurant B: 31, 33, 35, 30, 32, 36. Conduct an F-test at the 5% significance level to determine if the variances are significantly different."
   ]
  },
  {
   "cell_type": "code",
   "execution_count": 8,
   "id": "be6a38b4-2e5b-4e80-be96-a7c921f69d3a",
   "metadata": {},
   "outputs": [
    {
     "name": "stdout",
     "output_type": "stream",
     "text": [
      "F-value: 1.496767651159843\n",
      "Critical F-value: 6.977701858535566\n",
      "p-value: 0.674826713928165\n",
      "Fail to reject the null hypothesis: Variances are not significantly different.\n"
     ]
    }
   ],
   "source": [
    "import scipy.stats as stats\n",
    "import numpy as ny\n",
    "rA = [24, 25, 28, 23, 22, 20, 27]\n",
    "rB = [31, 33, 35, 30, 32, 36]\n",
    "alpha = 0.05\n",
    "dof1 = len(rA) - 1\n",
    "dof2 = len(rB) - 1\n",
    "svA = ny.var(rA)\n",
    "svB = ny.var(rB)\n",
    "F_stat = svA / svB\n",
    "critical_value = stats.f.ppf(1 - alpha / 2, dof1, dof2)\n",
    "p_value = 2 * min(stats.f.cdf(F_stat, dof1, dof2), 1 - stats.f.cdf(F_stat, dof1, dof2))\n",
    "print(\"F-value:\", F_stat)\n",
    "print(\"Critical F-value:\", critical_value)\n",
    "print(\"p-value:\", p_value)\n",
    "if F_stat > critical_value:\n",
    "    print(\"Reject the null hypothesis: Variances are significantly different.\")\n",
    "else:\n",
    "    print(\"Fail to reject the null hypothesis: Variances are not significantly different.\")"
   ]
  },
  {
   "cell_type": "markdown",
   "id": "f8713d95-fbf9-4339-b696-c2a0625b1b5f",
   "metadata": {},
   "source": [
    "#### Q9. The following data represent the test scores of two groups of students: Group A: 80, 85, 90, 92, 87, 83; Group B: 75, 78, 82, 79, 81, 84. Conduct an F-test at the 1% significance level to determine if the variances are significantly different."
   ]
  },
  {
   "cell_type": "code",
   "execution_count": 9,
   "id": "57055de7-5810-4900-8ca1-26bf99c34be3",
   "metadata": {
    "tags": []
   },
   "outputs": [
    {
     "name": "stdout",
     "output_type": "stream",
     "text": [
      "F-value: 1.9442622950819677\n",
      "Critical F-value: 14.939605459912219\n",
      "p-value: 0.4831043549070688\n",
      "Fail to reject the null hypothesis: Variances are not significantly different.\n"
     ]
    }
   ],
   "source": [
    "import scipy.stats as stats\n",
    "import numpy as ny\n",
    "gA = [80, 85, 90, 92, 87, 83]\n",
    "gB = [75, 78, 82, 79, 81, 84]\n",
    "alpha = 0.01\n",
    "dof1 = len(gA) - 1\n",
    "dof2 = len(gB) - 1\n",
    "svA = ny.var(gA)\n",
    "svB = ny.var(gB)\n",
    "F_stat = svA / svB\n",
    "critical_value = stats.f.ppf(1 - alpha / 2, dof1, dof2)\n",
    "p_value = 2 * min(stats.f.cdf(F_stat, dof1, dof2), 1 - stats.f.cdf(F_stat, dof1, dof2))\n",
    "print(\"F-value:\", F_stat)\n",
    "print(\"Critical F-value:\", critical_value)\n",
    "print(\"p-value:\", p_value)\n",
    "if F_stat > critical_value:\n",
    "    print(\"Reject the null hypothesis: Variances are significantly different.\")\n",
    "else:\n",
    "    print(\"Fail to reject the null hypothesis: Variances are not significantly different.\")"
   ]
  }
 ],
 "metadata": {
  "kernelspec": {
   "display_name": "Python 3 (ipykernel)",
   "language": "python",
   "name": "python3"
  },
  "language_info": {
   "codemirror_mode": {
    "name": "ipython",
    "version": 3
   },
   "file_extension": ".py",
   "mimetype": "text/x-python",
   "name": "python",
   "nbconvert_exporter": "python",
   "pygments_lexer": "ipython3",
   "version": "3.10.9"
  }
 },
 "nbformat": 4,
 "nbformat_minor": 5
}
