{
 "cells": [
  {
   "cell_type": "markdown",
   "id": "80b73ce1-603b-4dde-bf0f-39f0d25c9b89",
   "metadata": {},
   "source": [
    "# Oops Assignment"
   ]
  },
  {
   "cell_type": "markdown",
   "id": "56d05d23-bf3f-40e4-91df-f4c5d71d7bd4",
   "metadata": {},
   "source": [
    "##### Q1. Which function is used to open a file? What are the different modes of opening a file? Explain each mode of file opening."
   ]
  },
  {
   "cell_type": "markdown",
   "id": "644b0a04-c484-4d09-85f3-b69efef61863",
   "metadata": {},
   "source": [
    "The open() function is used to open a file. It takes two arguments: the file name (or path) and the mode in which the file should be opened.\n",
    "\n",
    "Here are the different modes of opening a file and their explanations:\n",
    "\n",
    "    1. \"r\" (Read Mode): This is the default mode. It opens the file for reading. If the file doesn't exist, it raises a FileNotFoundError error.\n",
    "    \n",
    "    2. \"w\" (Write Mode): Opens the file for writing. If the file already exists, it truncates (clears) its contents. If the file doesn't exist, it creates a new file.\n",
    "    \n",
    "    3. \"a\" (Append Mode): Opens the file for writing, but appends new data to the end of the file. If the file doesn't exist, it creates a new file.\n",
    "    \n",
    "    4. \"x\" (Exclusive Creation Mode): Opens the file for writing, but only if the file does not already exist. If the file exists, an error is raised.\n",
    "    \n",
    "    5. \"b\" (Binary Mode): This mode is used in combination with other modes (e.g., \"rb\" or \"wb\") to indicate that the file should be treated as a binary file.\n",
    "    \n",
    "    6. \"t\" (Text Mode): This mode is the default and is used to indicate that the file should be treated as a text file (default behavior).\n",
    "    \n",
    "    7. \"+\" (Update Mode): This mode is used to allow both reading and writing. For example, \"r+\" opens the file for both reading and writing."
   ]
  },
  {
   "cell_type": "markdown",
   "id": "f121e220-e2d5-473d-bcdc-780b5071261e",
   "metadata": {},
   "source": [
    "##### Q2. Why close() function is used? Why is it important to close a file?"
   ]
  },
  {
   "cell_type": "markdown",
   "id": "f106dfa9-01d7-4dc9-b1af-28a2c5e20e2b",
   "metadata": {},
   "source": [
    "The close() function is used to close an open file. It is important to close a file after you are done with it because it ensures that the resources associated with the file are properly released and made available for other processes or programs. Failing to close a file can lead to several issues:\n",
    "\n",
    "    Resource Leaks: When a file is opened, the operating system allocates resources such as memory to manage the file's data and metadata. If we don't close the file properly, these resources may not be released, causing resource leaks and potentially leading to performance degradation over time.\n",
    "\n",
    "    File Locking: Some operating systems or filesystems might lock the file when it's open. Failing to close the file could prevent other processes or programs from accessing or modifying the file.\n",
    "\n",
    "    Data Integrity: If we are writing data to a file, not closing it properly might result in the data not being fully written or buffered, leading to data corruption or incomplete information.\n",
    "\n",
    "    Program Crashes: If our program crashes or encounters an exception before closing the file, any pending writes or updates might not be properly saved to the file."
   ]
  },
  {
   "cell_type": "markdown",
   "id": "f1057105-d191-4e62-8e85-cb97f631b62d",
   "metadata": {},
   "source": [
    "##### Q3. Write a python program to create a text file. Write ‘I want to become a Data Scientist’ in that file. Then close the file. Open this file and read the content of the file."
   ]
  },
  {
   "cell_type": "code",
   "execution_count": 1,
   "id": "688731dc-808b-42c1-b3de-50f112d8421d",
   "metadata": {
    "tags": []
   },
   "outputs": [
    {
     "name": "stdout",
     "output_type": "stream",
     "text": [
      "I want to become a Data Scientist\n"
     ]
    }
   ],
   "source": [
    "# Create and write to a text file\n",
    "with open(\"data_scientist.txt\", \"w\") as file:\n",
    "    file.write(\"I want to become a Data Scientist\")\n",
    "# Open and read the content of the file\n",
    "with open(\"data_scientist.txt\", \"r\") as file:\n",
    "    content = file.read()\n",
    "    print(content)"
   ]
  },
  {
   "cell_type": "markdown",
   "id": "cff8a247-8ff5-4cbf-a9a3-76a755194aee",
   "metadata": {},
   "source": [
    "##### Q4. Explain the following with python code: read(), readline() and readlines()."
   ]
  },
  {
   "cell_type": "code",
   "execution_count": 2,
   "id": "18e6c7a4-6b99-4428-8ff8-d163c21c0744",
   "metadata": {
    "tags": []
   },
   "outputs": [
    {
     "name": "stdout",
     "output_type": "stream",
     "text": [
      "Hello, this is line 1.\n",
      "This is line 2 of the example file.\n",
      "The last line, line 3.\n"
     ]
    }
   ],
   "source": [
    "# Using read() to read the entire file content\n",
    "with open(\"example.txt\", \"r\") as file:\n",
    "    content = file.read()\n",
    "    print(content)"
   ]
  },
  {
   "cell_type": "code",
   "execution_count": 3,
   "id": "52338ec8-04cf-46da-9e69-699c6751455d",
   "metadata": {
    "tags": []
   },
   "outputs": [
    {
     "name": "stdout",
     "output_type": "stream",
     "text": [
      "Line 1: Hello, this is line 1.\n",
      "\n",
      "Line 2: This is line 2 of the example file.\n",
      "\n"
     ]
    }
   ],
   "source": [
    "# Using readline() to read lines one by one\n",
    "with open(\"example.txt\", \"r\") as file:\n",
    "    line1 = file.readline()\n",
    "    line2 = file.readline()\n",
    "    print(\"Line 1:\", line1)\n",
    "    print(\"Line 2:\", line2)"
   ]
  },
  {
   "cell_type": "code",
   "execution_count": 4,
   "id": "b529948b-e6af-494f-afa9-d99fd1c71e49",
   "metadata": {
    "tags": []
   },
   "outputs": [
    {
     "name": "stdout",
     "output_type": "stream",
     "text": [
      "Hello, this is line 1.\n",
      "\n",
      "This is line 2 of the example file.\n",
      "\n",
      "The last line, line 3.\n"
     ]
    }
   ],
   "source": [
    "# Using readlines() to read all lines into a list\n",
    "with open(\"example.txt\", \"r\") as file:\n",
    "    lines = file.readlines()\n",
    "    for line in lines:\n",
    "        print(line)"
   ]
  },
  {
   "cell_type": "markdown",
   "id": "ce90f96f-ead1-4319-8db8-a191ed9971fe",
   "metadata": {},
   "source": [
    "##### Q5. Explain why with statement is used with open(). What is the advantage of using with statement and open() together?"
   ]
  },
  {
   "cell_type": "markdown",
   "id": "6c465eba-6db6-49f7-ab86-b7e4693050f0",
   "metadata": {},
   "source": [
    "The with statement is used in conjunction with the open() function to simplify the management of resources, such as files. It provides a more efficient and convenient way to work with files and other resources, ensuring that they are properly managed and closed when no longer needed.\n",
    "Advantages of using the with statement with open():\n",
    "\n",
    "    Automatic Resource Management: The primary advantage of using the with statement with open() is that it ensures proper and automatic management of resources. When a code block using the with statement is exited, whether normally or due to an exception, the associated file is automatically closed. This helps prevent resource leaks and makes the code more robust.\n",
    "\n",
    "    Cleaner Syntax: The with statement provides a cleaner and more readable syntax for working with resources. It eliminates the need for explicit close() calls, which can clutter the code and make it harder to read and maintain.\n",
    "\n",
    "    Exception Handling: The with statement also handles exceptions more effectively. If an exception occurs within the with block, the file is still properly closed before the exception is propagated, reducing the risk of data corruption or other issues."
   ]
  },
  {
   "cell_type": "markdown",
   "id": "de49152d-7123-44c4-af75-d26157c758f8",
   "metadata": {},
   "source": [
    "##### Q6. Explain the write() and writelines() functions. Give a suitable example."
   ]
  },
  {
   "cell_type": "markdown",
   "id": "e8d8ed88-b38d-4efe-ae28-7a5ce9d9d196",
   "metadata": {},
   "source": [
    "###### write() Function:\n",
    "The write() function is used to write a string to a file. It takes a single argument, which is the string to be written, and appends it to the end of the file. If the file does not exist, a new file will be created. If the file already exists, the existing content will be overwritten.\n",
    "###### writelines() Function:\n",
    "The writelines() function is used to write a list of strings to a file. Each string in the list is written as a separate line in the file. Like the write() function, if the file does not exist, a new file will be created, and existing content will be overwritten if the file already exists."
   ]
  },
  {
   "cell_type": "code",
   "execution_count": 5,
   "id": "9bb4f8dd-5b24-474d-bcc2-eafb661625ad",
   "metadata": {
    "tags": []
   },
   "outputs": [],
   "source": [
    "# Writing data to a file using write() function\n",
    "with open(\"output.txt\", \"w\") as file:\n",
    "    file.write(\"Hello, World!\\n\")\n",
    "    file.write(\"This is a sample text.\\n\")"
   ]
  },
  {
   "cell_type": "code",
   "execution_count": 6,
   "id": "a316a6f9-9025-4fb5-8aec-9dfc7b80efd3",
   "metadata": {
    "tags": []
   },
   "outputs": [],
   "source": [
    "# Writing data to a file using writelines() function\n",
    "lines = [\"Line 1\\n\", \"Line 2\\n\", \"Line 3\\n\"]\n",
    "with open(\"output.txt\", \"w\") as file:\n",
    "    file.writelines(lines)"
   ]
  }
 ],
 "metadata": {
  "kernelspec": {
   "display_name": "Python 3 (ipykernel)",
   "language": "python",
   "name": "python3"
  },
  "language_info": {
   "codemirror_mode": {
    "name": "ipython",
    "version": 3
   },
   "file_extension": ".py",
   "mimetype": "text/x-python",
   "name": "python",
   "nbconvert_exporter": "python",
   "pygments_lexer": "ipython3",
   "version": "3.10.9"
  }
 },
 "nbformat": 4,
 "nbformat_minor": 5
}
