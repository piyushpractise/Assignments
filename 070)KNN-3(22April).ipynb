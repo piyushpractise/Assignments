{
 "cells": [
  {
   "cell_type": "markdown",
   "id": "d623241e-e478-45c5-95ba-e00d0f06b141",
   "metadata": {},
   "source": [
    "# KNN-3"
   ]
  },
  {
   "cell_type": "markdown",
   "id": "bb466b55-9ad9-4208-b486-5ccff85cefe7",
   "metadata": {},
   "source": [
    "#### Q1. Write a Python code to implement the KNN classifier algorithm on load_iris dataset in sklearn.datasets."
   ]
  },
  {
   "cell_type": "code",
   "execution_count": 1,
   "id": "a83a3602-ebb5-405d-a56e-64c9d65e41e4",
   "metadata": {
    "tags": []
   },
   "outputs": [
    {
     "name": "stdout",
     "output_type": "stream",
     "text": [
      " Accuracy of model is 0.97\n"
     ]
    }
   ],
   "source": [
    "from sklearn.datasets import load_iris\n",
    "from sklearn.model_selection import train_test_split\n",
    "from sklearn.neighbors import KNeighborsClassifier\n",
    "from sklearn.metrics import accuracy_score\n",
    "\n",
    "# Imporing Datasets and spliting it\n",
    "ds = load_iris()\n",
    "x = ds.data\n",
    "y = ds.target\n",
    "x_train, x_test, y_train, y_test = train_test_split(x,y, test_size=.25, random_state=32, stratify = y)\n",
    "\n",
    "# Fitting & Prediction\n",
    "model = KNeighborsClassifier(n_neighbors=3)\n",
    "model.fit(x_train,y_train)\n",
    "y_pred = model.predict(x_test)\n",
    "\n",
    "# Evaluting the model\n",
    "acc = accuracy_score(y_test,y_pred)\n",
    "print(f\" Accuracy of model is {acc:.2f}\")"
   ]
  },
  {
   "cell_type": "markdown",
   "id": "77eae963-f85a-4ec4-849e-01b05742a60b",
   "metadata": {},
   "source": [
    "#### Q2. Write a Python code to implement the KNN regressor algorithm on load_boston dataset in sklearn.datasets."
   ]
  },
  {
   "cell_type": "code",
   "execution_count": 2,
   "id": "079b7f27-0438-498b-beff-0b7a093eadb9",
   "metadata": {
    "tags": []
   },
   "outputs": [
    {
     "name": "stdout",
     "output_type": "stream",
     "text": [
      "Mean Squared Error is 0.03\n"
     ]
    }
   ],
   "source": [
    "# load_boston dataset has been removed from scikit-learn since version 1.2.\n",
    "import pandas as pd\n",
    "import numpy as ny\n",
    "from sklearn.model_selection import train_test_split as tts\n",
    "from sklearn.neighbors import KNeighborsRegressor as knr\n",
    "from sklearn.metrics import mean_squared_error as mse\n",
    "\n",
    "# Importing Datasets and spliting it\n",
    "data_url = \"http://lib.stat.cmu.edu/datasets/boston\"\n",
    "raw_df = pd.read_csv(data_url, sep=\"\\s+\", skiprows=22, header=None)\n",
    "data = ny.hstack([raw_df.values[::2, :], raw_df.values[1::2, :2]])\n",
    "target = raw_df.values[1::2, 2]\n",
    "x_train, x_test, y_train, y_test = tts(x,y, test_size=0.25, random_state= 72)\n",
    "\n",
    "# Model Fitting & Prediction\n",
    "model = knr(n_neighbors=3)\n",
    "model.fit(x_train,y_train)\n",
    "y_pred = model.predict(x_test)\n",
    "\n",
    "# Evaluation\n",
    "mse = mse(y_test,y_pred)\n",
    "print(f\"Mean Squared Error is {mse:.2f}\")"
   ]
  },
  {
   "cell_type": "markdown",
   "id": "7fcf6497-8dc4-4f6f-840e-1c5a6575a8f0",
   "metadata": {},
   "source": [
    "#### Q3. Write a Python code snippet to find the optimal value of K for the KNN classifier algorithm using cross-validation on load_iris dataset in sklearn.datasets."
   ]
  },
  {
   "cell_type": "code",
   "execution_count": 3,
   "id": "8c343cc2-a06c-482d-a51c-d4ad03a59785",
   "metadata": {
    "tags": []
   },
   "outputs": [
    {
     "name": "stdout",
     "output_type": "stream",
     "text": [
      "The optimal value of K is 1\n"
     ]
    }
   ],
   "source": [
    "from sklearn.datasets import load_iris\n",
    "from sklearn.model_selection import cross_val_score as cvs\n",
    "from sklearn.neighbors import KNeighborsClassifier as knc\n",
    "import warnings\n",
    "warnings.filterwarnings(\"ignore\")\n",
    "\n",
    "# Loading Datasets\n",
    "ds = load_iris()\n",
    "x,y = ds.data, ds.target\n",
    "\n",
    "# Finding optimal value of K\n",
    "k = list(range(1, 11))\n",
    "cv = []\n",
    "for i in k:\n",
    "    mode = knc(n_neighbors=i)\n",
    "    score = cvs(model, x,y, cv=5, scoring = 'accuracy')\n",
    "    cv.append(score.mean())\n",
    "optk = k[cv.index(max(cv))]\n",
    "print(\"The optimal value of K is\",optk)"
   ]
  },
  {
   "cell_type": "markdown",
   "id": "6eba8411-ee90-4dfa-9301-0a87710766c5",
   "metadata": {},
   "source": [
    "#### Q4. Implement the KNN regressor algorithm with feature scaling on load_boston dataset in sklearn.datasets."
   ]
  },
  {
   "cell_type": "code",
   "execution_count": 4,
   "id": "f6370c7f-cef9-4bef-96bc-05ec5c53ffbd",
   "metadata": {
    "tags": []
   },
   "outputs": [
    {
     "name": "stdout",
     "output_type": "stream",
     "text": [
      "The Mean Sq Error is  0.043859649122807015\n"
     ]
    }
   ],
   "source": [
    "# load_boston dataset has been removed from scikit-learn since version 1.2.\n",
    "import pandas as pd\n",
    "import numpy as ny\n",
    "from sklearn.model_selection import train_test_split as tts\n",
    "from sklearn.preprocessing import StandardScaler as ss\n",
    "from sklearn.neighbors import KNeighborsRegressor as knv\n",
    "from sklearn.metrics import mean_squared_error as mse\n",
    "\n",
    "# Importing Datasets and spliting it\n",
    "data_url = \"http://lib.stat.cmu.edu/datasets/boston\"\n",
    "raw_df = pd.read_csv(data_url, sep=\"\\s+\", skiprows=22, header=None)\n",
    "data = ny.hstack([raw_df.values[::2, :], raw_df.values[1::2, :2]])\n",
    "target = raw_df.values[1::2, 2]\n",
    "x_train, x_test, y_train, y_test = tts(x,y, test_size=0.25, random_state= 72)\n",
    "\n",
    "# Scaling the X Data\n",
    "ss = ss()\n",
    "X_train = ss.fit_transform(x_train)\n",
    "X_test = ss.transform(x_test)\n",
    "\n",
    "# Fitting and Prediction\n",
    "model = knr(n_neighbors=3)\n",
    "model.fit(X_train,y_train)\n",
    "y_pred = model.predict(X_test)\n",
    "\n",
    "# Evaluation\n",
    "er = mse(y_test, y_pred)\n",
    "print(\"The Mean Sq Error is \",er)"
   ]
  },
  {
   "cell_type": "markdown",
   "id": "c5219ea5-de82-47b5-b814-a2ddfa47cf30",
   "metadata": {},
   "source": [
    "#### Q5. Write a Python code snippet to implement the KNN classifier algorithm with weighted voting on load_iris dataset in sklearn.datasets."
   ]
  },
  {
   "cell_type": "code",
   "execution_count": 5,
   "id": "c210e125-bdeb-4785-8ea3-eefdb1acccf0",
   "metadata": {
    "tags": []
   },
   "outputs": [
    {
     "name": "stdout",
     "output_type": "stream",
     "text": [
      "The Accuracy of the model is  0.9811320754716981\n"
     ]
    }
   ],
   "source": [
    "from sklearn.datasets import load_iris\n",
    "from sklearn.model_selection import train_test_split as tts\n",
    "from sklearn.neighbors import KNeighborsClassifier as knc\n",
    "from sklearn.metrics import accuracy_score as acc\n",
    "\n",
    "# Importing Datasets and spliting it\n",
    "ds = load_iris()\n",
    "x,y = ds.data, ds.target\n",
    "x_train, x_test, y_train, y_test = tts(x,y,test_size=0.35, random_state=32, stratify=y)\n",
    "\n",
    "# Model prepartion and fitting\n",
    "model = knc(n_neighbors=3, weights='distance')\n",
    "model.fit(x_train,y_train)\n",
    "y_pred = model.predict(x_test)\n",
    "\n",
    "# Evalution\n",
    "a = acc(y_test,y_pred)\n",
    "print('The Accuracy of the model is ',a)"
   ]
  },
  {
   "cell_type": "markdown",
   "id": "aae2664d-3382-419f-9d17-4b667a8dcefe",
   "metadata": {},
   "source": [
    "#### Q6. Implement a function to standardise the features before applying KNN classifier."
   ]
  },
  {
   "cell_type": "code",
   "execution_count": 6,
   "id": "c026cc9d-e964-48d0-a096-846f4030e413",
   "metadata": {
    "tags": []
   },
   "outputs": [],
   "source": [
    "from sklearn.datasets import load_iris\n",
    "from sklearn.model_selection import train_test_split as tts\n",
    "from sklearn.preprocessing import StandardScaler as ss\n",
    "\n",
    "# Importing Datasets and spliting it\n",
    "ds = load_iris()\n",
    "x,y = ds.data, ds.target\n",
    "x_train, x_test, y_train, y_test = tts(x,y,test_size=0.35, random_state=32, stratify=y)\n",
    "def standardize_features(x_train, x_test):\n",
    "    scaler = ss()\n",
    "    X_train = scaler.fit_transform(X_train)\n",
    "    X_test = scaler.transform(X_test)\n",
    "    return X_train, X_test\n",
    "\n",
    "# We apply KNN Classifier after this"
   ]
  },
  {
   "cell_type": "markdown",
   "id": "f0f68ef6-bbbc-4613-b0f5-c780c6a1a46f",
   "metadata": {},
   "source": [
    "#### Q7. Write a Python function to calculate the euclidean distance between two points."
   ]
  },
  {
   "cell_type": "code",
   "execution_count": 7,
   "id": "17a59e2f-2a52-42ca-93d0-ed794ba1b01c",
   "metadata": {},
   "outputs": [],
   "source": [
    "# The Euclidean Distance between two points p1 & p2 are:\n",
    "import numpy as ny\n",
    "def euclidean_distance(p1, p2):\n",
    "    return ny.sqrt(ny.sum((p1 - p2) ** 2))"
   ]
  },
  {
   "cell_type": "markdown",
   "id": "9c0fd7a8-479a-4f95-8b4e-87bc6be8245b",
   "metadata": {},
   "source": [
    "#### Q8. Write a Python function to calculate the manhattan distance between two points."
   ]
  },
  {
   "cell_type": "code",
   "execution_count": 8,
   "id": "98ee77af-80be-4b9d-b303-b11c8df1b0fd",
   "metadata": {
    "tags": []
   },
   "outputs": [],
   "source": [
    "# The Manhattan Distance between two points p1 & p2 are:\n",
    "import numpy as ny\n",
    "def manhattan_distance(p1, p2):\n",
    "    return ny.sum(ny.abs(p1 - p2))"
   ]
  }
 ],
 "metadata": {
  "kernelspec": {
   "display_name": "Python 3 (ipykernel)",
   "language": "python",
   "name": "python3"
  },
  "language_info": {
   "codemirror_mode": {
    "name": "ipython",
    "version": 3
   },
   "file_extension": ".py",
   "mimetype": "text/x-python",
   "name": "python",
   "nbconvert_exporter": "python",
   "pygments_lexer": "ipython3",
   "version": "3.10.9"
  }
 },
 "nbformat": 4,
 "nbformat_minor": 5
}
