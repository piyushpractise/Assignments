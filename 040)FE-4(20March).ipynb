{
 "cells": [
  {
   "cell_type": "markdown",
   "id": "8e9a01f0-ef90-4a65-ae94-802177c2f8a0",
   "metadata": {},
   "source": [
    "# Feature Engineering-4"
   ]
  },
  {
   "cell_type": "markdown",
   "id": "41cb8ecb-6bd2-4e29-9d08-fc09b0d1934f",
   "metadata": {},
   "source": [
    "#### Q1. What is data encoding? How is it useful in data science?"
   ]
  },
  {
   "cell_type": "markdown",
   "id": "6ab93310-0915-414d-9d26-85cc6c1cee1d",
   "metadata": {},
   "source": [
    "Data encoding is the process of converting categorical or text-based data into a numerical format that can be used by machine learning algorithms. It's useful in data science because many machine learning algorithms require numerical input, and encoding allows us to represent categorical information in a way that algorithms can understand."
   ]
  },
  {
   "cell_type": "markdown",
   "id": "675fbafd-11cd-4a81-abee-acb308b004f4",
   "metadata": {},
   "source": [
    "#### Q2. What is nominal encoding? Provide an example of how you would use it in a real-world scenario."
   ]
  },
  {
   "cell_type": "markdown",
   "id": "16b08383-66b3-4a76-a1ba-ace0a0b20561",
   "metadata": {},
   "source": [
    "Nominal encoding, also known as label encoding, assigns a unique integer to each category of a categorical variable. For example, if you have a \"Color\" variable with categories \"Red,\" \"Blue,\" and \"Green,\" you can encode them as 0, 1, and 2. This encoding is useful when there is no inherent order or ranking between categories."
   ]
  },
  {
   "cell_type": "markdown",
   "id": "79ae4efe-4925-406e-8114-1b5aa7028938",
   "metadata": {},
   "source": [
    "#### Q3. In what situations is nominal encoding preferred over one-hot encoding? Provide a practical example."
   ]
  },
  {
   "cell_type": "markdown",
   "id": "83d9e7b7-155f-4158-98c7-10259bda883a",
   "metadata": {},
   "source": [
    "Nominal encoding is preferred over one-hot encoding when there is no natural order or ranking between categories, and the number of unique categories is relatively large. For example, in a scenario where you have a dataset of different countries, you can use nominal encoding to assign unique integers to each country."
   ]
  },
  {
   "cell_type": "markdown",
   "id": "54d18e7d-45cb-400f-9bda-ee0ace645a12",
   "metadata": {},
   "source": [
    "#### Q4. Suppose you have a dataset containing categorical data with 5 unique values. Which encoding technique would you use to transform this data into a format suitable for machine learning algorithms? Explain why you made this choice."
   ]
  },
  {
   "cell_type": "markdown",
   "id": "0ffda0be-ffeb-44cc-a1a0-cfc9590f3c1f",
   "metadata": {},
   "source": [
    "If you have a dataset containing categorical data with 5 unique values, you can use nominal encoding to transform this data. Since there are no natural order or ranking between the categories, nominal encoding would assign unique integers to each category."
   ]
  },
  {
   "cell_type": "markdown",
   "id": "1acc5869-dff9-42ec-860c-b06e35560c01",
   "metadata": {},
   "source": [
    "#### Q5. In a machine learning project, you have a dataset with 1000 rows and 5 columns. Two of the columns are categorical, and the remaining three columns are numerical. If you were to use nominal encoding to transform the categorical data, how many new columns would be created? Show your calculations."
   ]
  },
  {
   "cell_type": "markdown",
   "id": "f30ce73e-2f24-4e3f-8603-c8758a895d68",
   "metadata": {},
   "source": [
    "If you use nominal encoding to transform two categorical columns in a dataset with 1000 rows, each new column created for nominal encoding will contribute a single new feature for each unique category in the original column. So, if you have 5 unique values in a column, you would create 5 new columns. In total, you would create 5 new columns for each of the two categorical columns, resulting in 10 new columns."
   ]
  },
  {
   "cell_type": "markdown",
   "id": "b815207d-ff4f-4ffb-b286-7e1799404835",
   "metadata": {},
   "source": [
    "#### Q6. You are working with a dataset containing information about different types of animals, including their species, habitat, and diet. Which encoding technique would you use to transform the categorical data into a format suitable for machine learning algorithms? Justify your answer."
   ]
  },
  {
   "cell_type": "markdown",
   "id": "06a15bbd-4947-4e9e-8f85-fd74f8be6a83",
   "metadata": {},
   "source": [
    "For transforming categorical data about different types of animals, including their species, habitat, and diet, you would use one-hot encoding. One-hot encoding creates binary columns for each unique category, indicating the presence or absence of that category. This is suitable for machine learning algorithms as it avoids creating a false ordinal relationship between categories."
   ]
  },
  {
   "cell_type": "markdown",
   "id": "e9de20cf-5c54-4dff-9a1d-6cd469adee7f",
   "metadata": {},
   "source": [
    "#### Q7.You are working on a project that involves predicting customer churn for a telecommunications company. You have a dataset with 5 features, including the customer's gender, age, contract type, monthly charges, and tenure. Which encoding technique(s) would you use to transform the categorical data into numerical data? Provide a step-by-step explanation of how you would implement the encoding."
   ]
  },
  {
   "cell_type": "code",
   "execution_count": 1,
   "id": "46d365ae-1648-422c-9b9a-2c3f1584b424",
   "metadata": {
    "tags": []
   },
   "outputs": [
    {
     "data": {
      "text/html": [
       "<div>\n",
       "<style scoped>\n",
       "    .dataframe tbody tr th:only-of-type {\n",
       "        vertical-align: middle;\n",
       "    }\n",
       "\n",
       "    .dataframe tbody tr th {\n",
       "        vertical-align: top;\n",
       "    }\n",
       "\n",
       "    .dataframe thead th {\n",
       "        text-align: right;\n",
       "    }\n",
       "</style>\n",
       "<table border=\"1\" class=\"dataframe\">\n",
       "  <thead>\n",
       "    <tr style=\"text-align: right;\">\n",
       "      <th></th>\n",
       "      <th>monthly_charges</th>\n",
       "      <th>tenure</th>\n",
       "      <th>gender_Female</th>\n",
       "      <th>gender_Male</th>\n",
       "      <th>contract_type_Bi Yearly</th>\n",
       "      <th>contract_type_Monthly</th>\n",
       "      <th>contract_type_Yearly</th>\n",
       "    </tr>\n",
       "  </thead>\n",
       "  <tbody>\n",
       "    <tr>\n",
       "      <th>0</th>\n",
       "      <td>50.0</td>\n",
       "      <td>12</td>\n",
       "      <td>0.0</td>\n",
       "      <td>1.0</td>\n",
       "      <td>0.0</td>\n",
       "      <td>1.0</td>\n",
       "      <td>0.0</td>\n",
       "    </tr>\n",
       "    <tr>\n",
       "      <th>1</th>\n",
       "      <td>65.0</td>\n",
       "      <td>24</td>\n",
       "      <td>1.0</td>\n",
       "      <td>0.0</td>\n",
       "      <td>0.0</td>\n",
       "      <td>0.0</td>\n",
       "      <td>1.0</td>\n",
       "    </tr>\n",
       "    <tr>\n",
       "      <th>2</th>\n",
       "      <td>45.0</td>\n",
       "      <td>6</td>\n",
       "      <td>0.0</td>\n",
       "      <td>1.0</td>\n",
       "      <td>0.0</td>\n",
       "      <td>1.0</td>\n",
       "      <td>0.0</td>\n",
       "    </tr>\n",
       "    <tr>\n",
       "      <th>3</th>\n",
       "      <td>70.0</td>\n",
       "      <td>36</td>\n",
       "      <td>1.0</td>\n",
       "      <td>0.0</td>\n",
       "      <td>1.0</td>\n",
       "      <td>0.0</td>\n",
       "      <td>0.0</td>\n",
       "    </tr>\n",
       "    <tr>\n",
       "      <th>4</th>\n",
       "      <td>55.0</td>\n",
       "      <td>18</td>\n",
       "      <td>0.0</td>\n",
       "      <td>1.0</td>\n",
       "      <td>0.0</td>\n",
       "      <td>0.0</td>\n",
       "      <td>1.0</td>\n",
       "    </tr>\n",
       "  </tbody>\n",
       "</table>\n",
       "</div>"
      ],
      "text/plain": [
       "   monthly_charges  tenure  gender_Female  gender_Male  \\\n",
       "0             50.0      12            0.0          1.0   \n",
       "1             65.0      24            1.0          0.0   \n",
       "2             45.0       6            0.0          1.0   \n",
       "3             70.0      36            1.0          0.0   \n",
       "4             55.0      18            0.0          1.0   \n",
       "\n",
       "   contract_type_Bi Yearly  contract_type_Monthly  contract_type_Yearly  \n",
       "0                      0.0                    1.0                   0.0  \n",
       "1                      0.0                    0.0                   1.0  \n",
       "2                      0.0                    1.0                   0.0  \n",
       "3                      1.0                    0.0                   0.0  \n",
       "4                      0.0                    0.0                   1.0  "
      ]
     },
     "execution_count": 1,
     "metadata": {},
     "output_type": "execute_result"
    }
   ],
   "source": [
    "import pandas as pd\n",
    "from sklearn.preprocessing import OneHotEncoder\n",
    "# Sample dataset\n",
    "data = pd.DataFrame({\n",
    "    'gender': ['Male', 'Female', 'Male', 'Female', 'Male'],\n",
    "    'contract_type': ['Monthly', 'Yearly', 'Monthly', 'Bi Yearly', 'Yearly'],\n",
    "    'monthly_charges': [50.0, 65.0, 45.0, 70.0, 55.0],\n",
    "    'tenure': [12, 24, 6, 36, 18]\n",
    "})\n",
    "#1. Select categorical columns\n",
    "categorical_columns = ['gender', 'contract_type']\n",
    "#2. Initialize OneHotEncoder\n",
    "encoder = OneHotEncoder()\n",
    "#3. Fit and transform the categorical columns\n",
    "encoded_data = encoder.fit_transform(data[categorical_columns]).toarray()\n",
    "#4. Get the feature names for the new columns\n",
    "encoded_columns = encoder.get_feature_names_out(categorical_columns)\n",
    "#5. Create a DataFrame with the encoded data and columns\n",
    "encoded_df = pd.DataFrame(encoded_data, columns=encoded_columns)\n",
    "#6. Concatenate the encoded DataFrame with the original numerical columns\n",
    "final_data = pd.concat([data.drop(categorical_columns, axis=1), encoded_df], axis=1)\n",
    "#7. Display the final encoded data\n",
    "final_data.head()"
   ]
  }
 ],
 "metadata": {
  "kernelspec": {
   "display_name": "Python 3 (ipykernel)",
   "language": "python",
   "name": "python3"
  },
  "language_info": {
   "codemirror_mode": {
    "name": "ipython",
    "version": 3
   },
   "file_extension": ".py",
   "mimetype": "text/x-python",
   "name": "python",
   "nbconvert_exporter": "python",
   "pygments_lexer": "ipython3",
   "version": "3.10.9"
  }
 },
 "nbformat": 4,
 "nbformat_minor": 5
}
