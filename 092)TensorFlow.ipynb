{
 "cells": [
  {
   "cell_type": "markdown",
   "id": "a293bbfe-9937-42df-9972-96769f04155c",
   "metadata": {},
   "source": [
    "# TensorFlow Fundamentals"
   ]
  },
  {
   "cell_type": "markdown",
   "id": "94b41f8e-e372-4a1b-9552-eda6621dfccb",
   "metadata": {},
   "source": [
    "#### **Objective:** The objective of this assignment is to gain practical experience with fundamental operations in TensorFlow, including creating and manipulating matrices, performing arithmetic operations on tensors, and understanding the difference between TensorFlow constants and variables."
   ]
  },
  {
   "cell_type": "markdown",
   "id": "3e1ce606-9381-482b-afa9-9389b3af0d3d",
   "metadata": {},
   "source": [
    "<hr style=\"border: 2px solid black\">\n",
    "\n",
    "#### Part 1: Theoretical Questions\n",
    "1. What are the different data structures used in TensorFlow? Give some examples.\n",
    "2. How does the TensorFlow constant differ from a TensorFlow variable? Explain with an example.\n",
    "3. Describe the process of matrix addition, multiplication, and element-wise operations in TensorFlow."
   ]
  },
  {
   "cell_type": "markdown",
   "id": "adfc299a-b2e2-44c1-bf18-411dc2328001",
   "metadata": {},
   "source": [
    "<hr style=\"border: 2px solid black\">\n",
    "\n",
    "#### Part 1: Theoretical Questions\n",
    "#### Answer 1\n",
    "TensorFlow primarily uses two data structures:\n",
    "- **Tensors:** Tensors are multi-dimensional arrays, similar to NumPy arrays, but with additional capabilities for GPU acceleration and distributed computing. Examples include scalars (0-dimensional tensors), vectors (1-dimensional tensors), and matrices (2-dimensional tensors).\n",
    "- **Graphs:** TensorFlow uses a computational graph to define and execute operations. The graph contains nodes that represent operations and edges that represent the flow of data (tensors) between these operations.\n",
    "\n",
    "---\n",
    "#### Answer 2\n",
    "- **Constant:** TensorFlow constants are used to create tensors with fixed values that cannot be changed during the execution of a computation graph. These values are set when the constant is defined and cannot be modified. For example:\n",
    "     `constant_tensor = tf.constant([1, 2, 3])`\n",
    "- **Variable:** TensorFlow variables are used to create tensors whose values can be changed during training or during the execution of a computation graph. Variables are typically used to store model parameters like weights and biases. For example:\n",
    "     `variable_tensor = tf.Variable([1, 2, 3])`\n",
    "\n",
    "---\n",
    "#### Answer 3\n",
    "- **Matrix Addition:** In TensorFlow, matrix addition is performed using the `tf.add()` function, and it adds corresponding elements of two matrices with the same shape. For example:\n",
    "     ```\n",
    "     import tensorflow as tf\n",
    "     mA = tf.constant([[1, 2], [3, 4]])\n",
    "     mB = tf.constant([[5, 6], [7, 8]])\n",
    "     result = tf.add(mA, mB)\n",
    "     ```\n",
    "- **Matrix Multiplication:** Matrix multiplication is done with the `tf.matmul()` function, and it computes the dot product of two matrices if they are conformable for multiplication. For example:\n",
    "     ```\n",
    "     import tensorflow as tf\n",
    "     mA = tf.constant([[1, 2], [3, 4]])\n",
    "     mB = tf.constant([[5, 6], [7, 8]])\n",
    "     result = tf.matmul(mA, mB)\n",
    "     ```\n",
    "- **Element-Wise Operations:** Element-wise operations are performed by applying operations to each element of a tensor independently. For example, element-wise addition can be done using `tf.add()`, and element-wise multiplication can be done using `tf.multiply()`. Here's an example of element-wise multiplication:\n",
    "     ```\n",
    "     import tensorflow as tf\n",
    "     tA = tf.constant([1, 2, 3])\n",
    "     tB = tf.constant([4, 5, 6])\n",
    "     result = tf.multiply(tA, tB)\n",
    "     ```\n",
    "---"
   ]
  },
  {
   "cell_type": "markdown",
   "id": "370684a0-af40-40a0-a29b-3d25639ac154",
   "metadata": {},
   "source": [
    "<hr style=\"border: 2px solid black\">\n",
    "\n",
    "#### Part 2: Practical Implementation"
   ]
  },
  {
   "cell_type": "markdown",
   "id": "cbb771d7-762d-4b8d-9b47-ee6ee3c8fcae",
   "metadata": {},
   "source": [
    "##### Task 1: Creating and Manipulating Matrices\n",
    "1. Create a normal matrix A with dimensions 2x2, using TensorFlow's `random_normal` function. Display the values of matrix A.\n",
    "2. Create a Gaussian matrix B with dimensions 2x2, using TensorFlow's `truncated_normal` function. Display the values of matrix B.\n",
    "3. Create a matrix C with dimensions 2x2, where the values are drawn from a normal distribution with a mean of 2 and a standard deviation of 0.x, using TensorFlow's `random.normal` function. Display the values of matrix C.\n",
    "4. Perform matrix addition between matrix A and matrix B, and store the result in matrix D.\n",
    "5. Perform matrix multiplication between matrix C and matrix D, and store the result in matrix E.\n",
    "##### Task 2: Performing Additional Matrix Operations\n",
    "1. Create a matrix F with dimensions 2x2, initialized with random values using TensorFlow's `random_uniform` function.\n",
    "2. Calculate the transpose of matrix F and store the result in matrix G.\n",
    "3. Calculate the element-wise exponential of matrix F and store the result in matrix H.\n",
    "4. Create a matrix I by concatenating matrix F and matrix G horizontally.\n",
    "5. Create a matrix J by concatenating matrix F and matrix H vertically."
   ]
  },
  {
   "cell_type": "markdown",
   "id": "6e9890ad-e1bd-4061-ad56-9582d467660c",
   "metadata": {},
   "source": [
    "<hr style=\"border: 2px solid black\">"
   ]
  },
  {
   "cell_type": "code",
   "execution_count": 1,
   "id": "665468cb-c4b7-4f7a-8200-5da0b3c25668",
   "metadata": {
    "tags": []
   },
   "outputs": [
    {
     "name": "stdout",
     "output_type": "stream",
     "text": [
      "Task 1\n",
      "\n",
      "Task 1.1: Matrix A:\n",
      " [[-1.4422054  -2.3025773 ]\n",
      " [-0.9537724   0.17393608]]\n",
      "\n",
      "Task 1.2: Matrix B:\n",
      " [[ 0.2086432   0.22163787]\n",
      " [-0.09355286 -0.08011173]]\n",
      "\n",
      "Task 1.3: Matrix C:\n",
      " [[1.947316  2.053836 ]\n",
      " [1.9147822 2.0634754]]\n",
      "\n",
      "Task 1.4: Matrix D (A + B):\n",
      " [[-1.2335622  -2.0809393 ]\n",
      " [-1.0473253   0.09382435]]\n",
      "\n",
      "Task 1.5: Matrix E (C * D):\n",
      " [[-4.55317   -3.8595467]\n",
      " [-4.523133  -3.7909412]]\n",
      "--------------------------------------------------\n",
      "\n",
      "Task 2\n",
      "\n",
      "Task 2.1: Matrix F:\n",
      " [[0.4492612  0.7337972 ]\n",
      " [0.47619832 0.9530691 ]]\n",
      "\n",
      "Task 2.2: Matrix G (Transpose of F):\n",
      " [[0.4492612  0.47619832]\n",
      " [0.7337972  0.9530691 ]]\n",
      "\n",
      "Task 2.3: Matrix H (Element-wise Exponential of F):\n",
      " [[1.5671539 2.0829751]\n",
      " [1.6099423 2.5936577]]\n",
      "\n",
      "Task 2.4: Matrix I (Horizontal Concatenation of F and G):\n",
      " [[0.4492612  0.7337972  0.4492612  0.47619832]\n",
      " [0.47619832 0.9530691  0.7337972  0.9530691 ]]\n",
      "\n",
      "Task 2.5: Matrix J (Vertical Concatenation of F and H):\n",
      " [[0.4492612  0.7337972 ]\n",
      " [0.47619832 0.9530691 ]\n",
      " [1.5671539  2.0829751 ]\n",
      " [1.6099423  2.5936577 ]]\n"
     ]
    }
   ],
   "source": [
    "import tensorflow as tf\n",
    "\n",
    "# Task 1 \n",
    "print(\"Task 1\")\n",
    "# Task 1.1: Create matrix A with random_normal\n",
    "mA = tf.random.normal([2, 2], mean=0.0, stddev=1.0, dtype=tf.float32)\n",
    "print(\"\\nTask 1.1: Matrix A:\\n\", mA.numpy())\n",
    "# Task 1.2: Create matrix B with truncated_normal\n",
    "mB = tf.random.truncated_normal([2, 2], mean=0.0, stddev=1.0, dtype=tf.float32)\n",
    "print(\"\\nTask 1.2: Matrix B:\\n\", mB.numpy())\n",
    "# Task 1.3: Create matrix C with custom normal distribution\n",
    "mean = 2.0\n",
    "stddev = 0.1\n",
    "mC = mean + stddev * tf.random.normal([2, 2], mean=0.0, stddev=1.0, dtype=tf.float32)\n",
    "print(\"\\nTask 1.3: Matrix C:\\n\", mC.numpy())\n",
    "# Task 1.4: Matrix addition (D = A + B)\n",
    "mD = tf.add(mA, mB)\n",
    "print(\"\\nTask 1.4: Matrix D (A + B):\\n\", mD.numpy())\n",
    "# Task 1.5: Matrix multiplication (E = C * D)\n",
    "mE = tf.matmul(mC, mD)\n",
    "print(\"\\nTask 1.5: Matrix E (C * D):\\n\", mE.numpy())\n",
    "print('-' * 50)\n",
    "\n",
    "# Task 2\n",
    "print(\"\\nTask 2\")\n",
    "# Task 2.1: Create matrix F with random_uniform\n",
    "mF = tf.random.uniform([2, 2], minval=0.0, maxval=1.0, dtype=tf.float32)\n",
    "print(\"\\nTask 2.1: Matrix F:\\n\", mF.numpy())\n",
    "# Task 2.2: Calculate the transpose (G = transpose(F))\n",
    "mG = tf.transpose(mF)\n",
    "print(\"\\nTask 2.2: Matrix G (Transpose of F):\\n\", mG.numpy())\n",
    "# Task 2.3: Calculate element-wise exponential (H = exp(F))\n",
    "mH = tf.exp(mF)\n",
    "print(\"\\nTask 2.3: Matrix H (Element-wise Exponential of F):\\n\", mH.numpy())\n",
    "# Task 2.4: Concatenate matrices horizontally (I = [F, G])\n",
    "mI = tf.concat([mF, mG], axis=1)\n",
    "print(\"\\nTask 2.4: Matrix I (Horizontal Concatenation of F and G):\\n\", mI.numpy())\n",
    "# Task 2.5: Concatenate matrices vertically (J = [F; H])\n",
    "mJ = tf.concat([mF, mH], axis=0)\n",
    "print(\"\\nTask 2.5: Matrix J (Vertical Concatenation of F and H):\\n\", mJ.numpy())"
   ]
  }
 ],
 "metadata": {
  "kernelspec": {
   "display_name": "Python 3 (ipykernel)",
   "language": "python",
   "name": "python3"
  },
  "language_info": {
   "codemirror_mode": {
    "name": "ipython",
    "version": 3
   },
   "file_extension": ".py",
   "mimetype": "text/x-python",
   "name": "python",
   "nbconvert_exporter": "python",
   "pygments_lexer": "ipython3",
   "version": "3.10.9"
  }
 },
 "nbformat": 4,
 "nbformat_minor": 5
}
