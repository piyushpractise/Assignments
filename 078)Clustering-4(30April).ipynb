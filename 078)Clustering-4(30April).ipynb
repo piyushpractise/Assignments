{
 "cells": [
  {
   "cell_type": "markdown",
   "id": "fc664b3f-4f0e-4503-8c40-baa854eb5b58",
   "metadata": {},
   "source": [
    "# Clustering-4"
   ]
  },
  {
   "cell_type": "markdown",
   "id": "86dbe57a-3d12-4446-a3c8-76632c0505f4",
   "metadata": {},
   "source": [
    "#### Q1. Explain the concept of homogeneity and completeness in clustering evaluation. How are they calculated?"
   ]
  },
  {
   "cell_type": "markdown",
   "id": "233b28f0-c2c4-415b-a993-a3249d81eb17",
   "metadata": {},
   "source": [
    "**Homogeneity** and **Completeness** are two metrics used for evaluating the quality of clustering results:\n",
    "* Homogeneity: Measures the extent to which each cluster contains only data points that are members of a single class or category. It quantifies how well each cluster represents a distinct class.\n",
    "* Completeness: Measures the extent to which all data points that are members of a particular class are assigned to the same cluster. It quantifies whether all data points of a given class are captured by a single cluster.\n",
    "\n",
    "Homogeneity and completeness are calculated using the following formulas:\n",
    "* Homogeneity: H = 1 - (H(C|K) / H(C))\n",
    "* Completeness: C = 1 - (H(K|C) / H(C))\n",
    "    * *Where H(C|K) is the conditional entropy of classes given clusters,*\n",
    "    * *H(C) is the entropy of classes,*\n",
    "    * *H(K|C) is the conditional entropy of clusters given classes.*"
   ]
  },
  {
   "cell_type": "markdown",
   "id": "c903ea65-e9de-4031-927f-c245e240371d",
   "metadata": {},
   "source": [
    "#### Q2. What is the V-measure in clustering evaluation? How is it related to homogeneity and completeness?"
   ]
  },
  {
   "cell_type": "markdown",
   "id": "8e506cdf-5036-4172-882f-98caadd25b20",
   "metadata": {},
   "source": [
    "The V-measure is a clustering evaluation metric that combines homogeneity and completeness into a single score. It is the harmonic mean of homogeneity and completeness and provides a balanced measure of clustering quality. The formula for the V-measure is: **V = 2 * (homogeneity * completeness) / (homogeneity + completeness)**"
   ]
  },
  {
   "cell_type": "markdown",
   "id": "5798c8e0-72c0-4f81-a1f8-422bee9a1389",
   "metadata": {},
   "source": [
    "#### Q3. How is the Silhouette Coefficient used to evaluate the quality of a clustering result? What is the range of its values?"
   ]
  },
  {
   "cell_type": "markdown",
   "id": "e08c9c12-1787-4b64-9e6e-4a0594f245b5",
   "metadata": {},
   "source": [
    "The Silhouette Coefficient is used to evaluate the quality of a clustering result by measuring the average similarity of each data point with its own cluster (cohesion) compared to other clusters (separation). It ranges from -1 (a poor clustering) to +1 (a perfect clustering), with 0 indicating overlapping clusters."
   ]
  },
  {
   "cell_type": "markdown",
   "id": "d7d2ca62-0610-4bf6-8f11-64e196758dd2",
   "metadata": {},
   "source": [
    "#### Q4. How is the Davies-Bouldin Index used to evaluate the quality of a clustering result? What is the range of its values?"
   ]
  },
  {
   "cell_type": "markdown",
   "id": "05fb41f9-1d76-4daa-a68a-5420ef6fe71c",
   "metadata": {},
   "source": [
    " The Davies-Bouldin Index assesses the quality of a clustering result by measuring the average similarity between each cluster and its most similar cluster. Lower values of the index indicate better clustering results. It does not have a specific range, and the values depend on the dataset and clustering."
   ]
  },
  {
   "cell_type": "markdown",
   "id": "c59a0eba-939a-48b2-a370-2f3b5ecc61fb",
   "metadata": {},
   "source": [
    "#### Q5. Can a clustering result have a high homogeneity but low completeness? Explain with an example."
   ]
  },
  {
   "cell_type": "code",
   "execution_count": 1,
   "id": "ee3ece0e-f01d-421e-9a19-93fd4a70287d",
   "metadata": {
    "tags": []
   },
   "outputs": [
    {
     "name": "stdout",
     "output_type": "stream",
     "text": [
      "Homogeneity: 0.7103099178571525  & Completeness: 0.7715561736794712\n"
     ]
    }
   ],
   "source": [
    "# Yes, a clustering result can have high homogeneity but low completeness. For example:\n",
    "from sklearn.metrics.cluster import homogeneity_completeness_v_measure as hcm\n",
    "# Sample true labels (ground truth)\n",
    "true_labels = [0, 0, 1, 1, 2, 2]\n",
    "# Sample clustering results with three clusters (two matching classes and one mixed)\n",
    "cluster = [0, 0, 1, 1, 0, 2]\n",
    "# Calculate homogeneity and completeness\n",
    "homo, comp, _ = hcm(true_labels, cluster)\n",
    "print(\"Homogeneity:\", homo, \" & Completeness:\", comp)"
   ]
  },
  {
   "cell_type": "markdown",
   "id": "988f04d6-9ccf-4f01-af9d-e6b89e9d7f40",
   "metadata": {},
   "source": [
    "#### Q6. How can the V-measure be used to determine the optimal number of clusters in a clustering algorithm?"
   ]
  },
  {
   "cell_type": "code",
   "execution_count": 2,
   "id": "21afd24b-094d-4322-b709-7dcaec3c6b28",
   "metadata": {},
   "outputs": [
    {
     "name": "stdout",
     "output_type": "stream",
     "text": [
      "Number of Clusters: 2, V-measure: 0.0015816201119841255\n",
      "Number of Clusters: 3, V-measure: 0.0020042294719886207\n",
      "Number of Clusters: 4, V-measure: 0.0034761276296635386\n",
      "Number of Clusters: 5, V-measure: 0.023309773137744298\n",
      "Number of Clusters: 6, V-measure: 0.026459927457534053\n",
      "Number of Clusters: 7, V-measure: 0.025709166298870923\n",
      "Number of Clusters: 8, V-measure: 0.020334508548127864\n",
      "Number of Clusters: 9, V-measure: 0.03538297268074646\n",
      "Number of Clusters: 10, V-measure: 0.04972699805284913\n"
     ]
    }
   ],
   "source": [
    "'''\n",
    "The V-measure can be used to determine the optimal number of clusters by comparing \n",
    "V-measure scores for different numbers of clusters.\n",
    "The number of clusters that maximizes the V-measure indicates the best clustering solution.\n",
    "'''\n",
    "from sklearn.cluster import KMeans\n",
    "from sklearn.metrics.cluster import v_measure_score as vs\n",
    "import numpy as ny\n",
    "import warnings\n",
    "warnings.filterwarnings(\"ignore\")\n",
    "# Sample data\n",
    "data = ny.random.rand(100, 2)\n",
    "# Sample ground truth labels\n",
    "true_labels = ny.random.randint(0, 2, 100)\n",
    "# Evaluate V-measure for different numbers of clusters\n",
    "for n in range(2, 11):\n",
    "    kmeans = KMeans(n_clusters=n)\n",
    "    cluster_assignments = kmeans.fit_predict(data)\n",
    "    v = vs(true_labels, cluster_assignments)\n",
    "    print(f\"Number of Clusters: {n}, V-measure: {v}\")"
   ]
  },
  {
   "cell_type": "markdown",
   "id": "098a2a64-f7cd-407a-8c09-d6e894e57e66",
   "metadata": {},
   "source": [
    "#### Q7. What are some advantages and disadvantages of using the Silhouette Coefficient to evaluate a clustering result?"
   ]
  },
  {
   "cell_type": "markdown",
   "id": "c5206857-00ce-4ec4-a460-1d84a271513c",
   "metadata": {},
   "source": [
    "* **Advantages:**\n",
    "    * Provides a single value that summarizes the quality of clustering.\n",
    "    * Helps identify the appropriate number of clusters when applied over a range of cluster numbers.\n",
    "* **Disadvantages:**\n",
    "    * Assumes that clusters are convex and equally sized.\n",
    "    * May not work well with non-globular or unevenly sized clusters."
   ]
  },
  {
   "cell_type": "markdown",
   "id": "34722e94-e8ce-4d05-b2f0-1c1f6c4bd9b6",
   "metadata": {},
   "source": [
    "#### Q8. What are some limitations of the Davies-Bouldin Index as a clustering evaluation metric? How can they be overcome?"
   ]
  },
  {
   "cell_type": "markdown",
   "id": "5fc58a7f-1222-43b8-8d03-3bd74225f3da",
   "metadata": {},
   "source": [
    "Limitations of the Davies-Bouldin Index:\n",
    "* Sensitive to the number of clusters: A higher number of clusters can artificially reduce the index.\n",
    "* Assumes clusters are convex and similarly shaped.\n",
    "* Can be computationally expensive for large datasets."
   ]
  },
  {
   "cell_type": "markdown",
   "id": "7edf00d8-5076-4aa9-a20a-1e8aab1376df",
   "metadata": {},
   "source": [
    "#### Q9. What is the relationship between homogeneity, completeness, and the V-measure? Can they have different values for the same clustering result?"
   ]
  },
  {
   "cell_type": "markdown",
   "id": "a6ecd41a-182f-4fa5-b664-b2fd57f83163",
   "metadata": {},
   "source": [
    "The V-measure combines homogeneity and completeness into a single score but still keeps them distinct. They can have different values for the same clustering result, indicating the trade-off between ensuring that each cluster contains only data points from one class (homogeneity) and ensuring that all data points from one class are in the same cluster (completeness)."
   ]
  },
  {
   "cell_type": "markdown",
   "id": "f286b1e1-89fd-4d81-b72a-2bba02c9d973",
   "metadata": {},
   "source": [
    "#### Q10. How can the Silhouette Coefficient be used to compare the quality of different clustering algorithms on the same dataset? What are some potential issues to watch out for?"
   ]
  },
  {
   "cell_type": "markdown",
   "id": "b580d78a-c8e0-473e-9728-1996037d44e7",
   "metadata": {},
   "source": [
    "The Silhouette Coefficient can be used to compare the quality of different clustering algorithms on the same dataset by calculating the coefficient for each algorithm and comparing the results. However, it's important to be cautious when comparing, as the Silhouette Coefficient is sensitive to the choice of distance metric and the nature of the data."
   ]
  },
  {
   "cell_type": "markdown",
   "id": "74a15194-2901-4b29-8da3-6f35e1bcbcdb",
   "metadata": {},
   "source": [
    "#### Q11. How does the Davies-Bouldin Index measure the separation and compactness of clusters? What are some assumptions it makes about the data and the clusters?"
   ]
  },
  {
   "cell_type": "markdown",
   "id": "0cfa7a4a-2907-4637-a6bb-907a7b86ad40",
   "metadata": {},
   "source": [
    "The Davies-Bouldin Index measures cluster separation by comparing the average distance between clusters and cluster compactness by assessing the within-cluster variability. It assumes that clusters are convex and similarly sized. The index is computed based on these assumptions."
   ]
  },
  {
   "cell_type": "code",
   "execution_count": 3,
   "id": "0c25352a-0896-43af-9423-946f2f9821a4",
   "metadata": {
    "tags": []
   },
   "outputs": [
    {
     "name": "stdout",
     "output_type": "stream",
     "text": [
      "Davies-Bouldin Index: 0.7201659821572636\n"
     ]
    }
   ],
   "source": [
    "from sklearn.metrics import davies_bouldin_score as dbs\n",
    "from sklearn.datasets import make_blobs as mb\n",
    "import warnings\n",
    "warnings.filterwarnings(\"ignore\")\n",
    "# Generate synthetic data with three clusters\n",
    "data, labels = mb(n_samples=300, centers=3, random_state=0)\n",
    "# Apply K-means clustering (for example)\n",
    "kmeans = KMeans(n_clusters=3)\n",
    "cluster_assignments = kmeans.fit_predict(data)\n",
    "# Calculate the Davies-Bouldin Index\n",
    "db_index = dbs(data, cluster_assignments)\n",
    "print(\"Davies-Bouldin Index:\", db_index)"
   ]
  },
  {
   "cell_type": "markdown",
   "id": "bce64bf9-240e-441c-9108-781034232e1e",
   "metadata": {},
   "source": [
    "#### Q12. Can the Silhouette Coefficient be used to evaluate hierarchical clustering algorithms? If so, how?"
   ]
  },
  {
   "cell_type": "markdown",
   "id": "1b00dc5c-b29b-4665-b126-ec75a0dae710",
   "metadata": {},
   "source": [
    "The Silhouette Coefficient can be used to evaluate hierarchical clustering by assessing the quality of clusters at different levels of the hierarchy. Here's a simplified example using scikit-learn's AgglomerativeClustering:"
   ]
  },
  {
   "cell_type": "code",
   "execution_count": 4,
   "id": "a08b65cc-3bf4-4bc2-8a2b-17857c0c67b7",
   "metadata": {
    "tags": []
   },
   "outputs": [
    {
     "name": "stdout",
     "output_type": "stream",
     "text": [
      "Number of Clusters: 2, Silhouette Coefficient: 0.33088855593979405\n",
      "Number of Clusters: 3, Silhouette Coefficient: 0.3334426184386854\n",
      "Number of Clusters: 4, Silhouette Coefficient: 0.34254014595322124\n",
      "Number of Clusters: 5, Silhouette Coefficient: 0.3913953599489794\n",
      "Number of Clusters: 6, Silhouette Coefficient: 0.3593172560663649\n",
      "Number of Clusters: 7, Silhouette Coefficient: 0.35577558243803303\n",
      "Number of Clusters: 8, Silhouette Coefficient: 0.369199640651368\n",
      "Number of Clusters: 9, Silhouette Coefficient: 0.364605031990343\n",
      "Number of Clusters: 10, Silhouette Coefficient: 0.38018292940715404\n"
     ]
    }
   ],
   "source": [
    "from sklearn.cluster import AgglomerativeClustering as ac\n",
    "from sklearn.metrics import silhouette_score as ss\n",
    "import numpy as ny\n",
    "import warnings\n",
    "warnings.filterwarnings(\"ignore\")\n",
    "# Sample data\n",
    "data = ny.random.rand(100, 2)\n",
    "# Evaluate Silhouette Coefficient for different numbers of clusters\n",
    "for n in range(2, 11):\n",
    "    agg = ac(n_clusters=n)\n",
    "    cluster = agg.fit_predict(data)\n",
    "    coeff = ss(data, cluster)\n",
    "    print(f\"Number of Clusters: {n}, Silhouette Coefficient: {coeff}\")"
   ]
  }
 ],
 "metadata": {
  "kernelspec": {
   "display_name": "Python 3 (ipykernel)",
   "language": "python",
   "name": "python3"
  },
  "language_info": {
   "codemirror_mode": {
    "name": "ipython",
    "version": 3
   },
   "file_extension": ".py",
   "mimetype": "text/x-python",
   "name": "python",
   "nbconvert_exporter": "python",
   "pygments_lexer": "ipython3",
   "version": "3.10.9"
  }
 },
 "nbformat": 4,
 "nbformat_minor": 5
}
