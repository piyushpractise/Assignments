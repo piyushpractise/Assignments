{
 "cells": [
  {
   "cell_type": "markdown",
   "id": "d3ce065b-4f41-417c-b6fd-61f10a2d7429",
   "metadata": {},
   "source": [
    "# Oops Assignmnent"
   ]
  },
  {
   "cell_type": "markdown",
   "id": "4fa1f620-9188-4bb1-a45d-8369074e12bf",
   "metadata": {},
   "source": [
    "##### Q1. Explain Class and Object with respect to Object-Oriented Programming. Give a suitable example."
   ]
  },
  {
   "cell_type": "markdown",
   "id": "c6fc98ce-524c-4db8-95d0-0ca3d0c68efb",
   "metadata": {},
   "source": [
    "In object-oriented programming (OOP), a class is a blueprint or template for creating objects. It defines the structure and behavior that objects of that class will have. A class serves as a blueprint for creating multiple instances, each with its own unique data and behavior. It encapsulates data (attributes) and methods (functions) that operate on that data.\n",
    "\n",
    "An object is an instance of a class. It is a concrete manifestation of the class blueprint, with its own specific values for attributes. Objects are the actual entities that interact with the program and perform actions based on the methods defined in the class."
   ]
  },
  {
   "cell_type": "code",
   "execution_count": 1,
   "id": "c13be278-e2c8-4080-b929-5bf0fe9e6b4a",
   "metadata": {
    "tags": []
   },
   "outputs": [
    {
     "name": "stdout",
     "output_type": "stream",
     "text": [
      "Buddy is barking!\n",
      "Max is barking!\n",
      "In this example, the Dog class defines attributes (like name) and a method (bark). The objects dog1 and dog2 are instances of the Dog class, each with its own name and ability to bark.\n"
     ]
    }
   ],
   "source": [
    "class Dog:\n",
    "    def __init__(self, name):\n",
    "        self.name = name\n",
    "    \n",
    "    def bark(self):\n",
    "        return f\"{self.name} is barking!\"\n",
    "\n",
    "dog1 = Dog(\"Buddy\")\n",
    "dog2 = Dog(\"Max\")\n",
    "\n",
    "print(dog1.bark())\n",
    "print(dog2.bark())\n",
    "print('In this example, the Dog class defines attributes (like name) and a method (bark). The objects dog1 and dog2 are instances of the Dog class, each with its own name and ability to bark.')"
   ]
  },
  {
   "cell_type": "markdown",
   "id": "514cea47-71d4-4442-b2a9-a35fd974ecab",
   "metadata": {},
   "source": [
    "##### Q2. Name the four pillars of OOPs."
   ]
  },
  {
   "cell_type": "markdown",
   "id": "66e7d282-80ee-48c9-9de9-f79ad83cfd6a",
   "metadata": {},
   "source": [
    "The four pillars of Object-Oriented Programming (OOP) are:\n",
    "\n",
    "    Encapsulation: It refers to the bundling of data (attributes) and methods (functions) that operate on that data into a single unit, called a class. It restricts direct access to some of the object's components and hides the internal details, promoting data integrity and security.\n",
    "\n",
    "    Abstraction: It involves simplifying complex reality by modeling classes based on the essential properties and behaviors of objects. It allows us to create a clear and concise representation of real-world entities while ignoring unnecessary details.\n",
    "\n",
    "    Inheritance: It allows a new class (subclass or derived class) to inherit attributes and methods from an existing class (superclass or base class). It also enables code reusability, extensibility, and the creation of a hierarchy of classes.\n",
    "\n",
    "    Polymorphism: It allows objects of different classes to be treated as objects of a common superclass. It also allows you to define methods in the superclass that can be overridden in subclasses, enabling different classes to have different implementations for the same method name."
   ]
  },
  {
   "cell_type": "markdown",
   "id": "386c5891-a051-4d60-b5b5-751e0c0bea9b",
   "metadata": {},
   "source": [
    "##### Q3. Explain why the __init__() function is used. Give a suitable example."
   ]
  },
  {
   "cell_type": "markdown",
   "id": "6461ce97-db0a-4978-8abe-84b7e89d13db",
   "metadata": {},
   "source": [
    "The __init__() function is a special method in Python classes that is automatically called upon to set initial attributes when creating an object. It also ensures that objects start with a defined state."
   ]
  },
  {
   "cell_type": "code",
   "execution_count": 2,
   "id": "05acc40c-ff9a-4d83-b9f8-46a09a6a3a75",
   "metadata": {
    "tags": []
   },
   "outputs": [
    {
     "name": "stdout",
     "output_type": "stream",
     "text": [
      "In this example, __init__() sets name and age for each Person object during creation.\n"
     ]
    }
   ],
   "source": [
    "class Person:\n",
    "    def __init__(self, name, age):\n",
    "        self.name = name\n",
    "        self.age = age\n",
    "\n",
    "person1 = Person(\"Alice\", 25)\n",
    "person2 = Person(\"Bob\", 30)\n",
    "print(\"In this example, __init__() sets name and age for each Person object during creation.\")"
   ]
  },
  {
   "cell_type": "markdown",
   "id": "59d5aaab-6a05-4e43-a293-d639c10ec347",
   "metadata": {},
   "source": [
    "##### Q4. Why self is used in OOPs?"
   ]
  },
  {
   "cell_type": "markdown",
   "id": "7a77eeaa-1525-477e-aeba-92d684a17fbc",
   "metadata": {},
   "source": [
    "'self' is used in object-oriented programming (OOP) to refer to the instance of a class that a method is working on. It allows methods to access instance-specific attributes and methods, differentiate between instance and local variables, and properly initialize and manipulate objects. By passing self as the first parameter in method definitions, OOP ensures that methods can interact with the specific instance they are called on, enabling proper encapsulation and behavior customization for each object."
   ]
  },
  {
   "cell_type": "markdown",
   "id": "89012ec0-e071-4bdf-ad9e-a33023fd2e72",
   "metadata": {},
   "source": [
    "##### Q5. What is inheritance? Give an example for each type of inheritance."
   ]
  },
  {
   "cell_type": "markdown",
   "id": "671f50c0-68f5-4078-ae04-e025249e5fdc",
   "metadata": {},
   "source": [
    "Inheritance is a fundamental principle in object-oriented programming (OOP) that allows a new class to inherit properties and behaviors from an existing class. It establishes a connection between classes, where a child class gains attributes and methods from a parent class."
   ]
  },
  {
   "cell_type": "code",
   "execution_count": 3,
   "id": "7daed792-c13c-48ca-8d80-8b277c7a3149",
   "metadata": {
    "tags": []
   },
   "outputs": [],
   "source": [
    "# 1. Single Inheritance: Single inheritance involves a class inheriting from just one parent class.\n",
    "class Animal:\n",
    "    def make_sound(self):\n",
    "        pass\n",
    "\n",
    "class Dog(Animal):\n",
    "    def make_sound(self):\n",
    "        return \"Woof!\"\n",
    "\n",
    "class Cat(Animal):\n",
    "    def make_sound(self):\n",
    "        return \"Meow!\""
   ]
  },
  {
   "cell_type": "code",
   "execution_count": 4,
   "id": "60b473cf-1da7-4761-a655-c23ab666e145",
   "metadata": {
    "tags": []
   },
   "outputs": [],
   "source": [
    "# 2. Multiple Inheritance: In multiple inheritance, a class can inherit from multiple parent classes.\n",
    "class Flying:\n",
    "    def fly(self):\n",
    "        pass\n",
    "\n",
    "class Swimmer:\n",
    "    def swim(self):\n",
    "        pass\n",
    "\n",
    "class Duck(Flying, Swimmer):\n",
    "    def fly(self):\n",
    "        return \"Duck can fly.\"\n",
    "\n",
    "    def swim(self):\n",
    "        return \"Duck can swim.\""
   ]
  },
  {
   "cell_type": "code",
   "execution_count": 5,
   "id": "2c59831e-d13a-4dfb-b115-e6d32b129413",
   "metadata": {
    "tags": []
   },
   "outputs": [],
   "source": [
    "# 3. Multilevel Inheritance: Multilevel inheritance involves a class inheriting from a parent class, which in turn inherits from another class.\n",
    "class Vehicle:\n",
    "    def start(self):\n",
    "        pass\n",
    "\n",
    "class Car(Vehicle):\n",
    "    def start(self):\n",
    "        return \"Car started.\"\n",
    "\n",
    "class ElectricCar(Car):\n",
    "    def start(self):\n",
    "        return \"Electric car started.\""
   ]
  },
  {
   "cell_type": "code",
   "execution_count": 6,
   "id": "1f8bf875-37ae-492a-a3fd-28a9dee5ede4",
   "metadata": {
    "tags": []
   },
   "outputs": [],
   "source": [
    "# 4. Hierarchical Inheritance: Hierarchical inheritance sees multiple classes inheriting from a common parent class.\n",
    "class Shape:\n",
    "    def calculate_area(self):\n",
    "        pass\n",
    "\n",
    "class Circle(Shape):\n",
    "    def calculate_area(self):\n",
    "        return \"Area of circle calculated.\"\n",
    "\n",
    "class Square(Shape):\n",
    "    def calculate_area(self):\n",
    "        return \"Area of square calculated.\""
   ]
  },
  {
   "cell_type": "code",
   "execution_count": 7,
   "id": "5ad7061a-60b7-48af-897a-2ac564733c05",
   "metadata": {
    "tags": []
   },
   "outputs": [],
   "source": [
    "# 5. Hybrid Inheritance: Hybrid inheritance combines different types of inheritance.\n",
    "class A:\n",
    "    def method_A(self):\n",
    "        pass\n",
    "\n",
    "class B(A):\n",
    "    def method_B(self):\n",
    "        pass\n",
    "\n",
    "class C(A):\n",
    "    def method_C(self):\n",
    "        pass\n",
    "\n",
    "class D(B, C):\n",
    "    def method_D(self):\n",
    "        pass"
   ]
  }
 ],
 "metadata": {
  "kernelspec": {
   "display_name": "Python 3 (ipykernel)",
   "language": "python",
   "name": "python3"
  },
  "language_info": {
   "codemirror_mode": {
    "name": "ipython",
    "version": 3
   },
   "file_extension": ".py",
   "mimetype": "text/x-python",
   "name": "python",
   "nbconvert_exporter": "python",
   "pygments_lexer": "ipython3",
   "version": "3.10.9"
  }
 },
 "nbformat": 4,
 "nbformat_minor": 5
}
