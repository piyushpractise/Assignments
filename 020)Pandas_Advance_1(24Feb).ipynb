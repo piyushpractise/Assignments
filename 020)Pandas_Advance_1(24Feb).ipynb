{
 "cells": [
  {
   "cell_type": "markdown",
   "id": "d9326ec3-762f-4678-8349-1464d5d5cf5f",
   "metadata": {
    "tags": []
   },
   "source": [
    "# Pandas Advance 1"
   ]
  },
  {
   "cell_type": "markdown",
   "id": "1e09aa8e-04ea-41f8-8eb0-869b7ca0c249",
   "metadata": {},
   "source": [
    "##### Q1. List any five functions of the pandas library with execution."
   ]
  },
  {
   "cell_type": "markdown",
   "id": "a5ce37cc-34fc-4f31-8b38-2cb31c4b1493",
   "metadata": {},
   "source": [
    "1. read_csv(): Read a CSV file into a DataFrame.\n",
    "2. head(): Display the first few rows of the DataFrame.\n",
    "3. groupby(): Group data based on a specific column and perform aggregate functions.\n",
    "4. fillna(): Replace missing values with a specific value or strategy.\n",
    "5. merge(): Merge two DataFrames based on a common column or index."
   ]
  },
  {
   "cell_type": "markdown",
   "id": "4965a519-6ff6-4e66-ac6f-1ab360dd4deb",
   "metadata": {},
   "source": [
    "##### Q2. Given a Pandas DataFrame df with columns 'A', 'B', and 'C', write a Python function to re-index the DataFrame with a new index that starts from 1 and increments by 2 for each row."
   ]
  },
  {
   "cell_type": "code",
   "execution_count": 1,
   "id": "7d23670e-33f6-4f11-977f-c70195037d96",
   "metadata": {
    "tags": []
   },
   "outputs": [
    {
     "name": "stdout",
     "output_type": "stream",
     "text": [
      "   A  B  C\n",
      "0  1  1  1\n",
      "1  2  2  2\n",
      "2  3  3  3\n",
      "After Reindexing\n",
      "    A  B  C\n",
      "1  1  1  1\n",
      "3  2  2  2\n",
      "5  3  3  3\n"
     ]
    }
   ],
   "source": [
    "import pandas as pd\n",
    "df = pd.DataFrame({'A':[1,2,3], 'B':[1,2,3], 'C':[1,2,3]})\n",
    "print(df)\n",
    "newindex = pd.RangeIndex(start=1, stop=len(df)*2, step=2)\n",
    "df.index = newindex\n",
    "print('After Reindexing\\n',df)"
   ]
  },
  {
   "cell_type": "markdown",
   "id": "cb0a7b17-9a6d-4d22-b8c5-05964a1fa4a9",
   "metadata": {},
   "source": [
    "##### Q3. You have a Pandas DataFrame df with a column named 'Values'. Write a Python function that iterates over the DataFrame and calculates the sum of the first three values in the 'Values' column. The function should print the sum to the console.\n",
    "For example, if the 'Values' column of df contains the values [10, 20, 30, 40, 50], your function should\n",
    "calculate and print the sum of the first three values, which is 60."
   ]
  },
  {
   "cell_type": "code",
   "execution_count": 2,
   "id": "acda0ec1-1ef8-4316-89eb-0216df5ad721",
   "metadata": {
    "tags": []
   },
   "outputs": [
    {
     "name": "stdout",
     "output_type": "stream",
     "text": [
      "Sum of first 3 values of column is: 60\n"
     ]
    }
   ],
   "source": [
    "import pandas as pd\n",
    "df = pd.DataFrame({'Value':[10,20,30,40,50]})\n",
    "sum_of = df['Value'].head(3).sum()\n",
    "print('Sum of first 3 values of column is:',sum_of)"
   ]
  },
  {
   "cell_type": "markdown",
   "id": "3775ddbc-f9fa-4600-a336-2606870a146d",
   "metadata": {},
   "source": [
    "##### Q4. Given a Pandas DataFrame df with a column 'Text', write a Python function to create a new column 'Word_Count' that contains the number of words in each row of the 'Text' column."
   ]
  },
  {
   "cell_type": "code",
   "execution_count": 3,
   "id": "299e80c7-6b7a-434e-90f6-4a0f0059497b",
   "metadata": {
    "tags": []
   },
   "outputs": [
    {
     "data": {
      "text/html": [
       "<div>\n",
       "<style scoped>\n",
       "    .dataframe tbody tr th:only-of-type {\n",
       "        vertical-align: middle;\n",
       "    }\n",
       "\n",
       "    .dataframe tbody tr th {\n",
       "        vertical-align: top;\n",
       "    }\n",
       "\n",
       "    .dataframe thead th {\n",
       "        text-align: right;\n",
       "    }\n",
       "</style>\n",
       "<table border=\"1\" class=\"dataframe\">\n",
       "  <thead>\n",
       "    <tr style=\"text-align: right;\">\n",
       "      <th></th>\n",
       "      <th>Text</th>\n",
       "      <th>Word_Count</th>\n",
       "    </tr>\n",
       "  </thead>\n",
       "  <tbody>\n",
       "    <tr>\n",
       "      <th>0</th>\n",
       "      <td>Hi I am Good</td>\n",
       "      <td>4</td>\n",
       "    </tr>\n",
       "    <tr>\n",
       "      <th>1</th>\n",
       "      <td>You say about any topic</td>\n",
       "      <td>5</td>\n",
       "    </tr>\n",
       "    <tr>\n",
       "      <th>2</th>\n",
       "      <td>Like Data Science</td>\n",
       "      <td>3</td>\n",
       "    </tr>\n",
       "  </tbody>\n",
       "</table>\n",
       "</div>"
      ],
      "text/plain": [
       "                      Text  Word_Count\n",
       "0             Hi I am Good           4\n",
       "1  You say about any topic           5\n",
       "2        Like Data Science           3"
      ]
     },
     "execution_count": 3,
     "metadata": {},
     "output_type": "execute_result"
    }
   ],
   "source": [
    "import pandas as pd\n",
    "df = pd.DataFrame({'Text':['Hi I am Good','You say about any topic','Like Data Science']})\n",
    "df['Word_Count'] = df['Text'].apply(lambda t: len(t.split()))\n",
    "df.head()"
   ]
  },
  {
   "cell_type": "markdown",
   "id": "7e3ab393-5dcb-4fe9-8f7d-b065c57958e1",
   "metadata": {},
   "source": [
    "##### Q5. How are DataFrame.size() and DataFrame.shape() different?"
   ]
  },
  {
   "cell_type": "markdown",
   "id": "562e8d9b-015a-43a8-862b-681f7de9694f",
   "metadata": {},
   "source": [
    "* DataFrame.size() returns the total number of elements (cells) in the DataFrame. \n",
    "* DataFrame.shape() returns a tuple representing the dimensions of the DataFrame (number of rows, number of columns)."
   ]
  },
  {
   "cell_type": "markdown",
   "id": "127e66fe-e44c-42a7-9458-45403fe948f4",
   "metadata": {},
   "source": [
    "##### Q6. Which function of pandas do we use to read an excel file?"
   ]
  },
  {
   "cell_type": "markdown",
   "id": "d414cac8-37fe-4dc4-9376-0d5274c21fbf",
   "metadata": {},
   "source": [
    "The function to read an Excel file in pandas is pd.read_excel()."
   ]
  },
  {
   "cell_type": "markdown",
   "id": "d7c7e4b9-d3ad-49e0-aee2-8cae721cd00b",
   "metadata": {},
   "source": [
    "##### Q7. You have a Pandas DataFrame df that contains a column named 'Email' that contains email addresses in the format 'username@domain.com'. Write a Python function that creates a new column 'Username' in df that contains only the username part of each email address.\n",
    "##### The username is the part of the email address that appears before the '@' symbol. For example, if the email address is 'john.doe@example.com', the 'Username' column should contain 'john.doe'. Your function should extract the username from each email address and store it in the new 'Username' column."
   ]
  },
  {
   "cell_type": "code",
   "execution_count": 4,
   "id": "e8afe012-11a2-4d04-a178-a33aee88b31c",
   "metadata": {
    "tags": []
   },
   "outputs": [
    {
     "data": {
      "text/html": [
       "<div>\n",
       "<style scoped>\n",
       "    .dataframe tbody tr th:only-of-type {\n",
       "        vertical-align: middle;\n",
       "    }\n",
       "\n",
       "    .dataframe tbody tr th {\n",
       "        vertical-align: top;\n",
       "    }\n",
       "\n",
       "    .dataframe thead th {\n",
       "        text-align: right;\n",
       "    }\n",
       "</style>\n",
       "<table border=\"1\" class=\"dataframe\">\n",
       "  <thead>\n",
       "    <tr style=\"text-align: right;\">\n",
       "      <th></th>\n",
       "      <th>Email</th>\n",
       "      <th>Username</th>\n",
       "    </tr>\n",
       "  </thead>\n",
       "  <tbody>\n",
       "    <tr>\n",
       "      <th>0</th>\n",
       "      <td>john.doe@example.com</td>\n",
       "      <td>john.doe</td>\n",
       "    </tr>\n",
       "    <tr>\n",
       "      <th>1</th>\n",
       "      <td>piyushmishra@salesken.ai</td>\n",
       "      <td>piyushmishra</td>\n",
       "    </tr>\n",
       "    <tr>\n",
       "      <th>2</th>\n",
       "      <td>piyumishra@gmail.com</td>\n",
       "      <td>piyumishra</td>\n",
       "    </tr>\n",
       "  </tbody>\n",
       "</table>\n",
       "</div>"
      ],
      "text/plain": [
       "                      Email      Username\n",
       "0      john.doe@example.com      john.doe\n",
       "1  piyushmishra@salesken.ai  piyushmishra\n",
       "2      piyumishra@gmail.com    piyumishra"
      ]
     },
     "execution_count": 4,
     "metadata": {},
     "output_type": "execute_result"
    }
   ],
   "source": [
    "import pandas as pd\n",
    "df = pd.DataFrame({'Email':['john.doe@example.com','piyushmishra@salesken.ai','piyumishra@gmail.com']})\n",
    "df['Username'] = df['Email'].apply(lambda u: u.split('@')[0])\n",
    "df.head()"
   ]
  },
  {
   "cell_type": "markdown",
   "id": "a12945c2-8005-408e-a35f-53ef12da3ac8",
   "metadata": {},
   "source": [
    "##### Q8. You have a Pandas DataFrame df with columns 'A', 'B', and 'C'. Write a Python function that selects all rows where the value in column 'A' is greater than 5 and the value in column 'B' is less than 10. The function should return a new DataFrame that contains only the selected rows.\n",
    "For example, if df contains the following values:\n",
    "\n",
    "A B C\n",
    "\n",
    "0 3 5 1\n",
    "\n",
    "1 8 2 7\n",
    "\n",
    "2 6 9 4\n",
    "\n",
    "3 2 3 5\n",
    "\n",
    "4 9 1 2\n",
    "\n",
    "Your function should select the following rows: A B C\n",
    "\n",
    "1 8 2 7\n",
    "\n",
    "4 9 1 2\n",
    "\n",
    "The function should return a new DataFrame that contains only the selected rows."
   ]
  },
  {
   "cell_type": "code",
   "execution_count": 5,
   "id": "7e1c30fd-755f-4d54-8764-9cb0ae9b1343",
   "metadata": {
    "tags": []
   },
   "outputs": [
    {
     "name": "stdout",
     "output_type": "stream",
     "text": [
      "   A  B  C\n",
      "0  3  5  1\n",
      "1  8  2  7\n",
      "2  6  9  4\n",
      "3  2  3  5\n",
      "4  9  1  2\n",
      "Selected rows are:\n",
      "    A  B  C\n",
      "1  8  2  7\n",
      "2  6  9  4\n",
      "4  9  1  2\n"
     ]
    }
   ],
   "source": [
    "import pandas as pd\n",
    "df = pd.DataFrame({'A':[3,8,6,2,9], 'B':[5,2,9,3,1], 'C':[1,7,4,5,2]})\n",
    "print(df.head())\n",
    "row = df[(df['A']>5)&(df['B']<10)]\n",
    "print(\"Selected rows are:\\n\",row)"
   ]
  },
  {
   "cell_type": "markdown",
   "id": "2602019f-7b98-46a7-8099-06c543c1290d",
   "metadata": {},
   "source": [
    "##### Q9. Given a Pandas DataFrame df with a column 'Values', write a Python function to calculate the mean, median, and standard deviation of the values in the 'Values' column."
   ]
  },
  {
   "cell_type": "code",
   "execution_count": 6,
   "id": "e98dcc1b-50c6-4561-a642-88300ed04a29",
   "metadata": {
    "tags": []
   },
   "outputs": [
    {
     "name": "stdout",
     "output_type": "stream",
     "text": [
      "Mean is 30.0\n",
      "Median is 30.0\n",
      "St_dev is 15.811388300841896\n"
     ]
    }
   ],
   "source": [
    "import pandas as pd\n",
    "df=pd.DataFrame({'Values': [10, 20, 30, 40, 50]})\n",
    "print('Mean is',df['Values'].mean())\n",
    "print('Median is',df['Values'].median())\n",
    "print('St_dev is',df['Values'].std())"
   ]
  },
  {
   "cell_type": "markdown",
   "id": "58933930-7961-4376-8775-f1a3d4b4008a",
   "metadata": {},
   "source": [
    "##### Q10. Given a Pandas DataFrame df with a column 'Sales' and a column 'Date', write a Python function to create a new column 'MovingAverage' that contains the moving average of the sales for the past 7 days for each row in the DataFrame. The moving average should be calculated using a window of size 7 and should include the current day."
   ]
  },
  {
   "cell_type": "code",
   "execution_count": 7,
   "id": "d36b2fc4-ed0b-4347-850d-9220362ea20e",
   "metadata": {
    "tags": []
   },
   "outputs": [
    {
     "name": "stdout",
     "output_type": "stream",
     "text": [
      "        Date  Sales  Moving_avg\n",
      "0 2023-08-10     34   34.000000\n",
      "1 2023-08-11     23   28.500000\n",
      "2 2023-08-12     45   34.000000\n",
      "3 2023-08-13     38   35.000000\n",
      "4 2023-08-14     35   35.000000\n",
      "5 2023-08-15     43   36.333333\n",
      "6 2023-08-16     65   40.428571\n",
      "7 2023-08-17     98   49.571429\n",
      "8 2023-08-18     77   57.285714\n",
      "9 2023-08-19     42   56.857143\n"
     ]
    }
   ],
   "source": [
    "import pandas as pd\n",
    "df = pd.DataFrame({'Date':pd.date_range('2023-08-10', periods=10, freq='D'), 'Sales':[34,23,45,38,35,43,65,98,77,42]})\n",
    "df['Moving_avg'] = df['Sales'].rolling(window = 7, min_periods = 1).mean()\n",
    "print(df.head(10))"
   ]
  },
  {
   "cell_type": "markdown",
   "id": "ce668d05-bc0e-4f13-9886-976976c6f7b4",
   "metadata": {},
   "source": [
    "##### Q11. You have a Pandas DataFrame df with a column 'Date'. Write a Python function that creates a new column 'Weekday' in the DataFrame. The 'Weekday' column should contain the weekday name (e.g. Monday, Tuesday) corresponding to each date in the 'Date' column.\n",
    "For example, if df contains the following values:\n",
    "\n",
    "Date\n",
    "\n",
    "0 2023-01-01\n",
    "\n",
    "1 2023-01-02\n",
    "\n",
    "2 2023-01-03\n",
    "\n",
    "3 2023-01-04\n",
    "\n",
    "4 2023-01-05\n",
    "\n",
    "Your function should create the following DataFrame:\n",
    "\n",
    "Date Weekday\n",
    "\n",
    "0 2023-01-01 Sunday\n",
    "\n",
    "1 2023-01-02 Monday\n",
    "\n",
    "2 2023-01-03 Tuesday\n",
    "\n",
    "3 2023-01-04 Wednesday\n",
    "\n",
    "4 2023-01-05 Thursday\n",
    "\n",
    "The function should return the modified DataFrame."
   ]
  },
  {
   "cell_type": "code",
   "execution_count": 8,
   "id": "2a63563f-1722-417b-9190-f5311ace7889",
   "metadata": {
    "tags": []
   },
   "outputs": [
    {
     "data": {
      "text/html": [
       "<div>\n",
       "<style scoped>\n",
       "    .dataframe tbody tr th:only-of-type {\n",
       "        vertical-align: middle;\n",
       "    }\n",
       "\n",
       "    .dataframe tbody tr th {\n",
       "        vertical-align: top;\n",
       "    }\n",
       "\n",
       "    .dataframe thead th {\n",
       "        text-align: right;\n",
       "    }\n",
       "</style>\n",
       "<table border=\"1\" class=\"dataframe\">\n",
       "  <thead>\n",
       "    <tr style=\"text-align: right;\">\n",
       "      <th></th>\n",
       "      <th>Date</th>\n",
       "      <th>Weekday</th>\n",
       "    </tr>\n",
       "  </thead>\n",
       "  <tbody>\n",
       "    <tr>\n",
       "      <th>0</th>\n",
       "      <td>2023-08-10</td>\n",
       "      <td>Thursday</td>\n",
       "    </tr>\n",
       "    <tr>\n",
       "      <th>1</th>\n",
       "      <td>2023-08-11</td>\n",
       "      <td>Friday</td>\n",
       "    </tr>\n",
       "    <tr>\n",
       "      <th>2</th>\n",
       "      <td>2023-08-12</td>\n",
       "      <td>Saturday</td>\n",
       "    </tr>\n",
       "    <tr>\n",
       "      <th>3</th>\n",
       "      <td>2023-08-13</td>\n",
       "      <td>Sunday</td>\n",
       "    </tr>\n",
       "    <tr>\n",
       "      <th>4</th>\n",
       "      <td>2023-08-14</td>\n",
       "      <td>Monday</td>\n",
       "    </tr>\n",
       "    <tr>\n",
       "      <th>5</th>\n",
       "      <td>2023-08-15</td>\n",
       "      <td>Tuesday</td>\n",
       "    </tr>\n",
       "    <tr>\n",
       "      <th>6</th>\n",
       "      <td>2023-08-16</td>\n",
       "      <td>Wednesday</td>\n",
       "    </tr>\n",
       "    <tr>\n",
       "      <th>7</th>\n",
       "      <td>2023-08-17</td>\n",
       "      <td>Thursday</td>\n",
       "    </tr>\n",
       "    <tr>\n",
       "      <th>8</th>\n",
       "      <td>2023-08-18</td>\n",
       "      <td>Friday</td>\n",
       "    </tr>\n",
       "    <tr>\n",
       "      <th>9</th>\n",
       "      <td>2023-08-19</td>\n",
       "      <td>Saturday</td>\n",
       "    </tr>\n",
       "  </tbody>\n",
       "</table>\n",
       "</div>"
      ],
      "text/plain": [
       "        Date    Weekday\n",
       "0 2023-08-10   Thursday\n",
       "1 2023-08-11     Friday\n",
       "2 2023-08-12   Saturday\n",
       "3 2023-08-13     Sunday\n",
       "4 2023-08-14     Monday\n",
       "5 2023-08-15    Tuesday\n",
       "6 2023-08-16  Wednesday\n",
       "7 2023-08-17   Thursday\n",
       "8 2023-08-18     Friday\n",
       "9 2023-08-19   Saturday"
      ]
     },
     "execution_count": 8,
     "metadata": {},
     "output_type": "execute_result"
    }
   ],
   "source": [
    "import pandas as pd\n",
    "df = pd.DataFrame({'Date':pd.date_range('2023-08-10', periods=10, freq='D')})\n",
    "df['Weekday'] = df['Date'].dt.strftime('%A')\n",
    "df.head(10)"
   ]
  },
  {
   "cell_type": "markdown",
   "id": "ba537a53-9edc-47f1-a85b-c210e92d33f9",
   "metadata": {},
   "source": [
    "##### Q12. Given a Pandas DataFrame df with a column 'Date' that contains timestamps, write a Python function to select all rows where the date is between '2023-01-01' and '2023-01-31'."
   ]
  },
  {
   "cell_type": "code",
   "execution_count": 9,
   "id": "ed36aa7c-9b68-4af5-922a-704d129aea72",
   "metadata": {
    "tags": []
   },
   "outputs": [
    {
     "name": "stdout",
     "output_type": "stream",
     "text": [
      "         Date\n",
      "0  2023-01-01\n",
      "1  2023-01-02\n",
      "2  2023-01-03\n",
      "3  2023-01-04\n",
      "4  2023-01-05\n",
      "5  2023-01-06\n",
      "6  2023-01-07\n",
      "7  2023-01-08\n",
      "8  2023-01-09\n",
      "9  2023-01-10\n",
      "10 2023-01-11\n",
      "11 2023-01-12\n",
      "12 2023-01-13\n",
      "13 2023-01-14\n",
      "14 2023-01-15\n",
      "15 2023-01-16\n",
      "16 2023-01-17\n",
      "17 2023-01-18\n",
      "18 2023-01-19\n",
      "19 2023-01-20\n",
      "20 2023-01-21\n",
      "21 2023-01-22\n",
      "22 2023-01-23\n",
      "23 2023-01-24\n",
      "24 2023-01-25\n",
      "25 2023-01-26\n",
      "26 2023-01-27\n",
      "27 2023-01-28\n",
      "28 2023-01-29\n",
      "29 2023-01-30\n",
      "30 2023-01-31\n"
     ]
    }
   ],
   "source": [
    "import pandas as pd\n",
    "df = pd.DataFrame({'Date':pd.date_range('2023-01-01', periods=50, freq='D')})\n",
    "row = df[(df['Date']>= '2023-01-01') & (df['Date']<= '2023-01-31')]\n",
    "print(row)"
   ]
  },
  {
   "cell_type": "markdown",
   "id": "b9a6664f-50c0-44d4-abf1-be2479ce3aa7",
   "metadata": {},
   "source": [
    "##### Q13. To use the basic functions of pandas, what is the first and foremost necessary library that needs to be imported?"
   ]
  },
  {
   "cell_type": "code",
   "execution_count": 10,
   "id": "80747994-327c-4c14-98a0-82964459eb00",
   "metadata": {
    "tags": []
   },
   "outputs": [],
   "source": [
    "# The library that needs to be imported to use the basic functions of Pandas is the Pandas library\n",
    "import pandas as pd"
   ]
  }
 ],
 "metadata": {
  "kernelspec": {
   "display_name": "Python 3 (ipykernel)",
   "language": "python",
   "name": "python3"
  },
  "language_info": {
   "codemirror_mode": {
    "name": "ipython",
    "version": 3
   },
   "file_extension": ".py",
   "mimetype": "text/x-python",
   "name": "python",
   "nbconvert_exporter": "python",
   "pygments_lexer": "ipython3",
   "version": "3.10.9"
  }
 },
 "nbformat": 4,
 "nbformat_minor": 5
}
