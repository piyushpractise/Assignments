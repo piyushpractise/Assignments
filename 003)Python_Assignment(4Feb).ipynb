{
 "cells": [
  {
   "cell_type": "markdown",
   "id": "6131fcd5-b92d-4a87-b570-73d5c04d1bd7",
   "metadata": {},
   "source": [
    "# Python Assignment Questions"
   ]
  },
  {
   "cell_type": "markdown",
   "id": "b104981e-d6fb-4775-b1bb-463d3922b349",
   "metadata": {},
   "source": [
    "##### Q1. Create a python program to sort the given list of tuples based on integer value using a lambda function.\n",
    "[('Sachin Tendulkar', 34357), ('Ricky Ponting', 27483), ('Jack Kallis', 25534), ('Virat Kohli', 24936)]"
   ]
  },
  {
   "cell_type": "code",
   "execution_count": 1,
   "id": "17339ac5-5267-4782-ac97-13fc6d28aea2",
   "metadata": {
    "tags": []
   },
   "outputs": [
    {
     "name": "stdout",
     "output_type": "stream",
     "text": [
      "('Virat Kohli', 24936)\n",
      "('Jack Kallis', 25534)\n",
      "('Ricky Ponting', 27483)\n",
      "('Sachin Tendulkar', 34357)\n"
     ]
    }
   ],
   "source": [
    "data = [('Sachin Tendulkar', 34357), ('Ricky Ponting', 27483), ('Jack Kallis', 25534), ('Virat Kohli', 24936)]\n",
    "sort = sorted (data, key=lambda x:x[1])\n",
    "for i in sort:\n",
    "    print(i)"
   ]
  },
  {
   "cell_type": "markdown",
   "id": "129efbb7-cb29-493c-a3e8-7ff09c145bb8",
   "metadata": {},
   "source": [
    "##### Q2. Write a Python Program to find the squares of all the numbers in the given list of integers using lambda and map functions.\n",
    "[1, 2, 3, 4, 5, 6, 7, 8, 9, 10]"
   ]
  },
  {
   "cell_type": "code",
   "execution_count": 2,
   "id": "6151de1b-f27e-43c8-9892-88af6524089d",
   "metadata": {
    "tags": []
   },
   "outputs": [
    {
     "name": "stdin",
     "output_type": "stream",
     "text": [
      "Enter the items in list separated by comma: 1,2,3,4,5,6,7,8,9,10\n"
     ]
    },
    {
     "name": "stdout",
     "output_type": "stream",
     "text": [
      "{1: 1, 2: 4, 3: 9, 4: 16, 5: 25, 6: 36, 7: 49, 8: 64, 9: 81, 10: 100}\n"
     ]
    }
   ],
   "source": [
    "l = input(\"Enter the items in list separated by comma:\")\n",
    "li= [int(x) for x in l.split(',')]\n",
    "sq = list(map(lambda x:x*x,li))\n",
    "data = dict(zip(li,sq))\n",
    "print(data)"
   ]
  },
  {
   "cell_type": "markdown",
   "id": "629e103a-5d74-43ee-9a5b-0e800a85276d",
   "metadata": {},
   "source": [
    "##### Q3. Write a python program to convert the given list of integers into a tuple of strings. Use map and lambda functions\n",
    "Given String: [1, 2, 3, 4, 5, 6, 7, 8, 9, 10]\n",
    "Expected output: ('1', '2', '3', '4', '5', '6', '7', '8', '9', '10')"
   ]
  },
  {
   "cell_type": "code",
   "execution_count": 3,
   "id": "d6fc4af7-93e0-41d7-816e-f6e3ad54ef8b",
   "metadata": {
    "tags": []
   },
   "outputs": [
    {
     "name": "stdin",
     "output_type": "stream",
     "text": [
      "Enter the items in list separated by comma: 1, 2, 3, 4, 5, 6, 7, 8, 9, 10\n"
     ]
    },
    {
     "name": "stdout",
     "output_type": "stream",
     "text": [
      "('1', '2', '3', '4', '5', '6', '7', '8', '9', '10')\n"
     ]
    }
   ],
   "source": [
    "l = input(\"Enter the items in list separated by comma:\")\n",
    "tup = tuple(map(lambda x: str(x), l.split(', ')))\n",
    "print(tup)"
   ]
  },
  {
   "cell_type": "markdown",
   "id": "676e6530-cfa8-448e-8d52-7fbe0ef3101c",
   "metadata": {},
   "source": [
    "##### Q4. Write a python program using reduce function to compute the product of a list containing numbers from 1 to 25."
   ]
  },
  {
   "cell_type": "code",
   "execution_count": 4,
   "id": "da088ef8-ec33-4d42-9f94-2b50dc80de7a",
   "metadata": {
    "tags": []
   },
   "outputs": [
    {
     "name": "stdout",
     "output_type": "stream",
     "text": [
      "Product is: 15511210043330985984000000\n"
     ]
    }
   ],
   "source": [
    "from functools import reduce\n",
    "num= list(range(1, 26))\n",
    "prod = reduce(lambda x, y: x * y, num)\n",
    "print(\"Product is:\", prod)"
   ]
  },
  {
   "cell_type": "markdown",
   "id": "450c70a4-b30f-4582-bcbf-e299809624f0",
   "metadata": {},
   "source": [
    "##### Q5. Write a python program to filter the numbers in a given list that are divisible by 2 and 3 using the filter function.\n",
    "[2, 3, 6, 9, 27, 60, 90, 120, 55, 46]"
   ]
  },
  {
   "cell_type": "code",
   "execution_count": 5,
   "id": "58876859-a89c-43ee-b0e8-dd1d504b5d09",
   "metadata": {
    "tags": []
   },
   "outputs": [
    {
     "name": "stdout",
     "output_type": "stream",
     "text": [
      "[6, 60, 90, 120]\n"
     ]
    }
   ],
   "source": [
    "data = [2, 3, 6, 9, 27, 60, 90, 120, 55, 46]\n",
    "f = list(filter(lambda x: x%2==0 and x%3==0,data))\n",
    "print(f)"
   ]
  },
  {
   "cell_type": "markdown",
   "id": "36220af0-181a-4c73-b0c5-4830b04fdcce",
   "metadata": {},
   "source": [
    "##### Q6. Write a python program to find palindromes in the given list of strings using lambda and filter function.\n",
    "['python', 'php', 'aba', 'radar', 'level']"
   ]
  },
  {
   "cell_type": "code",
   "execution_count": 6,
   "id": "be3065c3-e8c7-4dd0-b983-bfe2beef3bd9",
   "metadata": {
    "tags": []
   },
   "outputs": [
    {
     "name": "stdout",
     "output_type": "stream",
     "text": [
      "['php', 'aba', 'radar', 'level']\n"
     ]
    }
   ],
   "source": [
    "data = ['python', 'php', 'aba', 'radar', 'level']\n",
    "def check_palindrome(str1):\n",
    "    for i in range(len(str1)//2):\n",
    "        if str1[i] != str1[-(i+1)]:\n",
    "            return False\n",
    "    return True\n",
    "f = list(filter(lambda x: check_palindrome(x),data))\n",
    "print(f)"
   ]
  }
 ],
 "metadata": {
  "kernelspec": {
   "display_name": "Python 3 (ipykernel)",
   "language": "python",
   "name": "python3"
  },
  "language_info": {
   "codemirror_mode": {
    "name": "ipython",
    "version": 3
   },
   "file_extension": ".py",
   "mimetype": "text/x-python",
   "name": "python",
   "nbconvert_exporter": "python",
   "pygments_lexer": "ipython3",
   "version": "3.10.9"
  }
 },
 "nbformat": 4,
 "nbformat_minor": 5
}
