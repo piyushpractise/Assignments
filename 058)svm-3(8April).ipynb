{
 "cells": [
  {
   "cell_type": "markdown",
   "id": "b656adeb-4481-4b22-9838-065732bfc307",
   "metadata": {},
   "source": [
    "# Support Vector Machines-3"
   ]
  },
  {
   "cell_type": "markdown",
   "id": "63a8ada9-09e4-47a3-94dd-72de65dddebe",
   "metadata": {},
   "source": [
    "#### Q1. In order to predict house price based on several characteristics, such as location, square footage, number of bedrooms, etc., you are developing an SVM regression model. Which regression metric in this situation would be the best to employ?"
   ]
  },
  {
   "cell_type": "markdown",
   "id": "d6516090-b6ea-48b6-8eeb-6a45ff7a0793",
   "metadata": {},
   "source": [
    "When developing an SVM regression model to predict house prices based on various characteristics, the best regression metric to employ is Mean Squared Error (MSE). MSE measures the average of the squared differences between predicted and actual house prices. Lower MSE values indicate better performance in predicting house prices accurately."
   ]
  },
  {
   "cell_type": "markdown",
   "id": "5f8ffcbe-1fd3-4225-a8d7-77b148e04e20",
   "metadata": {},
   "source": [
    "#### Q2. You have built an SVM regression model and are trying to decide between using MSE or R-squared as your evaluation metric. Which metric would be more appropriate if your goal is to predict the actual price of a house as accurately as possible?"
   ]
  },
  {
   "cell_type": "markdown",
   "id": "f542a91c-9a7c-459f-968f-3a2e1bb3149d",
   "metadata": {},
   "source": [
    "If our goal is to predict the actual price of a house as accurately as possible, the more appropriate evaluation metric between MSE and R-squared would be MSE (Mean Squared Error). MSE directly measures the average squared difference between predicted and actual values, which aligns well with the goal of accurate price prediction. R-squared, on the other hand, provides information about the proportion of variance explained by the model, but it might not directly reflect the accuracy of individual price predictions."
   ]
  },
  {
   "cell_type": "markdown",
   "id": "77057fdd-f0b1-44d1-ace7-4f8ba90c65c9",
   "metadata": {},
   "source": [
    "#### Q3. You have a dataset with a significant number of outliers and are trying to select an appropriate regression metric to use with your SVM model. Which metric would be the most appropriate in this scenario?"
   ]
  },
  {
   "cell_type": "markdown",
   "id": "3fb8734a-8b78-4541-8a7d-e4fea37e6ba1",
   "metadata": {},
   "source": [
    "In a scenario with a significant number of outliers, the most appropriate regression metric to use with an SVM model would be Huber Loss or a similar robust loss function. Huber Loss is less sensitive to outliers compared to traditional MSE. It strikes a balance between the Mean Absolute Error (MAE) for small errors and Mean Squared Error (MSE) for larger errors. This makes it suitable for situations with outliers while still providing a measure of accuracy."
   ]
  },
  {
   "cell_type": "markdown",
   "id": "a69af8a6-c9c8-455a-8449-9d0ad6410c13",
   "metadata": {},
   "source": [
    "#### Q4. You have built an SVM regression model using a polynomial kernel and are trying to select the best metric to evaluate its performance. You have calculated both MSE and RMSE and found that both values are very close. Which metric should you choose to use in this case?"
   ]
  },
  {
   "cell_type": "markdown",
   "id": "3eae06a2-07ee-4445-8922-d20a96838665",
   "metadata": {},
   "source": [
    "If both the MSE and RMSE values are very close for our SVM regression model with a polynomial kernel, it is generally recommended to choose RMSE (Root Mean Squared Error) as the metric to evaluate its performance. RMSE has the advantage of being in the same unit as the target variable, which makes it more interpretable and directly relatable to the problem domain. It also penalizes larger errors more strongly due to the square root operation, which can be beneficial when assessing the model's overall performance."
   ]
  },
  {
   "cell_type": "markdown",
   "id": "b374a5df-87b6-4155-9720-fce9f2c5dfad",
   "metadata": {},
   "source": [
    "#### Q5. You are comparing the performance of different SVM regression models using different kernels (linear, polynomial, and RBF) and are trying to select the best evaluation metric. Which metric would be most appropriate if your goal is to measure how well the model explains the variance in the target variable?"
   ]
  },
  {
   "cell_type": "markdown",
   "id": "8188db05-a2cf-453f-b6e8-745a84d8fd6a",
   "metadata": {},
   "source": [
    "When comparing the performance of different SVM regression models using different kernels (linear, polynomial, and RBF) and aiming to measure how well the model explains the variance in the target variable, the most appropriate evaluation metric would be R-squared (Coefficient of Determination). R-squared provides a measure of how well the model's predictions capture the variability in the target variable relative to the variability in the actual data. A higher R-squared value indicates a better fit to the data, which is particularly useful for assessing the explanatory power of the model's predictions."
   ]
  }
 ],
 "metadata": {
  "kernelspec": {
   "display_name": "Python 3 (ipykernel)",
   "language": "python",
   "name": "python3"
  },
  "language_info": {
   "codemirror_mode": {
    "name": "ipython",
    "version": 3
   },
   "file_extension": ".py",
   "mimetype": "text/x-python",
   "name": "python",
   "nbconvert_exporter": "python",
   "pygments_lexer": "ipython3",
   "version": "3.10.9"
  }
 },
 "nbformat": 4,
 "nbformat_minor": 5
}
