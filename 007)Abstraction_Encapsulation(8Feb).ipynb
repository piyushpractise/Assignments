{
 "cells": [
  {
   "cell_type": "markdown",
   "id": "b1a313fa-9a0c-4092-9235-5729ac29ee2f",
   "metadata": {},
   "source": [
    "# Abstraction and Encapsulation Assignment Questions"
   ]
  },
  {
   "cell_type": "markdown",
   "id": "c8333a55-293b-40d7-8212-095e8b95e440",
   "metadata": {},
   "source": [
    "##### Q1. What is Abstraction in OOps? Explain with an example."
   ]
  },
  {
   "cell_type": "markdown",
   "id": "7c167a0c-fdab-498f-9a67-7acf3f683f46",
   "metadata": {},
   "source": [
    "Abstraction in Object-Oriented Programming (OOP) refers to the concept of simplifying complex reality by modeling classes based on essential characteristics. It involves focusing on the high-level structure and behavior of objects while hiding the unnecessary implementation details."
   ]
  },
  {
   "cell_type": "code",
   "execution_count": 1,
   "id": "b9724849-ad67-4149-9bbc-367754dd131b",
   "metadata": {
    "tags": []
   },
   "outputs": [
    {
     "name": "stdout",
     "output_type": "stream",
     "text": [
      "Circle Area: 78.5\n",
      "Circle Perimeter: 31.400000000000002\n",
      "Square Area: 16\n",
      "Square Perimeter: 16\n"
     ]
    }
   ],
   "source": [
    "# Example\n",
    "from abc import ABC, abstractmethod\n",
    "\n",
    "class Shape(ABC):  # Abstract base class\n",
    "    @abstractmethod\n",
    "    def calculate_area(self):\n",
    "        pass\n",
    "    @abstractmethod\n",
    "    def calculate_perimeter(self):\n",
    "        pass\n",
    "\n",
    "class Circle(Shape):\n",
    "    def __init__(self, radius):\n",
    "        self.radius = radius\n",
    "    def calculate_area(self):\n",
    "        return 3.14 * self.radius * self.radius\n",
    "    def calculate_perimeter(self):\n",
    "        return 2 * 3.14 * self.radius\n",
    "\n",
    "class Square(Shape):\n",
    "    def __init__(self, side):\n",
    "        self.side = side\n",
    "    def calculate_area(self):\n",
    "        return self.side * self.side\n",
    "    def calculate_perimeter(self):\n",
    "        return 4 * self.side\n",
    "\n",
    "# Usage\n",
    "circle = Circle(5)\n",
    "print(\"Circle Area:\", circle.calculate_area())\n",
    "print(\"Circle Perimeter:\", circle.calculate_perimeter())\n",
    "square = Square(4)\n",
    "print(\"Square Area:\", square.calculate_area())\n",
    "print(\"Square Perimeter:\", square.calculate_perimeter())"
   ]
  },
  {
   "cell_type": "markdown",
   "id": "c9bdc4a9-a080-4a52-a755-3b63abd5f425",
   "metadata": {},
   "source": [
    "##### Q2. Differentiate between Abstraction and Encapsulation. Explain with an example."
   ]
  },
  {
   "cell_type": "markdown",
   "id": "fd1c8ca2-e74d-4b79-baef-7771703425f5",
   "metadata": {},
   "source": [
    "Abstraction involves simplifying complex reality by modeling classes based on essential characteristics. It focuses on showing only relevant data and hiding unnecessary details. For example, a \"Vehicle\" class can represent various types of vehicles (cars, bikes, trucks), abstracting away the specific details of each type.\n",
    "\n",
    "Encapsulation is about bundling data (attributes) and methods (functions) that operate on the data into a single unit, i.e., a class. It restricts direct access to some of the object's components and provides controlled access through methods. For instance, a \"BankAccount\" class encapsulates account balance and transaction methods, ensuring controlled interactions with the balance."
   ]
  },
  {
   "cell_type": "markdown",
   "id": "d880cc28-173d-4772-b070-c34a0daeed18",
   "metadata": {},
   "source": [
    "##### Q3. What is abc module in python? Why is it used?"
   ]
  },
  {
   "cell_type": "markdown",
   "id": "72887ba1-8f3d-4a3e-aa42-500f33b7672c",
   "metadata": {},
   "source": [
    "The abc module in Python is for creating abstract classes and interfaces. It enforces a specific structure on subclasses and ensures adherence to predefined methods. This enhances code organization, reusability, and documentation."
   ]
  },
  {
   "cell_type": "markdown",
   "id": "de8ffdec-396c-4a51-a4ac-afe7799794e7",
   "metadata": {},
   "source": [
    "##### Q4. How can we achieve data abstraction?"
   ]
  },
  {
   "cell_type": "markdown",
   "id": "adaa3bf3-e74d-4ee1-90b6-a79f61385fb1",
   "metadata": {},
   "source": [
    "Data abstraction in programming is achieved through encapsulation and abstraction techniques. Encapsulation bundles data and methods, controlling access. Abstraction hides implementation complexities, exposing only essential details. Abstract classes and interfaces define common behaviors. Inheritance allows subclasses to inherit properties. Access modifiers control visibility. Getters/setters ensure controlled attribute access. Factory methods abstract object creation. These practices make code modular and maintainable by simplifying interactions and hiding unnecessary details."
   ]
  },
  {
   "cell_type": "markdown",
   "id": "6f8ae845-fd59-4f33-ac91-e2117aefaac4",
   "metadata": {},
   "source": [
    "##### Q5. Can we create an instance of an abstract class? Explain your answer."
   ]
  },
  {
   "cell_type": "markdown",
   "id": "7ac4b351-190b-4107-9834-f2a06132ba55",
   "metadata": {},
   "source": [
    "No, you cannot create an instance of an abstract class because it often contains incomplete methods and is designed to be inherited by subclasses. Abstract classes are meant to provide a common interface and shared behavior for subclasses, which need to provide specific implementations for abstract methods. Creating an instance of an abstract class would violate this design and usage pattern."
   ]
  }
 ],
 "metadata": {
  "kernelspec": {
   "display_name": "Python 3 (ipykernel)",
   "language": "python",
   "name": "python3"
  },
  "language_info": {
   "codemirror_mode": {
    "name": "ipython",
    "version": 3
   },
   "file_extension": ".py",
   "mimetype": "text/x-python",
   "name": "python",
   "nbconvert_exporter": "python",
   "pygments_lexer": "ipython3",
   "version": "3.10.9"
  }
 },
 "nbformat": 4,
 "nbformat_minor": 5
}
