{
 "cells": [
  {
   "cell_type": "markdown",
   "id": "2b2df4ae-96ad-47cc-8dc0-d4aa20468437",
   "metadata": {},
   "source": [
    "# Assignments Task"
   ]
  },
  {
   "cell_type": "markdown",
   "id": "f1dcc216-1ea0-44d9-8fd7-385eca34d06a",
   "metadata": {},
   "source": [
    "##### Q1. Create a function which will take a list as an argument and return the product of all the numbers after creating a flat list.\n",
    "##### Use the below-given list as an argument for your function.\n",
    "list1 = [1,2,3,4, [44,55,66, True], False, (34,56,78,89,34), {1,2,3,3,2,1}, {1:34, \"key2\": [55, 67, 78, 89], 4:(45,22, 61, 34)}, [56, 'data science'], 'Machine Learning']\n",
    "##### Note: you must extract numeric keys and values of the dictionary also."
   ]
  },
  {
   "cell_type": "code",
   "execution_count": 1,
   "id": "2b1de6a6-f0fa-4789-a2ef-70d450c3b4eb",
   "metadata": {
    "tags": []
   },
   "outputs": [
    {
     "name": "stdout",
     "output_type": "stream",
     "text": [
      "[1, 2, 3, 4, 44, 55, 66, 34, 56, 78, 89, 34, 1, 2, 3, 1, 4, 34, 55, 67, 78, 89, 45, 22, 61, 34, 56]\n",
      "4134711838987085478833841242112000\n"
     ]
    }
   ],
   "source": [
    "from functools import reduce\n",
    "list1 = [1,2,3,4, [44,55,66, True], False, (34,56,78,89,34), {1,2,3,3,2,1}, {1:34, \"key2\": [55, 67, 78, 89], 4:(45,22, 61, 34)}, [56, 'data science'], 'Machine Learning']\n",
    "def to_check(lst):\n",
    "    num = []\n",
    "    for x in lst:\n",
    "        if isinstance(x, (list, set, tuple)):\n",
    "            num.extend(to_check(x))\n",
    "        elif isinstance(x, dict):\n",
    "            num.extend(to_check(x.keys()))\n",
    "            num.extend(to_check(x.values()))\n",
    "        elif isinstance(x, (int, float)) and not isinstance(x, bool):\n",
    "            num.append(x)\n",
    "    return num\n",
    "print(to_check(list1))\n",
    "n = reduce(lambda a, b: a*b, to_check(list1))\n",
    "print(n)"
   ]
  },
  {
   "cell_type": "markdown",
   "id": "a06ad6c4-99d2-4157-be65-245ba5f17553",
   "metadata": {},
   "source": [
    "##### Q2. Write a python program for encrypting a message sent to you by your friend. The logic of encryption should be such that, for a the output should be z. For b, the output should be y. For c, the output should be x respectively. Also, the whitespace should be replaced with a dollar sign. Keep the punctuation marks unchanged.\n",
    "Input Sentence: I want to become a Data Scientist.\n",
    "###### Encrypt the above input sentence using the program you just created.\n",
    "###### Note: Convert the given input sentence into lowercase before encrypting. The final output should be lowercase."
   ]
  },
  {
   "cell_type": "code",
   "execution_count": 2,
   "id": "9ac81c0b-d088-4ad7-90d5-db660708d7c5",
   "metadata": {
    "tags": []
   },
   "outputs": [
    {
     "name": "stdin",
     "output_type": "stream",
     "text": [
      "Enter your message I want to become a Data Scientist.\n"
     ]
    },
    {
     "name": "stdout",
     "output_type": "stream",
     "text": [
      "Encrypted Message: R$dzmg$gl$yvxlnv$z$Wzgz$Hxrvmgrhg.\n"
     ]
    }
   ],
   "source": [
    "x = input(\"Enter your message\")\n",
    "msg = \"\"\n",
    "for i in x:\n",
    "    en = ''\n",
    "    if i.isalpha():\n",
    "        if i.islower():\n",
    "            en = chr(ord('a') + (ord('z') - ord(i)))\n",
    "        else:\n",
    "            en = chr(ord('A') + (ord('Z') - ord(i)))\n",
    "    elif i == ' ':\n",
    "        en = '$'\n",
    "    else:\n",
    "        en = i\n",
    "    msg += en\n",
    "\n",
    "print(\"Encrypted Message:\", msg)"
   ]
  }
 ],
 "metadata": {
  "kernelspec": {
   "display_name": "Python 3 (ipykernel)",
   "language": "python",
   "name": "python3"
  },
  "language_info": {
   "codemirror_mode": {
    "name": "ipython",
    "version": 3
   },
   "file_extension": ".py",
   "mimetype": "text/x-python",
   "name": "python",
   "nbconvert_exporter": "python",
   "pygments_lexer": "ipython3",
   "version": "3.10.9"
  }
 },
 "nbformat": 4,
 "nbformat_minor": 5
}
